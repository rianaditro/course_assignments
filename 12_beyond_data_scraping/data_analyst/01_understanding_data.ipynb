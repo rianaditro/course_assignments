{
 "cells": [
  {
   "cell_type": "markdown",
   "metadata": {},
   "source": [
    "### **Understanding Data**"
   ]
  },
  {
   "cell_type": "markdown",
   "metadata": {},
   "source": [
    "#### What is Data?\n",
    "Data is information that is recorded in the form of numbers, words, or facts.\n",
    "We can only call something \"data\" if it is written down, saved, or stored in some form. We use data to understand problems, answer questions, and make decisions.\n",
    "\n",
    "`Is a photo considered data?`\n",
    "\n",
    "#### Data Type\n",
    "1. Structured\n",
    "2. Semi-structured\n",
    "3. Unstructured\n",
    "\n",
    "#### Data Lifecycle\n",
    "1. Generation\n",
    "2. Collection\n",
    "3. Processing\n",
    "4. Storage\n",
    "5. Management\n",
    "6. Analysis\n",
    "7. Visualization\n",
    "8. Interpretation\n",
    "9. Taking action/decision\n",
    "\n",
    "Data lifecycle example:\n",
    "Sensor vehicles counter upload data to server → User send API requests → Convert JSON to column-row format → Data stored in PostgreSQL → Create a role in PostgreSQL, grant permission to SELECT but no INSERT, UPDATE, DELETE → Analyst find the peak traffic hours → Create a dashboard → Taking an action or decision\n"
   ]
  },
  {
   "cell_type": "markdown",
   "metadata": {},
   "source": [
    "### **Data-Driven Decision Making**"
   ]
  },
  {
   "cell_type": "markdown",
   "metadata": {},
   "source": [
    "#### Data Mining Technique\n",
    "- Association  →  Find co-occurrence or dependency rules in data\t→ Market Basket Analysis\n",
    "- Classification     →      Assign data into categories         → Email Spam Detection\n",
    "- Regression         →      Predict a continuous number         → House Price Prediction\n",
    "- Clustering         →      Group similar data without labels   → Customer Segmentation\n",
    "- Recommendation     →  \tSuggest items based on patterns       → Product Recommendations\n",
    "- Anomaly Detection  →\tFind unusual patterns                   → Fraud Detection\n",
    "\n",
    "#### Real World Example\n",
    "1. Netflix  \n",
    "  **Problem**: Faced high risks in producing original content without guaranteed audience interest.  \n",
    "  <br>\n",
    "  **Action**: Analyzed user viewing habits to identify preferences for political dramas, interest in actor Kevin Spacey, and appreciation for director David Fincher's work.  \n",
    "  <br>\n",
    "  **Decision**: Invested $100 million to produce two seasons of House of Cards without creating a pilot episode.  \n",
    "  <br>\n",
    "  **Result**: House of Cards became a major success, attracting over 3 million new subscribers within two months of its release. [Read full article](https://www.prequateadvisory.com/post/house-of-cards-was-no-fluke-it-was-a-data-backed-master-move)\n",
    "\n",
    "2. Starbucks  \n",
    "  **Problem**: Sought to enhance customer loyalty and increase sales.  \n",
    "  <br>\n",
    "  **Action**: Implemented the Deep Brew AI platform to analyze customer data, enabling personalized offers and optimizing store locations.  \n",
    "  <br>\n",
    "  **Decision**: Launched targeted promotions through the Starbucks mobile app, tailoring rewards to individual customer preferences.  \n",
    "  <br>\n",
    "  **Result**: Achieved a 30% return on investment (ROI) and a 15% increase in customer engagement levels compared to previous marketing methods. [Read full article](https://www.theaireport.ai/articles/how-starbucks-uses-ai-to-make-a-30-roi)\n"
   ]
  },
  {
   "cell_type": "markdown",
   "metadata": {},
   "source": [
    "### **Work with Data**"
   ]
  },
  {
   "cell_type": "markdown",
   "metadata": {},
   "source": [
    "### Data Source\n",
    "1. Data Collection: survey, sensor, scraping, documents & records\n",
    "2. Public Dataset:\n",
    "    - [Kaggle](https://www.kaggle.com/datasets)\n",
    "    - [Google](https://datasetsearch.research.google.com/)\n",
    "    - [UCI Machine Learning Repository](https://archive.ics.uci.edu/)\n",
    "    - [US Federal Government](https://data.gov/)\n",
    "    - [Satu Data Indonesia](https://data.go.id/)\n",
    "\n",
    "### Data Tools\n",
    "- Programming language: R & Python\n",
    "- Spreadsheet: Excel & Google Sheets\n",
    "- Desktop App: RapidMiner, KNIME, Orange\n",
    "- Code Editor: Jupyter Notebook & Google Colab\n",
    "- Databases: MySQL / PostgreSQL, BigQuery / Snowflake\n",
    "- Visualization: Tableau, Power BI, Google Looker Studio"
   ]
  },
  {
   "cell_type": "markdown",
   "metadata": {},
   "source": [
    "### **Reflection**\n",
    "You already understand the types of things we can do with data. As a data analyst, what skills should you acquire? Find out by researching industry needs directly through job portals or freelance platforms.\n",
    "\n",
    "(answer here)"
   ]
  },
  {
   "cell_type": "markdown",
   "metadata": {},
   "source": [
    "### **Exploration**\n",
    "We will walk through the essential data analyst skills using Python. Pandas is a powerful library for working with data in Python. Please review this module: [Pandas 10-Minute Guide](https://pandas.pydata.org/docs/user_guide/10min.html) before our next session."
   ]
  }
 ],
 "metadata": {
  "kernelspec": {
   "display_name": "Python 3",
   "language": "python",
   "name": "python3"
  },
  "language_info": {
   "codemirror_mode": {
    "name": "ipython",
    "version": 3
   },
   "file_extension": ".py",
   "mimetype": "text/x-python",
   "name": "python",
   "nbconvert_exporter": "python",
   "pygments_lexer": "ipython3",
   "version": "3.10.12"
  }
 },
 "nbformat": 4,
 "nbformat_minor": 2
}
