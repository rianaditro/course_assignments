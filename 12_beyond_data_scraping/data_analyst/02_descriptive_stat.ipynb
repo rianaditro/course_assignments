{
 "cells": [
  {
   "cell_type": "markdown",
   "metadata": {},
   "source": [
    "### **Descriptive Statistics**"
   ]
  },
  {
   "cell_type": "markdown",
   "metadata": {},
   "source": [
    "Before making predictions or finding patterns, we need to understand what the data is telling us. Descriptive statistics is the first step in data analysis. It helps us summarize, explore, and describe the main features of a dataset in a clear way."
   ]
  },
  {
   "cell_type": "code",
   "execution_count": 101,
   "metadata": {},
   "outputs": [],
   "source": [
    "\"\"\"\n",
    "Execute this cell before continue\n",
    "\"\"\" \n",
    "\n",
    "import numpy as np\n",
    "import pandas as pd\n",
    "import matplotlib.pyplot as plt\n",
    "import seaborn as sns\n",
    "from scipy import stats\n",
    "from scipy.stats import skew"
   ]
  },
  {
   "cell_type": "code",
   "execution_count": null,
   "metadata": {},
   "outputs": [],
   "source": [
    "\"\"\"\n",
    "Measuring Central Tendency: Mean\n",
    "\"\"\" \n",
    "\n",
    "grades = np.array([9, 7, 8, 9, 9, 9, 10, 10, 9, 10])\n",
    "print(\"The mean of the grades is\", grades.mean())\n",
    "\n",
    "grades_with_outliers = np.array([9, 7, 8, 9, 9, 9, 10, 10, 9, 100])\n",
    "\n",
    "# TODO: Calculate mean of grades_with_outliers\n",
    "# TODO: Explain how outliers affect the mean"
   ]
  },
  {
   "cell_type": "code",
   "execution_count": null,
   "metadata": {},
   "outputs": [],
   "source": [
    "\"\"\"\n",
    "Measuring Central Tendency: Median\n",
    "\"\"\" \n",
    "\n",
    "grades = np.array([9, 7, 8, 9, 9, 9, 10, 10, 9, 10])\n",
    "print(\"The median of the grades is\", np.median(grades))\n",
    "\n",
    "grades_with_outliers = np.array([9, 7, 8, 9, 9, 9, 10, 10, 9, 100])\n",
    "\n",
    "# TODO: Calculate median of grades_with_outliers\n",
    "# TODO: Explain how outliers affect the median"
   ]
  },
  {
   "cell_type": "code",
   "execution_count": null,
   "metadata": {},
   "outputs": [],
   "source": [
    "\"\"\"\n",
    "Measuring Central Tendency: Mode\n",
    "\"\"\"\n",
    "\n",
    "grades = np.array([2, 10, 10, 10, 10, 10, 10, 10, 10, 10])\n",
    "print(stats.mode(grades)[0])\n",
    "\n",
    "# TODO: What happens when the outliers are removed?"
   ]
  },
  {
   "cell_type": "code",
   "execution_count": null,
   "metadata": {},
   "outputs": [],
   "source": [
    "\"\"\"\n",
    "Measuring Dispersion: Range\n",
    "\"\"\"\n",
    "\n",
    "short_range_grades = np.array([9, 10, 9, 9, 9, 9, 10, 10, 9, 10])\n",
    "print(\"The mean of the short range grades is\", short_range_grades.mean())\n",
    "print(\"The range of the short range grades is\", (np.max(short_range_grades) - np.min(short_range_grades)))\n",
    "\n",
    "wide_range_grades = np.array([2, 7, 8, 9, 9, 9, 10, 10, 9, 100])\n",
    "\n",
    "# TODO: Calculate mean of wide_range_grades\n",
    "# TODO: Calculate range of wide_range_grades"
   ]
  },
  {
   "cell_type": "code",
   "execution_count": null,
   "metadata": {},
   "outputs": [],
   "source": [
    "\"\"\"\n",
    "Measuring Dispersion: Interquartile Range\n",
    "\"\"\"\n",
    "\n",
    "grades = np.array([9, 8, 8, 9, 10, 9, 9, 10, 10, 12, 13, 6])\n",
    "q3 = np.percentile(grades, 75)\n",
    "q1 = np.percentile(grades, 25)\n",
    "\n",
    "iqr = q3 - q1\n",
    "print(iqr)\n",
    "\n",
    "# Outlier thresholds\n",
    "lower_bound = q1 - 1.5 * iqr\n",
    "upper_bound = q3 + 1.5 * iqr\n",
    "\n",
    "# Detect outliers\n",
    "outliers = grades[(grades < lower_bound) | (grades > upper_bound)]\n",
    "print(outliers)\n",
    "\n",
    "# Create a box plot\n",
    "plt.boxplot(grades)\n",
    "\n",
    "# Add title and labels\n",
    "plt.title('Box Plot of Grades')\n",
    "plt.ylabel('Grades')\n",
    "\n",
    "# Show plot\n",
    "plt.show()\n",
    "\n",
    "\n",
    "# TODO: Identify the outliers\n",
    "# TODO: Remove the outliers and re-execute the cell"
   ]
  },
  {
   "cell_type": "code",
   "execution_count": null,
   "metadata": {},
   "outputs": [],
   "source": [
    "\"\"\"\n",
    "Measuring Dispersion: Variance\n",
    "\"\"\"\n",
    "\n",
    "grades = np.array([9, 7, 8, 9, 9, 9, 10, 10, 9, 10])\n",
    "print(grades.mean())\n",
    "print(np.var(grades))\n",
    "\n",
    "grades_with_outliers = np.array([9, 7, 8, 9, 9, 9, 10, 10, 9, 100])\n",
    "\n",
    "# TODO: Calculate mean of grades_with_outliers\n",
    "# TODO: Calculate variance of grades_with_outliers"
   ]
  },
  {
   "cell_type": "code",
   "execution_count": null,
   "metadata": {},
   "outputs": [],
   "source": [
    "\"\"\"\n",
    "Measuring Dispersion: Standard Deviation\n",
    "\"\"\"\n",
    "\n",
    "grades = np.array([9, 7, 8, 9, 9, 9, 10, 10, 9, 10])\n",
    "print(np.var(grades))\n",
    "print(np.std(grades))"
   ]
  },
  {
   "cell_type": "code",
   "execution_count": null,
   "metadata": {},
   "outputs": [],
   "source": [
    "\"\"\"\n",
    "Measuring Asymmetric\n",
    "\"\"\"\n",
    "grades = np.array([1, 2, 5, 2, 3, 3, 4, 4, 5, 20])\n",
    "\n",
    "# Skewness value\n",
    "print(skew(grades))\n",
    "\n",
    "# Histogram to show distribution\n",
    "plt.hist(grades, bins=10, edgecolor='black')\n",
    "plt.title(\"Distribution of Grades\")\n",
    "plt.xlabel(\"Grade\")\n",
    "plt.ylabel(\"Frequency\")\n",
    "plt.show()\n",
    "\n",
    "# TODO: Change the outliers until skewness in range [-0.5, 0.5]"
   ]
  },
  {
   "cell_type": "code",
   "execution_count": null,
   "metadata": {},
   "outputs": [],
   "source": [
    "\"\"\"\n",
    "Data Relationship: Covariance & Corelation\n",
    "\"\"\"\n",
    "\n",
    "sample_data = {\n",
    "    'name': ['John', 'Alia', 'Ananya', 'Steve', 'Ben'],\n",
    "    'age': [22, 24, 26, 28, 30],\n",
    "    'maturity_score': [60, 70, 80, 85, 90],\n",
    "    'memorization_score': [90, 85, 75, 65, 60],\n",
    "    'hobbies_score': [70, 40, 30, 60, 70]\n",
    "}\n",
    "\n",
    "df = pd.DataFrame(sample_data)\n",
    " \n",
    "# Calculate covariance\n",
    "df.cov(numeric_only=True)\n",
    "# TODO: Covariance doesn't explain how the variables are related properly use df.corr(numeric_only=True)\n",
    "\n",
    "# TODO: Visualize the data relationship\n",
    "# # --- Scatter Plots ---\n",
    "# plt.figure(figsize=(12, 4))\n",
    "\n",
    "# plt.subplot(1, 3, 1)\n",
    "# sns.scatterplot(x='age', y='maturity_score', data=df)\n",
    "# plt.title('Age vs Maturity')\n",
    "\n",
    "# plt.subplot(1, 3, 2)\n",
    "# sns.scatterplot(x='age', y='memorization_score', data=df)\n",
    "# plt.title('Age vs Memorization')\n",
    "\n",
    "# plt.subplot(1, 3, 3)\n",
    "# sns.scatterplot(x='age', y='hobbies_score', data=df)\n",
    "# plt.title('Age vs Hobbies')\n",
    "\n",
    "# plt.tight_layout()\n",
    "# plt.show()\n",
    "\n",
    "# # --- Correlation Heatmap ---\n",
    "# plt.figure(figsize=(6, 4))\n",
    "# corr = df.drop(columns=['name']).corr()\n",
    "# sns.heatmap(corr, annot=True, cmap='coolwarm', center=0, fmt=\".2f\", linewidths=0.5, vmin=-1, vmax=1)\n",
    "# plt.title(\"Correlation Matrix\")\n",
    "# plt.show()"
   ]
  },
  {
   "cell_type": "code",
   "execution_count": null,
   "metadata": {},
   "outputs": [],
   "source": [
    "\"\"\"\n",
    "Class Activity: Understanding the data\n",
    "\"\"\"\n",
    "# TODO: Convert the data to DataFrame\n",
    "# TODO: Perform descriptive statistics to understand the data\n",
    "# TODO: Calculate and visualize like our previous example\n",
    "# TODO: Take a conclusion and present\n",
    "\n",
    "data = {\n",
    "    'name': ['John', 'Alia', 'Ananya', 'Steve', 'Ben'],\n",
    "    'age': [22, 24, 26, 28, 30],\n",
    "    'math_score': [85, 92, 75, 88, 82],\n",
    "    'english_score': [90, 85, 70, 75, 78],\n",
    "    'science_score': [75, 80, 80, 70, 85],\n",
    "    'communication_score': [88, 80, 85, 90, 85]\n",
    "}"
   ]
  },
  {
   "cell_type": "markdown",
   "metadata": {},
   "source": [
    "### **Reflection**\n",
    "Take a moment to reflect on what we've learned so far. What insights have you gained? Write your thoughts in your own words.\n",
    "\n",
    "(answer here)"
   ]
  },
  {
   "cell_type": "markdown",
   "metadata": {},
   "source": [
    "### **Exploration**\n",
    "You've already gained a fundamental understanding of the mathematical concepts behind data analytics. Next, we’ll learn about data wrangling — the crucial first step before we begin analyzing data.\n",
    "- https://pandas.pydata.org/docs/user_guide/merging.html\n",
    "- https://www.kdnuggets.com/10-essential-data-cleaning-techniques-explained-in-12-minutes"
   ]
  },
  {
   "cell_type": "markdown",
   "metadata": {},
   "source": []
  }
 ],
 "metadata": {
  "kernelspec": {
   "display_name": "Python 3",
   "language": "python",
   "name": "python3"
  },
  "language_info": {
   "codemirror_mode": {
    "name": "ipython",
    "version": 3
   },
   "file_extension": ".py",
   "mimetype": "text/x-python",
   "name": "python",
   "nbconvert_exporter": "python",
   "pygments_lexer": "ipython3",
   "version": "3.10.12"
  }
 },
 "nbformat": 4,
 "nbformat_minor": 2
}
