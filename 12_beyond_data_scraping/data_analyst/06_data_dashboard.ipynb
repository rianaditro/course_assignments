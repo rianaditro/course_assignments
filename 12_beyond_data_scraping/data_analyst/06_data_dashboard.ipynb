{
 "cells": [
  {
   "cell_type": "markdown",
   "metadata": {},
   "source": [
    "### **Data Dashboard**"
   ]
  },
  {
   "cell_type": "markdown",
   "metadata": {},
   "source": [
    "#### What is Dashboard?\n",
    "A data dashboard is an interactive visual interface that displays key metrics, trends, and data summaries in one place. It helps users monitor, analyze, and act on data without having to look at raw spreadsheets or complex reports.\n",
    "\n",
    "Benefit of dashboard\n",
    "- Make data understandable → Visualizations help simplify complex datasets.\n",
    "- Monitor performance in real time → Example: Sales dashboards, website traffic, or student progress.\n",
    "- Support decision-making → Dashboards highlight patterns, problems, or improvements.\n",
    "- Communicate insights clearly → Stakeholders can get updates without digging into raw data.\n",
    "\n",
    "#### Things to Consider\n",
    "- Understanding the audiens\n",
    "- Take advantage of the sweet spot\n",
    "- Load time\n",
    "- Limit the component\n",
    "\n",
    "---\n"
   ]
  },
  {
   "cell_type": "markdown",
   "metadata": {},
   "source": [
    "#### [Streamlit](https://streamlit.io/)"
   ]
  },
  {
   "cell_type": "code",
   "execution_count": 101,
   "metadata": {},
   "outputs": [],
   "source": [
    "\"\"\"\n",
    "Basic Element\n",
    "\"\"\" \n",
    "\n",
    "st.title(\"Data Dashboard\")\n",
    "st.header(\"Data Dashboard\")\n",
    "st.write(\"This is a data dashboard\")\n",
    "\n",
    "st.dataframe(df)\n",
    "st.bar_chart(df)\n"
   ]
  },
  {
   "cell_type": "code",
   "execution_count": null,
   "metadata": {},
   "outputs": [],
   "source": [
    "\"\"\"\n",
    "Basic Widget\n",
    "\"\"\" \n",
    "\n",
    "st.button(\"Click me\")\n",
    "st.selectbox(\"Select\", [\"A\", \"B\", \"C\"])\n",
    "st.number_input(\"Number\")\n",
    "st.date_input(\"Date\")\n",
    "st.text_input(\"Text\")\n"
   ]
  },
  {
   "cell_type": "code",
   "execution_count": null,
   "metadata": {},
   "outputs": [],
   "source": [
    "\"\"\"\n",
    "Basic Layouts\n",
    "\"\"\" \n",
    "\n",
    "st.sidebar(\"Sidebar\")\n",
    "st.columns(3)\n",
    "st.tabs([\"Tab 1\", \"Tab 2\", \"Tab 3\"])\n",
    "st.container()"
   ]
  },
  {
   "cell_type": "code",
   "execution_count": null,
   "metadata": {},
   "outputs": [],
   "source": [
    "\"\"\"\n",
    "Class Activity: Create data dashboard\n",
    "\"\"\"\n",
    "\n",
    "# TODO: Review dashboard from https://github.com/dicodingacademy/a555-dashboard\n",
    "# TODO: Create data dashboard by using those as reference"
   ]
  },
  {
   "cell_type": "markdown",
   "metadata": {},
   "source": [
    "### **Reflection**\n",
    "Take a moment to reflect on what we've learned so far. What insights have you gained? Write your thoughts in your own words.\n",
    "\n",
    "(answer here)"
   ]
  },
  {
   "cell_type": "markdown",
   "metadata": {},
   "source": [
    "### **Exploration**\n",
    "You’ve successfully created a data dashboard — now you can share it with others to make it meaningful by publishing it on Streamlit Cloud."
   ]
  },
  {
   "cell_type": "markdown",
   "metadata": {},
   "source": []
  }
 ],
 "metadata": {
  "kernelspec": {
   "display_name": "Python 3",
   "language": "python",
   "name": "python3"
  },
  "language_info": {
   "codemirror_mode": {
    "name": "ipython",
    "version": 3
   },
   "file_extension": ".py",
   "mimetype": "text/x-python",
   "name": "python",
   "nbconvert_exporter": "python",
   "pygments_lexer": "ipython3",
   "version": "3.10.12"
  }
 },
 "nbformat": 4,
 "nbformat_minor": 2
}
