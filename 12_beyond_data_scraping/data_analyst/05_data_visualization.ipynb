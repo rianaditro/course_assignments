{
 "cells": [
  {
   "cell_type": "markdown",
   "metadata": {},
   "source": [
    "### **Data Visualization**"
   ]
  },
  {
   "cell_type": "markdown",
   "metadata": {},
   "source": [
    "#### Example of Data Visualization"
   ]
  },
  {
   "cell_type": "code",
   "execution_count": 1,
   "metadata": {},
   "outputs": [],
   "source": [
    "\"\"\"\n",
    "Execute this cell before continue\n",
    "\"\"\" \n",
    "\n",
    "import numpy as np\n",
    "import pandas as pd\n",
    "import matplotlib.pyplot as plt\n",
    "import seaborn as sns"
   ]
  },
  {
   "cell_type": "code",
   "execution_count": null,
   "metadata": {},
   "outputs": [],
   "source": [
    "# Data\n",
    "months = ['January', 'February', 'March']\n",
    "revenue = [5000, 7000, 6500]\n",
    "\n",
    "# Create figure and axes\n",
    "fig, axes = plt.subplots(1, 2, figsize=(12, 5))\n",
    "\n",
    "# Misleading chart (left)\n",
    "axes[0].plot(months, revenue, marker='o', color='orange')\n",
    "axes[0].tick_params(left=False, bottom=False)\n",
    "axes[0].set_xticks([])\n",
    "axes[0].set_yticks([])\n",
    "\n",
    "# Correct chart (right)\n",
    "axes[1].plot(months, revenue, marker='o', color='green')\n",
    "axes[1].set_xlabel(\"Month\")\n",
    "axes[1].set_ylabel(\"Revenue ($)\")\n",
    "axes[1].grid(True)\n",
    "\n",
    "# Add overall title and layout\n",
    "plt.tight_layout()\n",
    "plt.show()\n"
   ]
  },
  {
   "cell_type": "code",
   "execution_count": null,
   "metadata": {},
   "outputs": [],
   "source": [
    "# Product data\n",
    "labels = ['iPhone 15', 'Samsung Galaxy S23', 'Google Pixel 8', 'Xiaomi 13']\n",
    "sales = [35, 30, 20, 15]\n",
    "\n",
    "# Create figure and axes\n",
    "fig, axes = plt.subplots(1, 2, figsize=(12, 6))\n",
    "\n",
    "axes[0].pie(\n",
    "    sales,\n",
    "    labels=labels,\n",
    "    startangle=90,\n",
    "    colors=['#66b3ff', '#99ff99', '#ffcc99', '#ff9999']\n",
    ")\n",
    "\n",
    "axes[1].bar(labels, sales, color='#66b3ff')\n",
    "axes[1].set_ylabel(\"Units Sold\")\n",
    "axes[1].grid(axis='y', linestyle='--', alpha=0.6)\n",
    "\n",
    "# Overall title and layout\n",
    "plt.tight_layout()\n",
    "plt.show()\n"
   ]
  },
  {
   "cell_type": "code",
   "execution_count": null,
   "metadata": {},
   "outputs": [],
   "source": [
    "# Data\n",
    "products = ['iPhone 14', 'iPhone 15']\n",
    "sales = [980, 1020]\n",
    "\n",
    "# Create figure and axes\n",
    "fig, axes = plt.subplots(1, 2, figsize=(12, 5))\n",
    "\n",
    "axes[0].bar(products, sales, color='orange')\n",
    "axes[0].set_ylim(970, 1030)  # Truncated y-axis\n",
    "axes[0].set_ylabel(\"Units Sold\")\n",
    "\n",
    "# Correct chart (right)\n",
    "axes[1].bar(products, sales, color='green')\n",
    "axes[1].set_ylim(0, max(sales) + 50)  # Starts at 0\n",
    "\n",
    "# Add overall title and layout\n",
    "fig.suptitle(\"Smartphone Sales Visualizations\", fontsize=14)\n",
    "plt.tight_layout()\n",
    "plt.show()"
   ]
  },
  {
   "cell_type": "code",
   "execution_count": null,
   "metadata": {},
   "outputs": [],
   "source": [
    "# Realistic product data\n",
    "labels = ['iPhone 15', 'Samsung Galaxy S23', 'Google Pixel 8', 'Xiaomi 13']\n",
    "sales = [35, 30, 20, 15]\n",
    "\n",
    "# Create figure and axes\n",
    "fig, axes = plt.subplots(1, 2, figsize=(12, 6))\n",
    "\n",
    "axes[0].pie(\n",
    "    sales,\n",
    "    labels=labels,\n",
    "    startangle=90,\n",
    "    colors=['#ff0000', '#00ff00', '#0000ff', '#ffff00']  # Bright, clashing colors\n",
    ")\n",
    "\n",
    "axes[1].pie(\n",
    "    sales,\n",
    "    labels=labels,\n",
    "    startangle=90,\n",
    "    colors=['#66b3ff', '#99ff99', '#ffcc99', '#ff9999']  # Softer, distinct colors\n",
    ")\n",
    "\n",
    "# Overall title and layout\n",
    "plt.tight_layout()\n",
    "plt.show()\n"
   ]
  },
  {
   "cell_type": "code",
   "execution_count": null,
   "metadata": {},
   "outputs": [],
   "source": [
    "# Example data\n",
    "coffee_consumption = np.array([1, 2, 3, 4, 5, 6, 7, 8, 9, 10])  # Cups of coffee\n",
    "academic_performance = np.array([50, 55, 60, 65, 70, 75, 80, 85, 90, 95])  # Academic scores\n",
    "\n",
    "# Create figure and axis\n",
    "fig, ax = plt.subplots(figsize=(8, 6))\n",
    "\n",
    "# Scatter plot of coffee consumption vs academic performance\n",
    "ax.scatter(coffee_consumption, academic_performance, color='blue', label='Coffee consumption vs Academic Performance')\n",
    "\n",
    "# Add labels and title\n",
    "ax.set_xlabel('Cups of Coffee Consumed')\n",
    "ax.set_ylabel('Academic Performance (Grade)')\n",
    "ax.set_title('Coffee Consumption and Academic Performance')\n",
    "ax.legend()\n",
    "\n",
    "plt.grid(True)\n",
    "plt.show()\n"
   ]
  },
  {
   "cell_type": "code",
   "execution_count": null,
   "metadata": {},
   "outputs": [],
   "source": [
    "# Simulating a large number of students and their grades vs. study hours\n",
    "study_hours = np.random.normal(5, 2, 1000)  # Simulating 1000 students with varying study hours\n",
    "grades = np.random.normal(75, 10, 1000)  # Simulating student grades with some random variation\n",
    "\n",
    "# Create a scatter plot\n",
    "fig, ax = plt.subplots(figsize=(8, 6))\n",
    "\n",
    "ax.scatter(study_hours, grades, color='blue', alpha=0.3)  # Using alpha to make points semi-transparent\n",
    "\n",
    "# Add labels and title\n",
    "ax.set_xlabel('Study Hours')\n",
    "ax.set_ylabel('Grades')\n",
    "\n",
    "plt.grid(True)\n",
    "plt.show()"
   ]
  },
  {
   "cell_type": "code",
   "execution_count": null,
   "metadata": {},
   "outputs": [],
   "source": [
    "# Set seed for reproducibility\n",
    "np.random.seed(42)\n",
    "\n",
    "# Simulate 60 months of sales with a general decline, plus a small final uptick\n",
    "months = np.arange(1, 61)\n",
    "trend = np.linspace(1000, 700, 55)  # Steady decline for first 55 months\n",
    "uptick = np.linspace(705, 740, 5)   # Last 5 months show a mild recovery\n",
    "\n",
    "# Combine the data\n",
    "sales = np.concatenate([trend, uptick])\n",
    "sales += np.random.normal(0, 10, size=sales.shape)  # Add some noise for realism\n",
    "\n",
    "# --- CHART 1: Misleading View (Last 5 periods only) ---\n",
    "plt.figure(figsize=(12, 6))\n",
    "plt.plot(months[-5:], sales[-5:], label='Recent Sales Growth (Last 5 Months)', color='green', marker='o')\n",
    "plt.xlabel('Month')\n",
    "plt.ylabel('Sales ($)')\n",
    "plt.legend()\n",
    "plt.grid(True)\n",
    "plt.show()\n",
    "\n",
    "# --- CHART 2: Full View (All 60 periods) ---\n",
    "plt.figure(figsize=(12, 6))\n",
    "plt.plot(months, sales, label='Full Sales Data (5-Year Trend)', color='red', marker='o')\n",
    "plt.xlabel('Month')\n",
    "plt.ylabel('Sales ($)')\n",
    "plt.legend()\n",
    "plt.grid(True)\n",
    "plt.show()\n"
   ]
  },
  {
   "cell_type": "markdown",
   "metadata": {},
   "source": [
    "#### Data Visualization Principle\n",
    "1. Tell the Truth\n",
    "2. Choose the Right Chart Type\n",
    "3. Label and Context\n",
    "4. Simplify\n",
    "5. Use Proper Scale and Axis\n",
    "6. Use Color Carefully\n",
    "7. Test Readability\n"
   ]
  },
  {
   "cell_type": "markdown",
   "metadata": {},
   "source": [
    "#### Choosing the Right Chart"
   ]
  },
  {
   "cell_type": "code",
   "execution_count": null,
   "metadata": {},
   "outputs": [],
   "source": [
    "# Sample Data Setup\n",
    "np.random.seed(42)\n",
    "categories = ['A', 'B', 'C', 'D']\n",
    "values = [23, 45, 12, 36]\n",
    "time = pd.date_range(start='2020-01', periods=12, freq='M')\n",
    "trend = np.cumsum(np.random.randn(12) * 10 + 50)  # simulate trend\n",
    "x = np.random.randn(100)\n",
    "y = x * 2 + np.random.randn(100)"
   ]
  },
  {
   "cell_type": "code",
   "execution_count": null,
   "metadata": {},
   "outputs": [],
   "source": [
    "# 1. Bar Chart – Compare quantities across categories\n",
    "plt.figure()\n",
    "plt.bar(categories, values)\n",
    "plt.title('Bar Chart - Category Comparison')\n",
    "plt.xlabel('Category')\n",
    "plt.ylabel('Value')\n",
    "# Use when comparing discrete categories\n",
    "plt.show()"
   ]
  },
  {
   "cell_type": "code",
   "execution_count": null,
   "metadata": {},
   "outputs": [],
   "source": [
    "# 2. Line Chart – Show trends over time\n",
    "plt.figure()\n",
    "plt.plot(time, trend, marker='o')\n",
    "plt.title('Line Chart - Time Series Trend')\n",
    "plt.xlabel('Time')\n",
    "plt.ylabel('Sales')\n",
    "# Use for continuous time-based trends (monthly sales, stock prices)\n",
    "plt.xticks(rotation=45)\n",
    "plt.tight_layout()\n",
    "plt.show()"
   ]
  },
  {
   "cell_type": "code",
   "execution_count": null,
   "metadata": {},
   "outputs": [],
   "source": [
    "# 3. Pie Chart – Show parts of a whole\n",
    "plt.figure()\n",
    "plt.pie(values, labels=categories, autopct='%1.1f%%')\n",
    "plt.title('Pie Chart - Proportion of Categories')\n",
    "# Use only for small number of parts (max 4–5), where proportions matter\n",
    "plt.show()"
   ]
  },
  {
   "cell_type": "code",
   "execution_count": null,
   "metadata": {},
   "outputs": [],
   "source": [
    "# 4. Histogram – Show distribution of values\n",
    "plt.figure()\n",
    "plt.hist(x, bins=10, color='skyblue', edgecolor='black')\n",
    "plt.title('Histogram - Distribution of a Variable')\n",
    "plt.xlabel('Value')\n",
    "plt.ylabel('Frequency')\n",
    "# Use to understand the spread or shape of data (e.g., exam scores)\n",
    "plt.show()"
   ]
  },
  {
   "cell_type": "code",
   "execution_count": null,
   "metadata": {},
   "outputs": [],
   "source": [
    "# 5. Box Plot – Show distribution + outliers\n",
    "plt.figure()\n",
    "sns.boxplot(data=[x, y])\n",
    "plt.title('Box Plot - Summary Stats + Outliers')\n",
    "# Use to compare distribution between groups or detect outliers\n",
    "plt.xticks([0, 1], ['X', 'Y'])\n",
    "plt.show()"
   ]
  },
  {
   "cell_type": "code",
   "execution_count": null,
   "metadata": {},
   "outputs": [],
   "source": [
    "# 6. Scatter Plot – Show correlation/relationship\n",
    "plt.figure()\n",
    "plt.scatter(x, y, alpha=0.6)\n",
    "plt.title('Scatter Plot - Correlation Between Variables')\n",
    "plt.xlabel('X')\n",
    "plt.ylabel('Y')\n",
    "# Use to explore correlation and spot clusters/outliers\n",
    "plt.show()"
   ]
  },
  {
   "cell_type": "markdown",
   "metadata": {},
   "source": [
    "#### Data Visualization Types\n",
    "1. Univariate Visualization     \n",
    "    Purpose: Understand distribution, central tendency, or frequency.       \n",
    "    Common Chart Types:     \n",
    "    - Histogram – distribution of numeric values      \n",
    "    - Box Plot – summary stats + outliers     \n",
    "    - Bar Chart – frequency of categories     \n",
    "    - Pie Chart – proportion of categories        \n",
    "\n",
    "2. Bivariate Visualization      \n",
    "    Purpose: Explore relationships, comparisons, or trends.     \n",
    "    Common Chart Types:\n",
    "    - Scatter Plot – correlation between two numeric variables\n",
    "    - Line Chart – trend over time (time vs metric)\n",
    "    - Grouped Bar Chart – comparison between groups\n",
    "    - Box Plot (by category) – distribution comparison\n",
    "\n",
    "3. Multivariate Visualization       \n",
    "    Purpose: Show interaction or pattern among multiple features.       \n",
    "    Common Chart Types:\n",
    "    - Bubble Chart – scatter plot with 3rd variable as size\n",
    "    - Colored Scatter Plot – 3rd variable as color\n",
    "    - Stacked Bar/Area Chart – parts of whole over time\n",
    "    - Facet Grid (Seaborn) – small multiples by category"
   ]
  },
  {
   "cell_type": "markdown",
   "metadata": {},
   "source": [
    "#### Data Visualization Practice"
   ]
  },
  {
   "cell_type": "code",
   "execution_count": null,
   "metadata": {},
   "outputs": [],
   "source": [
    "# Load iris dataset\n",
    "df = sns.load_dataset('iris')\n",
    "\n",
    "# Preview the first 5 rows\n",
    "df.head()"
   ]
  },
  {
   "cell_type": "code",
   "execution_count": null,
   "metadata": {},
   "outputs": [],
   "source": [
    "\"\"\" \n",
    "Objective: Points show the relationship between length and width of petals for all species.\n",
    "\"\"\"\n",
    "\n",
    "plt.scatter(df['petal_length'], df['petal_width'])\n",
    "plt.title(\"Petal Length vs Petal Width\")\n",
    "plt.xlabel(\"Petal Length (cm)\")\n",
    "plt.ylabel(\"Petal Width (cm)\")\n",
    "plt.show()"
   ]
  },
  {
   "cell_type": "code",
   "execution_count": null,
   "metadata": {},
   "outputs": [],
   "source": [
    "\"\"\" \n",
    "Objective: Color shows species differentiation.\n",
    "\"\"\"\n",
    "\n",
    "# Map species to colors\n",
    "species_codes = df['species'].astype('category').cat.codes\n",
    "\n",
    "plt.scatter(df['petal_length'], df['petal_width'], c=species_codes, cmap='viridis')\n",
    "plt.title(\"Petal Length vs Width (by Species)\")\n",
    "plt.xlabel(\"Petal Length (cm)\")\n",
    "plt.ylabel(\"Petal Width (cm)\")\n",
    "plt.colorbar(label='Species Code')\n",
    "plt.show()\n"
   ]
  },
  {
   "cell_type": "code",
   "execution_count": null,
   "metadata": {},
   "outputs": [],
   "source": [
    "\"\"\" \n",
    "Objective: Improve visibility of overlapping points\n",
    "\"\"\"\n",
    "\n",
    "plt.figure(figsize=(8, 5))\n",
    "\n",
    "# Improved scatter with edge outlines and labels\n",
    "plt.scatter(df['petal_length'], df['petal_width'],\n",
    "            c=species_codes, cmap='Set1',\n",
    "            s=60, edgecolor='black', alpha=0.5)\n",
    "\n",
    "plt.title(\"Iris Dataset: Petal Length vs Width\", fontsize=14)\n",
    "plt.xlabel(\"Petal Length (cm)\")\n",
    "plt.ylabel(\"Petal Width (cm)\")\n",
    "plt.grid(True)\n",
    "plt.tight_layout()\n",
    "plt.colorbar(label=\"Species Code\")\n",
    "plt.show()"
   ]
  },
  {
   "cell_type": "code",
   "execution_count": null,
   "metadata": {},
   "outputs": [],
   "source": [
    "\"\"\" \n",
    "Objective: Automate using Seaborn\n",
    "\"\"\"\n",
    "\n",
    "sns.scatterplot(data=df, x='petal_length', y='petal_width', hue='species', palette='Set2', alpha=0.7)\n",
    "plt.title(\"Petal Length vs Width by Species\")\n",
    "plt.xlabel(\"Petal Length (cm)\")\n",
    "plt.ylabel(\"Petal Width (cm)\")\n",
    "plt.grid(True)\n",
    "plt.show()\n"
   ]
  },
  {
   "cell_type": "code",
   "execution_count": null,
   "metadata": {},
   "outputs": [],
   "source": [
    "\"\"\"\n",
    "Class Activity: Visualizing the data\n",
    "\"\"\"\n",
    "\n",
    "# Sample dataset creation (simulate student data)\n",
    "data = pd.DataFrame({\n",
    "    'Score': np.random.normal(75, 10, 100),\n",
    "    'StudyHours': np.random.normal(5, 1.5, 100),\n",
    "    'Gender': np.random.choice(['Male', 'Female'], 100),\n",
    "    'Grade': np.random.choice(['A', 'B', 'C', 'D'], 100)\n",
    "})\n",
    "\n",
    "# TODO: Answer the following questions using visualizations\n",
    "# Question 1: What is the distribution of student scores?\n",
    "# Question 2: Is there a relationship between study hours and scores?\n",
    "# Question 3: How do study hours and scores vary by gender?\n"
   ]
  },
  {
   "cell_type": "markdown",
   "metadata": {},
   "source": [
    "### **Reflection**\n",
    "If you have spare time before presenting your data, which would you choose: improving the design (color, layout, composition, etc.), testing readability by asking for feedback, or doing a deeper self-thought about the data? Explain why?\n",
    "\n",
    "(answer here)"
   ]
  },
  {
   "cell_type": "markdown",
   "metadata": {},
   "source": [
    "### **Exploration**\n",
    "A data dashboard allows you to display key insights, metrics, and visualizations in an interactive and user-friendly format. Streamlit makes it easy to turn Python code into fully functional, shareable web apps for visualizing data.\n",
    "- https://streamlit.io/\n",
    "- https://dash.plotly.com/"
   ]
  },
  {
   "cell_type": "markdown",
   "metadata": {},
   "source": []
  }
 ],
 "metadata": {
  "kernelspec": {
   "display_name": "Python 3",
   "language": "python",
   "name": "python3"
  },
  "language_info": {
   "codemirror_mode": {
    "name": "ipython",
    "version": 3
   },
   "file_extension": ".py",
   "mimetype": "text/x-python",
   "name": "python",
   "nbconvert_exporter": "python",
   "pygments_lexer": "ipython3",
   "version": "3.10.12"
  }
 },
 "nbformat": 4,
 "nbformat_minor": 2
}
