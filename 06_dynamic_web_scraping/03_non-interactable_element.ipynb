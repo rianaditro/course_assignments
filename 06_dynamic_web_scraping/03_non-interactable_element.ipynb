{
 "cells": [
  {
   "cell_type": "markdown",
   "metadata": {},
   "source": [
    "### **Non-Interactable Element**\n",
    "When automating web tasks or scraping data with Selenium, elements on a webpage may not be immediately available due to delays in loading, JavaScript execution, or dynamic content rendering."
   ]
  },
  {
   "cell_type": "code",
   "execution_count": 1,
   "metadata": {},
   "outputs": [],
   "source": [
    "\"\"\" \n",
    "Objective: Practice selenium setup from scratch\n",
    "\"\"\"\n",
    "# TODO: Start by importing necessary modules: webdriver, options, by and keys (keys and by comes from webdriver.common)\n",
    "# TODO: Create options object with --start-maximized argument\n",
    "# TODO: Create the browser instance\n",
    "# TODO: Open the https://demoqa.com/webtables using get\n",
    "\n",
    "from selenium import webdriver\n",
    "from selenium.webdriver.common.keys import Keys\n",
    "from selenium.webdriver.common.by import By\n",
    "from selenium.webdriver.chrome.options import Options\n",
    "\n",
    "# Create options object with --start-maximized argument\n",
    "options = Options()\n",
    "options.add_argument(\"--start-maximized\")\n",
    "\n",
    "# Create the browser instance\n",
    "driver = webdriver.Chrome(options=options)\n",
    "\n",
    "# Open the https://demoqa.com/webtables using get\n",
    "driver.get(\"https://demoqa.com/webtables\")"
   ]
  },
  {
   "cell_type": "code",
   "execution_count": 3,
   "metadata": {},
   "outputs": [],
   "source": [
    "# TODO: Find and click element button to trigger form input\n",
    "# TODO: Is there any error? Analyze the problem!\n",
    "addBtn = driver.find_element(By.ID, \"addNewRecordButton\")\n",
    "addBtn.click()\n"
   ]
  },
  {
   "cell_type": "markdown",
   "metadata": {},
   "source": [
    "### Scrolling on the page"
   ]
  },
  {
   "cell_type": "code",
   "execution_count": 4,
   "metadata": {},
   "outputs": [],
   "source": [
    "\"\"\" \n",
    "Objective: Execute javascript code to trigger scrolling in web browser\n",
    "\"\"\"\n",
    "# TODO: Execute the script \"window.scrollTo(0, document.body.scrollHeight)\" using driver.execute_script(\"script here\")\n",
    "# TODO: See the browser, is the script executed?\n",
    "\n",
    "driver.execute_script(\"window.scrollTo(0, document.body.scrollHeight)\")"
   ]
  },
  {
   "cell_type": "code",
   "execution_count": 2,
   "metadata": {},
   "outputs": [
    {
     "name": "stdout",
     "output_type": "stream",
     "text": [
      "200\n"
     ]
    }
   ],
   "source": [
    "\"\"\" \n",
    "Objective: Scroll down to coordinate (0, 200)\n",
    "\"\"\"\n",
    "# TODO: Execute the script \"window.scrollTo(0, 200)\" using driver.execute_script(\"script here\")\n",
    "# TODO: See the browser, is the script executed?\n",
    "import time\n",
    "driver.execute_script(\"window.scrollTo(0, 200)\")\n",
    "time.sleep(1)  # add a small delay\n",
    "scroll_position = driver.execute_script(\"return window.scrollY\")\n",
    "print(scroll_position)  # should print 200"
   ]
  },
  {
   "cell_type": "code",
   "execution_count": 5,
   "metadata": {},
   "outputs": [],
   "source": [
    "\"\"\" \n",
    "Objective: Scroll using Keys\n",
    "\"\"\"\n",
    "# TODO: Find body element\n",
    "# TODO: Use element.send_keys(Keys.PAGE_DOWN) to trigger page down button on keyboard\n",
    "# TODO: Custom the keys using another key, arrow key for example\n",
    "body_element = driver.find_element(By.TAG_NAME, \"body\")\n",
    "body_element.send_keys(Keys.PAGE_DOWN)"
   ]
  },
  {
   "cell_type": "code",
   "execution_count": 7,
   "metadata": {},
   "outputs": [],
   "source": [
    "\"\"\" \n",
    "Objective: Scroll directly to the element\n",
    "\"\"\"\n",
    "# TODO: Find any element you like\n",
    "# TODO: Add driver.execute_script(\"arguments[0].scrollIntoView()\", element)\n",
    "\n",
    "element = driver.find_element(By.ID, \"addNewRecordButton\")\n",
    "driver.execute_script(\"arguments[0].scrollIntoView()\", element)"
   ]
  },
  {
   "cell_type": "code",
   "execution_count": 14,
   "metadata": {},
   "outputs": [
    {
     "data": {
      "text/plain": [
       "True"
      ]
     },
     "execution_count": 14,
     "metadata": {},
     "output_type": "execute_result"
    }
   ],
   "source": [
    "\"\"\"\n",
    "Objective: Finish form submition for https://demoqa.com/webtables\n",
    "\"\"\"\n",
    "# TODO: Open https://demoqa.com/webtables using get\n",
    "# TODO: Fill the element with any value you like\n",
    "# TODO: Click submit\n",
    "options = Options()\n",
    "options.add_argument(\"--start-maximized\")\n",
    "\n",
    "# Create the browser instance\n",
    "driver = webdriver.Chrome(options=options)\n",
    "\n",
    "driver.get(\"https://demoqa.com/webtables\")\n",
    "\n",
    "element = driver.find_element(By.ID, \"addNewRecordButton\")\n",
    "driver.execute_script(\"arguments[0].scrollIntoView()\", element)\n",
    "element.click()\n",
    "\n",
    "name = driver.find_element(By.ID, \"firstName\")\n",
    "name.send_keys(\"John\")\n",
    "lastName = driver.find_element(By.ID, \"lastName\")\n",
    "lastName.send_keys(\"Doe\")\n",
    "email = driver.find_element(By.ID, \"userEmail\")\n",
    "email.send_keys(\"qo9d2@example.com\")\n",
    "age = driver.find_element(By.ID, \"age\")\n",
    "age.send_keys(\"25\")\n",
    "salary = driver.find_element(By.ID, \"salary\")    \n",
    "salary.send_keys(\"50000\")\n",
    "department = driver.find_element(By.ID, \"department\")   \n",
    "department.send_keys(\"IT\")\n",
    "submit = driver.find_element(By.ID, \"submit\")\n",
    "submit.click()\n",
    "driver.save_screenshot(\"screenshot.png\")"
   ]
  },
  {
   "cell_type": "markdown",
   "metadata": {},
   "source": [
    "### Element inside iframe"
   ]
  },
  {
   "cell_type": "code",
   "execution_count": 17,
   "metadata": {},
   "outputs": [],
   "source": [
    "\"\"\" \n",
    "Objective: Practice selenium setup from scratch\n",
    "\"\"\"\n",
    "# TODO: Start by importing necessary modules: webdriver, options and by\n",
    "# TODO: Create options object with --start-maximized argument\n",
    "# TODO: Create the browser instance\n",
    "# TODO: Open the https://demoqa.com/frames using get\n",
    "import time\n",
    "\n",
    "from selenium import webdriver\n",
    "from selenium.webdriver.chrome.options import Options\n",
    "\n",
    "# Create options object with --start-maximized argument\n",
    "options = Options()\n",
    "options.add_argument(\"--start-maximized\")\n",
    "\n",
    "# Create the browser instance\n",
    "driver = webdriver.Chrome(options=options)\n",
    "\n",
    "# Open the https://demoqa.com/frames using get\n",
    "driver.get(\"https://demoqa.com/frames\")"
   ]
  },
  {
   "cell_type": "code",
   "execution_count": 27,
   "metadata": {},
   "outputs": [
    {
     "ename": "NoSuchElementException",
     "evalue": "Message: no such element: Unable to locate element: {\"method\":\"css selector\",\"selector\":\"[id=\"frame1\"]\"}\n  (Session info: chrome=132.0.6834.160); For documentation on this error, please visit: https://www.selenium.dev/documentation/webdriver/troubleshooting/errors#no-such-element-exception\nStacktrace:\n\tGetHandleVerifier [0x00007FF6395402F5+28725]\n\t(No symbol) [0x00007FF6394A2AE0]\n\t(No symbol) [0x00007FF63933510A]\n\t(No symbol) [0x00007FF6393893D2]\n\t(No symbol) [0x00007FF6393895FC]\n\t(No symbol) [0x00007FF6393D3407]\n\t(No symbol) [0x00007FF6393AFFEF]\n\t(No symbol) [0x00007FF6393D0181]\n\t(No symbol) [0x00007FF6393AFD53]\n\t(No symbol) [0x00007FF63937A0E3]\n\t(No symbol) [0x00007FF63937B471]\n\tGetHandleVerifier [0x00007FF63986F30D+3366989]\n\tGetHandleVerifier [0x00007FF6398812F0+3440688]\n\tGetHandleVerifier [0x00007FF6398778FD+3401277]\n\tGetHandleVerifier [0x00007FF63960AAAB+858091]\n\t(No symbol) [0x00007FF6394AE74F]\n\t(No symbol) [0x00007FF6394AA304]\n\t(No symbol) [0x00007FF6394AA49D]\n\t(No symbol) [0x00007FF639498B69]\n\tBaseThreadInitThunk [0x00007FFAF0F1259D+29]\n\tRtlUserThreadStart [0x00007FFAF160AF38+40]\n",
     "output_type": "error",
     "traceback": [
      "\u001b[1;31m---------------------------------------------------------------------------\u001b[0m",
      "\u001b[1;31mNoSuchElementException\u001b[0m                    Traceback (most recent call last)",
      "Cell \u001b[1;32mIn[27], line 6\u001b[0m\n\u001b[0;32m      1\u001b[0m \u001b[38;5;124;03m\"\"\" \u001b[39;00m\n\u001b[0;32m      2\u001b[0m \u001b[38;5;124;03mObjective: Find element inside frame\u001b[39;00m\n\u001b[0;32m      3\u001b[0m \u001b[38;5;124;03m\"\"\"\u001b[39;00m\n\u001b[0;32m      4\u001b[0m \u001b[38;5;66;03m# TODO: Find element that have value \"This is a sample page\" on the page\u001b[39;00m\n\u001b[0;32m      5\u001b[0m \u001b[38;5;66;03m# TODO: Analyze the result, is the element found?\u001b[39;00m\n\u001b[1;32m----> 6\u001b[0m frame_element1 \u001b[38;5;241m=\u001b[39m \u001b[43mdriver\u001b[49m\u001b[38;5;241;43m.\u001b[39;49m\u001b[43mfind_element\u001b[49m\u001b[43m(\u001b[49m\u001b[43mBy\u001b[49m\u001b[38;5;241;43m.\u001b[39;49m\u001b[43mID\u001b[49m\u001b[43m,\u001b[49m\u001b[43m \u001b[49m\u001b[38;5;124;43m\"\u001b[39;49m\u001b[38;5;124;43mframe1\u001b[39;49m\u001b[38;5;124;43m\"\u001b[39;49m\u001b[43m)\u001b[49m\n\u001b[0;32m      7\u001b[0m driver\u001b[38;5;241m.\u001b[39mswitch_to\u001b[38;5;241m.\u001b[39mframe(frame_element1)\n\u001b[0;32m      8\u001b[0m element \u001b[38;5;241m=\u001b[39m driver\u001b[38;5;241m.\u001b[39mfind_element(By\u001b[38;5;241m.\u001b[39mID, \u001b[38;5;124m\"\u001b[39m\u001b[38;5;124msampleHeading\u001b[39m\u001b[38;5;124m\"\u001b[39m)\n",
      "File \u001b[1;32mc:\\Users\\rjriz\\PycharmProjects\\assigmentRWID\\.venv\\Lib\\site-packages\\selenium\\webdriver\\remote\\webdriver.py:888\u001b[0m, in \u001b[0;36mWebDriver.find_element\u001b[1;34m(self, by, value)\u001b[0m\n\u001b[0;32m    885\u001b[0m         \u001b[38;5;28;01mraise\u001b[39;00m NoSuchElementException(\u001b[38;5;124mf\u001b[39m\u001b[38;5;124m\"\u001b[39m\u001b[38;5;124mCannot locate relative element with: \u001b[39m\u001b[38;5;132;01m{\u001b[39;00mby\u001b[38;5;241m.\u001b[39mroot\u001b[38;5;132;01m}\u001b[39;00m\u001b[38;5;124m\"\u001b[39m)\n\u001b[0;32m    886\u001b[0m     \u001b[38;5;28;01mreturn\u001b[39;00m elements[\u001b[38;5;241m0\u001b[39m]\n\u001b[1;32m--> 888\u001b[0m \u001b[38;5;28;01mreturn\u001b[39;00m \u001b[38;5;28;43mself\u001b[39;49m\u001b[38;5;241;43m.\u001b[39;49m\u001b[43mexecute\u001b[49m\u001b[43m(\u001b[49m\u001b[43mCommand\u001b[49m\u001b[38;5;241;43m.\u001b[39;49m\u001b[43mFIND_ELEMENT\u001b[49m\u001b[43m,\u001b[49m\u001b[43m \u001b[49m\u001b[43m{\u001b[49m\u001b[38;5;124;43m\"\u001b[39;49m\u001b[38;5;124;43musing\u001b[39;49m\u001b[38;5;124;43m\"\u001b[39;49m\u001b[43m:\u001b[49m\u001b[43m \u001b[49m\u001b[43mby\u001b[49m\u001b[43m,\u001b[49m\u001b[43m \u001b[49m\u001b[38;5;124;43m\"\u001b[39;49m\u001b[38;5;124;43mvalue\u001b[39;49m\u001b[38;5;124;43m\"\u001b[39;49m\u001b[43m:\u001b[49m\u001b[43m \u001b[49m\u001b[43mvalue\u001b[49m\u001b[43m}\u001b[49m\u001b[43m)\u001b[49m[\u001b[38;5;124m\"\u001b[39m\u001b[38;5;124mvalue\u001b[39m\u001b[38;5;124m\"\u001b[39m]\n",
      "File \u001b[1;32mc:\\Users\\rjriz\\PycharmProjects\\assigmentRWID\\.venv\\Lib\\site-packages\\selenium\\webdriver\\remote\\webdriver.py:429\u001b[0m, in \u001b[0;36mWebDriver.execute\u001b[1;34m(self, driver_command, params)\u001b[0m\n\u001b[0;32m    427\u001b[0m response \u001b[38;5;241m=\u001b[39m \u001b[38;5;28mself\u001b[39m\u001b[38;5;241m.\u001b[39mcommand_executor\u001b[38;5;241m.\u001b[39mexecute(driver_command, params)\n\u001b[0;32m    428\u001b[0m \u001b[38;5;28;01mif\u001b[39;00m response:\n\u001b[1;32m--> 429\u001b[0m     \u001b[38;5;28;43mself\u001b[39;49m\u001b[38;5;241;43m.\u001b[39;49m\u001b[43merror_handler\u001b[49m\u001b[38;5;241;43m.\u001b[39;49m\u001b[43mcheck_response\u001b[49m\u001b[43m(\u001b[49m\u001b[43mresponse\u001b[49m\u001b[43m)\u001b[49m\n\u001b[0;32m    430\u001b[0m     response[\u001b[38;5;124m\"\u001b[39m\u001b[38;5;124mvalue\u001b[39m\u001b[38;5;124m\"\u001b[39m] \u001b[38;5;241m=\u001b[39m \u001b[38;5;28mself\u001b[39m\u001b[38;5;241m.\u001b[39m_unwrap_value(response\u001b[38;5;241m.\u001b[39mget(\u001b[38;5;124m\"\u001b[39m\u001b[38;5;124mvalue\u001b[39m\u001b[38;5;124m\"\u001b[39m, \u001b[38;5;28;01mNone\u001b[39;00m))\n\u001b[0;32m    431\u001b[0m     \u001b[38;5;28;01mreturn\u001b[39;00m response\n",
      "File \u001b[1;32mc:\\Users\\rjriz\\PycharmProjects\\assigmentRWID\\.venv\\Lib\\site-packages\\selenium\\webdriver\\remote\\errorhandler.py:232\u001b[0m, in \u001b[0;36mErrorHandler.check_response\u001b[1;34m(self, response)\u001b[0m\n\u001b[0;32m    230\u001b[0m         alert_text \u001b[38;5;241m=\u001b[39m value[\u001b[38;5;124m\"\u001b[39m\u001b[38;5;124malert\u001b[39m\u001b[38;5;124m\"\u001b[39m]\u001b[38;5;241m.\u001b[39mget(\u001b[38;5;124m\"\u001b[39m\u001b[38;5;124mtext\u001b[39m\u001b[38;5;124m\"\u001b[39m)\n\u001b[0;32m    231\u001b[0m     \u001b[38;5;28;01mraise\u001b[39;00m exception_class(message, screen, stacktrace, alert_text)  \u001b[38;5;66;03m# type: ignore[call-arg]  # mypy is not smart enough here\u001b[39;00m\n\u001b[1;32m--> 232\u001b[0m \u001b[38;5;28;01mraise\u001b[39;00m exception_class(message, screen, stacktrace)\n",
      "\u001b[1;31mNoSuchElementException\u001b[0m: Message: no such element: Unable to locate element: {\"method\":\"css selector\",\"selector\":\"[id=\"frame1\"]\"}\n  (Session info: chrome=132.0.6834.160); For documentation on this error, please visit: https://www.selenium.dev/documentation/webdriver/troubleshooting/errors#no-such-element-exception\nStacktrace:\n\tGetHandleVerifier [0x00007FF6395402F5+28725]\n\t(No symbol) [0x00007FF6394A2AE0]\n\t(No symbol) [0x00007FF63933510A]\n\t(No symbol) [0x00007FF6393893D2]\n\t(No symbol) [0x00007FF6393895FC]\n\t(No symbol) [0x00007FF6393D3407]\n\t(No symbol) [0x00007FF6393AFFEF]\n\t(No symbol) [0x00007FF6393D0181]\n\t(No symbol) [0x00007FF6393AFD53]\n\t(No symbol) [0x00007FF63937A0E3]\n\t(No symbol) [0x00007FF63937B471]\n\tGetHandleVerifier [0x00007FF63986F30D+3366989]\n\tGetHandleVerifier [0x00007FF6398812F0+3440688]\n\tGetHandleVerifier [0x00007FF6398778FD+3401277]\n\tGetHandleVerifier [0x00007FF63960AAAB+858091]\n\t(No symbol) [0x00007FF6394AE74F]\n\t(No symbol) [0x00007FF6394AA304]\n\t(No symbol) [0x00007FF6394AA49D]\n\t(No symbol) [0x00007FF639498B69]\n\tBaseThreadInitThunk [0x00007FFAF0F1259D+29]\n\tRtlUserThreadStart [0x00007FFAF160AF38+40]\n"
     ]
    }
   ],
   "source": [
    "\"\"\" \n",
    "Objective: Find element inside frame\n",
    "\"\"\"\n",
    "# TODO: Find element that have value \"This is a sample page\" on the page\n",
    "# TODO: Analyze the result, is the element found?\n",
    "frame_element1 = driver.find_element(By.ID, \"frame1\")\n",
    "driver.switch_to.frame(frame_element1)\n",
    "element = driver.find_element(By.ID, \"sampleHeading\")\n",
    "print(element.text)"
   ]
  },
  {
   "cell_type": "code",
   "execution_count": 23,
   "metadata": {},
   "outputs": [
    {
     "name": "stdout",
     "output_type": "stream",
     "text": [
      "This is a sample page\n"
     ]
    }
   ],
   "source": [
    "\"\"\" \n",
    "Objective: Switching to frame\n",
    "\"\"\"\n",
    "# TODO: Find frame element\n",
    "# TODO: Switch to frame using driver.switch_to.frame(frame_element)\n",
    "# TODO: Find our target element and print the text\n",
    "\n",
    "frame_element = driver.find_element(By.ID, \"frame2\")\n",
    "driver.switch_to.frame(frame_element)\n",
    "element = driver.find_element(By.ID, \"sampleHeading\")\n",
    "print(element.text)"
   ]
  },
  {
   "cell_type": "code",
   "execution_count": 28,
   "metadata": {},
   "outputs": [],
   "source": [
    "driver.quit()"
   ]
  },
  {
   "cell_type": "markdown",
   "metadata": {},
   "source": [
    "### Waiting strategy"
   ]
  },
  {
   "cell_type": "code",
   "execution_count": 30,
   "metadata": {},
   "outputs": [],
   "source": [
    "\"\"\" \n",
    "Objective: Practice selenium setup from scratch\n",
    "\"\"\"\n",
    "# TODO: Start by importing necessary modules: webdriver, options, by, webdriverwait and expected_conditions\n",
    "# TODO: Create options object with --start-maximized argument\n",
    "# TODO: Create the browser instance\n",
    "\n",
    "from selenium import webdriver\n",
    "from selenium.webdriver.chrome.options import Options\n",
    "from selenium.webdriver.common.by import By\n",
    "from selenium.webdriver.support.ui import WebDriverWait\n",
    "from selenium.webdriver.support import expected_conditions as EC\n",
    "\n",
    "# Create options object with --start-maximized argument\n",
    "options = Options()\n",
    "options.add_argument(\"--start-maximized\")\n",
    "\n",
    "# Create the browser instance\n",
    "driver = webdriver.Chrome(options=options)\n",
    "\n",
    "# Open the https://demoqa.com/frames using get\n",
    "driver.get(\"https://demoqa.com/frames\")\n"
   ]
  },
  {
   "cell_type": "code",
   "execution_count": 31,
   "metadata": {},
   "outputs": [
    {
     "ename": "NoSuchElementException",
     "evalue": "Message: no such element: Unable to locate element: {\"method\":\"css selector\",\"selector\":\"[id=\"non-existing-element\"]\"}\n  (Session info: chrome=132.0.6834.160); For documentation on this error, please visit: https://www.selenium.dev/documentation/webdriver/troubleshooting/errors#no-such-element-exception\nStacktrace:\n\tGetHandleVerifier [0x00007FF6395402F5+28725]\n\t(No symbol) [0x00007FF6394A2AE0]\n\t(No symbol) [0x00007FF63933510A]\n\t(No symbol) [0x00007FF6393893D2]\n\t(No symbol) [0x00007FF6393895FC]\n\t(No symbol) [0x00007FF6393D3407]\n\t(No symbol) [0x00007FF6393AFFEF]\n\t(No symbol) [0x00007FF6393D0181]\n\t(No symbol) [0x00007FF6393AFD53]\n\t(No symbol) [0x00007FF63937A0E3]\n\t(No symbol) [0x00007FF63937B471]\n\tGetHandleVerifier [0x00007FF63986F30D+3366989]\n\tGetHandleVerifier [0x00007FF6398812F0+3440688]\n\tGetHandleVerifier [0x00007FF6398778FD+3401277]\n\tGetHandleVerifier [0x00007FF63960AAAB+858091]\n\t(No symbol) [0x00007FF6394AE74F]\n\t(No symbol) [0x00007FF6394AA304]\n\t(No symbol) [0x00007FF6394AA49D]\n\t(No symbol) [0x00007FF639498B69]\n\tBaseThreadInitThunk [0x00007FFAF0F1259D+29]\n\tRtlUserThreadStart [0x00007FFAF160AF38+40]\n",
     "output_type": "error",
     "traceback": [
      "\u001b[1;31m---------------------------------------------------------------------------\u001b[0m",
      "\u001b[1;31mNoSuchElementException\u001b[0m                    Traceback (most recent call last)",
      "Cell \u001b[1;32mIn[31], line 14\u001b[0m\n\u001b[0;32m     11\u001b[0m driver\u001b[38;5;241m.\u001b[39mimplicitly_wait(\u001b[38;5;241m10\u001b[39m)\n\u001b[0;32m     12\u001b[0m driver\u001b[38;5;241m.\u001b[39mget(\u001b[38;5;124m\"\u001b[39m\u001b[38;5;124mhttps://demoqa.com\u001b[39m\u001b[38;5;124m\"\u001b[39m)\n\u001b[1;32m---> 14\u001b[0m element \u001b[38;5;241m=\u001b[39m \u001b[43mdriver\u001b[49m\u001b[38;5;241;43m.\u001b[39;49m\u001b[43mfind_element\u001b[49m\u001b[43m(\u001b[49m\u001b[43mBy\u001b[49m\u001b[38;5;241;43m.\u001b[39;49m\u001b[43mID\u001b[49m\u001b[43m,\u001b[49m\u001b[43m \u001b[49m\u001b[38;5;124;43m\"\u001b[39;49m\u001b[38;5;124;43mnon-existing-element\u001b[39;49m\u001b[38;5;124;43m\"\u001b[39;49m\u001b[43m)\u001b[49m\n\u001b[0;32m     15\u001b[0m \u001b[38;5;28mprint\u001b[39m(element\u001b[38;5;241m.\u001b[39mtext)\n",
      "File \u001b[1;32mc:\\Users\\rjriz\\PycharmProjects\\assigmentRWID\\.venv\\Lib\\site-packages\\selenium\\webdriver\\remote\\webdriver.py:888\u001b[0m, in \u001b[0;36mWebDriver.find_element\u001b[1;34m(self, by, value)\u001b[0m\n\u001b[0;32m    885\u001b[0m         \u001b[38;5;28;01mraise\u001b[39;00m NoSuchElementException(\u001b[38;5;124mf\u001b[39m\u001b[38;5;124m\"\u001b[39m\u001b[38;5;124mCannot locate relative element with: \u001b[39m\u001b[38;5;132;01m{\u001b[39;00mby\u001b[38;5;241m.\u001b[39mroot\u001b[38;5;132;01m}\u001b[39;00m\u001b[38;5;124m\"\u001b[39m)\n\u001b[0;32m    886\u001b[0m     \u001b[38;5;28;01mreturn\u001b[39;00m elements[\u001b[38;5;241m0\u001b[39m]\n\u001b[1;32m--> 888\u001b[0m \u001b[38;5;28;01mreturn\u001b[39;00m \u001b[38;5;28;43mself\u001b[39;49m\u001b[38;5;241;43m.\u001b[39;49m\u001b[43mexecute\u001b[49m\u001b[43m(\u001b[49m\u001b[43mCommand\u001b[49m\u001b[38;5;241;43m.\u001b[39;49m\u001b[43mFIND_ELEMENT\u001b[49m\u001b[43m,\u001b[49m\u001b[43m \u001b[49m\u001b[43m{\u001b[49m\u001b[38;5;124;43m\"\u001b[39;49m\u001b[38;5;124;43musing\u001b[39;49m\u001b[38;5;124;43m\"\u001b[39;49m\u001b[43m:\u001b[49m\u001b[43m \u001b[49m\u001b[43mby\u001b[49m\u001b[43m,\u001b[49m\u001b[43m \u001b[49m\u001b[38;5;124;43m\"\u001b[39;49m\u001b[38;5;124;43mvalue\u001b[39;49m\u001b[38;5;124;43m\"\u001b[39;49m\u001b[43m:\u001b[49m\u001b[43m \u001b[49m\u001b[43mvalue\u001b[49m\u001b[43m}\u001b[49m\u001b[43m)\u001b[49m[\u001b[38;5;124m\"\u001b[39m\u001b[38;5;124mvalue\u001b[39m\u001b[38;5;124m\"\u001b[39m]\n",
      "File \u001b[1;32mc:\\Users\\rjriz\\PycharmProjects\\assigmentRWID\\.venv\\Lib\\site-packages\\selenium\\webdriver\\remote\\webdriver.py:429\u001b[0m, in \u001b[0;36mWebDriver.execute\u001b[1;34m(self, driver_command, params)\u001b[0m\n\u001b[0;32m    427\u001b[0m response \u001b[38;5;241m=\u001b[39m \u001b[38;5;28mself\u001b[39m\u001b[38;5;241m.\u001b[39mcommand_executor\u001b[38;5;241m.\u001b[39mexecute(driver_command, params)\n\u001b[0;32m    428\u001b[0m \u001b[38;5;28;01mif\u001b[39;00m response:\n\u001b[1;32m--> 429\u001b[0m     \u001b[38;5;28;43mself\u001b[39;49m\u001b[38;5;241;43m.\u001b[39;49m\u001b[43merror_handler\u001b[49m\u001b[38;5;241;43m.\u001b[39;49m\u001b[43mcheck_response\u001b[49m\u001b[43m(\u001b[49m\u001b[43mresponse\u001b[49m\u001b[43m)\u001b[49m\n\u001b[0;32m    430\u001b[0m     response[\u001b[38;5;124m\"\u001b[39m\u001b[38;5;124mvalue\u001b[39m\u001b[38;5;124m\"\u001b[39m] \u001b[38;5;241m=\u001b[39m \u001b[38;5;28mself\u001b[39m\u001b[38;5;241m.\u001b[39m_unwrap_value(response\u001b[38;5;241m.\u001b[39mget(\u001b[38;5;124m\"\u001b[39m\u001b[38;5;124mvalue\u001b[39m\u001b[38;5;124m\"\u001b[39m, \u001b[38;5;28;01mNone\u001b[39;00m))\n\u001b[0;32m    431\u001b[0m     \u001b[38;5;28;01mreturn\u001b[39;00m response\n",
      "File \u001b[1;32mc:\\Users\\rjriz\\PycharmProjects\\assigmentRWID\\.venv\\Lib\\site-packages\\selenium\\webdriver\\remote\\errorhandler.py:232\u001b[0m, in \u001b[0;36mErrorHandler.check_response\u001b[1;34m(self, response)\u001b[0m\n\u001b[0;32m    230\u001b[0m         alert_text \u001b[38;5;241m=\u001b[39m value[\u001b[38;5;124m\"\u001b[39m\u001b[38;5;124malert\u001b[39m\u001b[38;5;124m\"\u001b[39m]\u001b[38;5;241m.\u001b[39mget(\u001b[38;5;124m\"\u001b[39m\u001b[38;5;124mtext\u001b[39m\u001b[38;5;124m\"\u001b[39m)\n\u001b[0;32m    231\u001b[0m     \u001b[38;5;28;01mraise\u001b[39;00m exception_class(message, screen, stacktrace, alert_text)  \u001b[38;5;66;03m# type: ignore[call-arg]  # mypy is not smart enough here\u001b[39;00m\n\u001b[1;32m--> 232\u001b[0m \u001b[38;5;28;01mraise\u001b[39;00m exception_class(message, screen, stacktrace)\n",
      "\u001b[1;31mNoSuchElementException\u001b[0m: Message: no such element: Unable to locate element: {\"method\":\"css selector\",\"selector\":\"[id=\"non-existing-element\"]\"}\n  (Session info: chrome=132.0.6834.160); For documentation on this error, please visit: https://www.selenium.dev/documentation/webdriver/troubleshooting/errors#no-such-element-exception\nStacktrace:\n\tGetHandleVerifier [0x00007FF6395402F5+28725]\n\t(No symbol) [0x00007FF6394A2AE0]\n\t(No symbol) [0x00007FF63933510A]\n\t(No symbol) [0x00007FF6393893D2]\n\t(No symbol) [0x00007FF6393895FC]\n\t(No symbol) [0x00007FF6393D3407]\n\t(No symbol) [0x00007FF6393AFFEF]\n\t(No symbol) [0x00007FF6393D0181]\n\t(No symbol) [0x00007FF6393AFD53]\n\t(No symbol) [0x00007FF63937A0E3]\n\t(No symbol) [0x00007FF63937B471]\n\tGetHandleVerifier [0x00007FF63986F30D+3366989]\n\tGetHandleVerifier [0x00007FF6398812F0+3440688]\n\tGetHandleVerifier [0x00007FF6398778FD+3401277]\n\tGetHandleVerifier [0x00007FF63960AAAB+858091]\n\t(No symbol) [0x00007FF6394AE74F]\n\t(No symbol) [0x00007FF6394AA304]\n\t(No symbol) [0x00007FF6394AA49D]\n\t(No symbol) [0x00007FF639498B69]\n\tBaseThreadInitThunk [0x00007FFAF0F1259D+29]\n\tRtlUserThreadStart [0x00007FFAF160AF38+40]\n"
     ]
    }
   ],
   "source": [
    "\"\"\" \n",
    "Objective: Using implicit wait\n",
    "Once implicit wait set, it applies timeout to \n",
    "all find_element and find_elements and throws error if not found.\n",
    "\"\"\"\n",
    "# TODO: Set the wait time implicitly using driver.implicitly_wait(time)\n",
    "# TODO: Opening any page you like\n",
    "# TODO: Find a non-existing element, you can use any element that actually not exist in the page\n",
    "# TODO: Execute the code and see if the selenium is waiting or not\n",
    "\n",
    "driver.implicitly_wait(10)\n",
    "driver.get(\"https://demoqa.com\")\n",
    "\n",
    "element = driver.find_element(By.ID, \"non-existing-element\")\n",
    "print(element.text)"
   ]
  },
  {
   "cell_type": "code",
   "execution_count": 33,
   "metadata": {},
   "outputs": [
    {
     "name": "stdout",
     "output_type": "stream",
     "text": [
      "Element not found\n"
     ]
    }
   ],
   "source": [
    "\"\"\" \n",
    "Objective: Handling error NoSuchElementException\n",
    "\"\"\"\n",
    "# TODO: Instead of throwing an error, handle the exception like a pro!\n",
    "\n",
    "try:\n",
    "    element = driver.find_element(By.ID, \"non-existing-element\")\n",
    "    print(element.text)\n",
    "except:\n",
    "    print(\"Element not found\")"
   ]
  },
  {
   "cell_type": "code",
   "execution_count": 36,
   "metadata": {},
   "outputs": [
    {
     "data": {
      "text/plain": [
       "'wait = WebDriverWait(driver, 10)\\nelement = wait.until(EC.element_to_be_clickable((By.ID, \"visibleAfter\")))'"
      ]
     },
     "execution_count": 36,
     "metadata": {},
     "output_type": "execute_result"
    }
   ],
   "source": [
    "\"\"\" \n",
    "Objective: Implement explicit wait\n",
    "\"\"\"\n",
    "\"\"\"wait = WebDriverWait(driver, 10)\n",
    "element = wait.until(EC.element_to_be_clickable((By.ID, \"visibleAfter\")))\"\"\""
   ]
  },
  {
   "cell_type": "code",
   "execution_count": null,
   "metadata": {},
   "outputs": [],
   "source": [
    "\"\"\"\n",
    "Common expected_conditions methods\n",
    "WebDriverWait(driver, 10).until(EC.presence_of_element_located((By.ID, \"example-id\")))\n",
    "WebDriverWait(driver, 10).until(EC.visibility_of_element_located((By.CSS_SELECTOR, \".example-class\")))\n",
    "WebDriverWait(driver, 10).until(EC.element_to_be_clickable((By.XPATH, \"//button[@id='submit']\")))\n",
    "WebDriverWait(driver, 10).until(EC.text_to_be_present_in_element((By.TAG_NAME, \"h1\"), \"Welcome\"))\n",
    "\"\"\"\n"
   ]
  },
  {
   "cell_type": "markdown",
   "metadata": {},
   "source": [
    "### **Reflection**\n",
    "How is your experience using Selenium so far?\n",
    "\n",
    "(answer here)"
   ]
  },
  {
   "cell_type": "markdown",
   "metadata": {},
   "source": [
    "### **Exploration**\n",
    "There are a lot of Selenium alternative, you can try:\n",
    "- Playwright\n",
    "- Pyppetter\n",
    "- etc"
   ]
  },
  {
   "cell_type": "markdown",
   "metadata": {},
   "source": []
  }
 ],
 "metadata": {
  "kernelspec": {
   "display_name": ".venv",
   "language": "python",
   "name": "python3"
  },
  "language_info": {
   "codemirror_mode": {
    "name": "ipython",
    "version": 3
   },
   "file_extension": ".py",
   "mimetype": "text/x-python",
   "name": "python",
   "nbconvert_exporter": "python",
   "pygments_lexer": "ipython3",
   "version": "3.12.0"
  }
 },
 "nbformat": 4,
 "nbformat_minor": 2
}
