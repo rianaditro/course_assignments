{
 "cells": [
  {
   "cell_type": "markdown",
   "metadata": {},
   "source": [
    "### **Non-Interactable Element**\n",
    "When automating web tasks or scraping data with Selenium, elements on a webpage may not be immediately available due to delays in loading, JavaScript execution, or dynamic content rendering."
   ]
  },
  {
   "cell_type": "code",
   "execution_count": 1,
   "metadata": {},
   "outputs": [],
   "source": [
    "\"\"\" \n",
    "Objective: Practice selenium setup from scratch\n",
    "\"\"\"\n",
    "# TODO: Start by importing necessary modules: webdriver, options, by and keys (keys and by comes from webdriver.common)\n",
    "# TODO: Create options object with --start-maximized argument\n",
    "# TODO: Create the browser instance\n",
    "# TODO: Open the https://demoqa.com/webtables using get\n",
    "\n",
    "\n",
    "from selenium import webdriver\n",
    "from selenium.webdriver.common.by import By\n",
    "from selenium.webdriver.chrome.options import Options\n",
    "from selenium.webdriver.common.keys import Keys\n",
    "\n",
    "options = Options()\n",
    "options.add_argument(\"--start-maximized\")\n",
    "\n",
    "demoqa_url = \"https://demoqa.com/webtables\"\n",
    "driver = webdriver.Chrome(options=options)\n",
    "driver.get(demoqa_url)"
   ]
  },
  {
   "cell_type": "code",
   "execution_count": 2,
   "metadata": {},
   "outputs": [],
   "source": [
    "# TODO: Find and click element button to trigger form input\n",
    "button_add = driver.find_element(By.ID, \"addNewRecordButton\")\n",
    "button_add.click()\n",
    "# TODO: Is there any error? Analyze the problem!"
   ]
  },
  {
   "cell_type": "markdown",
   "metadata": {},
   "source": [
    "### Scrolling on the page"
   ]
  },
  {
   "cell_type": "code",
   "execution_count": 3,
   "metadata": {},
   "outputs": [],
   "source": [
    "\"\"\" \n",
    "Objective: Execute javascript code to trigger scrolling in web browser\n",
    "\"\"\"\n",
    "# TODO: Execute the script \"window.scrollTo(0, document.body.scrollHeight)\" using driver.execute_script(\"script here\")\n",
    "# TODO: See the browser, is the script executed?\n",
    "\n",
    "driver.execute_script(\"window.scrollTo(0, document.body.scrollHeight)\")"
   ]
  },
  {
   "cell_type": "code",
   "execution_count": 4,
   "metadata": {},
   "outputs": [],
   "source": [
    "\"\"\" \n",
    "Objective: Scroll down to coordinate (0, 200)\n",
    "\"\"\"\n",
    "# TODO: Execute the script \"window.scrollTo(0, 200)\" using driver.execute_script(\"script here\")\n",
    "# TODO: See the browser, is the script executed?\n",
    "driver.execute_script(\"window.scrollTo(0, 200)\")"
   ]
  },
  {
   "cell_type": "code",
   "execution_count": 6,
   "metadata": {},
   "outputs": [],
   "source": [
    "\"\"\" \n",
    "Objective: Scroll using Keys\n",
    "\"\"\"\n",
    "# TODO: Find body element\n",
    "# TODO: Use element.send_keys(Keys.PAGE_DOWN) to trigger page down button on keyboard\n",
    "# TODO: Custom the keys using another key, arrow key for example\n",
    "body = driver.find_element(By.TAG_NAME, \"body\")\n",
    "body.send_keys(Keys.PAGE_DOWN)"
   ]
  },
  {
   "cell_type": "code",
   "execution_count": 12,
   "metadata": {},
   "outputs": [],
   "source": [
    "\"\"\" \n",
    "Objective: Scroll directly to the element\n",
    "\"\"\"\n",
    "# TODO: Find any element you like\n",
    "# TODO: Add driver.execute_script(\"arguments[0].scrollIntoView()\", element)\n",
    "\n",
    "driver.execute_script(\"arguments[0].scrollIntoView()\", driver.find_element(By.XPATH, \"//div[@class='-pagination']\"))"
   ]
  },
  {
   "cell_type": "code",
   "execution_count": 6,
   "metadata": {},
   "outputs": [],
   "source": [
    "\"\"\"\n",
    "Objective: Finish form submition for https://demoqa.com/webtables\n",
    "\"\"\"\n",
    "# TODO: Open https://demoqa.com/webtables using get\n",
    "# TODO: Fill the element with any value you like\n",
    "# TODO: Click submit\n",
    "# TODO: Take a screenshot\n",
    "\n",
    "demoqa_url = \"https://demoqa.com/webtables\"\n",
    "driver.get(demoqa_url)\n",
    "\n",
    "# click add button \n",
    "button_add = driver.find_element(By.ID, \"addNewRecordButton\")\n",
    "button_add.click()\n",
    "\n",
    "# fill the form\n",
    "input_first_name = driver.find_element(By.ID, \"firstName\")\n",
    "input_first_name.clear()\n",
    "input_first_name.send_keys(\"LOREM\")\n",
    "\n",
    "input_last_name = driver.find_element(By.ID, \"lastName\")\n",
    "input_last_name.clear()\n",
    "input_last_name.send_keys(\"IPSUM\")\n",
    "\n",
    "input_email = driver.find_element(By.ID, \"userEmail\")\n",
    "input_email.clear()\n",
    "input_email.send_keys(\"doloramet@mail.com\")\n",
    "\n",
    "input_age = driver.find_element(By.ID, \"age\")\n",
    "input_age.clear()\n",
    "input_age.send_keys(\"25\")\n",
    "\n",
    "input_salary = driver.find_element(By.ID, \"salary\")\n",
    "input_salary.clear()\n",
    "input_salary.send_keys(\"10000\")\n",
    "\n",
    "input_department = driver.find_element(By.ID, \"department\")\n",
    "input_department.clear()\n",
    "input_department.send_keys(\"IT\")\n",
    "\n",
    "# click submit\n",
    "button_submit = driver.find_element(By.ID, \"submit\")\n",
    "button_submit.click()\n",
    "\n"
   ]
  },
  {
   "cell_type": "markdown",
   "metadata": {},
   "source": [
    "### Element inside iframe"
   ]
  },
  {
   "cell_type": "code",
   "execution_count": 7,
   "metadata": {},
   "outputs": [],
   "source": [
    "\"\"\" \n",
    "Objective: Practice selenium setup from scratch\n",
    "\"\"\"\n",
    "# TODO: Start by importing necessary modules: webdriver, options and by\n",
    "# TODO: Create options object with --start-maximized argument\n",
    "# TODO: Create the browser instance\n",
    "# TODO: Open the https://demoqa.com/frames using get\n",
    "\n",
    "from selenium import webdriver\n",
    "from selenium.webdriver.common.by import By\n",
    "from selenium.webdriver.chrome.options import Options\n",
    "\n",
    "options = Options()\n",
    "options.add_argument(\"--start-maximized\")\n",
    "\n",
    "demoqa_url = \"https://demoqa.com/frames\"\n",
    "driver = webdriver.Chrome(options=options)\n",
    "driver.get(demoqa_url)"
   ]
  },
  {
   "cell_type": "code",
   "execution_count": null,
   "metadata": {},
   "outputs": [],
   "source": [
    "\"\"\" \n",
    "Objective: Find element inside frame\n",
    "\"\"\"\n",
    "# TODO: Find element that have value \"This is a sample page\" on the page\n",
    "# TODO: Analyze the result, is the element found?\n",
    "\n",
    "# elements = driver.find_elements(By.TAG_NAME, \"iframe\")\n",
    "\n",
    "# for element in elements:\n",
    "#     driver.switch_to.frame(element)\n",
    "#     try:\n",
    "#         found_element = driver.find_element(By.XPATH, \"//h1[contains(text(), 'This is a sample page')]\")\n",
    "#         contains_text_elements.append(found_element.text)\n",
    "#     except:\n",
    "#         pass\n",
    "\n",
    "#     driver.switch_to.default_content()\n",
    "\n",
    "elements = driver.find_elements(By.XPATH, \"//*[contains(text(), 'This is a sample page')]\")\n",
    "\n",
    "for element in elements:\n",
    "    print(element.text)"
   ]
  },
  {
   "cell_type": "code",
   "execution_count": 36,
   "metadata": {},
   "outputs": [
    {
     "name": "stdout",
     "output_type": "stream",
     "text": [
      "This is a sample page\n",
      "This is a sample page\n"
     ]
    }
   ],
   "source": [
    "\"\"\" \n",
    "Objective: Switching to frame\n",
    "\"\"\"\n",
    "# TODO: Find frame element\n",
    "# TODO: Switch to frame using driver.switch_to.frame(frame_element)\n",
    "# TODO: Find our target element and print the text\n",
    "\n",
    "elements = driver.find_elements(By.TAG_NAME, \"iframe\")\n",
    "\n",
    "for element in elements:\n",
    "    driver.switch_to.frame(element)\n",
    "    try:\n",
    "        found_element = driver.find_element(By.XPATH, \"//h1[contains(text(), 'This is a sample page')]\")\n",
    "        print(found_element.text)\n",
    "    except:\n",
    "        pass\n",
    "\n",
    "    driver.switch_to.default_content()"
   ]
  },
  {
   "cell_type": "code",
   "execution_count": null,
   "metadata": {},
   "outputs": [],
   "source": [
    "driver.quit()"
   ]
  },
  {
   "cell_type": "markdown",
   "metadata": {},
   "source": [
    "### Waiting strategy"
   ]
  },
  {
   "cell_type": "code",
   "execution_count": 4,
   "metadata": {},
   "outputs": [],
   "source": [
    "\"\"\" \n",
    "Objective: Practice selenium setup from scratch\n",
    "\"\"\"\n",
    "# TODO: Start by importing necessary modules: webdriver, options, by, webdriverwait and expected_conditions\n",
    "# TODO: Create options object with --start-maximized argument\n",
    "# TODO: Create the browser instance\n",
    "\n",
    "from selenium import webdriver\n",
    "from selenium.webdriver.common.by import By\n",
    "from selenium.webdriver.chrome.options import Options\n",
    "from selenium.webdriver.support.ui import WebDriverWait\n",
    "from selenium.webdriver.support import expected_conditions as EC\n",
    "\n",
    "options = Options()\n",
    "options.add_argument(\"--start-maximized\")\n",
    "\n",
    "driver = webdriver.Chrome(options=options)\n",
    "\n",
    "driver.get(\"https://demoqa.com\")"
   ]
  },
  {
   "cell_type": "code",
   "execution_count": 8,
   "metadata": {},
   "outputs": [
    {
     "ename": "NoSuchElementException",
     "evalue": "Message: no such element: Unable to locate element: {\"method\":\"css selector\",\"selector\":\"[id=\"non-existing-element\"]\"}\n  (Session info: chrome=134.0.6998.88); For documentation on this error, please visit: https://www.selenium.dev/documentation/webdriver/troubleshooting/errors#no-such-element-exception\nStacktrace:\n#0 0x65234e7e6a1a <unknown>\n#1 0x65234e29e390 <unknown>\n#2 0x65234e2efc85 <unknown>\n#3 0x65234e2efeb1 <unknown>\n#4 0x65234e33ed64 <unknown>\n#5 0x65234e315bfd <unknown>\n#6 0x65234e33c07b <unknown>\n#7 0x65234e3159a3 <unknown>\n#8 0x65234e2e160e <unknown>\n#9 0x65234e2e2dd1 <unknown>\n#10 0x65234e7acddb <unknown>\n#11 0x65234e7b0cbc <unknown>\n#12 0x65234e794392 <unknown>\n#13 0x65234e7b1834 <unknown>\n#14 0x65234e7781ef <unknown>\n#15 0x65234e7d5038 <unknown>\n#16 0x65234e7d5216 <unknown>\n#17 0x65234e7e5896 <unknown>\n#18 0x7834de29caa4 <unknown>\n#19 0x7834de329c3c <unknown>\n",
     "output_type": "error",
     "traceback": [
      "\u001b[0;31m---------------------------------------------------------------------------\u001b[0m",
      "\u001b[0;31mNoSuchElementException\u001b[0m                    Traceback (most recent call last)",
      "Cell \u001b[0;32mIn[8], line 26\u001b[0m\n\u001b[1;32m     22\u001b[0m driver\u001b[38;5;241m.\u001b[39mimplicitly_wait(\u001b[38;5;241m5\u001b[39m)\n\u001b[1;32m     24\u001b[0m driver\u001b[38;5;241m.\u001b[39mget(\u001b[38;5;124m\"\u001b[39m\u001b[38;5;124mhttps://demoqa.com/elements\u001b[39m\u001b[38;5;124m\"\u001b[39m)\n\u001b[0;32m---> 26\u001b[0m elements \u001b[38;5;241m=\u001b[39m \u001b[43mdriver\u001b[49m\u001b[38;5;241;43m.\u001b[39;49m\u001b[43mfind_element\u001b[49m\u001b[43m(\u001b[49m\u001b[43mBy\u001b[49m\u001b[38;5;241;43m.\u001b[39;49m\u001b[43mID\u001b[49m\u001b[43m,\u001b[49m\u001b[43m \u001b[49m\u001b[38;5;124;43m\"\u001b[39;49m\u001b[38;5;124;43mnon-existing-element\u001b[39;49m\u001b[38;5;124;43m\"\u001b[39;49m\u001b[43m)\u001b[49m\n\u001b[1;32m     28\u001b[0m \u001b[38;5;28mprint\u001b[39m(elements)\n",
      "File \u001b[0;32m~/rwid/course_assignments/venv/lib/python3.12/site-packages/selenium/webdriver/remote/webdriver.py:898\u001b[0m, in \u001b[0;36mWebDriver.find_element\u001b[0;34m(self, by, value)\u001b[0m\n\u001b[1;32m    895\u001b[0m         \u001b[38;5;28;01mraise\u001b[39;00m NoSuchElementException(\u001b[38;5;124mf\u001b[39m\u001b[38;5;124m\"\u001b[39m\u001b[38;5;124mCannot locate relative element with: \u001b[39m\u001b[38;5;132;01m{\u001b[39;00mby\u001b[38;5;241m.\u001b[39mroot\u001b[38;5;132;01m}\u001b[39;00m\u001b[38;5;124m\"\u001b[39m)\n\u001b[1;32m    896\u001b[0m     \u001b[38;5;28;01mreturn\u001b[39;00m elements[\u001b[38;5;241m0\u001b[39m]\n\u001b[0;32m--> 898\u001b[0m \u001b[38;5;28;01mreturn\u001b[39;00m \u001b[38;5;28;43mself\u001b[39;49m\u001b[38;5;241;43m.\u001b[39;49m\u001b[43mexecute\u001b[49m\u001b[43m(\u001b[49m\u001b[43mCommand\u001b[49m\u001b[38;5;241;43m.\u001b[39;49m\u001b[43mFIND_ELEMENT\u001b[49m\u001b[43m,\u001b[49m\u001b[43m \u001b[49m\u001b[43m{\u001b[49m\u001b[38;5;124;43m\"\u001b[39;49m\u001b[38;5;124;43musing\u001b[39;49m\u001b[38;5;124;43m\"\u001b[39;49m\u001b[43m:\u001b[49m\u001b[43m \u001b[49m\u001b[43mby\u001b[49m\u001b[43m,\u001b[49m\u001b[43m \u001b[49m\u001b[38;5;124;43m\"\u001b[39;49m\u001b[38;5;124;43mvalue\u001b[39;49m\u001b[38;5;124;43m\"\u001b[39;49m\u001b[43m:\u001b[49m\u001b[43m \u001b[49m\u001b[43mvalue\u001b[49m\u001b[43m}\u001b[49m\u001b[43m)\u001b[49m[\u001b[38;5;124m\"\u001b[39m\u001b[38;5;124mvalue\u001b[39m\u001b[38;5;124m\"\u001b[39m]\n",
      "File \u001b[0;32m~/rwid/course_assignments/venv/lib/python3.12/site-packages/selenium/webdriver/remote/webdriver.py:429\u001b[0m, in \u001b[0;36mWebDriver.execute\u001b[0;34m(self, driver_command, params)\u001b[0m\n\u001b[1;32m    427\u001b[0m response \u001b[38;5;241m=\u001b[39m \u001b[38;5;28mself\u001b[39m\u001b[38;5;241m.\u001b[39mcommand_executor\u001b[38;5;241m.\u001b[39mexecute(driver_command, params)\n\u001b[1;32m    428\u001b[0m \u001b[38;5;28;01mif\u001b[39;00m response:\n\u001b[0;32m--> 429\u001b[0m     \u001b[38;5;28;43mself\u001b[39;49m\u001b[38;5;241;43m.\u001b[39;49m\u001b[43merror_handler\u001b[49m\u001b[38;5;241;43m.\u001b[39;49m\u001b[43mcheck_response\u001b[49m\u001b[43m(\u001b[49m\u001b[43mresponse\u001b[49m\u001b[43m)\u001b[49m\n\u001b[1;32m    430\u001b[0m     response[\u001b[38;5;124m\"\u001b[39m\u001b[38;5;124mvalue\u001b[39m\u001b[38;5;124m\"\u001b[39m] \u001b[38;5;241m=\u001b[39m \u001b[38;5;28mself\u001b[39m\u001b[38;5;241m.\u001b[39m_unwrap_value(response\u001b[38;5;241m.\u001b[39mget(\u001b[38;5;124m\"\u001b[39m\u001b[38;5;124mvalue\u001b[39m\u001b[38;5;124m\"\u001b[39m, \u001b[38;5;28;01mNone\u001b[39;00m))\n\u001b[1;32m    431\u001b[0m     \u001b[38;5;28;01mreturn\u001b[39;00m response\n",
      "File \u001b[0;32m~/rwid/course_assignments/venv/lib/python3.12/site-packages/selenium/webdriver/remote/errorhandler.py:232\u001b[0m, in \u001b[0;36mErrorHandler.check_response\u001b[0;34m(self, response)\u001b[0m\n\u001b[1;32m    230\u001b[0m         alert_text \u001b[38;5;241m=\u001b[39m value[\u001b[38;5;124m\"\u001b[39m\u001b[38;5;124malert\u001b[39m\u001b[38;5;124m\"\u001b[39m]\u001b[38;5;241m.\u001b[39mget(\u001b[38;5;124m\"\u001b[39m\u001b[38;5;124mtext\u001b[39m\u001b[38;5;124m\"\u001b[39m)\n\u001b[1;32m    231\u001b[0m     \u001b[38;5;28;01mraise\u001b[39;00m exception_class(message, screen, stacktrace, alert_text)  \u001b[38;5;66;03m# type: ignore[call-arg]  # mypy is not smart enough here\u001b[39;00m\n\u001b[0;32m--> 232\u001b[0m \u001b[38;5;28;01mraise\u001b[39;00m exception_class(message, screen, stacktrace)\n",
      "\u001b[0;31mNoSuchElementException\u001b[0m: Message: no such element: Unable to locate element: {\"method\":\"css selector\",\"selector\":\"[id=\"non-existing-element\"]\"}\n  (Session info: chrome=134.0.6998.88); For documentation on this error, please visit: https://www.selenium.dev/documentation/webdriver/troubleshooting/errors#no-such-element-exception\nStacktrace:\n#0 0x65234e7e6a1a <unknown>\n#1 0x65234e29e390 <unknown>\n#2 0x65234e2efc85 <unknown>\n#3 0x65234e2efeb1 <unknown>\n#4 0x65234e33ed64 <unknown>\n#5 0x65234e315bfd <unknown>\n#6 0x65234e33c07b <unknown>\n#7 0x65234e3159a3 <unknown>\n#8 0x65234e2e160e <unknown>\n#9 0x65234e2e2dd1 <unknown>\n#10 0x65234e7acddb <unknown>\n#11 0x65234e7b0cbc <unknown>\n#12 0x65234e794392 <unknown>\n#13 0x65234e7b1834 <unknown>\n#14 0x65234e7781ef <unknown>\n#15 0x65234e7d5038 <unknown>\n#16 0x65234e7d5216 <unknown>\n#17 0x65234e7e5896 <unknown>\n#18 0x7834de29caa4 <unknown>\n#19 0x7834de329c3c <unknown>\n"
     ]
    }
   ],
   "source": [
    "\"\"\" \n",
    "Objective: Using implicit wait\n",
    "Once implicit wait set, it applies timeout to \n",
    "all find_element and find_elements and throws error if not found.\n",
    "\"\"\"\n",
    "# TODO: Set the wait time implicitly using driver.implicitly_wait(time)\n",
    "# TODO: Opening any page you like\n",
    "# TODO: Find a non-existing element, you can use any element that actually not exist in the page\n",
    "# TODO: Execute the code and see if the selenium is waiting or not\n",
    "\n",
    "from selenium import webdriver\n",
    "from selenium.webdriver.common.by import By\n",
    "from selenium.webdriver.chrome.options import Options\n",
    "from selenium.webdriver.support.ui import WebDriverWait\n",
    "from selenium.webdriver.support import expected_conditions as EC\n",
    "\n",
    "options = Options()\n",
    "options.add_argument(\"--start-maximized\")\n",
    "\n",
    "driver = webdriver.Chrome(options=options)\n",
    "\n",
    "driver.implicitly_wait(5)\n",
    "\n",
    "driver.get(\"https://demoqa.com/elements\")\n",
    "\n",
    "elements = driver.find_element(By.ID, \"non-existing-element\")\n",
    "\n",
    "print(elements)\n"
   ]
  },
  {
   "cell_type": "code",
   "execution_count": 9,
   "metadata": {},
   "outputs": [
    {
     "name": "stdout",
     "output_type": "stream",
     "text": [
      "element not found, err : <bound method WebDriverException.__str__ of NoSuchElementException()>\n"
     ]
    }
   ],
   "source": [
    "\"\"\" \n",
    "Objective: Handling error NoSuchElementException\n",
    "\"\"\"\n",
    "# TODO: Instead of throwing an error, handle the exception like a pro!\n",
    "\n",
    "try:\n",
    "\n",
    "    elements = driver.find_element(By.ID, \"non-existing-element\")\n",
    "except Exception as e:\n",
    "    print(f\"element not found, err : {e.__str__}\")"
   ]
  },
  {
   "cell_type": "code",
   "execution_count": null,
   "metadata": {},
   "outputs": [
    {
     "ename": "TimeoutException",
     "evalue": "Message: \nStacktrace:\n#0 0x65234e7e6a1a <unknown>\n#1 0x65234e29e390 <unknown>\n#2 0x65234e2efc85 <unknown>\n#3 0x65234e2efeb1 <unknown>\n#4 0x65234e33ed64 <unknown>\n#5 0x65234e315bfd <unknown>\n#6 0x65234e33c07b <unknown>\n#7 0x65234e3159a3 <unknown>\n#8 0x65234e2e160e <unknown>\n#9 0x65234e2e2dd1 <unknown>\n#10 0x65234e7acddb <unknown>\n#11 0x65234e7b0cbc <unknown>\n#12 0x65234e794392 <unknown>\n#13 0x65234e7b1834 <unknown>\n#14 0x65234e7781ef <unknown>\n#15 0x65234e7d5038 <unknown>\n#16 0x65234e7d5216 <unknown>\n#17 0x65234e7e5896 <unknown>\n#18 0x7834de29caa4 <unknown>\n#19 0x7834de329c3c <unknown>\n",
     "output_type": "error",
     "traceback": [
      "\u001b[0;31m---------------------------------------------------------------------------\u001b[0m",
      "\u001b[0;31mTimeoutException\u001b[0m                          Traceback (most recent call last)",
      "Cell \u001b[0;32mIn[12], line 5\u001b[0m\n\u001b[1;32m      1\u001b[0m \u001b[38;5;124;03m\"\"\" \u001b[39;00m\n\u001b[1;32m      2\u001b[0m \u001b[38;5;124;03mObjective: Implement explicit wait\u001b[39;00m\n\u001b[1;32m      3\u001b[0m \u001b[38;5;124;03m\"\"\"\u001b[39;00m\n\u001b[1;32m      4\u001b[0m wait \u001b[38;5;241m=\u001b[39m WebDriverWait(driver, \u001b[38;5;241m10\u001b[39m)\n\u001b[0;32m----> 5\u001b[0m element \u001b[38;5;241m=\u001b[39m \u001b[43mwait\u001b[49m\u001b[38;5;241;43m.\u001b[39;49m\u001b[43muntil\u001b[49m\u001b[43m(\u001b[49m\u001b[43mEC\u001b[49m\u001b[38;5;241;43m.\u001b[39;49m\u001b[43melement_to_be_clickable\u001b[49m\u001b[43m(\u001b[49m\u001b[43m(\u001b[49m\u001b[43mBy\u001b[49m\u001b[38;5;241;43m.\u001b[39;49m\u001b[43mID\u001b[49m\u001b[43m,\u001b[49m\u001b[43m \u001b[49m\u001b[38;5;124;43m\"\u001b[39;49m\u001b[38;5;124;43mvisibleAfter\u001b[39;49m\u001b[38;5;124;43m\"\u001b[39;49m\u001b[43m)\u001b[49m\u001b[43m)\u001b[49m\u001b[43m)\u001b[49m\n",
      "File \u001b[0;32m~/rwid/course_assignments/venv/lib/python3.12/site-packages/selenium/webdriver/support/wait.py:146\u001b[0m, in \u001b[0;36mWebDriverWait.until\u001b[0;34m(self, method, message)\u001b[0m\n\u001b[1;32m    144\u001b[0m         \u001b[38;5;28;01mbreak\u001b[39;00m\n\u001b[1;32m    145\u001b[0m     time\u001b[38;5;241m.\u001b[39msleep(\u001b[38;5;28mself\u001b[39m\u001b[38;5;241m.\u001b[39m_poll)\n\u001b[0;32m--> 146\u001b[0m \u001b[38;5;28;01mraise\u001b[39;00m TimeoutException(message, screen, stacktrace)\n",
      "\u001b[0;31mTimeoutException\u001b[0m: Message: \nStacktrace:\n#0 0x65234e7e6a1a <unknown>\n#1 0x65234e29e390 <unknown>\n#2 0x65234e2efc85 <unknown>\n#3 0x65234e2efeb1 <unknown>\n#4 0x65234e33ed64 <unknown>\n#5 0x65234e315bfd <unknown>\n#6 0x65234e33c07b <unknown>\n#7 0x65234e3159a3 <unknown>\n#8 0x65234e2e160e <unknown>\n#9 0x65234e2e2dd1 <unknown>\n#10 0x65234e7acddb <unknown>\n#11 0x65234e7b0cbc <unknown>\n#12 0x65234e794392 <unknown>\n#13 0x65234e7b1834 <unknown>\n#14 0x65234e7781ef <unknown>\n#15 0x65234e7d5038 <unknown>\n#16 0x65234e7d5216 <unknown>\n#17 0x65234e7e5896 <unknown>\n#18 0x7834de29caa4 <unknown>\n#19 0x7834de329c3c <unknown>\n"
     ]
    }
   ],
   "source": [
    "\"\"\" \n",
    "Objective: Implement explicit wait\n",
    "\"\"\"\n",
    "wait = WebDriverWait(driver, 10)\n",
    "element = wait.until(EC.element_to_be_clickable((By.ID, \"visibleAfter\")))"
   ]
  },
  {
   "cell_type": "code",
   "execution_count": 13,
   "metadata": {},
   "outputs": [
    {
     "ename": "TimeoutException",
     "evalue": "Message: \nStacktrace:\n#0 0x65234e7e6a1a <unknown>\n#1 0x65234e29e390 <unknown>\n#2 0x65234e2efc85 <unknown>\n#3 0x65234e2efeb1 <unknown>\n#4 0x65234e33ed64 <unknown>\n#5 0x65234e315bfd <unknown>\n#6 0x65234e33c07b <unknown>\n#7 0x65234e3159a3 <unknown>\n#8 0x65234e2e160e <unknown>\n#9 0x65234e2e2dd1 <unknown>\n#10 0x65234e7acddb <unknown>\n#11 0x65234e7b0cbc <unknown>\n#12 0x65234e794392 <unknown>\n#13 0x65234e7b1834 <unknown>\n#14 0x65234e7781ef <unknown>\n#15 0x65234e7d5038 <unknown>\n#16 0x65234e7d5216 <unknown>\n#17 0x65234e7e5896 <unknown>\n#18 0x7834de29caa4 <unknown>\n#19 0x7834de329c3c <unknown>\n",
     "output_type": "error",
     "traceback": [
      "\u001b[0;31m---------------------------------------------------------------------------\u001b[0m",
      "\u001b[0;31mTimeoutException\u001b[0m                          Traceback (most recent call last)",
      "Cell \u001b[0;32mIn[13], line 9\u001b[0m\n\u001b[1;32m      1\u001b[0m \u001b[38;5;124;03m\"\"\"\u001b[39;00m\n\u001b[1;32m      2\u001b[0m \u001b[38;5;124;03mCommon expected_conditions methods\u001b[39;00m\n\u001b[1;32m      3\u001b[0m \u001b[38;5;124;03mWebDriverWait(driver, 10).until(EC.presence_of_element_located((By.ID, \"example-id\")))\u001b[39;00m\n\u001b[0;32m   (...)\u001b[0m\n\u001b[1;32m      6\u001b[0m \u001b[38;5;124;03mWebDriverWait(driver, 10).until(EC.text_to_be_present_in_element((By.TAG_NAME, \"h1\"), \"Welcome\"))\u001b[39;00m\n\u001b[1;32m      7\u001b[0m \u001b[38;5;124;03m\"\"\"\u001b[39;00m\n\u001b[0;32m----> 9\u001b[0m by_id \u001b[38;5;241m=\u001b[39m \u001b[43mWebDriverWait\u001b[49m\u001b[43m(\u001b[49m\u001b[43mdriver\u001b[49m\u001b[43m,\u001b[49m\u001b[43m \u001b[49m\u001b[38;5;241;43m10\u001b[39;49m\u001b[43m)\u001b[49m\u001b[38;5;241;43m.\u001b[39;49m\u001b[43muntil\u001b[49m\u001b[43m(\u001b[49m\u001b[43mEC\u001b[49m\u001b[38;5;241;43m.\u001b[39;49m\u001b[43mpresence_of_element_located\u001b[49m\u001b[43m(\u001b[49m\u001b[43m(\u001b[49m\u001b[43mBy\u001b[49m\u001b[38;5;241;43m.\u001b[39;49m\u001b[43mID\u001b[49m\u001b[43m,\u001b[49m\u001b[43m \u001b[49m\u001b[38;5;124;43m\"\u001b[39;49m\u001b[38;5;124;43mexample-id\u001b[39;49m\u001b[38;5;124;43m\"\u001b[39;49m\u001b[43m)\u001b[49m\u001b[43m)\u001b[49m\u001b[43m)\u001b[49m\n\u001b[1;32m     10\u001b[0m by_css \u001b[38;5;241m=\u001b[39m WebDriverWait(driver, \u001b[38;5;241m10\u001b[39m)\u001b[38;5;241m.\u001b[39muntil(EC\u001b[38;5;241m.\u001b[39mvisibility_of_element_located((By\u001b[38;5;241m.\u001b[39mCSS_SELECTOR, \u001b[38;5;124m\"\u001b[39m\u001b[38;5;124m.example-class\u001b[39m\u001b[38;5;124m\"\u001b[39m)))\n\u001b[1;32m     11\u001b[0m by_xpath \u001b[38;5;241m=\u001b[39m WebDriverWait(driver, \u001b[38;5;241m10\u001b[39m)\u001b[38;5;241m.\u001b[39muntil(EC\u001b[38;5;241m.\u001b[39melement_to_be_clickable((By\u001b[38;5;241m.\u001b[39mXPATH, \u001b[38;5;124m\"\u001b[39m\u001b[38;5;124m//button[@id=\u001b[39m\u001b[38;5;124m'\u001b[39m\u001b[38;5;124msubmit\u001b[39m\u001b[38;5;124m'\u001b[39m\u001b[38;5;124m]\u001b[39m\u001b[38;5;124m\"\u001b[39m)))\n",
      "File \u001b[0;32m~/rwid/course_assignments/venv/lib/python3.12/site-packages/selenium/webdriver/support/wait.py:146\u001b[0m, in \u001b[0;36mWebDriverWait.until\u001b[0;34m(self, method, message)\u001b[0m\n\u001b[1;32m    144\u001b[0m         \u001b[38;5;28;01mbreak\u001b[39;00m\n\u001b[1;32m    145\u001b[0m     time\u001b[38;5;241m.\u001b[39msleep(\u001b[38;5;28mself\u001b[39m\u001b[38;5;241m.\u001b[39m_poll)\n\u001b[0;32m--> 146\u001b[0m \u001b[38;5;28;01mraise\u001b[39;00m TimeoutException(message, screen, stacktrace)\n",
      "\u001b[0;31mTimeoutException\u001b[0m: Message: \nStacktrace:\n#0 0x65234e7e6a1a <unknown>\n#1 0x65234e29e390 <unknown>\n#2 0x65234e2efc85 <unknown>\n#3 0x65234e2efeb1 <unknown>\n#4 0x65234e33ed64 <unknown>\n#5 0x65234e315bfd <unknown>\n#6 0x65234e33c07b <unknown>\n#7 0x65234e3159a3 <unknown>\n#8 0x65234e2e160e <unknown>\n#9 0x65234e2e2dd1 <unknown>\n#10 0x65234e7acddb <unknown>\n#11 0x65234e7b0cbc <unknown>\n#12 0x65234e794392 <unknown>\n#13 0x65234e7b1834 <unknown>\n#14 0x65234e7781ef <unknown>\n#15 0x65234e7d5038 <unknown>\n#16 0x65234e7d5216 <unknown>\n#17 0x65234e7e5896 <unknown>\n#18 0x7834de29caa4 <unknown>\n#19 0x7834de329c3c <unknown>\n"
     ]
    }
   ],
   "source": [
    "\"\"\"\n",
    "Common expected_conditions methods\n",
    "WebDriverWait(driver, 10).until(EC.presence_of_element_located((By.ID, \"example-id\")))\n",
    "WebDriverWait(driver, 10).until(EC.visibility_of_element_located((By.CSS_SELECTOR, \".example-class\")))\n",
    "WebDriverWait(driver, 10).until(EC.element_to_be_clickable((By.XPATH, \"//button[@id='submit']\")))\n",
    "WebDriverWait(driver, 10).until(EC.text_to_be_present_in_element((By.TAG_NAME, \"h1\"), \"Welcome\"))\n",
    "\"\"\"\n",
    "\n",
    "by_id = WebDriverWait(driver, 10).until(EC.presence_of_element_located((By.ID, \"example-id\")))\n",
    "by_css = WebDriverWait(driver, 10).until(EC.visibility_of_element_located((By.CSS_SELECTOR, \".example-class\")))\n",
    "by_xpath = WebDriverWait(driver, 10).until(EC.element_to_be_clickable((By.XPATH, \"//button[@id='submit']\")))\n",
    "by_name = WebDriverWait(driver, 10).until(EC.text_to_be_present_in_element((By.TAG_NAME, \"h1\"), \"Welcome\"))\n"
   ]
  },
  {
   "cell_type": "markdown",
   "metadata": {},
   "source": [
    "### **Reflection**\n",
    "How is your experience using Selenium so far?\n",
    "\n",
    "So far it's still good and I think in the future if I get used to using it it will be very good and useful because in my opinion using selenium is the same as using a browser but it has been automated.\n",
    "\n"
   ]
  },
  {
   "cell_type": "markdown",
   "metadata": {},
   "source": [
    "### **Exploration**\n",
    "There are a lot of Selenium alternative, you can try:\n",
    "- Playwright\n",
    "- Pyppetter\n",
    "- etc"
   ]
  },
  {
   "cell_type": "markdown",
   "metadata": {},
   "source": []
  }
 ],
 "metadata": {
  "kernelspec": {
   "display_name": "venv",
   "language": "python",
   "name": "python3"
  },
  "language_info": {
   "codemirror_mode": {
    "name": "ipython",
    "version": 3
   },
   "file_extension": ".py",
   "mimetype": "text/x-python",
   "name": "python",
   "nbconvert_exporter": "python",
   "pygments_lexer": "ipython3",
   "version": "3.12.3"
  }
 },
 "nbformat": 4,
 "nbformat_minor": 2
}
