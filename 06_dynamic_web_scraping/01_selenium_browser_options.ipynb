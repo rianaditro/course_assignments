{
 "cells": [
  {
   "cell_type": "markdown",
   "metadata": {},
   "source": [
    "### **Handling Dynamic Content**\n",
    "Many modern websites use JavaScript to dynamically load content after the initial page load (e.g., using frameworks like React or Angular). This means the content you need to scrape might not be present in the raw HTML source when the page first loads.\n",
    "\n",
    "### Selenium\n",
    "Selenium stands out from other scraping tools because it interacts with a real browser. This makes it particularly useful for websites that rely heavily on JavaScript, AJAX, or dynamic content loading. Selenium can handle:\n",
    "- Pages that load content dynamically with JavaScript.\n",
    "- Interaction with forms, buttons, and scroll events.\n",
    "- Real browser interactions"
   ]
  },
  {
   "cell_type": "code",
   "execution_count": 2,
   "metadata": {},
   "outputs": [],
   "source": [
    "from selenium import webdriver\n",
    "bookstoscrape_url = \"https://books.toscrape.com/\""
   ]
  },
  {
   "cell_type": "code",
   "execution_count": null,
   "metadata": {},
   "outputs": [],
   "source": [
    "# TODO: Do 5 minute of web searching with 'selenium python' as the keyword and state out what you found in short sentence.\n",
    "\n",
    "# Install extension\n",
    "# pip install selenium\n",
    "\n",
    "1. Selenium is a powerful web automation framework that can control browser actions programmatically\n",
    "2. Key features found:\n",
    "    - Supports multiple browsers (Chrome, Firefox, Safari, Edge)\n",
    "    - Can automate form filling and button clicking\n",
    "    - Handles dynamic JavaScript content\n",
    "    - Supports waiting for elements to load\n",
    "    - Can take screenshots and handle alerts\n",
    "3. Common use cases:\n",
    "    - Web scraping of JavaScript-heavy sites\n",
    "    - Automated testing of web applications\n",
    "    - Browser automation for repetitive tasks\n",
    "    - Form automation and data entry\n",
    "    - Cross-browser testing\n",
    "4. Popular with Python because:\n",
    "    - Simple syntax and good documentation\n",
    "    - Large community support\n",
    "    - Many available tutorials and examples\n",
    "    - Integration with testing frameworks\n",
    "    - Active development and updates\n",
    "5. Recent updates include:\n",
    "    - Selenium 4.x with improved stability\n",
    "    - Better handling of shadow DOM\n",
    "    - Enhanced WebDriver protocols\n",
    "    - Improved error messages\n",
    "    - Better performance and reliability"
   ]
  },
  {
   "cell_type": "markdown",
   "metadata": {},
   "source": [
    "### Basic Usage of Selenium"
   ]
  },
  {
   "cell_type": "code",
   "execution_count": 3,
   "metadata": {},
   "outputs": [],
   "source": [
    "\"\"\"\n",
    "Objective: Creating a browser instance\n",
    "\"\"\"\n",
    "firefox_driver = webdriver.Firefox()"
   ]
  },
  {
   "cell_type": "code",
   "execution_count": 4,
   "metadata": {},
   "outputs": [],
   "source": [
    "\"\"\" \n",
    "Objective: Opening bookstoscrape_url\n",
    "\"\"\"\n",
    "firefox_driver.get(bookstoscrape_url)"
   ]
  },
  {
   "cell_type": "code",
   "execution_count": 6,
   "metadata": {},
   "outputs": [],
   "source": [
    "\"\"\" \n",
    "Objective: Save the page content to html variable then use Beautifulsoup to extract the data\n",
    "\"\"\"\n",
    "html = firefox_driver.page_source\n"
   ]
  },
  {
   "cell_type": "code",
   "execution_count": 7,
   "metadata": {},
   "outputs": [],
   "source": [
    "\"\"\" \n",
    "Objective: Close the browser instance\n",
    "\"\"\"\n",
    "firefox_driver.quit()"
   ]
  },
  {
   "cell_type": "markdown",
   "metadata": {},
   "source": [
    "### Browser Instance Variance"
   ]
  },
  {
   "cell_type": "code",
   "execution_count": null,
   "metadata": {},
   "outputs": [
    {
     "name": "stdout",
     "output_type": "stream",
     "text": [
      "\n",
      "Firefox Browser Info:\n",
      "Title: All products | Books to Scrape - Sandbox\n",
      "Window size: {'width': 1382, 'height': 744}\n",
      "User Agent: Mozilla/5.0 (Windows NT 10.0; Win64; x64; rv:134.0) Gecko/20100101 Firefox/134.0\n"
     ]
    }
   ],
   "source": [
    "\"\"\" \n",
    "Objective: Compare the difference between Firefox webdriver and Chrome webdriver\n",
    "\"\"\"\n",
    "# TODO: Create a Chrome browser instance\n",
    "# TODO: Create a Firefox browser instance\n",
    "# TODO: Analyze the difference between firefox and chrome browser instance\n",
    "\n",
    "chrome_driver = webdriver.Chrome()\n",
    "chrome_driver.get(bookstoscrape_url)\n",
    "\n",
    "firefox_driver = webdriver.Firefox()\n",
    "firefox_driver.get(bookstoscrape_url)\n",
    "\n",
    "# Analyze differences\n",
    "print(\"Chrome Browser Info:\")\n",
    "print(f\"Title: {chrome_driver.title}\")\n",
    "print(f\"Window size: {chrome_driver.get_window_size()}\")\n",
    "print(f\"User Agent: {chrome_driver.execute_script('return navigator.userAgent')}\")\n",
    "\n",
    "print(\"\\nFirefox Browser Info:\")\n",
    "print(f\"Title: {firefox_driver.title}\") \n",
    "print(f\"Window size: {firefox_driver.get_window_size()}\")\n",
    "print(f\"User Agent: {firefox_driver.execute_script('return navigator.userAgent')}\")\n",
    "\n",
    "# Chrome Browser Info:\n",
    "# Title: All products | Books to Scrape - Sandbox\n",
    "# Window size: {'width': 1050, 'height': 708}\n",
    "# User Agent: Mozilla/5.0 (Windows NT 10.0; Win64; x64) AppleWebKit/537.36 (KHTML, like Gecko) Chrome/133.0.0.0 Safari/537.36\n",
    "\n",
    "# Firefox Browser Info:\n",
    "# Title: All products | Books to Scrape - Sandbox\n",
    "# Window size: {'width': 1382, 'height': 744}\n",
    "# User Agent: Mozilla/5.0 (Windows NT 10.0; Win64; x64; rv:134.0) Gecko/20100101 Firefox/134.0\n",
    "\n",
    "# Key differences:\n",
    "# 1. Different default window sizes\n",
    "# 2. Different user agents\n",
    "# 3. Different rendering engines (AppleWebKit/537.36 (KHTML, like Gecko) vs Gecko/20100101)\n"
   ]
  },
  {
   "cell_type": "code",
   "execution_count": null,
   "metadata": {},
   "outputs": [
    {
     "name": "stdout",
     "output_type": "stream",
     "text": [
      "Firefox window size: {'width': 1382, 'height': 744}\n"
     ]
    }
   ],
   "source": [
    "\"\"\" \n",
    "Objective: Change the window size in Chrome webdriver\n",
    "\n",
    "Set the window size to a particular size x and y --> driver.set_window_size(x, y)\n",
    "Set the window size to max --> driver.maximize_window()\n",
    "Get the current window size --> driver.get_window_size()\n",
    "\"\"\"\n",
    "# TODO: Change the window size of the firefox browser instance to 200 and 400\n",
    "# TODO: Print the current window size of the chrome browser instance\n",
    "# TODO: Change the window size of the chrome browser instance to full screen\n",
    "\n",
    "# Change Firefox window size to 200x400\n",
    "firefox_driver.set_window_size(200, 400)\n",
    "\n",
    "# Print Chrome window size\n",
    "print(\"Firefox window size:\", chrome_driver.get_window_size())\n",
    "\n",
    "# Maximize Chrome window. Can not be done in Firefox ???\n",
    "chrome_driver.maximize_window()"
   ]
  },
  {
   "cell_type": "code",
   "execution_count": null,
   "metadata": {},
   "outputs": [],
   "source": [
    "# TODO: Close all the browser instance using quit method"
   ]
  },
  {
   "cell_type": "code",
   "execution_count": 18,
   "metadata": {},
   "outputs": [],
   "source": [
    "\"\"\" \n",
    "Objective: Applying browser variance using Options\n",
    "\"\"\"\n",
    "# TODO: Execute this cell before continue\n",
    "# TODO: Choose between these 2 method to add options into webdriver instance\n",
    "\n",
    "## Method 1:\n",
    "from selenium.webdriver.chrome.options import Options\n",
    "options = Options()\n",
    "\n",
    "## Method 2:\n",
    "# options = webdriver.ChromeOptions()\n",
    "\n",
    "# I chose Method 1 as it provides better code readability and is more explicit \n",
    "# about what we're importing. Both methods work equally well for adding browser options."
   ]
  },
  {
   "cell_type": "code",
   "execution_count": 20,
   "metadata": {},
   "outputs": [],
   "source": [
    "\"\"\" \n",
    "Objective: Change the windows to full size with Options\n",
    "Options is a way to create a browser instance with customization.\n",
    "\n",
    "Example:\n",
    "## Create the options object from one of two previous cell mentioned\n",
    "# options = Options()\n",
    "\n",
    "## Add customization as argument\n",
    "options.add_argument(\"--start-maximized\")\n",
    "\n",
    "## You can add multiple argument after the other\n",
    "options.add_argument(\"argument 1\")\n",
    "options.add_argument(\"argument 2\")\n",
    "options.add_experimental_option(\"experimental argument\")\n",
    "\n",
    "## Add options object to webdriver instance\n",
    "driver = webdriver.Chrome(options=options)\n",
    "\"\"\"\n",
    "# TODO: Create options object\n",
    "# TODO: Add argument to set the window size to max\n",
    "# TODO: Create a browser instance with options\n",
    "\n",
    "# Create options object\n",
    "from selenium.webdriver.chrome.options import Options\n",
    "options = Options()\n",
    "\n",
    "# Add argument to set window size to max\n",
    "options.add_argument(\"--start-maximized\")\n",
    "options.add_argument(\"argument 1\")\n",
    "options.add_argument(\"argument 2\")\n",
    "# options.add_experimental_option(\"experimental argument\")\n",
    "options.add_experimental_option(\"excludeSwitches\", [\"enable-automation\"])\n",
    "\n",
    "\n",
    "# Create browser instance with options\n",
    "driver = webdriver.Chrome(options=options)\n",
    "driver.get(bookstoscrape_url)"
   ]
  },
  {
   "cell_type": "code",
   "execution_count": 24,
   "metadata": {},
   "outputs": [
    {
     "name": "stdout",
     "output_type": "stream",
     "text": [
      "Page title: All products | Books to Scrape - Sandbox\n"
     ]
    }
   ],
   "source": [
    "\"\"\" \n",
    "Objective: Run a headless browser\n",
    "\"\"\"\n",
    "# TODO: Create options object\n",
    "# TODO: Add argument \"--headless\" to the options\n",
    "# TODO: Create a browser instance with options\n",
    "# TODO: Open bookstoscrape_url using get method\n",
    "# TODO: print the page title using driver.title\n",
    "# TODO: Close the browser instance using quit method\n",
    "\n",
    "# Create options object\n",
    "from selenium.webdriver.chrome.options import Options\n",
    "options = Options()\n",
    "\n",
    "# Add headless argument\n",
    "options.add_argument(\"--headless\")\n",
    "\n",
    "# Create browser instance with options\n",
    "driver = webdriver.Chrome(options=options)\n",
    "\n",
    "# Open URL\n",
    "driver.get(bookstoscrape_url)\n",
    "\n",
    "# Print page title\n",
    "print(\"Page title:\", driver.title)\n",
    "\n",
    "# Close browser\n",
    "driver.quit()\n",
    "\n"
   ]
  },
  {
   "cell_type": "code",
   "execution_count": 25,
   "metadata": {},
   "outputs": [],
   "source": [
    "\"\"\" \n",
    "Objective: Opening a page without loading the image\n",
    "\"\"\"\n",
    "# TODO: Create options object\n",
    "# TODO: Add argument \"--blink-settings=imagesEnabled=false\" to the options\n",
    "# TODO: Create a browser instance with options\n",
    "# TODO: Open bookstoscrape_url using get method\n",
    "\n",
    "# Create options object\n",
    "from selenium.webdriver.chrome.options import Options\n",
    "options = Options()\n",
    "\n",
    "# Add argument to disable images\n",
    "options.add_argument(\"--blink-settings=imagesEnabled=false\")\n",
    "\n",
    "# Create browser instance with options and open URL\n",
    "driver = webdriver.Chrome(options=options)\n",
    "driver.get(bookstoscrape_url)"
   ]
  },
  {
   "cell_type": "code",
   "execution_count": 26,
   "metadata": {},
   "outputs": [],
   "source": [
    "\"\"\" \n",
    "Objective: Explore any other options available\n",
    "options.add_argument(\"--disable-gpu\")  # Disable GPU rendering\n",
    "options.add_argument(\"--no-sandbox\")  # Disable sandbox for Docker\n",
    "options.add_argument(\"--disable-dev-shm-usage\")  # Prevent shared memory issues\n",
    "options.add_argument(\"--disable-extensions\")  # Disable extensions\n",
    "options.add_argument(\"--disable-infobars\")  # Remove info bars\n",
    "\"\"\"\n",
    "# TODO: Explore the official documentation from https://www.selenium.dev/documentation/webdriver/browsers/chrome/\n",
    "# Create options object with additional Chrome arguments\n",
    "from selenium.webdriver.chrome.options import Options\n",
    "options = Options()\n",
    "\n",
    "# Performance options\n",
    "options.add_argument(\"--disable-gpu\")  # Disable GPU hardware acceleration\n",
    "options.add_argument(\"--disable-dev-shm-usage\")  # Overcome limited resource issues\n",
    "options.add_argument(\"--no-sandbox\")  # Disable sandbox security feature\n",
    "\n",
    "# User experience options\n",
    "options.add_argument(\"--disable-notifications\")  # Block notification prompts\n",
    "options.add_argument(\"--disable-popup-blocking\")  # Allow popups\n",
    "options.add_argument(\"--disable-infobars\")  # Remove Chrome info bars\n",
    "\n",
    "# Privacy options\n",
    "options.add_argument(\"--incognito\")  # Run in incognito mode\n",
    "options.add_argument(\"--disable-extensions\")  # Disable browser extensions\n",
    "\n",
    "# Create and run browser with all options\n",
    "driver = webdriver.Chrome(options=options)\n",
    "driver.get(bookstoscrape_url)\n",
    "\n",
    "# Clean up\n",
    "driver.quit()"
   ]
  },
  {
   "cell_type": "code",
   "execution_count": 27,
   "metadata": {},
   "outputs": [
    {
     "name": "stdout",
     "output_type": "stream",
     "text": [
      "=== Selenium WebDriver Info ===\n",
      "Page Title: GitHub · Build and ship software on a single, collaborative platform · GitHub\n",
      "Current URL: https://github.com/\n",
      "\n",
      "=== HTML Content Comparison ===\n",
      "Selenium HTML length: 303903\n",
      "Requests HTML length: 280820\n",
      "\n",
      "Insight: Selenium HTML content is typically larger because it includes\n",
      "dynamically generated content from JavaScript execution\n"
     ]
    }
   ],
   "source": [
    "\"\"\" \n",
    "Objective: Understand what information from a webdriver instance we can get\n",
    "\"\"\"\n",
    "# TODO: Create a new browser instance with any options you like\n",
    "# TODO: Open any website from your own preference\n",
    "# TODO: Print the current page title by using driver.title\n",
    "# TODO: Print the current url by using driver.current_url\n",
    "# TODO: Get the HTML content by using driver.page_source\n",
    "# TODO: Compare the HTML content from selenium with HTML content from requests then provide your insight\n",
    "\n",
    "# Import required libraries\n",
    "from selenium import webdriver\n",
    "from selenium.webdriver.chrome.options import Options\n",
    "import requests\n",
    "\n",
    "# Create browser instance with some options\n",
    "options = Options()\n",
    "options.add_argument(\"--start-maximized\")\n",
    "options.add_argument(\"--disable-notifications\")\n",
    "driver = webdriver.Chrome(options=options)\n",
    "\n",
    "# Open a dynamic website (GitHub as an example)\n",
    "github_url = \"https://github.com\"\n",
    "driver.get(github_url)\n",
    "\n",
    "# Get information from Selenium\n",
    "print(\"=== Selenium WebDriver Info ===\")\n",
    "print(f\"Page Title: {driver.title}\")\n",
    "print(f\"Current URL: {driver.current_url}\")\n",
    "selenium_html = driver.page_source\n",
    "\n",
    "# Get HTML content using requests\n",
    "response = requests.get(github_url)\n",
    "requests_html = response.text\n",
    "\n",
    "# Compare HTML content lengths\n",
    "print(\"\\n=== HTML Content Comparison ===\")\n",
    "print(f\"Selenium HTML length: {len(selenium_html)}\")\n",
    "print(f\"Requests HTML length: {len(requests_html)}\")\n",
    "print(\"\\nInsight: Selenium HTML content is typically larger because it includes\")\n",
    "print(\"dynamically generated content from JavaScript execution\")\n",
    "\n",
    "# Clean up\n",
    "driver.quit()"
   ]
  },
  {
   "cell_type": "markdown",
   "metadata": {},
   "source": [
    "### **Reflection**\n",
    "Which is faster for retrieving HTML content: sending an HTTP request directly using the requests library or creating a browser instance with Selenium?\n",
    "\n",
    "(answer here)"
   ]
  },
  {
   "cell_type": "markdown",
   "metadata": {},
   "source": [
    "The requests library is significantly faster than Selenium for retrieving HTML content. Here's why:\n",
    "\n",
    "1. Requests Library:\n",
    "- Makes direct HTTP calls to the server\n",
    "- Only downloads the initial HTML content\n",
    "- Minimal overhead and resource usage\n",
    "- No browser initialization required\n",
    "- Typically takes milliseconds to complete\n",
    "2. Selenium:\n",
    "- Needs to start up a complete browser instance\n",
    "- Loads all resources (CSS, JavaScript, images)\n",
    "- Executes JavaScript code\n",
    "- Waits for dynamic content to load\n",
    "- Can take several seconds to initialize and load\n",
    "However, it's important to note that while requests is faster, it can't:\n",
    "\n",
    "- Execute JavaScript\n",
    "- Render dynamic content\n",
    "- Handle user interactions\n",
    "- Access content that requires browser capabilities\n",
    "Choose based on your needs:\n",
    "\n",
    "- Use requests for static content or simple API calls\n",
    "- Use Selenium when you need JavaScript execution, dynamic content, or browser interaction"
   ]
  },
  {
   "cell_type": "markdown",
   "metadata": {},
   "source": [
    "### **Exploration**\n",
    "Explore what can be done manually in a real browser and what can be achieved using Selenium."
   ]
  },
  {
   "cell_type": "markdown",
   "metadata": {},
   "source": [
    "Here's a comparison of manual browser actions and their Selenium automation equivalents:\n",
    "\n",
    "1. Navigation\n",
    "- Manual: Type URLs, click links, use back/forward buttons\n",
    "- Selenium:"
   ]
  },
  {
   "cell_type": "code",
   "execution_count": null,
   "metadata": {},
   "outputs": [],
   "source": [
    "driver.get(url)              # Navigate to URL\n",
    "driver.back()                # Go back\n",
    "driver.forward()             # Go forward\n",
    "driver.refresh()             # Refresh page"
   ]
  },
  {
   "cell_type": "markdown",
   "metadata": {},
   "source": [
    "2. Form Interactions\n",
    "- Manual: Fill forms, check boxes, select dropdowns\n",
    "- Selenium:"
   ]
  },
  {
   "cell_type": "code",
   "execution_count": null,
   "metadata": {},
   "outputs": [],
   "source": [
    "element.send_keys(\"text\")    # Type text\n",
    "element.click()              # Click elements\n",
    "element.submit()             # Submit forms\n",
    "Select(element).select_by_visible_text(\"option\")  # Select dropdown"
   ]
  },
  {
   "cell_type": "markdown",
   "metadata": {},
   "source": [
    "3. Mouse/Keyboard Actions\n",
    "- Manual: Hover, drag-drop, right-click\n",
    "- Selenium:"
   ]
  },
  {
   "cell_type": "code",
   "execution_count": null,
   "metadata": {},
   "outputs": [],
   "source": [
    "actions = ActionChains(driver)\n",
    "actions.move_to_element(element)     # Hover\n",
    "actions.drag_and_drop(source, target)  # Drag and drop\n",
    "actions.context_click()              # Right click\n",
    "actions.perform()                    # Execute actions"
   ]
  },
  {
   "cell_type": "markdown",
   "metadata": {},
   "source": [
    "4. Window Management\n",
    "- Manual: Switch tabs, resize window, scroll\n",
    "- Selenium:"
   ]
  },
  {
   "cell_type": "code",
   "execution_count": null,
   "metadata": {},
   "outputs": [],
   "source": [
    "driver.switch_to.window(handle)      # Switch tabs\n",
    "driver.set_window_size(width, height)  # Resize\n",
    "driver.execute_script(\"window.scrollTo(0, document.body.scrollHeight)\")  # Scroll"
   ]
  },
  {
   "cell_type": "markdown",
   "metadata": {},
   "source": [
    "5. Alert Handling\n",
    "- Manual: Interact with popups and alerts\n",
    "- Selenium:"
   ]
  },
  {
   "cell_type": "code",
   "execution_count": null,
   "metadata": {},
   "outputs": [],
   "source": [
    "alert = driver.switch_to.alert\n",
    "alert.accept()              # Click OK\n",
    "alert.dismiss()            # Click Cancel\n",
    "alert.send_keys(\"text\")    # Type in prompt"
   ]
  },
  {
   "cell_type": "markdown",
   "metadata": {},
   "source": [
    "6. Screenshots\n",
    "- Manual: Use screenshot tools\n",
    "- Selenium:"
   ]
  },
  {
   "cell_type": "code",
   "execution_count": null,
   "metadata": {},
   "outputs": [],
   "source": [
    "driver.save_screenshot(\"screenshot.png\")  # Full page\n",
    "element.screenshot(\"element.png\")         # Specific element      "
   ]
  },
  {
   "cell_type": "markdown",
   "metadata": {},
   "source": [
    "7. Cookies/Storage\n",
    "- Manual: View developer tools, manage cookies\n",
    "- Selenium:"
   ]
  },
  {
   "cell_type": "code",
   "execution_count": null,
   "metadata": {},
   "outputs": [],
   "source": [
    "driver.add_cookie({\"name\": \"cookie_name\", \"value\": \"value\"})\n",
    "driver.get_cookies()       # Get all cookies\n",
    "driver.delete_all_cookies()  # Clear cookies"
   ]
  },
  {
   "cell_type": "markdown",
   "metadata": {},
   "source": [
    "8. Network Monitoring\n",
    "- Manual: Use developer tools network tab\n",
    "- Selenium with CDP (Chrome DevTools Protocol):"
   ]
  },
  {
   "cell_type": "code",
   "execution_count": null,
   "metadata": {},
   "outputs": [],
   "source": [
    "driver.execute_cdp_cmd('Network.enable', {})  # Enable network monitoring\n",
    "driver.execute_cdp_cmd('Network.getResponseBody', {'requestId': request_id})  # Get response"
   ]
  },
  {
   "cell_type": "markdown",
   "metadata": {},
   "source": [
    "Essentially, almost anything you can do manually in a browser can be automated with Selenium, making it powerful for:\n",
    "\n",
    "- Web testing\n",
    "- Data scraping\n",
    "- Process automation\n",
    "- Form filling\n",
    "- Browser behavior simulation"
   ]
  }
 ],
 "metadata": {
  "kernelspec": {
   "display_name": "base",
   "language": "python",
   "name": "python3"
  },
  "language_info": {
   "codemirror_mode": {
    "name": "ipython",
    "version": 3
   },
   "file_extension": ".py",
   "mimetype": "text/x-python",
   "name": "python",
   "nbconvert_exporter": "python",
   "pygments_lexer": "ipython3",
   "version": "3.12.7"
  }
 },
 "nbformat": 4,
 "nbformat_minor": 2
}
