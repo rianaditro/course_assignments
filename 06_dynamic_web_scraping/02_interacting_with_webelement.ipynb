{
 "cells": [
  {
   "cell_type": "markdown",
   "metadata": {},
   "source": [
    "### **WebELement in Selenium**\n",
    "In Selenium, an element refers to any individual part of the web page's HTML document that you can interact with. These elements are objects such as buttons, text fields, links, images, or any other HTML tag on the page. Selenium allows you to locate, interact with, and extract data from these elements using various methods."
   ]
  },
  {
   "cell_type": "code",
   "execution_count": 22,
   "metadata": {},
   "outputs": [],
   "source": [
    "# %pip install selenium\n",
    "\n",
    "from selenium import webdriver\n",
    "from selenium.webdriver.common.by import By\n",
    "from selenium.webdriver.chrome.options import Options\n",
    "\n",
    "bookstoscrape_url = \"https://books.toscrape.com/\"\n",
    "\n",
    "options = Options()\n",
    "options.add_argument(\"--start-maximized\")\n",
    "\n",
    "driver = webdriver.Chrome(options=options)\n",
    "driver.get(bookstoscrape_url)\n"
   ]
  },
  {
   "cell_type": "markdown",
   "metadata": {},
   "source": [
    "### Finding Element"
   ]
  },
  {
   "cell_type": "code",
   "execution_count": 5,
   "metadata": {},
   "outputs": [
    {
     "name": "stdout",
     "output_type": "stream",
     "text": [
      "<selenium.webdriver.remote.webelement.WebElement (session=\"b6aca44ce8fab0aba74523b171582e10\", element=\"f.D3589F34D1BC95C15B43D0128FE5331D.d.59ACEAD700177A97F39379590B6324EC.e.33\")> <class 'selenium.webdriver.remote.webelement.WebElement'>\n"
     ]
    }
   ],
   "source": [
    "\"\"\" \n",
    "Objective: Find single element by tag name\n",
    "\"\"\"\n",
    "form = driver.find_element(By.TAG_NAME, \"form\")\n",
    "# TODO: Print the form and the object type\n",
    "print(form, type(form))"
   ]
  },
  {
   "cell_type": "code",
   "execution_count": 7,
   "metadata": {},
   "outputs": [
    {
     "name": "stdout",
     "output_type": "stream",
     "text": [
      "<form method=\"get\" class=\"form-horizontal\">\n",
      "        \n",
      "        <div style=\"display:none\">\n",
      "            \n",
      "            \n",
      "        </div>\n",
      "\n",
      "        \n",
      "            \n",
      "                \n",
      "                    <strong>1000</strong> results - showing <strong>1</strong> to <strong>20</strong>.\n",
      "                \n",
      "            \n",
      "            \n",
      "        \n",
      "    </form>\n",
      "get\n",
      "form-horizontal\n",
      "\n"
     ]
    }
   ],
   "source": [
    "\"\"\" \n",
    "Objective: Explore web element attributes using .get_attribute(name_of_attribute)\n",
    "\"\"\"\n",
    "# TODO: Find element by the form tag\n",
    "# TODO: Print the attribute \"outerHTML\" from the element\n",
    "# TODO: Print the attribute \"method\" from the element\n",
    "# TODO: Print the attribute \"class\" from the element\n",
    "# TODO: Print the attribute \"id\" from the element\n",
    "form = driver.find_element(By.TAG_NAME, \"form\")\n",
    "print(form.get_attribute(\"outerHTML\"))\n",
    "print(form.get_attribute(\"method\"))\n",
    "print(form.get_attribute(\"class\"))\n",
    "print(form.get_attribute(\"id\"))\n",
    "\n"
   ]
  },
  {
   "cell_type": "code",
   "execution_count": 8,
   "metadata": {},
   "outputs": [
    {
     "name": "stdout",
     "output_type": "stream",
     "text": [
      "Page 1 of 50\n"
     ]
    }
   ],
   "source": [
    "\"\"\" \n",
    "Objective: Find single element by class name\n",
    "\"\"\"\n",
    "# TODO: Find element with \"current\" class using By.CLASS_NAME\n",
    "element = driver.find_element(By.CLASS_NAME, \"current\")\n",
    "# TODO: Print the element text using element.text\n",
    "print(element.text)\n",
    "\n",
    "\n"
   ]
  },
  {
   "cell_type": "code",
   "execution_count": 11,
   "metadata": {},
   "outputs": [
    {
     "name": "stdout",
     "output_type": "stream",
     "text": [
      "\n"
     ]
    }
   ],
   "source": [
    "\"\"\" \n",
    "Objective: Find single element by id\n",
    "\"\"\"\n",
    "# TODO: Find element with \"messages\" id using By.ID\n",
    "element = driver.find_element(By.ID, \"messages\")\n",
    "\n",
    "# TODO: Print the element text using element.text\n",
    "print(element.text)\n",
    "\n",
    "\n"
   ]
  },
  {
   "cell_type": "code",
   "execution_count": 27,
   "metadata": {},
   "outputs": [
    {
     "name": "stdout",
     "output_type": "stream",
     "text": [
      "The Nameless City (The ...\n",
      "£38.16\n",
      "In stock\n",
      "Add to basket\n"
     ]
    }
   ],
   "source": [
    "\"\"\" \n",
    "Objective: Find single element by xpath\n",
    "\"\"\"\n",
    "# TODO: Find any element you like, and get the xpath using inspect element tool\n",
    "# TODO: Find element with the xpath using By.XPATH\n",
    "# TODO: Print the element text using element.text\n",
    "\n",
    "elements = driver.find_elements(By.XPATH, '//article[@class=\"product_pod\"]')\n",
    "\n",
    "print(elements[0].text)"
   ]
  },
  {
   "cell_type": "code",
   "execution_count": 32,
   "metadata": {},
   "outputs": [],
   "source": [
    "\"\"\" \n",
    "Objective: Find single element by the text\n",
    "\"\"\"\n",
    "# TODO: There should be element that have 'next' text, find using By.LINK_TEXT\n",
    "# TODO: Click the element to trigger next page using element.click()\n",
    "# TODO: Notice the current page, it should be on the next page already\n",
    "\n",
    "driver.find_element(By.LINK_TEXT, \"next\").click()"
   ]
  },
  {
   "cell_type": "code",
   "execution_count": 33,
   "metadata": {},
   "outputs": [],
   "source": [
    "\"\"\" \n",
    "Objective: Find single element by the partial text\n",
    "\"\"\"\n",
    "# TODO: There should be element for the previous page but we are not sure whether its 'previous' or 'Previous', find the element using By.PARTIAL_LINK_TEXT with 'vious' keyword\n",
    "# TODO: Click the element to trigger previous page using element.click()\n",
    "# TODO: Notice the current page, it should be on the previous page already\n",
    "driver.find_element(By.PARTIAL_LINK_TEXT, \"vious\").click()"
   ]
  },
  {
   "cell_type": "code",
   "execution_count": 34,
   "metadata": {},
   "outputs": [
    {
     "name": "stdout",
     "output_type": "stream",
     "text": [
      "A Light in the ...\n",
      "£51.77\n",
      "In stock\n",
      "Add to basket\n"
     ]
    }
   ],
   "source": [
    "\"\"\" \n",
    "Objective: Find single element by xpath\n",
    "\"\"\"\n",
    "# TODO: Find any element you like, and get the xpath using inspect element tool\n",
    "# TODO: Find element with the xpath using By.XPATH\n",
    "# TODO: Print the element text using element.text\n",
    "\n",
    "elements = driver.find_element(By.XPATH, '//article[@class=\"product_pod\"]')\n",
    "print(elements.text)\n"
   ]
  },
  {
   "cell_type": "code",
   "execution_count": 35,
   "metadata": {},
   "outputs": [
    {
     "name": "stdout",
     "output_type": "stream",
     "text": [
      "Warning! This is a demo website for web scraping purposes. Prices and ratings here were randomly assigned and have no real meaning.\n"
     ]
    }
   ],
   "source": [
    "\"\"\" \n",
    "Objective: Find single element by css selector\n",
    "\"\"\"\n",
    "# TODO: There should be an element with tag div and \"alert alert-warning\" class\n",
    "# TODO: Find element with the css selector using By.CSS_SELECTOR\n",
    "# TODO: Print the element text using element.text\n",
    "\n",
    "elements = driver.find_element(By.CSS_SELECTOR, \"div.alert.alert-warning\")\n",
    "print(elements.text)"
   ]
  },
  {
   "cell_type": "code",
   "execution_count": 38,
   "metadata": {},
   "outputs": [
    {
     "name": "stdout",
     "output_type": "stream",
     "text": [
      "Home All products\n",
      "Books\n",
      "Travel\n",
      "Mystery\n",
      "Historical Fiction\n",
      "Sequential Art\n",
      "Classics\n",
      "Philosophy\n",
      "Romance\n",
      "Womens Fiction\n",
      "Fiction\n",
      "Childrens\n",
      "Religion\n",
      "Nonfiction\n",
      "Music\n",
      "Default\n",
      "Science Fiction\n",
      "Sports and Games\n",
      "Add a comment\n",
      "Fantasy\n",
      "New Adult\n",
      "Young Adult\n",
      "Science\n",
      "Poetry\n",
      "Paranormal\n",
      "Art\n",
      "Psychology\n",
      "Autobiography\n",
      "Parenting\n",
      "Adult Fiction\n",
      "Humor\n",
      "Horror\n",
      "History\n",
      "Food and Drink\n",
      "Christian Fiction\n",
      "Business\n",
      "Biography\n",
      "Thriller\n",
      "Contemporary\n",
      "Spirituality\n",
      "Academic\n",
      "Self Help\n",
      "Historical\n",
      "Christian\n",
      "Suspense\n",
      "Short Stories\n",
      "Novels\n",
      "Health\n",
      "Politics\n",
      "Cultural\n",
      "Erotica\n",
      "Crime\n",
      "All products\n",
      "1000 results - showing 1 to 20.\n",
      "Warning! This is a demo website for web scraping purposes. Prices and ratings here were randomly assigned and have no real meaning.\n",
      "A Light in the ...\n",
      "£51.77\n",
      "In stock\n",
      "Add to basket\n",
      "Tipping the Velvet\n",
      "£53.74\n",
      "In stock\n",
      "Add to basket\n",
      "Soumission\n",
      "£50.10\n",
      "In stock\n",
      "Add to basket\n",
      "Sharp Objects\n",
      "£47.82\n",
      "In stock\n",
      "Add to basket\n",
      "Sapiens: A Brief History ...\n",
      "£54.23\n",
      "In stock\n",
      "Add to basket\n",
      "The Requiem Red\n",
      "£22.65\n",
      "In stock\n",
      "Add to basket\n",
      "The Dirty Little Secrets ...\n",
      "£33.34\n",
      "In stock\n",
      "Add to basket\n",
      "The Coming Woman: A ...\n",
      "£17.93\n",
      "In stock\n",
      "Add to basket\n",
      "The Boys in the ...\n",
      "£22.60\n",
      "In stock\n",
      "Add to basket\n",
      "The Black Maria\n",
      "£52.15\n",
      "In stock\n",
      "Add to basket\n",
      "Starving Hearts (Triangular Trade ...\n",
      "£13.99\n",
      "In stock\n",
      "Add to basket\n",
      "Shakespeare's Sonnets\n",
      "£20.66\n",
      "In stock\n",
      "Add to basket\n",
      "Set Me Free\n",
      "£17.46\n",
      "In stock\n",
      "Add to basket\n",
      "Scott Pilgrim's Precious Little ...\n",
      "£52.29\n",
      "In stock\n",
      "Add to basket\n",
      "Rip it Up and ...\n",
      "£35.02\n",
      "In stock\n",
      "Add to basket\n",
      "Our Band Could Be ...\n",
      "£57.25\n",
      "In stock\n",
      "Add to basket\n",
      "Olio\n",
      "£23.88\n",
      "In stock\n",
      "Add to basket\n",
      "Mesaerion: The Best Science ...\n",
      "£37.59\n",
      "In stock\n",
      "Add to basket\n",
      "Libertarianism for Beginners\n",
      "£51.33\n",
      "In stock\n",
      "Add to basket\n",
      "It's Only the Himalayas\n",
      "£45.17\n",
      "In stock\n",
      "Add to basket\n",
      "Page 1 of 50\n",
      "next\n"
     ]
    }
   ],
   "source": [
    "\"\"\" \n",
    "Objective: Find single element inside other element\n",
    "\"\"\"\n",
    "# TODO: There should be some elements with \"page_inner\" class, we want to get element which inside \"container-fluid page\" class element\n",
    "# TODO: Find element with \"container-fluid page\" class from the driver\n",
    "# TODO: Find element with \"page_inner\" class from the previous element\n",
    "# TODO: Print the element text using element.text\n",
    "\n",
    "container_fluid_element = driver.find_element(By.CLASS_NAME, \"container-fluid.page\")\n",
    "page_inner_element = container_fluid_element.find_element(By.CLASS_NAME, \"page_inner\")\n",
    "print(page_inner_element.text)"
   ]
  },
  {
   "cell_type": "code",
   "execution_count": null,
   "metadata": {},
   "outputs": [
    {
     "name": "stdout",
     "output_type": "stream",
     "text": [
      "A Light in the ...\n",
      "Tipping the Velvet\n",
      "Soumission\n",
      "Sharp Objects\n",
      "Sapiens: A Brief History ...\n",
      "The Requiem Red\n",
      "The Dirty Little Secrets ...\n",
      "The Coming Woman: A ...\n",
      "The Boys in the ...\n",
      "The Black Maria\n",
      "Starving Hearts (Triangular Trade ...\n",
      "Shakespeare's Sonnets\n",
      "Set Me Free\n",
      "Scott Pilgrim's Precious Little ...\n",
      "Rip it Up and ...\n",
      "Our Band Could Be ...\n",
      "Olio\n",
      "Mesaerion: The Best Science ...\n",
      "Libertarianism for Beginners\n",
      "It's Only the Himalayas\n"
     ]
    }
   ],
   "source": [
    "\"\"\" \n",
    "Objective: Find all elements\n",
    "\"\"\"\n",
    "# TODO: Find all elements with h3 tag\n",
    "# TODO: Use looping to print the text of all the elements\n",
    "\n",
    "h3_element = driver.find_elements(By.TAG_NAME, \"h3\")\n",
    "for element in h3_element:\n",
    "    print(element.text)"
   ]
  },
  {
   "cell_type": "code",
   "execution_count": 39,
   "metadata": {},
   "outputs": [],
   "source": [
    "# driver.close()\n",
    "driver.quit()"
   ]
  },
  {
   "cell_type": "markdown",
   "metadata": {},
   "source": [
    "### Interacting with Web Element"
   ]
  },
  {
   "cell_type": "code",
   "execution_count": 41,
   "metadata": {},
   "outputs": [],
   "source": [
    "\"\"\" \n",
    "Objective: Practice selenium setup from scratch\n",
    "\"\"\"\n",
    "# TODO: Start by importing necessary modules: webdriver, options and by\n",
    "# TODO: Create options object with --start-maximized argument\n",
    "# TODO: Create the browser instance\n",
    "# TODO: Open the https://demoqa.com/text-box using get\n",
    "\n",
    "from selenium import webdriver\n",
    "from selenium.webdriver.common.by import By\n",
    "from selenium.webdriver.chrome.options import Options\n",
    "\n",
    "options = Options()\n",
    "options.add_argument(\"--start-maximized\")\n",
    "\n",
    "demoqa_url = \"https://demoqa.com/text-box\"\n",
    "\n",
    "driver = webdriver.Chrome(options=options)\n",
    "driver.get(demoqa_url)\n",
    "\n"
   ]
  },
  {
   "cell_type": "code",
   "execution_count": 49,
   "metadata": {},
   "outputs": [],
   "source": [
    "\"\"\" \n",
    "Objective: Find single element by css selector\n",
    "\"\"\"\n",
    "# TODO: Find element to input in the Full Name field\n",
    "# TODO: Input your name by using element.send_keys(\"your name\")\n",
    "# TODO: Check your browser, is the input success?\n",
    "# TODO: Re-run this cell again, analyze what is happened and write it down here\n",
    "\n",
    "element = driver.find_element(By.ID, \"userName\")\n",
    "element.clear()\n",
    "# element.send_keys(\"KHILMI AMINUDIN\")\n"
   ]
  },
  {
   "cell_type": "code",
   "execution_count": 51,
   "metadata": {},
   "outputs": [
    {
     "name": "stdout",
     "output_type": "stream",
     "text": [
      "Current value: another name\n"
     ]
    }
   ],
   "source": [
    "\"\"\" \n",
    "Objective: Clear input before input\n",
    "\"\"\"\n",
    "# TODO: Find element to input in the Full Name field\n",
    "# TODO: Get the value of the current element by using element.get_attribute(\"value\") then print it\n",
    "# TODO: Clear the input for new input using element.clear()\n",
    "# TODO: Input another name using element.send_keys(\"another name\")\n",
    "# TODO: Get the value and print it, is the value changed?\n",
    "element = driver.find_element(By.ID, \"userName\")\n",
    "element.send_keys(\"KHILMI AMINUDIN\")\n",
    "value = element.get_attribute(\"value\")\n",
    "element.clear()\n",
    "element.send_keys(\"another name\")\n",
    "value = element.get_attribute(\"value\")\n",
    "print(\"Current value:\", value)"
   ]
  },
  {
   "cell_type": "code",
   "execution_count": 68,
   "metadata": {},
   "outputs": [
    {
     "name": "stdout",
     "output_type": "stream",
     "text": [
      "4\n"
     ]
    }
   ],
   "source": [
    "\"\"\" \n",
    "Objective: Click submit after form submition\n",
    "\"\"\"\n",
    "# TODO: Find all input field and fill using any data you like, use the correct example provided in the placeholder\n",
    "# TODO: Find element to submit and click it\n",
    "# %pip install faker\n",
    "\n",
    "from faker import Faker\n",
    "\n",
    "fake = Faker()\n",
    "\n",
    "input_ids = ['userName', 'userEmail', 'currentAddress', 'permanentAddress']\n",
    "values_list = [fake.name(), fake.email(), fake.address(), fake.address()]\n",
    "\n",
    "elements = [driver.find_elements(By.ID, elment_id) for elment_id in input_ids]\n",
    "\n",
    "print(len(elements))\n",
    "\n",
    "for i, elements_list in enumerate(elements):\n",
    "    for element in elements_list:\n",
    "        element.clear()\n",
    "        element.send_keys(values_list[i])"
   ]
  },
  {
   "cell_type": "code",
   "execution_count": 76,
   "metadata": {},
   "outputs": [
    {
     "name": "stdout",
     "output_type": "stream",
     "text": [
      "Download button clicked!\n"
     ]
    }
   ],
   "source": [
    "\"\"\" \n",
    "Objective: Download file using selenium\n",
    "\"\"\"\n",
    "prefs = {\"profile.default_content_settings.popups\": 0,    \n",
    "        \"download.default_directory\": \"/home/takimi/Downloads/selenium\", # TODO: Change \"Your download folder\" to prefered location\n",
    "        \"download.prompt_for_download\": False, \n",
    "        \"download.directory_upgrade\": True}\n",
    "\n",
    "# TODO: Start by importing necessary modules: webdriver, options and by\n",
    "# TODO: Create options object with --start-maximized argument\n",
    "# TODO: Add options for custom download folder. Use options.add_experimental_option(\"prefs\", prefs)\n",
    "# TODO: Make sure download folder exist\n",
    "# TODO: Create the browser instance\n",
    "# TODO: Open the https://demoqa.com/upload-download using get\n",
    "# TODO: Find download button then click it\n",
    "# TODO: Validate the downloaded file location\n",
    "\n",
    "from selenium import webdriver\n",
    "from selenium.webdriver.common.by import By\n",
    "from selenium.webdriver.chrome.options import Options\n",
    "\n",
    "options = Options()\n",
    "options.add_argument(\"--start-maximized\")\n",
    "options.add_experimental_option(\"prefs\", prefs)\n",
    "\n",
    "\n",
    "demoqa_url = \"https://demoqa.com/upload-download\"\n",
    "driver = webdriver.Chrome(options=options)\n",
    "driver.get(demoqa_url)\n",
    "\n",
    "# element = driver.find_element(By.XPATH, \"//div[a[@id='downloadButton']]\")\n",
    "element = driver.find_element(By.ID, \"downloadButton\")\n",
    "if element.is_displayed():\n",
    "        element.click()\n",
    "        print(\"Download button clicked!\")\n",
    "else:\n",
    "        print(\"Elemen tidak terlihat di layar!\")\n",
    "\n",
    "\n"
   ]
  },
  {
   "cell_type": "markdown",
   "metadata": {},
   "source": [
    "### **Reflection**\n",
    "What are the most reliable selectors for finding elements in Selenium? Explain your reasoning.\n",
    "\n",
    "depending on the condition but if the tag has an ID i prefer use find element by ID because on many case ID is unique and the method find_element with id is more specific"
   ]
  },
  {
   "cell_type": "markdown",
   "metadata": {},
   "source": [
    "### **Exploration**\n",
    "What if the element we want to interact with takes some time to appear?"
   ]
  },
  {
   "cell_type": "markdown",
   "metadata": {},
   "source": [
    "### "
   ]
  }
 ],
 "metadata": {
  "kernelspec": {
   "display_name": "venv",
   "language": "python",
   "name": "python3"
  },
  "language_info": {
   "codemirror_mode": {
    "name": "ipython",
    "version": 3
   },
   "file_extension": ".py",
   "mimetype": "text/x-python",
   "name": "python",
   "nbconvert_exporter": "python",
   "pygments_lexer": "ipython3",
   "version": "3.12.3"
  }
 },
 "nbformat": 4,
 "nbformat_minor": 2
}
