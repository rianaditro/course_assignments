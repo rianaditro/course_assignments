{
 "cells": [
  {
   "cell_type": "markdown",
   "metadata": {},
   "source": [
    "### **WebELement in Selenium**\n",
    "In Selenium, an element refers to any individual part of the web page's HTML document that you can interact with. These elements are objects such as buttons, text fields, links, images, or any other HTML tag on the page. Selenium allows you to locate, interact with, and extract data from these elements using various methods."
   ]
  },
  {
   "cell_type": "code",
   "execution_count": 1,
   "metadata": {},
   "outputs": [],
   "source": [
    "from selenium import webdriver\n",
    "from selenium.webdriver.common.by import By\n",
    "from selenium.webdriver.chrome.options import Options\n",
    "\n",
    "bookstoscrape_url = \"https://books.toscrape.com/\"\n",
    "\n",
    "options = Options()\n",
    "options.add_argument(\"--start-maximized\")\n",
    "\n",
    "driver = webdriver.Chrome(options=options)\n",
    "driver.get(bookstoscrape_url)"
   ]
  },
  {
   "cell_type": "markdown",
   "metadata": {},
   "source": [
    "### Finding Element"
   ]
  },
  {
   "cell_type": "code",
   "execution_count": 3,
   "metadata": {},
   "outputs": [
    {
     "name": "stdout",
     "output_type": "stream",
     "text": [
      "<selenium.webdriver.remote.webelement.WebElement (session=\"34a5734395087b6e8cf820e2b97ad0a5\", element=\"f.E40F4231D225821F251F602DF4233AA7.d.2CA2B875FF3EFAC39E2BD7EA10BDEEBA.e.31\")>\n",
      "<class 'selenium.webdriver.remote.webelement.WebElement'>\n"
     ]
    }
   ],
   "source": [
    "\"\"\" \n",
    "Objective: Find single element by tag name\n",
    "\"\"\"\n",
    "form = driver.find_element(By.TAG_NAME, \"form\")\n",
    "# TODO: Print the form and the object type\n",
    "print(form)\n",
    "print(type(form))"
   ]
  },
  {
   "cell_type": "code",
   "execution_count": 5,
   "metadata": {},
   "outputs": [
    {
     "name": "stdout",
     "output_type": "stream",
     "text": [
      "<form method=\"get\" class=\"form-horizontal\">\n",
      "        \n",
      "        <div style=\"display:none\">\n",
      "            \n",
      "            \n",
      "        </div>\n",
      "\n",
      "        \n",
      "            \n",
      "                \n",
      "                    <strong>1000</strong> results - showing <strong>1</strong> to <strong>20</strong>.\n",
      "                \n",
      "            \n",
      "            \n",
      "        \n",
      "    </form>\n",
      "get\n",
      "form-horizontal\n",
      "\n"
     ]
    }
   ],
   "source": [
    "\"\"\" \n",
    "Objective: Explore web element attributes using .get_attribute(name_of_attribute)\n",
    "\"\"\"\n",
    "# TODO: Find element by the form tag\n",
    "form = driver.find_element(By.TAG_NAME, \"form\")\n",
    "\n",
    "# TODO: Print the attribute \"outerHTML\" from the element\n",
    "outerHTML = form.get_attribute(\"outerHTML\")\n",
    "print(outerHTML)\n",
    "\n",
    "# TODO: Print the attribute \"method\" from the element\n",
    "method = form.get_attribute(\"method\")\n",
    "print(method)\n",
    "# TODO: Print the attribute \"class\" from the element\n",
    "classForm = form.get_attribute(\"class\")\n",
    "print(classForm)\n",
    "# TODO: Print the attribute \"id\" from the element\n",
    "idForm = form.get_attribute(\"id\")\n",
    "print(idForm)"
   ]
  },
  {
   "cell_type": "code",
   "execution_count": 6,
   "metadata": {},
   "outputs": [
    {
     "name": "stdout",
     "output_type": "stream",
     "text": [
      "Page 1 of 50\n"
     ]
    }
   ],
   "source": [
    "\"\"\" \n",
    "Objective: Find single element by class name\n",
    "\"\"\"\n",
    "# TODO: Find element with \"current\" class using By.CLASS_NAME\n",
    "currentClass = driver.find_element(By.CLASS_NAME, \"current\")\n",
    "# TODO: Print the element text using element.text\n",
    "print(currentClass.text)"
   ]
  },
  {
   "cell_type": "code",
   "execution_count": 7,
   "metadata": {},
   "outputs": [
    {
     "name": "stdout",
     "output_type": "stream",
     "text": [
      "\n"
     ]
    }
   ],
   "source": [
    "\"\"\" \n",
    "Objective: Find single element by id\n",
    "\"\"\"\n",
    "# TODO: Find element with \"messages\" id using By.ID\n",
    "messagesID = driver.find_element(By.ID, \"messages\")\n",
    "# TODO: Print the element text using element.text\n",
    "print(messagesID.text)"
   ]
  },
  {
   "cell_type": "code",
   "execution_count": 12,
   "metadata": {},
   "outputs": [
    {
     "name": "stdout",
     "output_type": "stream",
     "text": [
      "https://books.toscrape.com/media/cache/2c/da/2cdad67c44b002e7ead0cc35693c0e8b.jpg\n",
      "A Light in the Attic\n"
     ]
    }
   ],
   "source": [
    "\"\"\" \n",
    "Objective: Find single element by xpath\n",
    "\"\"\"\n",
    "# TODO: Find any element you like, and get the xpath using inspect element tool\n",
    "\n",
    "imgUrl = driver.find_element(By.XPATH, '//*[@id=\"default\"]/div/div/div/div/section/div[2]/ol/li[1]/article/div[1]/a/img')\n",
    "\n",
    "# TODO: Find element with the xpath using By.XPATH\n",
    "# TODO: Print the element text using element.text\n",
    "print(imgUrl.get_attribute(\"src\"))\n",
    "print(imgUrl.get_attribute(\"alt\"))\n"
   ]
  },
  {
   "cell_type": "code",
   "execution_count": 14,
   "metadata": {},
   "outputs": [],
   "source": [
    "\"\"\" \n",
    "Objective: Find single element by the text\n",
    "\"\"\"\n",
    "# TODO: There should be element that have 'next' text, find using By.LINK_TEXT\n",
    "nextLink = driver.find_element(By.LINK_TEXT, \"next\")\n",
    "\n",
    "# TODO: Click the element to trigger next page using element.click()\n",
    "nextLink.click()\n",
    "# TODO: Notice the current page, it should be on the next page already"
   ]
  },
  {
   "cell_type": "code",
   "execution_count": 2,
   "metadata": {},
   "outputs": [],
   "source": [
    "\"\"\" \n",
    "Objective: Find single element by the partial text\n",
    "\"\"\"\n",
    "# TODO: There should be element for the previous page but we are not sure whether its 'previous' or 'Previous', find the element using By.PARTIAL_LINK_TEXT with 'vious' keyword\n",
    "previosLink = driver.find_element(By.PARTIAL_LINK_TEXT, \"vious\")\n",
    "# TODO: Click the element to trigger previous page using element.click()\n",
    "previosLink.click()\n",
    "# TODO: Notice the current page, it should be on the previous page already"
   ]
  },
  {
   "cell_type": "code",
   "execution_count": 4,
   "metadata": {},
   "outputs": [
    {
     "name": "stdout",
     "output_type": "stream",
     "text": [
      "A Light in the ...\n"
     ]
    }
   ],
   "source": [
    "\"\"\" \n",
    "Objective: Find single element by xpath\n",
    "\"\"\"\n",
    "# TODO: Find any element you like, and get the xpath using inspect element tool\n",
    "title = driver.find_element(By.XPATH, '//article/h3/a')\n",
    "# TODO: Find element with the xpath using By.XPATH\n",
    "# TODO: Print the element text using element.text\n",
    "print(title.text)\n"
   ]
  },
  {
   "cell_type": "code",
   "execution_count": 5,
   "metadata": {},
   "outputs": [
    {
     "name": "stdout",
     "output_type": "stream",
     "text": [
      "Warning! This is a demo website for web scraping purposes. Prices and ratings here were randomly assigned and have no real meaning.\n"
     ]
    }
   ],
   "source": [
    "\"\"\" \n",
    "Objective: Find single element by css selector\n",
    "\"\"\"\n",
    "# TODO: There should be an element with tag div and \"alert alert-warning\" class\n",
    "alert = driver.find_element(By.CSS_SELECTOR, \"div.alert.alert-warning\")\n",
    "# TODO: Find element with the css selector using By.CSS_SELECTOR\n",
    "# TODO: Print the element text using element.text\n",
    "print(alert.text)"
   ]
  },
  {
   "cell_type": "code",
   "execution_count": 6,
   "metadata": {},
   "outputs": [
    {
     "name": "stdout",
     "output_type": "stream",
     "text": [
      "Books to Scrape We love being scraped!\n"
     ]
    }
   ],
   "source": [
    "\"\"\" \n",
    "Objective: Find single element inside other element\n",
    "\"\"\"\n",
    "# TODO: There should be some elements with \"page_inner\" class, we want to get element which inside \"container-fluid page\" class element\n",
    "# TODO: Find element with \"container-fluid page\" class from the driver\n",
    "\n",
    "# TODO: Find element with \"page_inner\" class from the previous element\n",
    "pageInner =driver.find_element(By.CSS_SELECTOR, \".page_inner\")\n",
    "# TODO: Print the element text using element.text\n",
    "print(pageInner.text)"
   ]
  },
  {
   "cell_type": "code",
   "execution_count": 7,
   "metadata": {},
   "outputs": [
    {
     "name": "stdout",
     "output_type": "stream",
     "text": [
      "A Light in the ...\n",
      "Tipping the Velvet\n",
      "Soumission\n",
      "Sharp Objects\n",
      "Sapiens: A Brief History ...\n",
      "The Requiem Red\n",
      "The Dirty Little Secrets ...\n",
      "The Coming Woman: A ...\n",
      "The Boys in the ...\n",
      "The Black Maria\n",
      "Starving Hearts (Triangular Trade ...\n",
      "Shakespeare's Sonnets\n",
      "Set Me Free\n",
      "Scott Pilgrim's Precious Little ...\n",
      "Rip it Up and ...\n",
      "Our Band Could Be ...\n",
      "Olio\n",
      "Mesaerion: The Best Science ...\n",
      "Libertarianism for Beginners\n",
      "It's Only the Himalayas\n"
     ]
    }
   ],
   "source": [
    "\"\"\" \n",
    "Objective: Find all elements\n",
    "\"\"\"\n",
    "# TODO: Find all elements with h3 tag\n",
    "# TODO: Use looping to print the text of all the elements\n",
    "\n",
    "h3 = driver.find_elements(By.TAG_NAME, \"h3\")\n",
    "for i in h3:\n",
    "    print(i.text)"
   ]
  },
  {
   "cell_type": "code",
   "execution_count": 8,
   "metadata": {},
   "outputs": [],
   "source": [
    "# driver.close()\n",
    "driver.quit()"
   ]
  },
  {
   "cell_type": "markdown",
   "metadata": {},
   "source": [
    "### Interacting with Web Element"
   ]
  },
  {
   "cell_type": "code",
   "execution_count": 9,
   "metadata": {},
   "outputs": [],
   "source": [
    "\"\"\" \n",
    "Objective: Practice selenium setup from scratch\n",
    "\"\"\"\n",
    "# TODO: Start by importing necessary modules: webdriver, options and by\n",
    "# TODO: Create options object with --start-maximized argument\n",
    "# TODO: Create the browser instance\n",
    "# TODO: Open the https://demoqa.com/text-box using get\n",
    "from selenium import webdriver\n",
    "from selenium.webdriver.chrome.options import Options\n",
    "from selenium.webdriver.common.by import By\n",
    "\n",
    "# Create options object with --start-maximized argument\n",
    "options = Options()\n",
    "options.add_argument(\"--start-maximized\")\n",
    "\n",
    "# Create the browser instance\n",
    "driver = webdriver.Chrome(options=options)\n",
    "\n",
    "# Open the https://demoqa.com/text-box using get\n",
    "driver.get(\"https://demoqa.com/text-box\")"
   ]
  },
  {
   "cell_type": "code",
   "execution_count": 11,
   "metadata": {},
   "outputs": [],
   "source": [
    "\"\"\" \n",
    "Objective: Find single element by css selector\n",
    "\"\"\"\n",
    "# TODO: Find element to input in the Full Name field\n",
    "# TODO: Input your name by using element.send_keys(\"your name\")\n",
    "# TODO: Check your browser, is the input success?\n",
    "# TODO: Re-run this cell again, analyze what is happened and write it down here\n",
    "\n",
    "fullname = driver.find_element(By.CSS_SELECTOR, \"#userName\")\n",
    "fullname.send_keys(\"Rizky\")\n",
    "#name become duplate"
   ]
  },
  {
   "cell_type": "code",
   "execution_count": 12,
   "metadata": {},
   "outputs": [
    {
     "name": "stdout",
     "output_type": "stream",
     "text": [
      "RizkyRizky\n",
      "Ahmad\n"
     ]
    }
   ],
   "source": [
    "\"\"\" \n",
    "Objective: Clear input before input\n",
    "\"\"\"\n",
    "# TODO: Find element to input in the Full Name field\n",
    "# TODO: Get the value of the current element by using element.get_attribute(\"value\") then print it\n",
    "# TODO: Clear the input for new input using element.clear()\n",
    "# TODO: Input another name using element.send_keys(\"another name\")\n",
    "# TODO: Get the value and print it, is the value changed?\n",
    "\n",
    "fullname = driver.find_element(By.CSS_SELECTOR, \"#userName\")\n",
    "print(fullname.get_attribute(\"value\"))\n",
    "fullname.clear()\n",
    "fullname.send_keys(\"Ahmad\")\n",
    "print(fullname.get_attribute(\"value\"))"
   ]
  },
  {
   "cell_type": "code",
   "execution_count": 13,
   "metadata": {},
   "outputs": [],
   "source": [
    "\"\"\" \n",
    "Objective: Click submit after form submition\n",
    "\"\"\"\n",
    "# TODO: Find all input field and fill using any data you like, use the correct example provided in the placeholder\n",
    "# TODO: Find element to submit and click it\n",
    "\n",
    "fullname = driver.find_element(By.CSS_SELECTOR, \"#userName\")\n",
    "fullname.send_keys(\"Rizky\")\n",
    "\n",
    "email = driver.find_element(By.CSS_SELECTOR, \"#userEmail\")  \n",
    "email.send_keys(\"u0Vb0@example.com\")\n",
    "\n",
    "currentAddress = driver.find_element(By.CSS_SELECTOR, \"#currentAddress\")    \n",
    "currentAddress.send_keys(\"Indonesia\")\n",
    "\n",
    "# TODO: Find element to submit and click it\n",
    "submit = driver.find_element(By.CSS_SELECTOR, \"#submit\")\n",
    "submit.click()"
   ]
  },
  {
   "cell_type": "code",
   "execution_count": 16,
   "metadata": {},
   "outputs": [
    {
     "name": "stdout",
     "output_type": "stream",
     "text": [
      "File not downloaded\n"
     ]
    }
   ],
   "source": [
    "\"\"\" \n",
    "Objective: Download file using selenium\n",
    "\"\"\"\n",
    "prefs = {\"profile.default_content_settings.popups\": 0,    \n",
    "        \"download.default_directory\": \"Your download folder\", # TODO: Change \"Your download folder\" to prefered location\n",
    "        \"download.prompt_for_download\": False, \n",
    "        \"download.directory_upgrade\": True}\n",
    "\n",
    "# TODO: Start by importing necessary modules: webdriver, options and by\n",
    "# TODO: Create options object with --start-maximized argument\n",
    "# TODO: Add options for custom download folder. Use options.add_experimental_option(\"prefs\", prefs)\n",
    "# TODO: Make sure download folder exist\n",
    "# TODO: Create the browser instance\n",
    "# TODO: Open the https://demoqa.com/upload-download using get\n",
    "# TODO: Find download button then click it\n",
    "# TODO: Validate the downloaded file location\n",
    "\n",
    "from selenium import webdriver\n",
    "from selenium.webdriver.chrome.options import Options\n",
    "from selenium.webdriver.common.by import By\n",
    "import os\n",
    "\n",
    "# Set download folder path\n",
    "download_folder = \"/download\"\n",
    "\n",
    "# Create options object with --start-maximized argument\n",
    "options = Options()\n",
    "options.add_argument(\"--start-maximized\")\n",
    "\n",
    "# Add options for custom download folder\n",
    "prefs = {\n",
    "    \"profile.default_content_settings.popups\": 0,\n",
    "    \"download.default_directory\": download_folder,\n",
    "    \"download.prompt_for_download\": False,\n",
    "    \"download.directory_upgrade\": True\n",
    "}\n",
    "options.add_experimental_option(\"prefs\", prefs)\n",
    "\n",
    "# Make sure download folder exists\n",
    "if not os.path.exists(download_folder):\n",
    "    os.makedirs(download_folder)\n",
    "\n",
    "# Create the browser instance\n",
    "driver = webdriver.Chrome(options=options)\n",
    "\n",
    "# Open the https://demoqa.com/upload-download using get\n",
    "driver.get(\"https://demoqa.com/upload-download\")\n",
    "\n",
    "# Find download button then click it\n",
    "download_button = driver.find_element(By.ID, \"downloadButton\")\n",
    "download_button.click()\n",
    "\n",
    "# Validate the downloaded file location\n",
    "import glob\n",
    "downloaded_file = glob.glob(download_folder + \"/*.txt\")  # assuming the file is a .txt file\n",
    "if downloaded_file:\n",
    "    print(\"File downloaded successfully to:\", downloaded_file[0])\n",
    "else:\n",
    "    print(\"File not downloaded\")"
   ]
  },
  {
   "cell_type": "markdown",
   "metadata": {},
   "source": [
    "### **Reflection**\n",
    "What are the most reliable selectors for finding elements in Selenium? Explain your reasoning.\n",
    "\n",
    "(answer here)"
   ]
  },
  {
   "cell_type": "markdown",
   "metadata": {},
   "source": [
    "### **Exploration**\n",
    "What if the element we want to interact with takes some time to appear?"
   ]
  },
  {
   "cell_type": "markdown",
   "metadata": {},
   "source": [
    "### "
   ]
  }
 ],
 "metadata": {
  "kernelspec": {
   "display_name": ".venv",
   "language": "python",
   "name": "python3"
  },
  "language_info": {
   "codemirror_mode": {
    "name": "ipython",
    "version": 3
   },
   "file_extension": ".py",
   "mimetype": "text/x-python",
   "name": "python",
   "nbconvert_exporter": "python",
   "pygments_lexer": "ipython3",
   "version": "3.12.0"
  }
 },
 "nbformat": 4,
 "nbformat_minor": 2
}
