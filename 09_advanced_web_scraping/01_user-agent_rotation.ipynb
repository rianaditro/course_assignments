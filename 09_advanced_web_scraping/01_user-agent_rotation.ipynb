{
 "cells": [
  {
   "cell_type": "markdown",
   "metadata": {},
   "source": [
    "## **What is a User-Agent?**\n",
    "\n",
    "The User-Agent (UA) is a string sent by a client (like a web browser or a bot) to identify itself to the server. It tells the server about the client’s operating system, browser, and device. For example, when you access a website via a browser like Chrome or Firefox, the browser sends a User-Agent string with each request to the website."
   ]
  },
  {
   "cell_type": "code",
   "execution_count": 2,
   "metadata": {},
   "outputs": [],
   "source": [
    "import requests\n",
    "import httpx"
   ]
  },
  {
   "cell_type": "code",
   "execution_count": 3,
   "metadata": {},
   "outputs": [
    {
     "name": "stdout",
     "output_type": "stream",
     "text": [
      "request {'Date': 'Sat, 15 Feb 2025 12:02:46 GMT', 'Content-Type': 'application/json', 'Content-Length': '308', 'Connection': 'keep-alive', 'Server': 'gunicorn/19.9.0', 'Access-Control-Allow-Origin': '*', 'Access-Control-Allow-Credentials': 'true'}\n",
      "httpx Headers({'date': 'Sat, 15 Feb 2025 12:02:49 GMT', 'content-type': 'application/json', 'content-length': '305', 'connection': 'keep-alive', 'server': 'gunicorn/19.9.0', 'access-control-allow-origin': '*', 'access-control-allow-credentials': 'true'})\n"
     ]
    }
   ],
   "source": [
    "\"\"\"\n",
    "Objective: Understanding Request Headers\n",
    "\"\"\"\n",
    "# TODO: Send request to https://httpbin.org/get using requests and httpx\n",
    "# TODO: Get the request headers from both responses\n",
    "# TODO: Compare the request headers and understand the difference\n",
    "\n",
    "req = requests.get('https://httpbin.org/get')\n",
    "r = httpx.get('https://httpbin.org/get')\n",
    "\n",
    "print(\"request\", req.headers)\n",
    "print(\"httpx\", r.headers)"
   ]
  },
  {
   "cell_type": "code",
   "execution_count": 4,
   "metadata": {},
   "outputs": [
    {
     "name": "stdout",
     "output_type": "stream",
     "text": [
      "{'User-Agent': 'Mozilla/5.0 (Windows NT 10.0; Win64; x64) AppleWebKit/537.36 (KHTML, like Gecko) Chrome/91.0.4472.124 Safari/537.36', 'Accept-Encoding': 'gzip, deflate, br', 'Accept': '*/*', 'Connection': 'keep-alive'}\n",
      "Original Headers:\n",
      "{'Date': 'Sat, 15 Feb 2025 12:14:15 GMT', 'Content-Type': 'application/json', 'Content-Length': '405', 'Connection': 'keep-alive', 'Server': 'gunicorn/19.9.0', 'Access-Control-Allow-Origin': '*', 'Access-Control-Allow-Credentials': 'true'}\n",
      "\n",
      "Modified Headers:\n",
      "{'User-Agent': 'Mozilla/5.0 (Windows NT 10.0; Win64; x64) AppleWebKit/537.36 (KHTML, like Gecko) Chrome/91.0.4472.124 Safari/537.36', 'Accept-Encoding': 'gzip, deflate, br', 'Accept': '*/*', 'Connection': 'keep-alive'}\n"
     ]
    }
   ],
   "source": [
    "\"\"\"\n",
    "Objective: Modify request headers\n",
    "\"\"\"\n",
    "# TODO: Send request to https://httpbin.org/get using requests\n",
    "# TODO: Get the request headers from the response\n",
    "\n",
    "r = requests.get('https://httpbin.org/get')\n",
    "\n",
    "headers = {\n",
    "    'User-Agent': 'Mozilla/5.0 (Windows NT 10.0; Win64; x64) AppleWebKit/537.36 (KHTML, like Gecko) Chrome/91.0.4472.124 Safari/537.36',\n",
    "    'Accept': '*/*',\n",
    "    'Accept-Encoding': 'gzip, deflate, br',\n",
    "    'Connection': 'keep-alive'\n",
    "}\n",
    "\n",
    "# TODO: Send new request using modified headers by passing headers params in get method\n",
    "# TODO: Get the request headers from the response\n",
    "# TODO: Compare the request headers and understand the difference\n",
    "# TODO: Experiment with different headers and share your thoughts\n",
    "\n",
    "# Send the request with modified headers\n",
    "r = requests.get('https://httpbin.org/get', headers=headers)\n",
    "\n",
    "# Get the request headers from the response\n",
    "print(r.request.headers)\n",
    "\n",
    "# Compare the request headers with the original headers\n",
    "original_headers = r.headers\n",
    "print(\"Original Headers:\")\n",
    "print(original_headers)\n",
    "print(\"\\nModified Headers:\")\n",
    "print(r.request.headers)"
   ]
  },
  {
   "cell_type": "code",
   "execution_count": null,
   "metadata": {},
   "outputs": [],
   "source": [
    "\"\"\"\n",
    "Objective: Bypassing User-Agent Blocking\n",
    "\"\"\"\n",
    "# TODO: Send request to https://gamefaqs.gamespot.com/news using requests with and without custom headers\n",
    "# TODO: Compare the response, which one is blocked and which one is not"
   ]
  },
  {
   "cell_type": "code",
   "execution_count": null,
   "metadata": {},
   "outputs": [],
   "source": [
    "\"\"\"\n",
    "Objective: Understanding User-Agent Rotation\n",
    "If all person you've met today using same shirts, what do you think?\n",
    "\"\"\"\n",
    "# List of common User-Agent strings\n",
    "user_agents = [\n",
    "    'Mozilla/5.0 (Windows NT 10.0; Win64; x64) AppleWebKit/537.36 (KHTML, like Gecko) Chrome/91.0.4472.124 Safari/537.36',\n",
    "    'Mozilla/5.0 (Macintosh; Intel Mac OS X 10_15_7) AppleWebKit/537.36 (KHTML, like Gecko) Chrome/92.0.4515.159 Safari/537.36',\n",
    "    'Mozilla/5.0 (Windows NT 6.1; WOW64; rv:50.0) Gecko/20100101 Firefox/50.0',\n",
    "    'Mozilla/5.0 (Windows NT 6.1; Win64; x64; rv:92.0) Gecko/20100101 Firefox/92.0'\n",
    "]\n",
    "\n",
    "# TODO: Send request to https://httpbin.org/get using random User-Agent from the list\n",
    "# TODO: Get the response and print the used User-Agent\n",
    "# TODO: Try to execute it again, is the User-Agent still the same?"
   ]
  },
  {
   "cell_type": "code",
   "execution_count": null,
   "metadata": {},
   "outputs": [],
   "source": [
    "\"\"\"\n",
    "Objective: Using fake user-agent library\n",
    "\"\"\"\n",
    "# TODO: Install fake_useragent using pip\n",
    "# TODO: Create a UserAgent object\n",
    "# TODO: To get a random User-Agent, use ua.random\n",
    "# TODO: Send request to https://httpbin.org/get using random User-Agent from the fake_useragent\n",
    "# TODO: Get the response and print the used User-Agent\n",
    "# TODO: Try to execute it again, is the User-Agent still the same?"
   ]
  },
  {
   "cell_type": "code",
   "execution_count": null,
   "metadata": {},
   "outputs": [],
   "source": [
    "\"\"\"\n",
    "Objective: Improve web scraping by using fake_useragent and logging\n",
    "\"\"\"\n",
    "# TODO: Visit https://www.cmegroup.com/markets/energy/crude-oil/light-sweet-crude.settlements.html\n",
    "# TODO: Try sending request to that site without custom header\n",
    "# TODO: If you failed, use random User-Agent using fake_useragent\n",
    "# TODO: Add logging to monitor the user-agent used\n",
    "# TODO: Extract the data table and save it to a json file"
   ]
  },
  {
   "cell_type": "markdown",
   "metadata": {},
   "source": [
    "## **Proxy Rotation**"
   ]
  },
  {
   "cell_type": "markdown",
   "metadata": {},
   "source": [
    "A proxy acts as an intermediary server between your scraping script (client) and the target website (server). When you send a request through a proxy, the request is routed through the proxy server, which then forwards the request to the destination website. The website sees the request coming from the proxy’s IP address instead of your actual IP address. This makes proxies particularly useful in web scraping, as they help with anonymity, bypassing rate limits, and preventing IP bans."
   ]
  },
  {
   "cell_type": "code",
   "execution_count": null,
   "metadata": {},
   "outputs": [],
   "source": [
    "\"\"\" \n",
    "Objective: Understanding rate limits\n",
    "\"\"\"\n",
    "# TODO: Execute this cell\n",
    "\n",
    "url = \"https://api.github.com/users/octocat\"\n",
    "\n",
    "for i in range(1, 66):\n",
    "    response = requests.get(url)\n",
    "    print(f\"Sending request {i}. Status code: {response.status_code}\")"
   ]
  },
  {
   "cell_type": "code",
   "execution_count": null,
   "metadata": {},
   "outputs": [],
   "source": [
    "\"\"\" \n",
    "Objective: Understanding Proxy\n",
    "\"\"\"\n",
    "# This is a sample code\n",
    "import requests\n",
    "\n",
    "# Define the URL you want to scrape\n",
    "url = 'https://httpbin.org/ip'  # httpbin provides your IP address for testing\n",
    "\n",
    "# Define the proxy to use\n",
    "proxy = {\n",
    "    'http': 'http://10.10.1.10:8080',\n",
    "    'https': 'http://10.10.1.10:8080'\n",
    "}\n",
    "\n",
    "# Send a request through the proxy\n",
    "response = requests.get(url, proxies=proxy, timeout=5)\n",
    "\n",
    "# Print the response (this will show the IP address the website sees)\n",
    "print(response.text)"
   ]
  },
  {
   "cell_type": "code",
   "execution_count": null,
   "metadata": {},
   "outputs": [],
   "source": [
    "\"\"\" \n",
    "Objective: Finding free proxies\n",
    "\"\"\"\n",
    "# TODO: Do a google search for free proxies and share your thoughts\n"
   ]
  },
  {
   "cell_type": "code",
   "execution_count": null,
   "metadata": {},
   "outputs": [],
   "source": [
    "\"\"\" \n",
    "Objective: Using free proxies\n",
    "\"\"\"\n",
    "\n",
    "proxy_url = \"https://api.proxyscrape.com/v4/free-proxy-list/get?request=display_proxies&proxy_format=protocolipport&format=text\"\n",
    "\n",
    "proxy_list = requests.get(proxy_url).text # Get the proxy list\n",
    "proxy_list = proxy_list.strip().split('\\r\\n') # Split the proxy list\n",
    "proxy_list = [proxy for proxy in proxy_list if 'http' in proxy] # Filter http only\n",
    "print(len(proxy_list))\n",
    "\n",
    "url = \"https://api.github.com/users/octocat\"\n",
    "\n",
    "# TODO: Trigger blocking by sending 60 or more request to the URL\n",
    "# TODO: Once we hit the rate limit, we need to use a proxy\n",
    "# TODO: A free proxy may not always work, use looping to find a working proxy (response.status_code == 200)\n",
    "# TODO: Once the request is successful, print the proxy used and exit the loop"
   ]
  }
 ],
 "metadata": {
  "kernelspec": {
   "display_name": ".venv",
   "language": "python",
   "name": "python3"
  },
  "language_info": {
   "codemirror_mode": {
    "name": "ipython",
    "version": 3
   },
   "file_extension": ".py",
   "mimetype": "text/x-python",
   "name": "python",
   "nbconvert_exporter": "python",
   "pygments_lexer": "ipython3",
   "version": "3.12.0"
  }
 },
 "nbformat": 4,
 "nbformat_minor": 2
}
