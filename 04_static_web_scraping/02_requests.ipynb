{
 "cells": [
  {
   "cell_type": "markdown",
   "metadata": {},
   "source": [
    "### **Getting HTML Content**\n",
    "The Requests library is a popular Python tool that allows you to easily make HTTP requests. It is commonly used for web scraping, where you need to gather data from websites. Think of HTTP requests as asking a website to give you information, like a page of text or an image. With Requests, you can send these requests with just a few lines of code and receive responses that contain the information you need."
   ]
  },
  {
   "cell_type": "code",
   "execution_count": 2,
   "metadata": {},
   "outputs": [
    {
     "data": {
      "text/plain": [
       "'\\nPractice Exercise: Requests Basics\\n\\nComplete each function below by following the TODO instructions. \\nEach function includes the objective of the task and the expected output.\\n'"
      ]
     },
     "execution_count": 2,
     "metadata": {},
     "output_type": "execute_result"
    }
   ],
   "source": [
    "import requests\n",
    "import os\n",
    "import json\n",
    "\n",
    "\"\"\"\n",
    "Practice Exercise: Requests Basics\n",
    "\n",
    "Complete each function below by following the TODO instructions. \n",
    "Each function includes the objective of the task and the expected output.\n",
    "\"\"\""
   ]
  },
  {
   "cell_type": "code",
   "execution_count": 3,
   "metadata": {},
   "outputs": [],
   "source": [
    "# You can change the URL to any URL you like\n",
    "# Execute this cell before continue\n",
    "example_url = \"https://example.com\"\n",
    "response = requests.get(example_url)"
   ]
  },
  {
   "cell_type": "code",
   "execution_count": 6,
   "metadata": {},
   "outputs": [
    {
     "name": "stdout",
     "output_type": "stream",
     "text": [
      "<Response [200]>\n",
      "200\n",
      "OK\n"
     ]
    }
   ],
   "source": [
    "\"\"\"\n",
    "Objective: Understand the result of requests.get()\n",
    "\"\"\"\n",
    "# TODO: Print the response object and its type\n",
    "print(response)\n",
    "# TODO: Print the status code of the response\n",
    "print(response.status_code)\n",
    "# TODO: Print the reason phrase of the response\n",
    "print(response.reason)"
   ]
  },
  {
   "cell_type": "code",
   "execution_count": 15,
   "metadata": {},
   "outputs": [
    {
     "name": "stdout",
     "output_type": "stream",
     "text": [
      "<!doctype html>\n",
      "<html>\n",
      "<head>\n",
      "    <title>Example Domain</title>\n",
      "\n",
      "    <meta charset=\"utf-8\" />\n",
      "    <m\n",
      "b'<!doctype html>\\n<html>\\n<head>\\n    <title>Example Domain</title>\\n\\n    <meta charset=\"utf-8\" />\\n    <m'\n",
      "Length of the response text: 1256\n",
      "Length of the response content: 1256\n",
      "Type of the response text: <class 'str'>\n",
      "Type of the response content: <class 'bytes'>\n"
     ]
    }
   ],
   "source": [
    "\"\"\"\n",
    "Objective: Compare the output of the response.text and response.content methods.\n",
    "\"\"\"\n",
    "# TODO: Print the first 100 characters of the response text\n",
    "print(response.text[:100])\n",
    "# TODO: Print the first 100 characters of the response content\n",
    "print(response.content[:100])\n",
    "# TODO: Print the length of the response text\n",
    "print(f\"Length of the response text: {len(response.text)}\")\n",
    "# TODO: Print the length of the response content\n",
    "print(f\"Length of the response content: {len(response.content)}\")\n",
    "# TODO: Print the type of the response text\n",
    "print(f\"Type of the response text: {type(response.text)}\")\n",
    "# TODO: Print the type of the response content\n",
    "print(f\"Type of the response content: {type(response.content)}\")\n",
    "# TODO: Save the response text to a file\n",
    "with open(\"text.txt\", \"w\") as f:\n",
    "    f.write(response.text)\n",
    "# TODO: Save the response content to a file\n",
    "with open(\"content.text\", \"wb\") as f:\n",
    "    f.write(response.content)"
   ]
  },
  {
   "cell_type": "code",
   "execution_count": 18,
   "metadata": {},
   "outputs": [
    {
     "name": "stdout",
     "output_type": "stream",
     "text": [
      "FIle has been saved True\n"
     ]
    }
   ],
   "source": [
    "\"\"\" \n",
    "Objective: Use .content to download an image file\n",
    "\"\"\"\n",
    "# image_url = \"https://via.placeholder.com/150\"\n",
    "image_url = \"https://i.etsystatic.com/19635104/r/il/887285/2591051093/il_570xN.2591051093_f2sk.jpg\"\n",
    "output_file = \"image.jpg\"\n",
    "subfolder = \"images\"\n",
    "\n",
    "# TODO: Use requests to download the image binary (image_url)    \n",
    "r = requests.get(image_url)\n",
    "# You can change the image url to any image you like\n",
    "# TODO: Write the image binary to a file (output_file)\n",
    "with open(output_file, \"wb\") as f:\n",
    "    f.write(r.content)\n",
    "# TODO: Locate the image file in a sub-folder\n",
    "new_path = f\"{subfolder}/{output_file}\"\n",
    "os.rename(output_file, new_path)\n",
    "# TODO: Print a message indicating the file has been saved\n",
    "print(f\"FIle has been saved {os.path.isfile(new_path)}\")"
   ]
  },
  {
   "cell_type": "code",
   "execution_count": 22,
   "metadata": {},
   "outputs": [
    {
     "name": "stdout",
     "output_type": "stream",
     "text": [
      "1 Status code: 200, reason phrase: OK \n",
      "2 Status code: 200, reason phrase: OK \n",
      "3 Status code: 200, reason phrase: OK \n",
      "4 Status code: 200, reason phrase: OK \n",
      "5 Status code: 200, reason phrase: OK \n",
      "6 Status code: 200, reason phrase: OK \n",
      "7 Status code: 200, reason phrase: OK \n",
      "8 Status code: 200, reason phrase: OK \n",
      "9 Status code: 200, reason phrase: OK \n",
      "10 Status code: 200, reason phrase: OK \n",
      "11 Status code: 200, reason phrase: OK \n",
      "12 Status code: 200, reason phrase: OK \n",
      "13 Status code: 200, reason phrase: OK \n",
      "14 Status code: 200, reason phrase: OK \n",
      "15 Status code: 200, reason phrase: OK \n",
      "16 Status code: 200, reason phrase: OK \n",
      "17 Status code: 200, reason phrase: OK \n",
      "18 Status code: 200, reason phrase: OK \n",
      "19 Status code: 200, reason phrase: OK \n",
      "20 Status code: 200, reason phrase: OK \n",
      "21 Status code: 200, reason phrase: OK \n",
      "22 Status code: 200, reason phrase: OK \n",
      "23 Status code: 200, reason phrase: OK \n",
      "24 Status code: 200, reason phrase: OK \n",
      "25 Status code: 200, reason phrase: OK \n",
      "26 Status code: 200, reason phrase: OK \n",
      "27 Status code: 200, reason phrase: OK \n",
      "28 Status code: 200, reason phrase: OK \n",
      "29 Status code: 200, reason phrase: OK \n",
      "30 Status code: 200, reason phrase: OK \n",
      "31 Status code: 200, reason phrase: OK \n",
      "32 Status code: 200, reason phrase: OK \n",
      "33 Status code: 200, reason phrase: OK \n",
      "34 Status code: 200, reason phrase: OK \n",
      "35 Status code: 200, reason phrase: OK \n",
      "36 Status code: 200, reason phrase: OK \n",
      "37 Status code: 200, reason phrase: OK \n",
      "38 Status code: 200, reason phrase: OK \n",
      "39 Status code: 200, reason phrase: OK \n",
      "40 Status code: 200, reason phrase: OK \n",
      "41 Status code: 200, reason phrase: OK \n",
      "42 Status code: 200, reason phrase: OK \n",
      "43 Status code: 200, reason phrase: OK \n",
      "44 Status code: 200, reason phrase: OK \n",
      "45 Status code: 200, reason phrase: OK \n",
      "46 Status code: 200, reason phrase: OK \n",
      "47 Status code: 200, reason phrase: OK \n",
      "48 Status code: 200, reason phrase: OK \n",
      "49 Status code: 200, reason phrase: OK \n",
      "50 Status code: 200, reason phrase: OK \n",
      "51 Status code: 200, reason phrase: OK \n",
      "52 Status code: 200, reason phrase: OK \n",
      "53 Status code: 200, reason phrase: OK \n",
      "54 Status code: 200, reason phrase: OK \n",
      "55 Status code: 200, reason phrase: OK \n",
      "56 Status code: 200, reason phrase: OK \n",
      "57 Status code: 200, reason phrase: OK \n",
      "58 Status code: 200, reason phrase: OK \n",
      "59 Status code: 200, reason phrase: OK \n",
      "60 Status code: 200, reason phrase: OK \n",
      "61 Status code: 403, reason phrase: rate limit exceeded \n",
      "62 Status code: 403, reason phrase: rate limit exceeded \n",
      "63 Status code: 403, reason phrase: rate limit exceeded \n",
      "64 Status code: 403, reason phrase: rate limit exceeded \n",
      "65 Status code: 403, reason phrase: rate limit exceeded \n",
      "66 Status code: 403, reason phrase: rate limit exceeded \n",
      "67 Status code: 403, reason phrase: rate limit exceeded \n",
      "68 Status code: 403, reason phrase: rate limit exceeded \n",
      "69 Status code: 403, reason phrase: rate limit exceeded \n",
      "70 Status code: 403, reason phrase: rate limit exceeded \n",
      "71 Status code: 403, reason phrase: rate limit exceeded \n",
      "72 Status code: 403, reason phrase: rate limit exceeded \n",
      "73 Status code: 403, reason phrase: rate limit exceeded \n",
      "74 Status code: 403, reason phrase: rate limit exceeded \n",
      "75 Status code: 403, reason phrase: rate limit exceeded \n",
      "76 Status code: 403, reason phrase: rate limit exceeded \n",
      "77 Status code: 403, reason phrase: rate limit exceeded \n",
      "78 Status code: 403, reason phrase: rate limit exceeded \n",
      "79 Status code: 403, reason phrase: rate limit exceeded \n",
      "80 Status code: 403, reason phrase: rate limit exceeded \n",
      "81 Status code: 403, reason phrase: rate limit exceeded \n",
      "82 Status code: 403, reason phrase: rate limit exceeded \n",
      "83 Status code: 403, reason phrase: rate limit exceeded \n",
      "84 Status code: 403, reason phrase: rate limit exceeded \n",
      "85 Status code: 403, reason phrase: rate limit exceeded \n",
      "86 Status code: 403, reason phrase: rate limit exceeded \n",
      "87 Status code: 403, reason phrase: rate limit exceeded \n",
      "88 Status code: 403, reason phrase: rate limit exceeded \n",
      "89 Status code: 403, reason phrase: rate limit exceeded \n",
      "90 Status code: 403, reason phrase: rate limit exceeded \n",
      "91 Status code: 403, reason phrase: rate limit exceeded \n",
      "92 Status code: 403, reason phrase: rate limit exceeded \n",
      "93 Status code: 403, reason phrase: rate limit exceeded \n",
      "94 Status code: 403, reason phrase: rate limit exceeded \n",
      "95 Status code: 403, reason phrase: rate limit exceeded \n",
      "96 Status code: 403, reason phrase: rate limit exceeded \n",
      "97 Status code: 403, reason phrase: rate limit exceeded \n",
      "98 Status code: 403, reason phrase: rate limit exceeded \n",
      "99 Status code: 403, reason phrase: rate limit exceeded \n",
      "100 Status code: 403, reason phrase: rate limit exceeded \n"
     ]
    }
   ],
   "source": [
    "\"\"\" \n",
    "Objective: Implement looping to see how the website response to over-requesting\n",
    "\"\"\"\n",
    "\n",
    "# TODO: Define the URL to fetch data from, you can use example_url variable\n",
    "example_url = \"https://search.brave.com\"\n",
    "# TODO: Iterate over 100 times to fetch data from the URL\n",
    "for i in range(100):\n",
    "    r = requests.get(example_url)\n",
    "# TODO: Print the status code and reason phrase of the response of each iteration\n",
    "    print(f\"{i+1} Status code: {r.status_code}, reason phrase: {r.reason} \")\n",
    "new_url = \"https://api.github.com/users/octocat\"\n",
    "# TODO: Do the same as above but use the new_url variable\n",
    "def loop_req(url, n_times):\n",
    "    for i in range(n_times):\n",
    "        r = requests.get(url)\n",
    "        print(f\"{i+1} Status code: {r.status_code}, reason phrase: {r.reason} \")\n",
    "\n",
    "loop_req(new_url, 100)"
   ]
  },
  {
   "cell_type": "code",
   "execution_count": 23,
   "metadata": {},
   "outputs": [
    {
     "name": "stdout",
     "output_type": "stream",
     "text": [
      "Status code: 400, reason: Bad Request\n",
      "Status code: 403, reason: Forbidden\n",
      "Status code: 404, reason: Not Found\n",
      "Status code: 500, reason: Internal Server Error\n",
      "Status code: 503, reason: Service Unavailable\n",
      "Status code: 504, reason: Gateway Timeout\n",
      "Status code: 521, reason: Web Server Is Down\n",
      "Status code: 522, reason: Connection Timed out\n",
      "Status code: 200, reason: OK\n"
     ]
    }
   ],
   "source": [
    "\"\"\" \n",
    "Objective: Understanding HTTP error codes\n",
    "\"\"\"\n",
    "urls = [\n",
    "    \"https://httpstat.us/400\", \"https://httpstat.us/403\", \"https://httpstat.us/404\",\n",
    "    \"https://httpstat.us/500\", \"https://httpstat.us/503\", \"https://httpstat.us/504\",\n",
    "    \"https://httpstat.us/521\", \"https://httpstat.us/522\", \"https://httpstat.us/200\"\n",
    "]\n",
    "\n",
    "# TODO: Loop through each URL in the list\n",
    "for url in urls:\n",
    "# TODO: Use requests to fetch the URL\n",
    "    r = requests.get(url)\n",
    "# TODO: Print the status code and its reason\n",
    "    print(f\"Status code: {r.status_code}, reason: {r.reason}\")"
   ]
  },
  {
   "cell_type": "code",
   "execution_count": 26,
   "metadata": {},
   "outputs": [
    {
     "name": "stdout",
     "output_type": "stream",
     "text": [
      "Request timeout:  HTTPSConnectionPool(host='www.adidas.de', port=443): Read timed out. (read timeout=5)\n"
     ]
    }
   ],
   "source": [
    "\"\"\"\n",
    "Objective: Implement timeout to limit waiting time for a response\n",
    "\"\"\"\n",
    "\n",
    "adidas_url = \"https://www.adidas.de/api/products/ID9465\"\n",
    "\n",
    "# TODO: Use requests to fetch the adidas URL without timeout and see how long you can wait\n",
    "# r = requests.get(adidas_url)\n",
    "# TODO: Use requests to fetch the adidas URL with timeout equals to 5 seconds\n",
    "# r = requests.get(adidas_url, timeout=5)\n",
    "# TODO: Use try-except to handle the timeout error\n",
    "try:\n",
    "    r = requests.get(adidas_url, timeout=5)\n",
    "    print(\"Request succeed: \", r.status_code)\n",
    "except requests.exceptions.Timeout as err_t:\n",
    "    print(\"Request timeout: \", err_t)\n",
    "    "
   ]
  },
  {
   "cell_type": "code",
   "execution_count": 28,
   "metadata": {},
   "outputs": [
    {
     "name": "stdout",
     "output_type": "stream",
     "text": [
      "Request exception:  Invalid URL 'invalid_url.com': No scheme supplied. Perhaps you meant https://invalid_url.com?\n",
      "Request exception:  HTTPSConnectionPool(host='www.adidas.de', port=443): Read timed out. (read timeout=5)\n"
     ]
    }
   ],
   "source": [
    "\"\"\" \n",
    "Objective: Handle failed requests in the middle of a loop\n",
    "\"\"\"\n",
    "\n",
    "urls = [\n",
    "    \"https://httpstat.us/200\", \n",
    "    \"invalid_url.com\",\n",
    "    \"https://httpstat.us/200\", \n",
    "    \"https://www.adidas.de/api/products/ID9465\"\n",
    "]\n",
    "\n",
    "# TODO: Loop through each URL in the list\n",
    "for url in urls:\n",
    "# TODO: Use requests to fetch the URL\n",
    "    try:\n",
    "        r = requests.get(url, timeout=5)\n",
    "# TODO: Handle HTTP error and print the error message\n",
    "    except requests.exceptions.HTTPError as err_h:\n",
    "        print (\"Http Error:\",err_h)\n",
    "# TODO: Handle all other exceptions (RequestException)\n",
    "    except requests.exceptions.RequestException as err:\n",
    "        print(\"Request exception: \", err)\n",
    "    except requests.exceptions.Timeout as err_t:\n",
    "        print(\"Request timeout: \", err_t)"
   ]
  },
  {
   "cell_type": "code",
   "execution_count": 31,
   "metadata": {},
   "outputs": [
    {
     "name": "stdout",
     "output_type": "stream",
     "text": [
      "{\"ip\":\"114.10.75.146\"}\n",
      "{'ip': '114.10.75.146'}\n",
      "114.10.75.146\n"
     ]
    }
   ],
   "source": [
    "\"\"\" \n",
    "Objective: Get response in JSON format\n",
    "\"\"\"\n",
    "api_url = \"https://api.ipify.org?format=json\"\n",
    "\n",
    "# TODO: Use requests to fetch your IP from the API (api_url\n",
    "r = requests.get(api_url)\n",
    "# TODO: Compare the response using both .text and .json()\n",
    "print(r.text)\n",
    "print(r.json())\n",
    "# TODO: Extract the IP address from the JSON response\n",
    "ip = r.json()[\"ip\"]\n",
    "# TODO: Print your IP\n",
    "print(ip)"
   ]
  },
  {
   "cell_type": "code",
   "execution_count": 33,
   "metadata": {},
   "outputs": [
    {
     "name": "stdout",
     "output_type": "stream",
     "text": [
      "File has been saved  successfully\n"
     ]
    }
   ],
   "source": [
    "\"\"\" \n",
    "Objective: Handling JSON output file\n",
    "\"\"\"\n",
    "api_url = \"https://jsonplaceholder.typicode.com/posts\"\n",
    "output_file = \"posts.json\"\n",
    "\n",
    "# TODO: Use requests.get() to fetch JSON data from the API (api_url)\n",
    "r = requests.get(api_url)\n",
    "# TODO: Write the JSON response to a file (output_file)\n",
    "with open(output_file, \"w\") as f:\n",
    "    f.write(r.text)\n",
    "# TODO: Print a message indicating the file has been saved\n",
    "print(\"File has been saved\", \"successfully\" if os.path.isfile(output_file) else \"failed\" )"
   ]
  },
  {
   "cell_type": "code",
   "execution_count": 36,
   "metadata": {},
   "outputs": [
    {
     "name": "stdout",
     "output_type": "stream",
     "text": [
      "Response:  <Response [200]>\n",
      "Payload:  {'name': 'John', 'age': 40}\n"
     ]
    }
   ],
   "source": [
    "\"\"\" \n",
    "Objective: Send a POST request with payload data\n",
    "\"\"\"\n",
    "api_url = \"https://httpbin.org/post\"\n",
    "payload = {\"name\": \"Your Name\", \"age\": 40}\n",
    "\n",
    "# TODO: Replace name value with your name in the payload\n",
    "payload['name'] = 'John'\n",
    "# TODO: Use requests.post() to send payload (payload) to the API (api_url)\n",
    "r = requests.post(api_url, data=payload)\n",
    "# TODO: Print the JSON response from the POST request and print back your payload data\n",
    "print(\"Response: \", r)\n",
    "print(\"Payload: \", payload)"
   ]
  },
  {
   "cell_type": "markdown",
   "metadata": {},
   "source": [
    "### **Reflection**\n",
    "What is the difference between sending a HTTP request directly using Requests and using a browser?\n",
    "\n",
    "We can manipulate the data directly when using requests without needing to open the browser app"
   ]
  },
  {
   "cell_type": "markdown",
   "metadata": {},
   "source": [
    "### **Exploration**\n",
    "Now, you should be able to get HTML content using Requests and parse it using BeautifulSoup inside your program. Once your program is terminated, the data will lost. How to access the data after program is closed?"
   ]
  },
  {
   "cell_type": "markdown",
   "metadata": {},
   "source": [
    "After we receive the response from requests, we can immediately save the data into a file such as .txt or .json, so that we can retrieve the data even after the app is terminated. "
   ]
  }
 ],
 "metadata": {
  "kernelspec": {
   "display_name": "Python 3 (ipykernel)",
   "language": "python",
   "name": "python3"
  },
  "language_info": {
   "codemirror_mode": {
    "name": "ipython",
    "version": 3
   },
   "file_extension": ".py",
   "mimetype": "text/x-python",
   "name": "python",
   "nbconvert_exporter": "python",
   "pygments_lexer": "ipython3",
   "version": "3.12.10"
  }
 },
 "nbformat": 4,
 "nbformat_minor": 4
}
