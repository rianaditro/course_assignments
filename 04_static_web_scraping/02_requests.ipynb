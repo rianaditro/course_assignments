{
 "cells": [
  {
   "cell_type": "markdown",
   "metadata": {},
   "source": [
    "### **Getting HTML Content**\n",
    "The Requests library is a popular Python tool that allows you to easily make HTTP requests. It is commonly used for web scraping, where you need to gather data from websites. Think of HTTP requests as asking a website to give you information, like a page of text or an image. With Requests, you can send these requests with just a few lines of code and receive responses that contain the information you need."
   ]
  },
  {
   "cell_type": "code",
   "execution_count": 2,
   "metadata": {},
   "outputs": [
    {
     "data": {
      "text/plain": [
       "'\\nPractice Exercise: Requests Basics\\n\\nComplete each function below by following the TODO instructions. \\nEach function includes the objective of the task and the expected output.\\n'"
      ]
     },
     "execution_count": 2,
     "metadata": {},
     "output_type": "execute_result"
    }
   ],
   "source": [
    "import requests\n",
    "import os\n",
    "import json\n",
    "\n",
    "\"\"\"\n",
    "Practice Exercise: Requests Basics\n",
    "\n",
    "Complete each function below by following the TODO instructions. \n",
    "Each function includes the objective of the task and the expected output.\n",
    "\"\"\""
   ]
  },
  {
   "cell_type": "code",
   "execution_count": 3,
   "metadata": {},
   "outputs": [],
   "source": [
    "# You can change the URL to any URL you like\n",
    "# Execute this cell before continue\n",
    "example_url = \"https://www.yellowpages.com/\"\n",
    "response = requests.get(example_url)"
   ]
  },
  {
   "cell_type": "code",
   "execution_count": 5,
   "metadata": {},
   "outputs": [
    {
     "name": "stdout",
     "output_type": "stream",
     "text": [
      "<Response [200]>\n",
      "<class 'requests.models.Response'>\n",
      "200\n",
      "OK\n"
     ]
    }
   ],
   "source": [
    "\"\"\"\n",
    "Objective: Understand the result of requests.get()\n",
    "\"\"\"\n",
    "\n",
    "# TODO: Print the response object and its type\n",
    "# TODO: Print the status code of the response\n",
    "# TODO: Print the reason phrase of the response\n",
    "\n",
    "print(response)\n",
    "print(type(response))\n",
    "print(response.status_code)\n",
    "print(response.reason)"
   ]
  },
  {
   "cell_type": "code",
   "execution_count": 8,
   "metadata": {},
   "outputs": [
    {
     "name": "stdout",
     "output_type": "stream",
     "text": [
      "<!DOCTYPE html><html lang=\"en\"><head><script async src=\"https://www.googletagmanager.com/gtag/js?id=\n",
      "b'<!DOCTYPE html><html lang=\"en\"><head><script async src=\"https://www.googletagmanager.com/gtag/js?id='\n",
      "length of response.text 44918\n",
      "length of response.content 44920\n",
      "<class 'str'>\n",
      "<class 'bytes'>\n"
     ]
    }
   ],
   "source": [
    "\"\"\"\n",
    "Objective: Compare the output of the response.text and response.content methods.\n",
    "\"\"\"\n",
    "# TODO: Print the first 100 characters of the response text\n",
    "# TODO: Print the first 100 characters of the response content\n",
    "# TODO: Print the length of the response text\n",
    "# TODO: Print the length of the response content\n",
    "# TODO: Print the type of the response text\n",
    "# TODO: Print the type of the response content\n",
    "# TODO: Save the response text to a file\n",
    "# TODO: Save the response content to a file\n",
    "\n",
    "print(response.text[:100])\n",
    "print(response.content[:100])\n",
    "print(\"length of response.text\",len(response.text))\n",
    "print(\"length of response.content\",len(response.content))\n",
    "print(type(response.text))\n",
    "print(type(response.content))\n",
    "with open(\"response_text.txt\", \"w\") as f:\n",
    "    f.write(response.text)\n",
    "with open(\"response_content.txt\", \"wb\") as f:\n",
    "    f.write(response.content)"
   ]
  },
  {
   "cell_type": "code",
   "execution_count": 10,
   "metadata": {},
   "outputs": [
    {
     "name": "stdout",
     "output_type": "stream",
     "text": [
      "Image saved to images\\image.jpg\n"
     ]
    }
   ],
   "source": [
    "\"\"\" \n",
    "Objective: Use .content to download an image file\n",
    "\"\"\"\n",
    "# image_url = \"https://via.placeholder.com/150\"\n",
    "image_url = \"https://i.etsystatic.com/19635104/r/il/887285/2591051093/il_570xN.2591051093_f2sk.jpg\"\n",
    "output_file = \"image.jpg\"\n",
    "subfolder = \"images\"\n",
    "\n",
    "# TODO: Use requests to download the image binary (image_url)    \n",
    "# You can change the image url to any image you like\n",
    "# TODO: Write the image binary to a file (output_file)\n",
    "# TODO: Locate the image file in a sub-folder\n",
    "# TODO: Print a message indicating the file has been saved\n",
    "\n",
    "\n",
    "response = requests.get(image_url)\n",
    "with open(os.path.join(subfolder, output_file), \"wb\") as f:\n",
    "    f.write(response.content)\n",
    "print(f\"Image saved to {os.path.join(subfolder, output_file)}\") \n"
   ]
  },
  {
   "cell_type": "code",
   "execution_count": 11,
   "metadata": {},
   "outputs": [
    {
     "name": "stdout",
     "output_type": "stream",
     "text": [
      "200 OK\n",
      "200 OK\n",
      "200 OK\n",
      "200 OK\n",
      "200 OK\n",
      "200 OK\n",
      "200 OK\n",
      "200 OK\n",
      "200 OK\n",
      "200 OK\n",
      "200 OK\n",
      "200 OK\n",
      "200 OK\n",
      "200 OK\n",
      "200 OK\n",
      "200 OK\n",
      "200 OK\n",
      "200 OK\n",
      "200 OK\n",
      "200 OK\n",
      "200 OK\n",
      "200 OK\n",
      "200 OK\n",
      "200 OK\n",
      "200 OK\n",
      "200 OK\n",
      "200 OK\n",
      "200 OK\n",
      "200 OK\n",
      "200 OK\n",
      "200 OK\n",
      "200 OK\n",
      "200 OK\n",
      "200 OK\n",
      "200 OK\n",
      "200 OK\n",
      "200 OK\n",
      "200 OK\n",
      "200 OK\n",
      "200 OK\n",
      "200 OK\n",
      "200 OK\n",
      "200 OK\n",
      "200 OK\n",
      "200 OK\n",
      "200 OK\n",
      "200 OK\n",
      "200 OK\n",
      "200 OK\n",
      "200 OK\n",
      "200 OK\n",
      "200 OK\n",
      "200 OK\n",
      "200 OK\n",
      "200 OK\n",
      "200 OK\n",
      "200 OK\n",
      "200 OK\n",
      "200 OK\n",
      "200 OK\n",
      "403 rate limit exceeded\n",
      "403 rate limit exceeded\n",
      "403 rate limit exceeded\n",
      "403 rate limit exceeded\n",
      "403 rate limit exceeded\n",
      "403 rate limit exceeded\n",
      "403 rate limit exceeded\n",
      "403 rate limit exceeded\n",
      "403 rate limit exceeded\n",
      "403 rate limit exceeded\n",
      "403 rate limit exceeded\n",
      "403 rate limit exceeded\n",
      "403 rate limit exceeded\n",
      "403 rate limit exceeded\n",
      "403 rate limit exceeded\n",
      "403 rate limit exceeded\n",
      "403 rate limit exceeded\n",
      "403 rate limit exceeded\n",
      "403 rate limit exceeded\n",
      "403 rate limit exceeded\n",
      "403 rate limit exceeded\n",
      "403 rate limit exceeded\n",
      "403 rate limit exceeded\n",
      "403 rate limit exceeded\n",
      "403 rate limit exceeded\n",
      "403 rate limit exceeded\n",
      "403 rate limit exceeded\n",
      "403 rate limit exceeded\n",
      "403 rate limit exceeded\n",
      "403 rate limit exceeded\n",
      "403 rate limit exceeded\n",
      "403 rate limit exceeded\n",
      "403 rate limit exceeded\n",
      "403 rate limit exceeded\n",
      "403 rate limit exceeded\n",
      "403 rate limit exceeded\n",
      "403 rate limit exceeded\n",
      "403 rate limit exceeded\n",
      "403 rate limit exceeded\n",
      "403 rate limit exceeded\n"
     ]
    }
   ],
   "source": [
    "\"\"\" \n",
    "Objective: Implement looping to see how the website response to over-requesting\n",
    "\"\"\"\n",
    "\n",
    "# TODO: Define the URL to fetch data from, you can use example_url variable\n",
    "# TODO: Iterate over 100 times to fetch data from the URL\n",
    "# TODO: Print the status code and reason phrase of the response of each iteration\n",
    "\n",
    "\n",
    "\n",
    "new_url = \"https://api.github.com/users/octocat\"\n",
    "# TODO: Do the same as above but use the new_url variable\n",
    "\n",
    "for i in range(100):\n",
    "    response = requests.get(new_url)\n",
    "    print(response.status_code, response.reason)"
   ]
  },
  {
   "cell_type": "code",
   "execution_count": 12,
   "metadata": {},
   "outputs": [
    {
     "name": "stdout",
     "output_type": "stream",
     "text": [
      "400 Bad Request\n",
      "403 Forbidden\n",
      "404 Not Found\n",
      "500 Internal Server Error\n",
      "503 Service Unavailable\n",
      "504 Gateway Timeout\n",
      "521 Web Server Is Down\n",
      "522 Connection Timed out\n",
      "200 OK\n"
     ]
    }
   ],
   "source": [
    "\"\"\" \n",
    "Objective: Understanding HTTP error codes\n",
    "\"\"\"\n",
    "urls = [\n",
    "    \"https://httpstat.us/400\", \"https://httpstat.us/403\", \"https://httpstat.us/404\",\n",
    "    \"https://httpstat.us/500\", \"https://httpstat.us/503\", \"https://httpstat.us/504\",\n",
    "    \"https://httpstat.us/521\", \"https://httpstat.us/522\", \"https://httpstat.us/200\"\n",
    "]\n",
    "\n",
    "# TODO: Loop through each URL in the list\n",
    "# TODO: Use requests to fetch the URL\n",
    "# TODO: Print the status code and its reason\n",
    "for url in urls:\n",
    "    response = requests.get(url)\n",
    "    print(response.status_code, response.reason)"
   ]
  },
  {
   "cell_type": "code",
   "execution_count": 4,
   "metadata": {},
   "outputs": [
    {
     "name": "stdout",
     "output_type": "stream",
     "text": [
      "Request timed out\n"
     ]
    }
   ],
   "source": [
    "\"\"\"\n",
    "Objective: Implement timeout to limit waiting time for a response\n",
    "\"\"\"\n",
    "\n",
    "adidas_url = \"https://www.adidas.de/api/products/ID9465\"\n",
    "\n",
    "# TODO: Use requests to fetch the adidas URL without timeout and see how long you can wait\n",
    "\"\"\"response = requests.get(adidas_url)\n",
    "print(response)\"\"\"\n",
    "# TODO: Use requests to fetch the adidas URL with timeout equals to 5 seconds\n",
    "\"\"\"response = requests.get(adidas_url, timeout=5)\n",
    "print(response)\"\"\"\n",
    "# TODO: Use try-except to handle the timeout error\n",
    "try:\n",
    "    response = requests.get(adidas_url, timeout=5)\n",
    "    print(response)\n",
    "except requests.exceptions.ReadTimeout:\n",
    "    print(\"Request timed out\")"
   ]
  },
  {
   "cell_type": "code",
   "execution_count": 1,
   "metadata": {},
   "outputs": [
    {
     "name": "stdout",
     "output_type": "stream",
     "text": [
      "200 OK\n",
      "Invalid URL 'invalid_url.com': No scheme supplied. Perhaps you meant https://invalid_url.com?\n",
      "200 OK\n",
      "HTTPSConnectionPool(host='www.adidas.de', port=443): Read timed out. (read timeout=5)\n"
     ]
    }
   ],
   "source": [
    "\"\"\" \n",
    "Objective: Handle failed requests in the middle of a loop\n",
    "\"\"\"\n",
    "import requests\n",
    "\n",
    "urls = [\n",
    "    \"https://httpstat.us/200\", \n",
    "    \"invalid_url.com\",\n",
    "    \"https://httpstat.us/200\", \n",
    "    \"https://www.adidas.de/api/products/ID9465\"\n",
    "]\n",
    "\n",
    "# TODO: Loop through each URL in the list\n",
    "# TODO: Use requests to fetch the URL\n",
    "# TODO: Handle HTTP error and print the error message\n",
    "# TODO: Handle all other exceptions (RequestException)\n",
    "\n",
    "for url in urls:\n",
    "    try:\n",
    "        response = requests.get(url, timeout=5)\n",
    "        print(response.status_code, response.reason)\n",
    "    except requests.exceptions.HTTPError as e:\n",
    "        print(e)\n",
    "    except requests.exceptions.RequestException as e:\n",
    "        print(e)"
   ]
  },
  {
   "cell_type": "code",
   "execution_count": 4,
   "metadata": {},
   "outputs": [
    {
     "name": "stdout",
     "output_type": "stream",
     "text": [
      "36.85.7.45\n",
      "{\"ip\":\"36.85.7.45\"}\n"
     ]
    }
   ],
   "source": [
    "\"\"\" \n",
    "Objective: Get response in JSON format\n",
    "\"\"\"\n",
    "api_url = \"https://api.ipify.org?format=json\"\n",
    "\n",
    "# TODO: Use requests to fetch your IP from the API (api_url)\n",
    "# TODO: Compare the response using both .text and .json()\n",
    "# TODO: Extract the IP address from the JSON response\n",
    "# TODO: Print your IP\n",
    "\n",
    "response = requests.get(api_url)\n",
    "print(response.json()['ip'])\n",
    "print(response.text)"
   ]
  },
  {
   "cell_type": "code",
   "execution_count": 5,
   "metadata": {},
   "outputs": [
    {
     "name": "stdout",
     "output_type": "stream",
     "text": [
      "File saved to posts.json\n"
     ]
    }
   ],
   "source": [
    "\"\"\" \n",
    "Objective: Handling JSON output file\n",
    "\"\"\"\n",
    "api_url = \"https://jsonplaceholder.typicode.com/posts\"\n",
    "output_file = \"posts.json\"\n",
    "\n",
    "# TODO: Use requests.get() to fetch JSON data from the API (api_url)\n",
    "# TODO: Write the JSON response to a file (output_file)\n",
    "# TODO: Print a message indicating the file has been saved\n",
    "\n",
    "response = requests.get(api_url)    \n",
    "with open(output_file, \"w\") as f:\n",
    "    f.write(response.text)\n",
    "print(f\"File saved to {output_file}\")"
   ]
  },
  {
   "cell_type": "code",
   "execution_count": 6,
   "metadata": {},
   "outputs": [
    {
     "name": "stdout",
     "output_type": "stream",
     "text": [
      "{'args': {}, 'data': '{\"name\": \"Your Name\", \"age\": 40}', 'files': {}, 'form': {}, 'headers': {'Accept': '*/*', 'Accept-Encoding': 'gzip, deflate', 'Content-Length': '32', 'Content-Type': 'application/json', 'Host': 'httpbin.org', 'User-Agent': 'python-requests/2.32.3', 'X-Amzn-Trace-Id': 'Root=1-6797352f-634cfa700d69b0497d47a44d'}, 'json': {'age': 40, 'name': 'Your Name'}, 'origin': '36.85.7.45', 'url': 'https://httpbin.org/post'}\n",
      "{'name': 'Your Name', 'age': 40}\n"
     ]
    }
   ],
   "source": [
    "\"\"\" \n",
    "Objective: Send a POST request with payload data\n",
    "\"\"\"\n",
    "api_url = \"https://httpbin.org/post\"\n",
    "payload = {\"name\": \"Your Name\", \"age\": 40}\n",
    "\n",
    "# TODO: Replace name value with your name in the payload\n",
    "# TODO: Use requests.post() to send payload (payload) to the API (api_url)\n",
    "# TODO: Print the JSON response from the POST request and print back your payload data\n",
    "\n",
    "response = requests.post(api_url, json=payload)\n",
    "print(response.json())\n",
    "print(payload)\n"
   ]
  },
  {
   "cell_type": "markdown",
   "metadata": {},
   "source": [
    "### **Reflection**\n",
    "What is the difference between sending a HTTP request directly using Requests and using a browser?\n",
    "\n",
    "(answer here)"
   ]
  },
  {
   "cell_type": "markdown",
   "metadata": {},
   "source": [
    "### **Exploration**\n",
    "Now, you should be able to get HTML content using Requests and parse it using BeautifulSoup inside your program. Once your program is terminated, the data will lost. How to access the data after program is closed?"
   ]
  },
  {
   "cell_type": "markdown",
   "metadata": {},
   "source": []
  }
 ],
 "metadata": {
  "kernelspec": {
   "display_name": ".venv",
   "language": "python",
   "name": "python3"
  },
  "language_info": {
   "codemirror_mode": {
    "name": "ipython",
    "version": 3
   },
   "file_extension": ".py",
   "mimetype": "text/x-python",
   "name": "python",
   "nbconvert_exporter": "python",
   "pygments_lexer": "ipython3",
   "version": "3.12.0"
  }
 },
 "nbformat": 4,
 "nbformat_minor": 2
}
