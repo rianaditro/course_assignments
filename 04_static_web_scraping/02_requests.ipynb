{
 "cells": [
  {
   "cell_type": "code",
   "execution_count": 1,
   "metadata": {},
   "outputs": [
    {
     "ename": "ModuleNotFoundError",
     "evalue": "No module named 'requests'",
     "output_type": "error",
     "traceback": [
      "\u001b[1;31m---------------------------------------------------------------------------\u001b[0m",
      "\u001b[1;31mModuleNotFoundError\u001b[0m                       Traceback (most recent call last)",
      "Cell \u001b[1;32mIn[1], line 1\u001b[0m\n\u001b[1;32m----> 1\u001b[0m \u001b[38;5;28;01mimport\u001b[39;00m\u001b[38;5;250m \u001b[39m\u001b[38;5;21;01mrequests\u001b[39;00m\n\u001b[0;32m      2\u001b[0m \u001b[38;5;28;01mimport\u001b[39;00m\u001b[38;5;250m \u001b[39m\u001b[38;5;21;01mos\u001b[39;00m\n\u001b[0;32m      3\u001b[0m \u001b[38;5;28;01mimport\u001b[39;00m\u001b[38;5;250m \u001b[39m\u001b[38;5;21;01mjson\u001b[39;00m\n",
      "\u001b[1;31mModuleNotFoundError\u001b[0m: No module named 'requests'"
     ]
    }
   ],
   "source": [
    "import requests\n",
    "import os\n",
    "import json\n",
    "\n",
    "\"\"\"\n",
    "Practice Exercise: Requests Basics\n",
    "\n",
    "Complete each function below by following the TODO instructions. \n",
    "Each function includes the objective of the task and the expected output.\n",
    "\"\"\""
   ]
  },
  {
   "cell_type": "code",
   "execution_count": null,
   "metadata": {},
   "outputs": [],
   "source": [
    "# You can change the URL to any URL you like\n",
    "# Execute this cell before continue\n",
    "example_url = \"https://example.com\"\n",
    "response = requests.get(example_url)"
   ]
  },
  {
   "cell_type": "code",
   "execution_count": null,
   "metadata": {},
   "outputs": [],
   "source": [
    "\"\"\"\n",
    "Objective: Understand the result of requests.get()\n",
    "\"\"\"\n",
    "# TODO: Print the response object and its type\n",
    "# TODO: Print the status code of the response\n",
    "# TODO: Print the reason phrase of the response"
   ]
  },
  {
   "cell_type": "code",
   "execution_count": null,
   "metadata": {},
   "outputs": [],
   "source": [
    "\"\"\"\n",
    "Objective: Compare the output of the response.text and response.content methods.\n",
    "\"\"\"\n",
    "# TODO: Print the first 100 characters of the response text\n",
    "# TODO: Print the first 100 characters of the response content\n",
    "# TODO: Print the length of the response text\n",
    "# TODO: Print the length of the response content\n",
    "# TODO: Print the type of the response text\n",
    "# TODO: Print the type of the response content\n",
    "# TODO: Save the response text to a file\n",
    "# TODO: Save the response content to a file"
   ]
  },
  {
   "cell_type": "code",
   "execution_count": null,
   "metadata": {},
   "outputs": [],
   "source": [
    "\"\"\" \n",
    "Objective: Use .content to download an image file\n",
    "\"\"\"\n",
    "# image_url = \"https://via.placeholder.com/150\"\n",
    "image_url = \"https://i.etsystatic.com/19635104/r/il/887285/2591051093/il_570xN.2591051093_f2sk.jpg\"\n",
    "output_file = \"image.jpg\"\n",
    "subfolder = \"images\"\n",
    "\n",
    "# TODO: Use requests to download the image binary (image_url)    \n",
    "# You can change the image url to any image you like\n",
    "# TODO: Write the image binary to a file (output_file)\n",
    "# TODO: Locate the image file in a sub-folder\n",
    "# TODO: Print a message indicating the file has been saved\n"
   ]
  },
  {
   "cell_type": "code",
   "execution_count": null,
   "metadata": {},
   "outputs": [],
   "source": [
    "\"\"\" \n",
    "Objective: Implement looping to see how the website response to over-requesting\n",
    "\"\"\"\n",
    "\n",
    "# TODO: Define the URL to fetch data from, you can use example_url variable\n",
    "# TODO: Iterate over 100 times to fetch data from the URL\n",
    "# TODO: Print the status code and reason phrase of the response of each iteration\n",
    "\n",
    "new_url = \"https://api.github.com/users/octocat\"\n",
    "# TODO: Do the same as above but use the new_url variable"
   ]
  },
  {
   "cell_type": "code",
   "execution_count": null,
   "metadata": {},
   "outputs": [],
   "source": [
    "\"\"\" \n",
    "Objective: Understanding HTTP error codes\n",
    "\"\"\"\n",
    "urls = [\n",
    "    \"https://httpstat.us/400\", \"https://httpstat.us/403\", \"https://httpstat.us/404\",\n",
    "    \"https://httpstat.us/500\", \"https://httpstat.us/503\", \"https://httpstat.us/504\",\n",
    "    \"https://httpstat.us/521\", \"https://httpstat.us/522\", \"https://httpstat.us/200\"\n",
    "]\n",
    "\n",
    "# TODO: Loop through each URL in the list\n",
    "# TODO: Use requests to fetch the URL\n",
    "# TODO: Print the status code and its reason"
   ]
  },
  {
   "cell_type": "code",
   "execution_count": null,
   "metadata": {},
   "outputs": [],
   "source": [
    "\"\"\"\n",
    "Objective: Implement timeout to limit waiting time for a response\n",
    "\"\"\"\n",
    "\n",
    "adidas_url = \"https://www.adidas.de/api/products/ID9465\"\n",
    "\n",
    "# TODO: Use requests to fetch the adidas URL without timeout and see how long you can wait\n",
    "# TODO: Use requests to fetch the adidas URL with timeout equals to 5 seconds\n",
    "# TODO: Use try-except to handle the timeout error"
   ]
  },
  {
   "cell_type": "code",
   "execution_count": null,
   "metadata": {},
   "outputs": [],
   "source": [
    "\"\"\" \n",
    "Objective: Handle failed requests in the middle of a loop\n",
    "\"\"\"\n",
    "\n",
    "urls = [\n",
    "    \"https://httpstat.us/200\", \n",
    "    \"invalid_url.com\",\n",
    "    \"https://httpstat.us/200\", \n",
    "    \"https://www.adidas.de/api/products/ID9465\"\n",
    "]\n",
    "\n",
    "# TODO: Loop through each URL in the list\n",
    "# TODO: Use requests to fetch the URL\n",
    "# TODO: Handle HTTP error and print the error message\n",
    "# TODO: Handle all other exceptions (RequestException)"
   ]
  },
  {
   "cell_type": "code",
   "execution_count": null,
   "metadata": {},
   "outputs": [],
   "source": [
    "\"\"\" \n",
    "Objective: Get response in JSON format\n",
    "\"\"\"\n",
    "api_url = \"https://api.ipify.org?format=json\"\n",
    "\n",
    "# TODO: Use requests to fetch your IP from the API (api_url)\n",
    "# TODO: Compare the response using both .text and .json()\n",
    "# TODO: Extract the IP address from the JSON response\n",
    "# TODO: Print your IP"
   ]
  },
  {
   "cell_type": "code",
   "execution_count": null,
   "metadata": {},
   "outputs": [],
   "source": [
    "\"\"\" \n",
    "Objective: Handling JSON output file\n",
    "\"\"\"\n",
    "api_url = \"https://jsonplaceholder.typicode.com/posts\"\n",
    "output_file = \"posts.json\"\n",
    "\n",
    "# TODO: Use requests.get() to fetch JSON data from the API (api_url)\n",
    "# TODO: Write the JSON response to a file (output_file)\n",
    "# TODO: Print a message indicating the file has been saved"
   ]
  },
  {
   "cell_type": "code",
   "execution_count": null,
   "metadata": {},
   "outputs": [],
   "source": [
    "\"\"\" \n",
    "Objective: Send a POST request with payload data\n",
    "\"\"\"\n",
    "api_url = \"https://httpbin.org/post\"\n",
    "payload = {\"name\": \"Your Name\", \"age\": 40}\n",
    "\n",
    "# TODO: Replace name value with your name in the payload\n",
    "# TODO: Use requests.post() to send payload (payload) to the API (api_url)\n",
    "# TODO: Print the JSON response from the POST request and print back your payload data"
   ]
  }
 ],
 "metadata": {
  "kernelspec": {
   "display_name": ".venv",
   "language": "python",
   "name": "python3"
  },
  "language_info": {
   "codemirror_mode": {
    "name": "ipython",
    "version": 3
   },
   "file_extension": ".py",
   "mimetype": "text/x-python",
   "name": "python",
   "nbconvert_exporter": "python",
   "pygments_lexer": "ipython3",
   "version": "3.12.0"
  }
 },
 "nbformat": 4,
 "nbformat_minor": 2
}
