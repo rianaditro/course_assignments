{
 "cells": [
  {
   "cell_type": "markdown",
   "metadata": {},
   "source": [
    "### **Export Data with Pandas**\n",
    "Pandas is a powerful and user-friendly Python library that is widely used for data manipulation and analysis. It helps you work with structured data (like spreadsheets or databases) efficiently and intuitively. For someone who isn’t a programmer, you can think of Pandas as a versatile tool for organizing and processing data—similar to using a digital spreadsheet (like Excel) but with the added capability of handling large datasets programmatically."
   ]
  },
  {
   "cell_type": "code",
   "execution_count": null,
   "metadata": {},
   "outputs": [],
   "source": [
    "import pandas as pd\n",
    "import numpy as np\n",
    "\n",
    "\"\"\"\n",
    "Practice Exercise: Pandas Basics\n",
    "Library to install pandas, numpy, openpyxl.\n",
    "\n",
    "Complete each function below by following the TODO instructions. \n",
    "Each function includes the objective of the task and the expected output.\n",
    "\n",
    "Use Pandas official documentation for reference.\n",
    "https://pandas.pydata.org/docs/user_guide/index.html\n",
    "\"\"\""
   ]
  },
  {
   "cell_type": "code",
   "execution_count": null,
   "metadata": {},
   "outputs": [],
   "source": [
    "\"\"\"\n",
    "Objective: Convert data list into a Pandas DataFrame\n",
    "\"\"\"\n",
    "name = [\"John Doe\", \"Nadia\", \"Serena\", \"Tessa\", \"Una\"]\n",
    "age = [25, 31, 23, 17, 23]\n",
    "city = [\"New York\", \"London\", \"Paris\", \"Tokyo\", \"Sydney\"]\n",
    "\n",
    "# TODO: Pair the list into a dictionary\n",
    "# TODO: Create a dataframe from the dictionary\n",
    "# TODO: Validate the dataframe output and the object type"
   ]
  },
  {
   "cell_type": "code",
   "execution_count": null,
   "metadata": {},
   "outputs": [],
   "source": [
    "\"\"\"\n",
    "Objective: Convert data dictionaries into a Pandas DataFrame\n",
    "\"\"\"\n",
    "dict_1 = {\"name\": \"John Doe\", \"age\": 25, \"city\": \"New York\"}\n",
    "dict_2 = {\"name\": \"Nadia\", \"age\": 31, \"city\": \"London\"}\n",
    "dict_3 = {\"name\": \"Serena\", \"age\": 23, \"city\": \"Paris\"}\n",
    "dict_4 = {\"name\": \"Tessa\", \"age\": 17, \"city\": \"Tokyo\"}\n",
    "dict_5 = {\"name\": \"Una\", \"age\": 23, \"city\": \"Sydney\"}\n",
    "\n",
    "# TODO: Pair the dictionary into a list\n",
    "# TODO: Create a dataframe from the list\n",
    "# TODO: Validate the dataframe output and the object type"
   ]
  },
  {
   "cell_type": "code",
   "execution_count": null,
   "metadata": {},
   "outputs": [],
   "source": [
    "\"\"\"\n",
    "Objective: Adding new columns to a Pandas DataFrame\n",
    "\"\"\"\n",
    "# TODO: Assign the new list into a dataframe column name that not exist yet\n",
    "# TODO: Validate the dataframe output"
   ]
  },
  {
   "cell_type": "code",
   "execution_count": null,
   "metadata": {},
   "outputs": [],
   "source": [
    "\"\"\"\n",
    "Objective: Adding new rows to a Pandas DataFrame\n",
    "\"\"\"\n",
    "new_row = {\"name\": \"Victoria\", \"age\": 30, \"city\": \"New York\", \"is_married\": True}\n",
    "\n",
    "# TODO: Create a dataframe from the dictionary\n",
    "# TODO: Concatenate previous dataframe with new dataframe and ignore index\n",
    "# TODO: Validate the dataframe output"
   ]
  },
  {
   "cell_type": "code",
   "execution_count": null,
   "metadata": {},
   "outputs": [],
   "source": [
    "\"\"\" \n",
    "Objective: Renaming columns\n",
    "\"\"\"\n",
    "# TODO: Create a dictionary of {old column: new column} in columns variable\n",
    "# TODO: Use .rename(columns=columns) and assign columns variable as parameter\n",
    "# TODO: Check the new renamed dataframe"
   ]
  },
  {
   "cell_type": "code",
   "execution_count": null,
   "metadata": {},
   "outputs": [],
   "source": [
    "\"\"\"\n",
    "Objective: Export as CSV\n",
    "\"\"\"\n",
    "# TODO: Use .to_csv(filename) to export as csv file"
   ]
  },
  {
   "cell_type": "code",
   "execution_count": null,
   "metadata": {},
   "outputs": [],
   "source": [
    "\"\"\"\n",
    "Objective: Export as Excel without index\n",
    "\"\"\"\n",
    "# TODO: Use .to_excel(filename, index=False) to export as excel file without index"
   ]
  },
  {
   "cell_type": "markdown",
   "metadata": {},
   "source": [
    "### **Reflection**\n",
    "Is there any difference in data represented as a csv or an excel using Pandas?\n",
    "\n",
    "(answer here)"
   ]
  },
  {
   "cell_type": "markdown",
   "metadata": {},
   "source": [
    "### **Exploration**\n",
    "Pandas has .read_html() methods that dirrectly reading HTML content or even a URL. Can we replace the need of Requests+BeautifulSoup by just using pandas.read_html()?\n",
    "Try by scraping https://www.scrapingcourse.com/table-parsing using requests to get the HTML and pandas to extract the HTML content."
   ]
  },
  {
   "cell_type": "markdown",
   "metadata": {},
   "source": []
  }
 ],
 "metadata": {
  "kernelspec": {
   "display_name": "course_assignments-W1NPJChe",
   "language": "python",
   "name": "python3"
  },
  "language_info": {
   "codemirror_mode": {
    "name": "ipython",
    "version": 3
   },
   "file_extension": ".py",
   "mimetype": "text/x-python",
   "name": "python",
   "nbconvert_exporter": "python",
   "pygments_lexer": "ipython3",
   "version": "3.10.12"
  }
 },
 "nbformat": 4,
 "nbformat_minor": 2
}
