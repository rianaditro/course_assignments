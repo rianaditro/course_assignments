{
 "cells": [
  {
   "cell_type": "markdown",
   "metadata": {},
   "source": [
    "### **Export Data with Pandas**\n",
    "Pandas is a powerful and user-friendly Python library that is widely used for data manipulation and analysis. It helps you work with structured data (like spreadsheets or databases) efficiently and intuitively. For someone who isn’t a programmer, you can think of Pandas as a versatile tool for organizing and processing data—similar to using a digital spreadsheet (like Excel) but with the added capability of handling large datasets programmatically."
   ]
  },
  {
   "cell_type": "code",
   "execution_count": 1,
   "metadata": {},
   "outputs": [
    {
     "data": {
      "text/plain": [
       "'\\nPractice Exercise: Pandas Basics\\nLibrary to install pandas, numpy, openpyxl.\\n\\nComplete each function below by following the TODO instructions. \\nEach function includes the objective of the task and the expected output.\\n\\nUse Pandas official documentation for reference.\\nhttps://pandas.pydata.org/docs/user_guide/index.html\\n'"
      ]
     },
     "execution_count": 1,
     "metadata": {},
     "output_type": "execute_result"
    }
   ],
   "source": [
    "import pandas as pd\n",
    "import numpy as np\n",
    "\n",
    "\"\"\"\n",
    "Practice Exercise: Pandas Basics\n",
    "Library to install pandas, numpy, openpyxl.\n",
    "\n",
    "Complete each function below by following the TODO instructions. \n",
    "Each function includes the objective of the task and the expected output.\n",
    "\n",
    "Use Pandas official documentation for reference.\n",
    "https://pandas.pydata.org/docs/user_guide/index.html\n",
    "\"\"\""
   ]
  },
  {
   "cell_type": "code",
   "execution_count": 4,
   "metadata": {},
   "outputs": [
    {
     "name": "stdout",
     "output_type": "stream",
     "text": [
      "<class 'pandas.core.frame.DataFrame'>\n",
      "       Name  Age      City\n",
      "0  John Doe   25  New York\n",
      "1     Nadia   31    London\n",
      "2    Serena   23     Paris\n",
      "3     Tessa   17     Tokyo\n",
      "4       Una   23    Sydney\n"
     ]
    }
   ],
   "source": [
    "import pandas as pd\n",
    "\n",
    "\"\"\"\n",
    "Objective: Convert data list into a Pandas DataFrame\n",
    "\"\"\"\n",
    "name = [\"John Doe\", \"Nadia\", \"Serena\", \"Tessa\", \"Una\"]\n",
    "age = [25, 31, 23, 17, 23]\n",
    "city = [\"New York\", \"London\", \"Paris\", \"Tokyo\", \"Sydney\"]\n",
    "\n",
    "# TODO: Pair the list into a dictionary\n",
    "data = {\n",
    "    \"Name\": name,\n",
    "    \"Age\": age,\n",
    "    \"City\": city\n",
    "}\n",
    "\n",
    "# TODO: Create a dataframe from the dictionary\n",
    "df = pd.DataFrame(data)\n",
    "\n",
    "# TODO: Validate the dataframe output and the object type\n",
    "# print(type(df))\n",
    "print(df)"
   ]
  },
  {
   "cell_type": "code",
   "execution_count": 5,
   "metadata": {},
   "outputs": [
    {
     "name": "stdout",
     "output_type": "stream",
     "text": [
      "       name  age      city\n",
      "0  John Doe   25  New York\n",
      "1     Nadia   31    London\n",
      "2    Serena   23     Paris\n",
      "3     Tessa   17     Tokyo\n",
      "4       Una   23    Sydney\n"
     ]
    }
   ],
   "source": [
    "\"\"\"\n",
    "Objective: Convert data dictionaries into a Pandas DataFrame\n",
    "\"\"\"\n",
    "dict_1 = {\"name\": \"John Doe\", \"age\": 25, \"city\": \"New York\"}\n",
    "dict_2 = {\"name\": \"Nadia\", \"age\": 31, \"city\": \"London\"}\n",
    "dict_3 = {\"name\": \"Serena\", \"age\": 23, \"city\": \"Paris\"}\n",
    "dict_4 = {\"name\": \"Tessa\", \"age\": 17, \"city\": \"Tokyo\"}\n",
    "dict_5 = {\"name\": \"Una\", \"age\": 23, \"city\": \"Sydney\"}\n",
    "\n",
    "# TODO: Pair the dictionary into a list\n",
    "data = [dict_1, dict_2, dict_3, dict_4, dict_5]\n",
    "\n",
    "# TODO: Create a dataframe from the list\n",
    "dataFrame = pd.DataFrame(data)\n",
    "\n",
    "# TODO: Validate the dataframe output and the object type\n",
    "print(dataFrame)"
   ]
  },
  {
   "cell_type": "code",
   "execution_count": 6,
   "metadata": {},
   "outputs": [
    {
     "name": "stdout",
     "output_type": "stream",
     "text": [
      "       name  age      city    Country\n",
      "0  John Doe   25  New York        USA\n",
      "1     Nadia   31    London         UK\n",
      "2    Serena   23     Paris     France\n",
      "3     Tessa   17     Tokyo      Japan\n",
      "4       Una   23    Sydney  Australia\n"
     ]
    }
   ],
   "source": [
    "\"\"\"\n",
    "Objective: Adding new columns to a Pandas DataFrame\n",
    "\"\"\"\n",
    "# TODO: Assign the new list into a dataframe column name that not exist yet\n",
    "dataFrame[\"Country\"] = [\"USA\", \"UK\", \"France\", \"Japan\", \"Australia\"]\n",
    "\n",
    "# TODO: Validate the dataframe output\n",
    "print(dataFrame)\n",
    "\n"
   ]
  },
  {
   "cell_type": "code",
   "execution_count": 7,
   "metadata": {},
   "outputs": [
    {
     "name": "stdout",
     "output_type": "stream",
     "text": [
      "       name  age      city    Country is_married\n",
      "0  John Doe   25  New York        USA        NaN\n",
      "1     Nadia   31    London         UK        NaN\n",
      "2    Serena   23     Paris     France        NaN\n",
      "3     Tessa   17     Tokyo      Japan        NaN\n",
      "4       Una   23    Sydney  Australia        NaN\n",
      "5  Victoria   30  New York        NaN       True\n"
     ]
    }
   ],
   "source": [
    "\"\"\"\n",
    "Objective: Adding new rows to a Pandas DataFrame\n",
    "\"\"\"\n",
    "new_row = {\"name\": \"Victoria\", \"age\": 30, \"city\": \"New York\", \"is_married\": True}\n",
    "\n",
    "# TODO: Create a dataframe from the dictionary\n",
    "new_row_df = pd.DataFrame([new_row])\n",
    "# TODO: Concatenate previous dataframe with new dataframe and ignore index\n",
    "dataFrame = pd.concat([dataFrame, new_row_df], ignore_index=True)\n",
    "# TODO: Validate the dataframe output\n",
    "print(dataFrame)"
   ]
  },
  {
   "cell_type": "code",
   "execution_count": 8,
   "metadata": {},
   "outputs": [
    {
     "name": "stdout",
     "output_type": "stream",
     "text": [
      "  full_name  age      city    Country\n",
      "0  John Doe   25  New York        USA\n",
      "1     Nadia   31    London         UK\n",
      "2    Serena   23     Paris     France\n",
      "3     Tessa   17     Tokyo      Japan\n",
      "4       Una   23    Sydney  Australia\n"
     ]
    }
   ],
   "source": [
    "\"\"\" \n",
    "Objective: Renaming columns\n",
    "\"\"\"\n",
    "\n",
    "# TODO: Create a dictionary of {old column: new column} in columns variable\n",
    "rename_column = {\"name\": \"full_name\"}\n",
    "\n",
    "# TODO: Use .rename(columns=columns) and assign columns variable as parameter\n",
    "dataFrame = dataFrame.rename(columns=rename_column)\n",
    "\n",
    "# TODO: Check the new renamed dataframe\n",
    "print(dataFrame)\n"
   ]
  },
  {
   "cell_type": "code",
   "execution_count": 9,
   "metadata": {},
   "outputs": [],
   "source": [
    "\"\"\"\n",
    "Objective: Export as CSV\n",
    "\"\"\"\n",
    "# TODO: Use .to_csv(filename) to export as csv file\n",
    "dataFrame.to_csv(\"data.csv\")\n"
   ]
  },
  {
   "cell_type": "code",
   "execution_count": 12,
   "metadata": {},
   "outputs": [
    {
     "name": "stdout",
     "output_type": "stream",
     "text": [
      "Collecting openpyxl\n",
      "  Downloading openpyxl-3.1.5-py2.py3-none-any.whl.metadata (2.5 kB)\n",
      "Collecting et-xmlfile (from openpyxl)\n",
      "  Downloading et_xmlfile-2.0.0-py3-none-any.whl.metadata (2.7 kB)\n",
      "Downloading openpyxl-3.1.5-py2.py3-none-any.whl (250 kB)\n",
      "\u001b[2K   \u001b[90m━━━━━━━━━━━━━━━━━━━━━━━━━━━━━━━━━━━━━━━━\u001b[0m \u001b[32m250.9/250.9 kB\u001b[0m \u001b[31m3.7 MB/s\u001b[0m eta \u001b[36m0:00:00\u001b[0ma \u001b[36m0:00:01\u001b[0m\n",
      "\u001b[?25hDownloading et_xmlfile-2.0.0-py3-none-any.whl (18 kB)\n",
      "Installing collected packages: et-xmlfile, openpyxl\n",
      "Successfully installed et-xmlfile-2.0.0 openpyxl-3.1.5\n",
      "Note: you may need to restart the kernel to use updated packages.\n"
     ]
    }
   ],
   "source": [
    "%pip install openpyxl\n",
    "\n",
    "import openpyxl\n",
    "\"\"\"\n",
    "Objective: Export as Excel without index\n",
    "\"\"\"\n",
    "# TODO: Use .to_excel(filename, index=False) to export as excel file without index\n",
    "dataFrame.to_excel(\"data.xlsx\", index=False)\n"
   ]
  },
  {
   "cell_type": "markdown",
   "metadata": {},
   "source": [
    "### **Reflection**\n",
    "Is there any difference in data represented as a csv or an excel using Pandas?\n",
    "\n",
    "yes, the difference is in csv format data is separated with commas (,) for one line of column and if excel file the data is displayed ona a table format with rows and columns"
   ]
  },
  {
   "cell_type": "markdown",
   "metadata": {},
   "source": [
    "### **Exploration**\n",
    "Pandas has .read_html() methods that dirrectly reading HTML content or even a URL. Can we replace the need of Requests+BeautifulSoup by just using pandas.read_html()?\n",
    "Try by scraping https://www.scrapingcourse.com/table-parsing using requests to get the HTML and pandas to extract the HTML content."
   ]
  },
  {
   "cell_type": "markdown",
   "metadata": {},
   "source": []
  }
 ],
 "metadata": {
  "kernelspec": {
   "display_name": "venv",
   "language": "python",
   "name": "python3"
  },
  "language_info": {
   "codemirror_mode": {
    "name": "ipython",
    "version": 3
   },
   "file_extension": ".py",
   "mimetype": "text/x-python",
   "name": "python",
   "nbconvert_exporter": "python",
   "pygments_lexer": "ipython3",
   "version": "3.12.3"
  }
 },
 "nbformat": 4,
 "nbformat_minor": 2
}
