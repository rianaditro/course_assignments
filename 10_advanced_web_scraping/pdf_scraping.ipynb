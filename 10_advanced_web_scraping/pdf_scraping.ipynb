{
 "cells": [
  {
   "cell_type": "markdown",
   "metadata": {},
   "source": [
    "### **pdfplumber**\n",
    "In today’s digital age, many critical documents—ranging from financial reports to academic papers—are available only in PDF format. Extracting data from PDFs can be challenging due to their complex layouts and structures. **pdfplumber** is a powerful Python library that simplifies the process of scraping text, tables, and metadata from PDF files.  \n",
    "\n",
    "While **pdfplumber** provides customizable methods for extracting text and tables, it does not include Optical Character Recognition (OCR) capabilities. Therefore, it cannot extract text from PDFs generated from image files.\n",
    "\n",
    "Read the [documentation](https://github.com/jsvine/pdfplumber) for further details.\n",
    "\n",
    "For our practice we will use https://github.com/jsvine/pdfplumber/blob/c562774331905a9770f03c0aaba13a69c7c6d683/examples/pdfs/ca-warn-report.pdf\n"
   ]
  },
  {
   "cell_type": "code",
   "execution_count": null,
   "metadata": {},
   "outputs": [],
   "source": [
    "\"\"\"\n",
    "Objective: Read metadata from a document\n",
    "\"\"\"\n",
    "\n",
    "import pdfplumber\n",
    "\n",
    "# TODO: Download the pdf file and replace it to the current folder\n",
    "\n",
    "filename = \"ca-warn-report.pdf\"\n",
    "\n",
    "pdf = pdfplumber.open(filename)\n",
    "metadata = pdf.metadata\n",
    "print(\"PDF Metadata:\")\n",
    "print(metadata)\n",
    "\n",
    "# TODO: What information is available in the metadata?"
   ]
  },
  {
   "cell_type": "code",
   "execution_count": null,
   "metadata": {},
   "outputs": [],
   "source": [
    "\"\"\"\n",
    "Objective: Open PDF file and display the page as image\n",
    "\"\"\"\n",
    "\n",
    "first_page = pdf.pages[0] # get the first page\n",
    "img = first_page.to_image(resolution=300) # convert the page file to image file\n",
    "img.show() # this will show the image in your default image viewer\n",
    "# this will help you to validate the page that you are getting instead of opening it manually\n",
    "\n",
    "# TODO: You might realize that the image file have low resolution, improve the resolution by using resolution parameter\n",
    "# TODO: Use pages method to count the number of pages"
   ]
  },
  {
   "cell_type": "code",
   "execution_count": null,
   "metadata": {},
   "outputs": [],
   "source": [
    "\"\"\"\n",
    "Objective: Check if pdfplumber able to detect the table\n",
    "\"\"\"\n",
    "\n",
    "img.debug_tablefinder()\n",
    "# TODO: What is the output? What is the difference from the origin page?"
   ]
  },
  {
   "cell_type": "code",
   "execution_count": null,
   "metadata": {},
   "outputs": [],
   "source": [
    "\"\"\"\n",
    "Objective: Extract table for the first page\n",
    "\"\"\"\n",
    "\n",
    "tables = first_page.extract_table()\n",
    "tables\n",
    "# TODO: You might realize that the output is not clean. What is the issue?\n",
    "# TODO: pdfplumber provides methods for `extract_tables()` and `extract_table()`. What is the difference, and when should each be used?"
   ]
  },
  {
   "cell_type": "code",
   "execution_count": null,
   "metadata": {},
   "outputs": [],
   "source": [
    "\"\"\"\n",
    "Objective: Data Cleansing\n",
    "\"\"\"\n",
    "\n",
    "# TODO: Analyze the previous output structure, decide which is column (header) and which is row (data)\n",
    "\n",
    "import pandas as pd\n",
    "\n",
    "header = tables[0] # TODO: Replace the value with the index slicing from the previous output\n",
    "data = tables[1:] # TODO: Replace the value with the index slicing from the previous output\n",
    "\n",
    "df = pd.DataFrame(data, columns=header)\n",
    "for column in [\"Effective\", \"Received\"]:\n",
    "    df[column] = df[column].str.replace(\" \", \"\") # this will remove unnecassary space\n",
    "\n",
    "df\n",
    "\n",
    "# TODO: Convert above code to function\n",
    "# TODO: Make sure its working for the first page, middle page and end page"
   ]
  },
  {
   "cell_type": "code",
   "execution_count": null,
   "metadata": {},
   "outputs": [],
   "source": [
    "\"\"\"\n",
    "Objective: Extract all the tables\n",
    "\"\"\"\n",
    "\n",
    "result = []\n",
    "\n",
    "for i in range(3, 7): # sample page range\n",
    "    table = pdf.pages[i].extract_table() # extract the table\n",
    "    df = pd.DataFrame(data) # convert to dataframe\n",
    "    result.append(df) # append to the list\n",
    "\n",
    "df = pd.concat(result) # concat all the dataframe\n",
    "df\n",
    "    \n",
    "\n",
    "# TODO: Improve the code to extract all the tables from all the pages\n",
    "# TODO: Make sure the header and the footer is included\n",
    "# TODO: Clean the data"
   ]
  },
  {
   "cell_type": "code",
   "execution_count": null,
   "metadata": {},
   "outputs": [],
   "source": [
    "\"\"\"\n",
    "Objective: Extract words\n",
    "\"\"\"\n",
    "\n",
    "first_page.extract_words()\n",
    "\n",
    "# TODO: pdfplumber have methods for `extract_words()`, `extract_text()`. What is the difference, and when should each be used?"
   ]
  },
  {
   "cell_type": "code",
   "execution_count": null,
   "metadata": {},
   "outputs": [],
   "source": [
    "\"\"\"\n",
    "Objective: Handling undetectable table\n",
    "\"\"\"\n",
    "# TODO: Download this pdf file and replace it to the current folder \n",
    "download_this = \"https://www.bps.go.id/id/publication/2024/09/13/c96f4e54ed31739e138ea6f1/tinjauan-regional-berdasarkan-pdrb-kabupaten-kota-2019-2023-buku-1-pulau-sumatera.html\"\n",
    "\n",
    "# TODO: Open page 75 and find the table using debug_tablefinder\n",
    "# TODO: \n",
    "\n",
    "pdf2 = pdfplumber.open(\"tinjauan-regional-berdasarkan-pdrb-kabupaten-kota-2019-2023--buku-1-pulau-sumatera.pdf\")\n",
    "page = pdf2.pages[75]\n",
    "page = page.to_image(resolution=300)\n",
    "page.debug_tablefinder()\n",
    "\n",
    "# TODO: Notice that the output shows the table is found, but the rows are not properly highlighted."
   ]
  },
  {
   "cell_type": "code",
   "execution_count": null,
   "metadata": {},
   "outputs": [],
   "source": [
    "\"\"\"\n",
    "Objective: Handling undetectable table\n",
    "\"\"\"\n",
    "page = pdf2.pages[75]\n",
    "for char in page.extract_words():\n",
    "    print(f\"Text: {char['text']}, Coordinates: (x0={char['x0']}, y0={char['top']}, x1={char['x1']}, y1={char['bottom']})\")\n",
    "\n",
    "# TODO: Using extract_words() method to locate the coordinate in table"
   ]
  },
  {
   "cell_type": "code",
   "execution_count": null,
   "metadata": {},
   "outputs": [],
   "source": [
    "\"\"\"\n",
    "Objective: Extracting with explicit coordinates\n",
    "\"\"\"\n",
    "xCoordinates = [353, 396, 438, 480, 522, 554] # the coordinates is generated using manual inspection on each word using extract_words()\n",
    "\n",
    "table = page.extract_table(table_settings={\n",
    "    \"vertical_strategy\": \"explicit\",\n",
    "    \"explicit_vertical_lines\": xCoordinates,\n",
    "    \"horizontal_strategy\": \"text\",\n",
    "})\n",
    "table\n",
    "\n",
    "# TODO: Clean this data to be more readable\n",
    "# TODO: Each page have 2 table, all table should be able to be merge in single table, how to do it? explain in the comment section below"
   ]
  },
  {
   "cell_type": "code",
   "execution_count": null,
   "metadata": {},
   "outputs": [],
   "source": [
    "\"\"\"\n",
    "Objective: Extracting non-table document (Opsional)\n",
    "\"\"\"\n",
    "\n",
    "# TODO: Download this pdf file and replace it to the current folder\n",
    "download_this = \"https://www.bps.go.id/id/publication/2023/09/29/8c2d8435fe0c552c6ffdc528/direktori-industri-manufaktur-indonesia-2023.html\"\n",
    "\n",
    "# TODO: Extract information you can get from this document"
   ]
  },
  {
   "cell_type": "markdown",
   "metadata": {},
   "source": [
    "### **Reflection**\n",
    "What challenges that might araise when extracting text from different documents?\n",
    "\n",
    "(answer here)"
   ]
  },
  {
   "cell_type": "markdown",
   "metadata": {},
   "source": [
    "### **Exploration**\n",
    "For further learning, explore the integration of Optical Character Recognition (OCR) to extract text from scanned PDFs or those with image-based content. Consider using the **pytesseract** module alongside libraries like **Pillow** for image processing."
   ]
  },
  {
   "cell_type": "markdown",
   "metadata": {},
   "source": []
  }
 ],
 "metadata": {
  "kernelspec": {
   "display_name": ".venv",
   "language": "python",
   "name": "python3"
  },
  "language_info": {
   "codemirror_mode": {
    "name": "ipython",
    "version": 3
   },
   "file_extension": ".py",
   "mimetype": "text/x-python",
   "name": "python",
   "nbconvert_exporter": "python",
   "pygments_lexer": "ipython3",
   "version": "3.10.12"
  }
 },
 "nbformat": 4,
 "nbformat_minor": 2
}
