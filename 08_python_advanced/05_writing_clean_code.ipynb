{
 "cells": [
  {
   "cell_type": "markdown",
   "metadata": {},
   "source": [
    "### **Writing Clean Python Code**\n",
    "Writing clean and readable code improves collaboration, debugging, and maintainability. Python follows the PEP 8 style guide to ensure consistency.\n",
    "\n",
    "Two essential tools help enforce coding standards:\n",
    "\n",
    "- Flake8: Identifies style violations and potential errors in a specific file.\n",
    "- Black: Automatically reformats a specific Python file for consistency.\n",
    "\n",
    "As a freelancer, your ability to consistently produce clean, readable, and well-documented code is one of the key factors that can lead to long-term success. Here's why it's important:\n",
    "1. Client Trust and Professionalism\n",
    "2. Collaboration and Teamwork\n",
    "3. Maintainability and Longevity\n",
    "4. Bug Prevention and Debugging\n",
    "5. Reputation and Referrals\n",
    "6. Time Efficiency\n",
    "\n",
    "Read the full PEP 8 – Style Guide for Python Code here https://peps.python.org/pep-0008/\n",
    "\n",
    "For this module, we will use file **bad_scripts.py** for practical case."
   ]
  },
  {
   "cell_type": "code",
   "execution_count": null,
   "metadata": {},
   "outputs": [],
   "source": [
    "\"\"\"\n",
    "Objective: Install and verify Flake8 and Black for code linting and formatting.\n",
    "\"\"\"\n",
    "# TODO: Check their versions\n",
    "# Command: flake8 --version\n",
    "# Command: black --version\n",
    "\n",
    "# TODO: If they are not installed, Install Flake8 and Black using pip\n",
    "# Command: pip install flake8 black\n",
    "\n",
    "# TODO: Copy-paste the terminal output here\n"
   ]
  },
  {
   "cell_type": "code",
   "execution_count": null,
   "metadata": {},
   "outputs": [],
   "source": [
    "\"\"\"\n",
    "Objective: Use Flake8 to analyze a specific Python file for style violations.\n",
    "\"\"\"\n",
    "# TODO: Create a file named `bad_script.py` with poor formatting.\n",
    "# TODO: Run Flake8 on this file.\n",
    "# TODO: Copy-paste the terminal output here\n",
    "# Command: flake8 bad_script.py\n",
    "\n"
   ]
  },
  {
   "cell_type": "code",
   "execution_count": null,
   "metadata": {},
   "outputs": [],
   "source": [
    "\"\"\"\n",
    "Objective: Interpret Flake8 warnings and fix code style issues.\n",
    "\"\"\"\n",
    "# TODO: Modify `bad_script.py` based on Flake8's output.\n",
    "# TODO: Re-run Flake8 to verify fixes.\n",
    "# TODO: Copy-paste the terminal output here\n"
   ]
  },
  {
   "cell_type": "code",
   "execution_count": null,
   "metadata": {},
   "outputs": [],
   "source": [
    "\"\"\"\n",
    "Objective: Automatically format a file using Black.\n",
    "\"\"\"\n",
    "# TODO: Run Black on `bad_script.py` to format it.\n",
    "# Command: black bad_script.py\n",
    "# TODO: Copy-paste the terminal output here\n"
   ]
  },
  {
   "cell_type": "code",
   "execution_count": null,
   "metadata": {},
   "outputs": [],
   "source": [
    "\"\"\"\n",
    "Objective: Preview the changes Black would make to the file.\n",
    "\"\"\"\n",
    "# TODO: Use Black in check mode to preview changes.\n",
    "# TODO: Copy-paste the terminal output here\n",
    "# Command: black --check bad_script.py\n"
   ]
  },
  {
   "cell_type": "code",
   "execution_count": null,
   "metadata": {},
   "outputs": [],
   "source": [
    "\"\"\"\n",
    "Objective: Practice using Black and Flake8 together.\n",
    "\"\"\"\n",
    "# TODO: Use Black and Flake8 to check your own code, duplicate your code as 'before.py' and 'after.py'\n",
    "# TODO: Run Black and Flake8 on 'before.py'\n",
    "# TODO: Improve the code in 'after.py'\n",
    "# TODO: Make sure 'after.py' passes both Black and Flake8 checks"
   ]
  },
  {
   "cell_type": "markdown",
   "metadata": {},
   "source": [
    "### **Reflection**\n",
    "How does writing clean and well-documented code affect your relationships with clients and other developers? Why is it important to prioritize code readability and maintainability?\n",
    "\n",
    "(answer here)"
   ]
  },
  {
   "cell_type": "markdown",
   "metadata": {},
   "source": [
    "### **Exploration**\n",
    "- Explore Pylint and compare it with Flake8.\n",
    "- Learn about mypy for type checking in Python.\n",
    "- Investigate pre-commit hooks for automating code quality enforcement."
   ]
  },
  {
   "cell_type": "markdown",
   "metadata": {},
   "source": []
  }
 ],
 "metadata": {
  "kernelspec": {
   "display_name": "course_assignments-W1NPJChe",
   "language": "python",
   "name": "python3"
  },
  "language_info": {
   "codemirror_mode": {
    "name": "ipython",
    "version": 3
   },
   "file_extension": ".py",
   "mimetype": "text/x-python",
   "name": "python",
   "nbconvert_exporter": "python",
   "pygments_lexer": "ipython3",
   "version": "3.10.12"
  }
 },
 "nbformat": 4,
 "nbformat_minor": 2
}
