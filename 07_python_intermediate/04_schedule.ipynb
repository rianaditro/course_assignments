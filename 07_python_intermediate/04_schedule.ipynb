{
 "cells": [
  {
   "cell_type": "markdown",
   "metadata": {},
   "source": [
    "### **Introduction to `schedule` in Python**"
   ]
  },
  {
   "cell_type": "markdown",
   "metadata": {},
   "source": [
    "The `schedule` library in Python is a lightweight, simple-to-use tool for scheduling tasks to run at specified intervals. It is ideal for running background jobs such as periodic web scraping, sending reminders, automating tasks, or any repetitive process that needs to run at regular intervals.\n",
    "\n",
    "It allows you to run functions periodically at intervals like every minute, hour, day, or even more specific schedules like every second or specific times of the day.\n",
    "\n",
    "---\n",
    "\n",
    "### **Basic Concepts in `schedule`**\n",
    "\n",
    "- **Job**: A function or task that you want to run on a scheduled basis.\n",
    "- **Interval**: The frequency at which the task should run (e.g., every 5 seconds, once a day, etc.).\n",
    "- **Scheduler**: The object that manages and executes scheduled jobs.\n",
    "\n",
    "---\n",
    "\n",
    "### **Installing `schedule`**\n",
    "\n",
    "To use the `schedule` library, you need to install it first. You can do so using pip:\n",
    "\n",
    "```bash\n",
    "pip install schedule\n",
    "```\n",
    "\n",
    "---\n",
    "\n",
    "### **How It Works**\n",
    "\n",
    "The `schedule` library is very simple to use. You define a function (job) and then use `schedule.every()` to specify when you want that job to run. Once set up, you run `schedule.run_pending()` in a loop to continuously check for pending jobs and execute them at the scheduled time.\n",
    "\n",
    "Here’s a basic structure:\n",
    "\n",
    "```python\n",
    "import schedule\n",
    "import time\n",
    "\n",
    "def job():\n",
    "    print(\"This is a scheduled job.\")\n",
    "\n",
    "# Schedule job to run every minute\n",
    "schedule.every(1).minute.do(job)\n",
    "\n",
    "# Loop to keep the script running and check for scheduled jobs\n",
    "while True:\n",
    "    schedule.run_pending()  # Execute the jobs that are due\n",
    "    time.sleep(1)  # Wait for 1 second before checking again\n",
    "```\n",
    "\n",
    "### **Common Scheduling Intervals**\n",
    "- `seconds`, `minutes`, `hours`: Schedule jobs at intervals like every 5 seconds or every 10 minutes.\n",
    "- `at(time_string)`: Schedule jobs to run at a specific time of the day (e.g., 9:00 AM).\n",
    "- `day.at(time_string)`: Schedule jobs to run at the same time every day.\n",
    "\n",
    "### **Key Features of `schedule`**\n",
    "1. **Interval-based Scheduling**:\n",
    "   ```python\n",
    "   schedule.every(10).seconds.do(job)  # Every 10 seconds\n",
    "   schedule.every().hour.do(job)  # Every hour\n",
    "   schedule.every().day.at(\"10:30\").do(job)  # Every day at 10:30 AM\n",
    "   ```\n",
    "   \n",
    "2. **Running Multiple Jobs**:\n",
    "   You can schedule multiple tasks at different intervals, like this:\n",
    "   ```python\n",
    "   schedule.every(1).minute.do(job1)\n",
    "   schedule.every(2).hours.do(job2)\n",
    "   ```\n",
    "\n",
    "3. **Job Cancellation**:\n",
    "   You can cancel scheduled jobs by calling `job.remove()`.\n",
    "\n",
    "4. **Job at Specific Times**:\n",
    "   You can schedule jobs to run at specific times of the day:\n",
    "   ```python\n",
    "   schedule.every().day.at(\"14:00\").do(job)  # Every day at 2:00 PM\n",
    "   ```\n",
    "\n",
    "---\n",
    "\n",
    "### **Example: Simple Job Every Second**\n",
    "\n",
    "```python\n",
    "import schedule\n",
    "import time\n",
    "\n",
    "def job():\n",
    "    print(\"This message prints every second.\")\n",
    "\n",
    "# Schedule job to run every second\n",
    "schedule.every(1).seconds.do(job)\n",
    "\n",
    "while True:\n",
    "    schedule.run_pending()  # Run scheduled jobs\n",
    "    time.sleep(1)  # Check for jobs every 1 second\n",
    "```\n",
    "\n",
    "---\n",
    "\n",
    "### **Conclusion**\n",
    "\n",
    "The `schedule` library is a great choice for scheduling simple, periodic tasks within Python applications. It provides an easy-to-use, Pythonic interface for defining recurring tasks without needing complex configurations or external tools. Whether you're automating web scraping, periodic checks, or other tasks, `schedule` can help you manage these operations effectively.\n",
    "\n",
    "---"
   ]
  },
  {
   "cell_type": "markdown",
   "metadata": {},
   "source": [
    "Please execute your script in a different file. Copy your scripts into the cells after finished for grading."
   ]
  },
  {
   "cell_type": "code",
   "execution_count": null,
   "metadata": {},
   "outputs": [],
   "source": [
    "\"\"\" \n",
    "Objective: Run job every n second\n",
    "\"\"\"\n",
    "\n",
    "import schedule\n",
    "import time\n",
    "\n",
    "# TODO: Create a job function that print a message\n",
    "# TODO: Create schedule for every 3 seconds\n",
    "\n",
    "def job():\n",
    "    print(\"I'm working...\")\n",
    "\n",
    "schedule.every(3).seconds.do(job)\n",
    "\n",
    "\n",
    "while True:\n",
    "    schedule.run_pending()\n",
    "    time.sleep(1)"
   ]
  },
  {
   "cell_type": "code",
   "execution_count": 4,
   "metadata": {},
   "outputs": [
    {
     "name": "stdout",
     "output_type": "stream",
     "text": [
      "I'm working...\n",
      "I'm working...\n",
      "I'm working...\n",
      "I'm working...\n"
     ]
    },
    {
     "ename": "KeyboardInterrupt",
     "evalue": "",
     "output_type": "error",
     "traceback": [
      "\u001b[1;31m---------------------------------------------------------------------------\u001b[0m",
      "\u001b[1;31mKeyboardInterrupt\u001b[0m                         Traceback (most recent call last)",
      "Cell \u001b[1;32mIn[4], line 15\u001b[0m\n\u001b[0;32m     13\u001b[0m \u001b[38;5;28;01mwhile\u001b[39;00m \u001b[38;5;28;01mTrue\u001b[39;00m:\n\u001b[0;32m     14\u001b[0m     schedule\u001b[38;5;241m.\u001b[39mrun_pending()\n\u001b[1;32m---> 15\u001b[0m     \u001b[43mtime\u001b[49m\u001b[38;5;241;43m.\u001b[39;49m\u001b[43msleep\u001b[49m\u001b[43m(\u001b[49m\u001b[38;5;241;43m1\u001b[39;49m\u001b[43m)\u001b[49m\n",
      "\u001b[1;31mKeyboardInterrupt\u001b[0m: "
     ]
    }
   ],
   "source": [
    "\"\"\" \n",
    "Objective: Run job every minute at specific seconds\n",
    "\"\"\"\n",
    "# TODO: Create a job function that print a message\n",
    "# TODO: Create schedule for every minute at the 23rd second\n",
    "# TODO: Apply loop to execute pending schedule\n",
    "\n",
    "def job():\n",
    "    print(\"I'm working...\")\n",
    "\n",
    "schedule.every().minute.at(\":23\").do(job)\n",
    "\n",
    "while True:\n",
    "    schedule.run_pending()\n",
    "    time.sleep(1)"
   ]
  },
  {
   "cell_type": "code",
   "execution_count": 5,
   "metadata": {},
   "outputs": [
    {
     "name": "stdout",
     "output_type": "stream",
     "text": [
      "I'm working...\n",
      "I'm working...\n",
      "I'm working...\n",
      "I'm working...\n",
      "I'm working...\n",
      "I'm working...\n",
      "I'm working...\n",
      "I'm working...\n",
      "I'm working...\n",
      "I'm working...\n"
     ]
    },
    {
     "ename": "KeyboardInterrupt",
     "evalue": "",
     "output_type": "error",
     "traceback": [
      "\u001b[1;31m---------------------------------------------------------------------------\u001b[0m",
      "\u001b[1;31mKeyboardInterrupt\u001b[0m                         Traceback (most recent call last)",
      "Cell \u001b[1;32mIn[5], line 15\u001b[0m\n\u001b[0;32m     13\u001b[0m \u001b[38;5;28;01mwhile\u001b[39;00m \u001b[38;5;28;01mTrue\u001b[39;00m:\n\u001b[0;32m     14\u001b[0m     schedule\u001b[38;5;241m.\u001b[39mrun_pending()\n\u001b[1;32m---> 15\u001b[0m     \u001b[43mtime\u001b[49m\u001b[38;5;241;43m.\u001b[39;49m\u001b[43msleep\u001b[49m\u001b[43m(\u001b[49m\u001b[38;5;241;43m1\u001b[39;49m\u001b[43m)\u001b[49m\n",
      "\u001b[1;31mKeyboardInterrupt\u001b[0m: "
     ]
    }
   ],
   "source": [
    "\"\"\" \n",
    "Objective: Run job at specific time\n",
    "\"\"\"\n",
    "# TODO: Create a job function that print a message\n",
    "# TODO: Create schedule for every day at 1 or 2 minutes in your current time\n",
    "# TODO: Apply loop to execute pending schedule\n",
    "\n",
    "def job():\n",
    "    print(\"I'm working...\")\n",
    "\n",
    "schedule.every().day.at(\"01:00\").do(job)\n",
    "\n",
    "while True:\n",
    "    schedule.run_pending()\n",
    "    time.sleep(1)"
   ]
  },
  {
   "cell_type": "code",
   "execution_count": null,
   "metadata": {},
   "outputs": [
    {
     "name": "stdout",
     "output_type": "stream",
     "text": [
      "Job executed!\n",
      "Job executed!\n",
      "Job executed!\n",
      "I'm working...\n",
      "Job executed!\n",
      "Job executed!\n",
      "Job executed!\n",
      "Job executed!\n",
      "Job executed!\n",
      "Job executed!\n",
      "Job executed!\n",
      "Job executed!\n",
      "I'm working...\n",
      "Job executed!\n",
      "Job executed!\n",
      "Job executed!\n",
      "Job executed!\n"
     ]
    },
    {
     "ename": "KeyboardInterrupt",
     "evalue": "",
     "output_type": "error",
     "traceback": [
      "\u001b[1;31m---------------------------------------------------------------------------\u001b[0m",
      "\u001b[1;31mKeyboardInterrupt\u001b[0m                         Traceback (most recent call last)",
      "Cell \u001b[1;32mIn[9], line 20\u001b[0m\n\u001b[0;32m     18\u001b[0m \u001b[38;5;28;01mwhile\u001b[39;00m \u001b[38;5;28;01mTrue\u001b[39;00m:\n\u001b[0;32m     19\u001b[0m     schedule\u001b[38;5;241m.\u001b[39mrun_pending()\n\u001b[1;32m---> 20\u001b[0m     \u001b[43mtime\u001b[49m\u001b[38;5;241;43m.\u001b[39;49m\u001b[43msleep\u001b[49m\u001b[43m(\u001b[49m\u001b[38;5;241;43m1\u001b[39;49m\u001b[43m)\u001b[49m\n\u001b[0;32m     22\u001b[0m \u001b[38;5;66;03m# Cancel the job\u001b[39;00m\n\u001b[0;32m     23\u001b[0m schedule\u001b[38;5;241m.\u001b[39mcancel_job(jobs)\n",
      "\u001b[1;31mKeyboardInterrupt\u001b[0m: "
     ]
    }
   ],
   "source": [
    "\"\"\" \n",
    "Objective: Canceling a job\n",
    "\"\"\"\n",
    "# TODO: Create a job function that print a message\n",
    "# TODO: Create schedule for every seconds\n",
    "# TODO: Cancel those job and see if your schedule executed or canceled\n",
    "\n",
    "import schedule\n",
    "import time\n",
    "\n",
    "def jobs():\n",
    "    print(\"Job executed!\")\n",
    "\n",
    "# Create a job that prints a message\n",
    "schedule.every(1).seconds.do(jobs)  # Run job every 1 second\n",
    "\n",
    "# Run the scheduler in a loop\n",
    "while True:\n",
    "    schedule.run_pending()\n",
    "    time.sleep(1)\n",
    "\n",
    "\n"
   ]
  },
  {
   "cell_type": "code",
   "execution_count": 10,
   "metadata": {},
   "outputs": [
    {
     "name": "stdout",
     "output_type": "stream",
     "text": [
      "Trying to run the scheduler after canceling the job...\n",
      "Job executed!\n",
      "Job executed!\n",
      "Job executed!\n",
      "Job executed!\n",
      "I'm working...\n",
      "I'm working...\n"
     ]
    }
   ],
   "source": [
    "# Cancel the job\n",
    "schedule.cancel_job(jobs)\n",
    "\n",
    "# Try to run the scheduler again to see if the job is canceled\n",
    "print(\"Trying to run the scheduler after canceling the job...\")\n",
    "schedule.run_pending()"
   ]
  },
  {
   "cell_type": "code",
   "execution_count": null,
   "metadata": {},
   "outputs": [],
   "source": [
    "\"\"\" \n",
    "Objective: Scheduling 2 job at once\n",
    "\"\"\"\n",
    "# TODO: Create 2 job function that print a message\n",
    "# TODO: Create schedule to execute the first job once\n",
    "# TODO: Create schedule to execute the second job every 3 seconds\n",
    "import schedule\n",
    "import time\n",
    "\n",
    "def job1():\n",
    "    print(\"Job 1 executed!\")\n",
    "\n",
    "def job2():\n",
    "    print(\"Job 2 executed!\")\n",
    "\n",
    "# Create a schedule to execute job1 once\n",
    "schedule.every().day.at(\"01:00\").do(job1)  # Run job1 once at 1:00 AM\n",
    "\n",
    "# Create a schedule to execute job2 every 3 seconds\n",
    "schedule.every(3).seconds.do(job2)  # Run job2 every 3 seconds\n",
    "\n",
    "# Run the scheduler in a loop\n",
    "while True:\n",
    "    schedule.run_pending()\n",
    "    time.sleep(1)"
   ]
  },
  {
   "cell_type": "code",
   "execution_count": null,
   "metadata": {},
   "outputs": [
    {
     "name": "stdout",
     "output_type": "stream",
     "text": [
      "Job 2 executed!\n",
      "Job 2 executed!\n",
      "Job 1 executed!\n",
      "Job 1 executed!\n",
      "Job 2 executed!\n",
      "Job 2 executed!\n",
      "Job 2 executed!\n",
      "Job 2 executed!\n",
      "Job 2 executed!\n",
      "Job 2 executed!\n",
      "Job 2 executed!\n",
      "Job 2 executed!\n",
      "Job 2 executed!\n",
      "Job 1 executed!\n",
      "Job 1 executed!\n",
      "Job 1 executed!\n",
      "Job 2 executed!\n",
      "Job 2 executed!\n",
      "Job 2 executed!\n",
      "Job 2 executed!\n",
      "Job 2 executed!\n",
      "Job 2 executed!\n"
     ]
    },
    {
     "ename": "KeyboardInterrupt",
     "evalue": "",
     "output_type": "error",
     "traceback": [
      "\u001b[1;31m---------------------------------------------------------------------------\u001b[0m",
      "\u001b[1;31mKeyboardInterrupt\u001b[0m                         Traceback (most recent call last)",
      "Cell \u001b[1;32mIn[17], line 22\u001b[0m\n\u001b[0;32m     20\u001b[0m \u001b[38;5;28;01mwhile\u001b[39;00m \u001b[38;5;28;01mTrue\u001b[39;00m:\n\u001b[0;32m     21\u001b[0m     schedule\u001b[38;5;241m.\u001b[39mrun_pending()\n\u001b[1;32m---> 22\u001b[0m     \u001b[43mtime\u001b[49m\u001b[38;5;241;43m.\u001b[39;49m\u001b[43msleep\u001b[49m\u001b[43m(\u001b[49m\u001b[38;5;241;43m1\u001b[39;49m\u001b[43m)\u001b[49m\n",
      "\u001b[1;31mKeyboardInterrupt\u001b[0m: "
     ]
    }
   ],
   "source": [
    "\"\"\" \n",
    "Objective: Running all job for the first time before the actual schedule time\n",
    "\"\"\"\n",
    "# TODO: Create 2 job functions\n",
    "# TODO: Create schedule for every 4 seconds for the first job\n",
    "# TODO: Create schedule for every seconds for the second job\n",
    "# TODO: Run all job at first code execution\n",
    "\n",
    "\n",
    "\n",
    "def job1():\n",
    "    print(\"Job 1 executed!\")\n",
    "\n",
    "def job2(): \n",
    "    print(\"Job 2 executed!\")\n",
    "\n",
    "schedule.every(4).seconds.do(job1)\n",
    "schedule.every(1).seconds.do(job2)\n",
    "\n",
    "while True:\n",
    "    schedule.run_pending()\n",
    "    time.sleep(1)\n",
    "\n",
    "\n"
   ]
  },
  {
   "cell_type": "code",
   "execution_count": 18,
   "metadata": {},
   "outputs": [],
   "source": [
    "schedule.clear()"
   ]
  },
  {
   "cell_type": "code",
   "execution_count": null,
   "metadata": {},
   "outputs": [
    {
     "name": "stdout",
     "output_type": "stream",
     "text": [
      "Job executed!\n",
      "Job executed!\n",
      "Job executed!\n",
      "Job executed!\n",
      "Job executed!\n",
      "Job executed!\n",
      "Job executed!\n",
      "Job executed!\n",
      "Job executed!\n",
      "Job executed!\n",
      "Job executed!\n",
      "Job executed!\n",
      "Job executed!\n",
      "Job executed!\n"
     ]
    },
    {
     "ename": "KeyboardInterrupt",
     "evalue": "",
     "output_type": "error",
     "traceback": [
      "\u001b[1;31m---------------------------------------------------------------------------\u001b[0m",
      "\u001b[1;31mKeyboardInterrupt\u001b[0m                         Traceback (most recent call last)",
      "Cell \u001b[1;32mIn[21], line 25\u001b[0m\n\u001b[0;32m     23\u001b[0m \u001b[38;5;28;01mwhile\u001b[39;00m \u001b[38;5;28;01mTrue\u001b[39;00m:\n\u001b[0;32m     24\u001b[0m     schedule\u001b[38;5;241m.\u001b[39mrun_pending()\n\u001b[1;32m---> 25\u001b[0m     \u001b[43mtime\u001b[49m\u001b[38;5;241;43m.\u001b[39;49m\u001b[43msleep\u001b[49m\u001b[43m(\u001b[49m\u001b[38;5;241;43m1\u001b[39;49m\u001b[43m)\u001b[49m\n\u001b[0;32m     27\u001b[0m     \u001b[38;5;66;03m# Cancel the job after 30 seconds\u001b[39;00m\n\u001b[0;32m     28\u001b[0m     \u001b[38;5;28;01mif\u001b[39;00m time\u001b[38;5;241m.\u001b[39mtime() \u001b[38;5;241m%\u001b[39m \u001b[38;5;241m30\u001b[39m \u001b[38;5;241m==\u001b[39m \u001b[38;5;241m0\u001b[39m:\n",
      "\u001b[1;31mKeyboardInterrupt\u001b[0m: "
     ]
    }
   ],
   "source": [
    "\"\"\" \n",
    "Objective: Run a job at random intervals\n",
    "\"\"\"\n",
    "# TODO: Create a job function that print a message\n",
    "# TODO: Create schedule for every 5 to 10 seconds.\n",
    "# TODO: Cancel those job and see if your schedule executed or canceled\n",
    "\n",
    "import schedule\n",
    "import time\n",
    "import random\n",
    "\n",
    "def job():\n",
    "    print(\"Job executed!\")\n",
    "\n",
    "# Create a schedule to run job every 5 to 10 seconds\n",
    "def schedule_job():\n",
    "    delay = random.randint(5, 10)  # Random delay between 5 and 10 seconds\n",
    "    schedule.every(delay).seconds.do(job)\n",
    "\n",
    "schedule_job()\n",
    "\n",
    "# Run the scheduler in a loop\n",
    "while True:\n",
    "    schedule.run_pending()\n",
    "    time.sleep(1)\n",
    "\n",
    "\n"
   ]
  },
  {
   "cell_type": "code",
   "execution_count": 22,
   "metadata": {},
   "outputs": [
    {
     "name": "stdout",
     "output_type": "stream",
     "text": [
      "Job executed!\n",
      "I'm working...\n",
      "Job executed!\n",
      "Job executed!\n",
      "I'm working...\n"
     ]
    },
    {
     "ename": "KeyboardInterrupt",
     "evalue": "",
     "output_type": "error",
     "traceback": [
      "\u001b[1;31m---------------------------------------------------------------------------\u001b[0m",
      "\u001b[1;31mKeyboardInterrupt\u001b[0m                         Traceback (most recent call last)",
      "Cell \u001b[1;32mIn[22], line 16\u001b[0m\n\u001b[0;32m     14\u001b[0m \u001b[38;5;28;01mwhile\u001b[39;00m \u001b[38;5;28;01mTrue\u001b[39;00m:\n\u001b[0;32m     15\u001b[0m     run_pending()\n\u001b[1;32m---> 16\u001b[0m     \u001b[43mtime\u001b[49m\u001b[38;5;241;43m.\u001b[39;49m\u001b[43msleep\u001b[49m\u001b[43m(\u001b[49m\u001b[38;5;241;43m1\u001b[39;49m\u001b[43m)\u001b[49m\n",
      "\u001b[1;31mKeyboardInterrupt\u001b[0m: "
     ]
    }
   ],
   "source": [
    "\"\"\" \n",
    "Objective: Use a decorator to schedule a job\n",
    "\"\"\"\n",
    "\n",
    "from schedule import every, repeat, run_pending\n",
    "import time\n",
    "\n",
    "@repeat(every(10).seconds)\n",
    "# TODO: Create a job function that print a message\n",
    "def job():\n",
    "    print(\"I'm working...\")\n",
    "\n",
    "\n",
    "while True:\n",
    "    run_pending()\n",
    "    time.sleep(1)"
   ]
  },
  {
   "cell_type": "markdown",
   "metadata": {},
   "source": [
    "#### What is a Decorator?\n",
    "A decorator in Python is a function that takes another function and extends or alters its behavior. Decorators are typically used to modify the behavior of a function or method in a clean and reusable way without directly modifying the function's code."
   ]
  },
  {
   "cell_type": "code",
   "execution_count": 23,
   "metadata": {},
   "outputs": [
    {
     "name": "stdout",
     "output_type": "stream",
     "text": [
      "add_numbers took 2 seconds to execute.\n",
      "Result: 12\n",
      "multiply_numbers took 2 seconds to execute.\n",
      "Result: 35\n"
     ]
    }
   ],
   "source": [
    "import time\n",
    "\n",
    "# Define a decorator that measures the execution time of a function\n",
    "def timer_decorator(func):\n",
    "    \"\"\"\n",
    "    This decorator will measure the time it takes for the decorated function to run.\n",
    "    \"\"\"\n",
    "    def wrapper(*args, **kwargs):\n",
    "        start_time = time.time()  # Record the start time\n",
    "        result = func(*args, **kwargs)  # Call the original function\n",
    "        end_time = time.time()  # Record the end time\n",
    "        \n",
    "        elapsed_time = end_time - start_time  # Calculate the time difference\n",
    "        print(f\"{func.__name__} took {elapsed_time:.0f} seconds to execute.\")\n",
    "        \n",
    "        return result  # Return the result of the function\n",
    "        \n",
    "    return wrapper\n",
    "\n",
    "# Example function that will use the timer decorator\n",
    "@timer_decorator\n",
    "def add_numbers(a, b):\n",
    "    time.sleep(2)  # Simulate a time-consuming task\n",
    "    return a + b\n",
    "\n",
    "@timer_decorator\n",
    "def multiply_numbers(a, b):\n",
    "    time.sleep(2)\n",
    "    return a * b\n",
    "\n",
    "# Calling the function\n",
    "result = add_numbers(5, 7)\n",
    "print(f\"Result: {result}\")\n",
    "\n",
    "multiply_result = multiply_numbers(5, 7)\n",
    "print(f\"Result: {multiply_result}\")\n"
   ]
  },
  {
   "cell_type": "code",
   "execution_count": 1,
   "metadata": {},
   "outputs": [
    {
     "ename": "NameError",
     "evalue": "name 'schedule' is not defined",
     "output_type": "error",
     "traceback": [
      "\u001b[1;31m---------------------------------------------------------------------------\u001b[0m",
      "\u001b[1;31mNameError\u001b[0m                                 Traceback (most recent call last)",
      "Cell \u001b[1;32mIn[1], line 1\u001b[0m\n\u001b[1;32m----> 1\u001b[0m \u001b[43mschedule\u001b[49m\u001b[38;5;241m.\u001b[39mclear()\n",
      "\u001b[1;31mNameError\u001b[0m: name 'schedule' is not defined"
     ]
    }
   ],
   "source": [
    "schedule.clear()"
   ]
  },
  {
   "cell_type": "code",
   "execution_count": 34,
   "metadata": {},
   "outputs": [
    {
     "name": "stdout",
     "output_type": "stream",
     "text": [
      "Success\n",
      "Tiny JITs for a Faster FFI\n",
      "Leaking the email of any YouTube user for $10k\n",
      "Thinkserver: My web-based coding environment\n",
      "The average CPU performance of PCs and notebooks fell for the first time\n",
      "A drill bit that can also drive screws\n",
      "Large magma bodies found beneath dormant volcanoes, surprising scientists\n",
      "Smuggling arbitrary data through an emoji\n",
      "How to professionally say (2022)\n",
      "The Prophet of Parking: A eulogy for the great Donald Shoup\n",
      "US and UK refuse to sign AI safety declaration at summit\n",
      "5G networks meet consumer needs as mobile data growth slows\n",
      "Is NixOS truly reproducible?\n",
      "Record-breaking neutrino is most energetic ever detected\n",
      "Why cryptography is not based on NP-complete problems\n",
      "Show HN: Game Bub – open-source FPGA retro emulation handheld\n",
      "How Nissan and Honda's $60B merger talks collapsed\n",
      "NESFab – A new programming language for creating NES games\n",
      "Imapsync\n",
      "PgAssistant: OSS tool to help devs understand and optimize PG performance\n",
      "Ask HN: Former employees' RSUs at risk after startup's IPO\n",
      "Show HN: I made my own OS from scratch because I was bored\n",
      "Ask HN: What's the best implementation of Conway's Game of Life?\n",
      "What happens to your online accounts when you die?\n",
      "Vanishing Culture: Punch Card Knitting\n",
      "Show HN: yknotify – Notify when YubiKey needs touch on macOS\n",
      "Automated Capability Discovery via Foundation Model Self-Exploration\n",
      "Visualizing data is an art\n",
      "YouTube's New Hue\n",
      "League of Legends data scraping the hard and tedious way for fun\n",
      "DeaDBeeF: The Ultimate Music Player\n"
     ]
    },
    {
     "ename": "KeyboardInterrupt",
     "evalue": "",
     "output_type": "error",
     "traceback": [
      "\u001b[1;31m---------------------------------------------------------------------------\u001b[0m",
      "\u001b[1;31mKeyboardInterrupt\u001b[0m                         Traceback (most recent call last)",
      "Cell \u001b[1;32mIn[34], line 29\u001b[0m\n\u001b[0;32m     27\u001b[0m \u001b[38;5;28;01mwhile\u001b[39;00m \u001b[38;5;28;01mTrue\u001b[39;00m:\n\u001b[0;32m     28\u001b[0m     schedule\u001b[38;5;241m.\u001b[39mrun_pending()\n\u001b[1;32m---> 29\u001b[0m     \u001b[43mtime\u001b[49m\u001b[38;5;241;43m.\u001b[39;49m\u001b[43msleep\u001b[49m\u001b[43m(\u001b[49m\u001b[38;5;241;43m1\u001b[39;49m\u001b[43m)\u001b[49m\n",
      "\u001b[1;31mKeyboardInterrupt\u001b[0m: "
     ]
    }
   ],
   "source": [
    "import requests\n",
    "import bs4\n",
    "import csv\n",
    "import schedule\n",
    "import time\n",
    "\n",
    "def find_all_going_down():\n",
    "    response = requests.get(\"https://news.ycombinator.com/\")\n",
    "    if response.status_code == 200:\n",
    "        print(\"Success\")\n",
    "    else:\n",
    "        print(\"Failed\")\n",
    "\n",
    "    soap = bs4.BeautifulSoup(response.text, \"html.parser\")\n",
    "\n",
    "    titles = [titleItem.find(\"a\").text for titleItem in soap.find_all(\"span\", class_=\"titleline\")]\n",
    "    urlTitle = [titleItem.find(\"a\")[\"href\"] for titleItem in soap.find_all(\"span\", class_=\"titleline\")]\n",
    "    print(\"\\n\".join(titles))\n",
    "\n",
    "    with open(\"ycombinator.csv\", \"w\", newline=\"\") as f:\n",
    "        writer = csv.writer(f)\n",
    "        writer.writerow([\"title\", \"url\"])  # Write headers\n",
    "        writer.writerows(zip(titles, urlTitle))  # Write data\n",
    "\n",
    "schedule.every(10).seconds.do(find_all_going_down)\n",
    "\n",
    "while True:\n",
    "    schedule.run_pending()\n",
    "    time.sleep(1)"
   ]
  },
  {
   "cell_type": "code",
   "execution_count": 26,
   "metadata": {},
   "outputs": [
    {
     "ename": "KeyboardInterrupt",
     "evalue": "",
     "output_type": "error",
     "traceback": [
      "\u001b[1;31m---------------------------------------------------------------------------\u001b[0m",
      "\u001b[1;31mKeyboardInterrupt\u001b[0m                         Traceback (most recent call last)",
      "Cell \u001b[1;32mIn[26], line 44\u001b[0m\n\u001b[0;32m     42\u001b[0m \u001b[38;5;28;01mwhile\u001b[39;00m \u001b[38;5;28;01mTrue\u001b[39;00m:\n\u001b[0;32m     43\u001b[0m     schedule\u001b[38;5;241m.\u001b[39mrun_pending()\n\u001b[1;32m---> 44\u001b[0m     \u001b[43mtime\u001b[49m\u001b[38;5;241;43m.\u001b[39;49m\u001b[43msleep\u001b[49m\u001b[43m(\u001b[49m\u001b[38;5;241;43m1\u001b[39;49m\u001b[43m)\u001b[49m\n",
      "\u001b[1;31mKeyboardInterrupt\u001b[0m: "
     ]
    }
   ],
   "source": [
    "\"\"\" \n",
    "Objective: Run a scraping job with scheduling\n",
    "\"\"\"\n",
    "# TODO: Create a script to extract news website\n",
    "# TODO: Add timestamp on when the data extracted\n",
    "# TODO: Add scheduling to run it every hour\n",
    "# TODO: Make sure to avoid duplicate data\n",
    "# TODO: Append new data with the previous data instead of overwrite it in csv format\n",
    "\n",
    "import schedule\n",
    "import time\n",
    "import requests\n",
    "import pandas as pd\n",
    "\n",
    "def extract_news_data():\n",
    "    # TODO: Implement the logic to extract news data from a website\n",
    "    # For example, you could use the requests library to make an HTTP request to a news website and extract the data\n",
    "    # You could use BeautifulSoup or another HTML parsing library to extract the data from the HTML response\n",
    "\n",
    "    # Example:\n",
    "    response = requests.get(\"https://news.ycombinator.com/\")\n",
    "    news_data = response.text\n",
    "\n",
    "    # TODO: Add timestamp to the data\n",
    "    timestamp = time.strftime(\"%Y-%m-%d %H:%M:%S\")\n",
    "    news_data = f\"{timestamp}\\n{news_data}\"\n",
    "\n",
    "    # TODO: Append new data to the previous data in a CSV file\n",
    "    # You could use the pandas library to read and write CSV files\n",
    "    file_path = \"news_data.csv\"\n",
    "    if not os.path.exists(file_path):\n",
    "        with open(file_path, \"w\") as file:\n",
    "            file.write(\"timestamp,news_data\\n\")\n",
    "\n",
    "    with open(file_path, \"a\") as file:\n",
    "        file.write(f\"{timestamp},{news_data}\\n\")\n",
    "\n",
    "# Schedule the job to run every hour\n",
    "schedule.every(1).hours.do(extract_news_data)\n",
    "\n",
    "# Run the scheduler in a loop\n",
    "while True:\n",
    "    schedule.run_pending()\n",
    "    time.sleep(1)\n",
    "\n"
   ]
  },
  {
   "cell_type": "markdown",
   "metadata": {},
   "source": [
    "### **Reflection**\n",
    "When using a schedule, we need to keep the terminal when we running the script remain open. What problem might occurs?\n",
    "\n",
    "(answer here)"
   ]
  },
  {
   "cell_type": "markdown",
   "metadata": {},
   "source": [
    "### **Exploration**\n",
    "Find a way to execute an app in the background or you can use cronjob."
   ]
  },
  {
   "cell_type": "markdown",
   "metadata": {},
   "source": []
  }
 ],
 "metadata": {
  "kernelspec": {
   "display_name": ".venv",
   "language": "python",
   "name": "python3"
  },
  "language_info": {
   "codemirror_mode": {
    "name": "ipython",
    "version": 3
   },
   "file_extension": ".py",
   "mimetype": "text/x-python",
   "name": "python",
   "nbconvert_exporter": "python",
   "pygments_lexer": "ipython3",
   "version": "3.12.0"
  }
 },
 "nbformat": 4,
 "nbformat_minor": 2
}
