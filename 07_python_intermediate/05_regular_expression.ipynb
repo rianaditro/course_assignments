{
 "cells": [
  {
   "cell_type": "markdown",
   "metadata": {},
   "source": [
    "### **Regular Expressions**\n",
    "Regular expressions (regex) in Python are powerful tools for matching and manipulating text based on specific patterns. The re module in Python provides support for working with regular expressions. By defining patterns using a combination of literal characters and metacharacters, you can perform complex string matching, searching, and substitution operations efficiently. Understanding regular expressions is essential for tasks such as data validation, parsing, and text processing.\n",
    "\n",
    "Common Regex Patterns and Rules:\n",
    "\n",
    "Literal Characters: Match the exact characters in the pattern.\n",
    "\n",
    "Example: pattern = r\"abc\" matches the string \"abc\".\n",
    "Character Classes: Match any character within the brackets.\n",
    "\n",
    "- [aeiou] matches any vowel.\n",
    "- [A-Z] matches any uppercase letter.\n",
    "- [0-9] matches any digit.\n",
    "- [^0-9] matches any character except digits.\n",
    "\n",
    "Shorthand Character Classes:\n",
    "\n",
    "- \\d matches any digit ([0-9]).\n",
    "- \\D matches any non-digit character ([^0-9]).\n",
    "- \\w matches any alphanumeric character ([a-zA-Z0-9_]).\n",
    "- \\W matches any non-alphanumeric character ([^a-zA-Z0-9_]).\n",
    "- \\s matches any whitespace character ([ \\t\\n\\r\\f\\v]).\n",
    "- \\S matches any non-whitespace character ([^ \\t\\n\\r\\f\\v]).\n",
    "\n",
    "Anchors:\n",
    "\n",
    "- ^ asserts the start of a line.\n",
    "- $ asserts the end of a line.\n",
    "\n",
    "Quantifiers:\n",
    "\n",
    "- * matches zero or more occurrences of the preceding element.\n",
    "- + matches one or more occurrences.\n",
    "- ? matches zero or one occurrence.\n",
    "- {n} matches exactly n occurrences.\n",
    "- {n,} matches n or more occurrences.\n",
    "- {n,m} matches between n and m occurrences.\n",
    "\n",
    "Grouping and Alternation:\n",
    "\n",
    "- Parentheses () group patterns together.\n",
    "- The pipe | denotes alternation (i.e., logical OR).\n",
    "- Escaping Special Characters: Use \\ to escape special characters like ., *, ?, etc."
   ]
  },
  {
   "cell_type": "code",
   "execution_count": 2,
   "metadata": {},
   "outputs": [
    {
     "name": "stdout",
     "output_type": "stream",
     "text": [
      "Match found!\n",
      "Match found!\n"
     ]
    }
   ],
   "source": [
    "\"\"\"\n",
    "Objective: Use a regular expression to check if a string contains the word 'Python'.\n",
    "\"\"\"\n",
    "import re\n",
    "\n",
    "text = \"I am learning Python programming.\"\n",
    "\n",
    "# Define the pattern to search for\n",
    "pattern = r\"Python\"\n",
    "\n",
    "# Search for the pattern in the text\n",
    "match = re.search(pattern, text)\n",
    "\n",
    "if match:\n",
    "    print(\"Match found!\")\n",
    "else:\n",
    "    print(\"No match found.\")\n",
    "\n",
    "# TODO: Modify the pattern to make the search case-insensitive.\n",
    "\n",
    "match2 = re.search(pattern, text, re.IGNORECASE)\n",
    "if match2:\n",
    "    print(\"Match found!\")\n",
    "else:\n",
    "    print(\"No match found.\")\n"
   ]
  },
  {
   "cell_type": "code",
   "execution_count": 3,
   "metadata": {},
   "outputs": [
    {
     "name": "stdout",
     "output_type": "stream",
     "text": [
      "Extracted email addresses: ['support@example.com', 'sales@example.org', 'admin@example.net']\n",
      "Extracted email addresses: ['support@example.com', 'admin@example.net']\n"
     ]
    }
   ],
   "source": [
    "\"\"\"\n",
    "Objective: Use a regular expression to find all email addresses in a given text.\n",
    "\"\"\"\n",
    "import re\n",
    "\n",
    "text = \"\"\"\n",
    "Please contact us at support@example.com for further information.\n",
    "You can also reach out to sales@example.org or admin@example.net.\n",
    "\"\"\"\n",
    "\n",
    "# Define the email pattern\n",
    "pattern = r\"[a-zA-Z0-9._%+-]+@[a-zA-Z0-9.-]+\\.[a-zA-Z]{2,}\"\n",
    "\n",
    "# Find all matches in the text\n",
    "emails = re.findall(pattern, text)\n",
    "\n",
    "print(\"Extracted email addresses:\", emails)\n",
    "\n",
    "# TODO: Modify the pattern to exclude email addresses with certain domains (e.g., example.org).\n",
    "pattern2 = r\"[a-zA-Z0-9._%+-]+@(?!example\\.org)[a-zA-Z0-9.-]+\\.[a-zA-Z]{2,}\"\n",
    "emails2 = re.findall(pattern2, text)\n",
    "\n",
    "print(\"Extracted email addresses:\", emails2)\n",
    "\n",
    "\n"
   ]
  },
  {
   "cell_type": "code",
   "execution_count": 4,
   "metadata": {},
   "outputs": [
    {
     "name": "stdout",
     "output_type": "stream",
     "text": [
      "(123) 456-7890 is a valid phone number.\n",
      "(987) 654-3210 is a valid phone number.\n",
      "123-456-7890 is not a valid phone number.\n",
      "(123)456-7890 is not a valid phone number.\n",
      "(123) 456-7890 is a valid phone number.\n",
      "(987) 654-3210 is a valid phone number.\n",
      "123-456-7890 is not a valid phone number.\n",
      "(123)456-7890 is not a valid phone number.\n",
      "+1 (123) 456-7890 is a valid phone number.\n",
      "1 (123) 456-7890 is a valid phone number.\n"
     ]
    }
   ],
   "source": [
    "\"\"\"\n",
    "Objective: Write a regular expression to validate phone numbers in the format (123) 456-7890.\n",
    "\"\"\"\n",
    "import re\n",
    "\n",
    "phone_numbers = [\n",
    "    \"(123) 456-7890\",\n",
    "    \"(987) 654-3210\",\n",
    "    \"123-456-7890\",\n",
    "    \"(123)456-7890\"\n",
    "]\n",
    "\n",
    "# Define the phone number pattern\n",
    "pattern = r\"\\(\\d{3}\\) \\d{3}-\\d{4}\"\n",
    "\n",
    "for number in phone_numbers:\n",
    "    if re.match(pattern, number):\n",
    "        print(f\"{number} is a valid phone number.\")\n",
    "    else:\n",
    "        print(f\"{number} is not a valid phone number.\")\n",
    "\n",
    "# TODO: Extend the pattern to match phone numbers with an optional country code, e.g., +1 (123) 456-7890.\n",
    "import re\n",
    "\n",
    "phone_numbers = [\n",
    "    \"(123) 456-7890\",\n",
    "    \"(987) 654-3210\",\n",
    "    \"123-456-7890\", \n",
    "    \"(123)456-7890\",\n",
    "    \"+1 (123) 456-7890\",  # Added test case with country code\n",
    "    \"1 (123) 456-7890\"    # Added test case without plus\n",
    "]\n",
    "\n",
    "# Define the phone number pattern with optional country code\n",
    "pattern = r\"(?:\\+?1 )?\\(\\d{3}\\) \\d{3}-\\d{4}\"\n",
    "\n",
    "for number in phone_numbers:\n",
    "    if re.match(pattern, number):\n",
    "        print(f\"{number} is a valid phone number.\")\n",
    "    else:\n",
    "        print(f\"{number} is not a valid phone number.\")\n"
   ]
  },
  {
   "cell_type": "code",
   "execution_count": null,
   "metadata": {},
   "outputs": [
    {
     "name": "stdout",
     "output_type": "stream",
     "text": [
      "List of fruits: ['apple', 'banana', 'orange', 'grape', 'pear', 'melon']\n",
      "List of fruits: ['apple', 'banana', 'orange', 'grape', 'pear', 'melon']\n"
     ]
    }
   ],
   "source": [
    "\"\"\"\n",
    "Objective: Use regular expressions to split a string by commas, semicolons, or spaces.\n",
    "\"\"\"\n",
    "import re\n",
    "\n",
    "text = \"apple, banana; orange grape,pear;melon\"\n",
    "\n",
    "# Define the pattern for delimiters\n",
    "pattern = r\"[,\\s;]+\"\n",
    "\n",
    "# Split the text based on the pattern\n",
    "fruits = re.split(pattern, text)\n",
    "\n",
    "print(\"List of fruits:\", fruits)\n",
    "\n",
    "# TODO: Modify the pattern to also split on colons (:) and periods (.).\n",
    "\n",
    "# Define the pattern for delimiters\n",
    "pattern = r\"[,\\s;:.]+\"\n",
    "\n",
    "# Split the text based on the pattern\n",
    "fruits = re.split(pattern, text)\n",
    "\n",
    "print(\"List of fruits:\", fruits)"
   ]
  },
  {
   "cell_type": "code",
   "execution_count": 7,
   "metadata": {},
   "outputs": [
    {
     "name": "stdout",
     "output_type": "stream",
     "text": [
      "Updated text: The dog sat on the mat. The dog is cute.\n",
      "Updated text: The dog sat on the mat. The dog is cute.\n"
     ]
    }
   ],
   "source": [
    "\"\"\"\n",
    "Objective: Use regular expressions to replace all occurrences of 'cat' with 'dog' in a given text.\n",
    "\"\"\"\n",
    "import re\n",
    "\n",
    "text = \"The cat sat on the mat. The cat is cute.\"\n",
    "\n",
    "# Define the pattern to search for\n",
    "pattern = r\"cat\"\n",
    "\n",
    "# Replace 'cat' with 'dog'\n",
    "new_text = re.sub(pattern, \"dog\", text)\n",
    "\n",
    "print(\"Updated text:\", new_text)\n",
    "\n",
    "# TODO: Modify the pattern to replace 'cat' only when it appears as a whole word.\n",
    "\n",
    "pattern2 = r\"\\bcat\\b\"\n",
    "\n",
    "new_text2 = re.sub(pattern2, \"dog\", text)\n",
    "\n",
    "print(\"Updated text:\", new_text2)\n",
    "\n"
   ]
  },
  {
   "cell_type": "code",
   "execution_count": null,
   "metadata": {},
   "outputs": [
    {
     "name": "stdout",
     "output_type": "stream",
     "text": [
      "Extracted dates: ['12/05/1990', '30/09/2025']\n",
      "Extracted dates: ['12/05/1990', '30/09/2025']\n"
     ]
    }
   ],
   "source": [
    "\"\"\"\n",
    "Objective: Write a regular expression to extract dates in the format DD/MM/YYYY from a text.\n",
    "\"\"\"\n",
    "import re\n",
    "\n",
    "text = \"\"\"\n",
    "John's birthday is on 12/05/1990.\n",
    "The project deadline is 30/09/2025.\n",
    "\"\"\"\n",
    "\n",
    "# Define the date pattern\n",
    "pattern = r\"\\b\\d{2}/\\d{2}/\\d{4}\\b\"\n",
    "\n",
    "# Find all dates in the text\n",
    "dates = re.findall(pattern, text)\n",
    "\n",
    "print(\"Extracted dates:\", dates)\n",
    "\n",
    "# TODO: Modify the pattern to extract dates in the format YYYY-MM-DD as well.\n",
    "pattern2 = r\"\\b(\\d{2}/\\d{2}/\\d{4}|\\d{4}-\\d{2}-\\d{2})\\b\"\n",
    "\n",
    "\n",
    "# Find all dates in the text\n",
    "dates2 = re.findall(pattern2, text)\n",
    "\n",
    "print(\"Extracted dates:\", dates2)"
   ]
  },
  {
   "cell_type": "code",
   "execution_count": 13,
   "metadata": {},
   "outputs": [
    {
     "name": "stdout",
     "output_type": "stream",
     "text": [
      "Area Code: 123\n",
      "Main Number: 456-7890\n",
      "-------------------------\n",
      "Phone: (021) 437-4909\n",
      "Area Code: 021\n",
      "Main Number: 437-4909\n",
      "\n",
      "Phone: 021-437-4909\n",
      "Area Code: 021\n",
      "Main Number: 437-4909\n",
      "\n"
     ]
    }
   ],
   "source": [
    "\"\"\"\n",
    "Objective: Use regular expression groups to extract the area code and main number from phone numbers.\n",
    "\"\"\"\n",
    "import re\n",
    "\n",
    "phone_number = \"(123) 456-7890\"\n",
    "\n",
    "# Define the pattern with groups\n",
    "pattern = r\"\\((\\d{3})\\) (\\d{3}-\\d{4})\"\n",
    "\n",
    "# Search for the pattern in the phone number\n",
    "match = re.search(pattern, phone_number)\n",
    "\n",
    "if match:\n",
    "    area_code = match.group(1)\n",
    "    main_number = match.group(2)\n",
    "    print(\"Area Code:\", area_code)\n",
    "    print(\"Main Number:\", main_number)\n",
    "else:\n",
    "    print(\"No match found.\")\n",
    "\n",
    "# TODO: Modify the pattern to handle phone numbers with or without parentheses around the area code.\n",
    "phone_numbers2 = [\n",
    "    \"(021) 437-4909\",\n",
    "    \"021-437-4909\"  # Added test case without parentheses\n",
    "]\n",
    "print('-------------------------')\n",
    "pattern2 = r\"(?:\\((\\d{3})\\)|\\b(\\d{3}))\\s*-?(\\d{3}-\\d{4})\"\n",
    "\n",
    "for phone_number2 in phone_numbers2:\n",
    "    match = re.search(pattern2, phone_number2)\n",
    "    if match:\n",
    "        # Get area code from either group 1 (with parentheses) or group 2 (without)\n",
    "        area_code = match.group(1) if match.group(1) else match.group(2)\n",
    "        main_number = match.group(3)\n",
    "        print(f\"Phone: {phone_number2}\")\n",
    "        print(f\"Area Code: {area_code}\")\n",
    "        print(f\"Main Number: {main_number}\\n\")\n",
    "    else:\n",
    "        print(f\"No match found for {phone_number2}\\n\")"
   ]
  },
  {
   "cell_type": "code",
   "execution_count": 15,
   "metadata": {},
   "outputs": [
    {
     "name": "stdout",
     "output_type": "stream",
     "text": [
      "Error message: File not found.\n",
      "Error message: Access denied.\n",
      "-------------------------\n",
      "Error message: File not found.\n",
      "Warning message: Low disk space.\n",
      "Error message: Access denied.\n"
     ]
    }
   ],
   "source": [
    "\"\"\"\n",
    "Objective: Compile a regular expression pattern for repeated use to improve efficiency.\n",
    "\"\"\"\n",
    "import re\n",
    "\n",
    "texts = [\n",
    "    \"Error: File not found.\",\n",
    "    \"Warning: Low disk space.\",\n",
    "    \"Error: Access denied.\"\n",
    "]\n",
    "\n",
    "# Compile the pattern\n",
    "pattern = re.compile(r\"Error: (.+)\")\n",
    "\n",
    "for text in texts:\n",
    "    match = pattern.search(text)\n",
    "    if match:\n",
    "        print(\"Error message:\", match.group(1))\n",
    "\n",
    "# TODO: Add a pattern to also capture 'Warning' messages.\n",
    "print('-------------------------')\n",
    "pattern = re.compile(r\"(Error|Warning): (.+)\")\n",
    "\n",
    "for text in texts:\n",
    "    match = pattern.search(text)\n",
    "    if match:\n",
    "        print(f\"{match.group(1)} message: {match.group(2)}\")\n"
   ]
  },
  {
   "cell_type": "code",
   "execution_count": 16,
   "metadata": {},
   "outputs": [
    {
     "name": "stdout",
     "output_type": "stream",
     "text": [
      "Prices found: ['100']\n",
      "--------------------\n",
      "Numbers found: ['100', '20']\n"
     ]
    }
   ],
   "source": [
    "\"\"\"\n",
    "Objective: Use lookahead and lookbehind assertions to find words surrounded by specific characters.\n",
    "\"\"\"\n",
    "import re\n",
    "\n",
    "text = \"The price is $100. The discount is 20%.\"\n",
    "\n",
    "# Define the pattern with lookahead and lookbehind\n",
    "pattern = r\"(?<=\\$)\\d+\"\n",
    "\n",
    "# Find all matches in the text\n",
    "prices = re.findall(pattern, text)\n",
    "\n",
    "print(\"Prices found:\", prices)\n",
    "\n",
    "# TODO: Modify the pattern to also find percentages (numbers followed by '%').\n",
    "print('--------------------')\n",
    "pattern = r\"(?<=\\$)\\d+|\\d+(?=%)\"\n",
    "\n",
    "# Find all matches in the text\n",
    "numbers = re.findall(pattern, text)\n",
    "\n",
    "print(\"Numbers found:\", numbers)\n"
   ]
  },
  {
   "cell_type": "code",
   "execution_count": 17,
   "metadata": {},
   "outputs": [
    {
     "name": "stdout",
     "output_type": "stream",
     "text": [
      "Cleaned text: This is a bold paragraph.\n",
      "----------------------\n",
      "Cleaned text: This is a bold paragraph.\n"
     ]
    }
   ],
   "source": [
    "\"\"\"\n",
    "Objective: Write a regular expression to remove HTML tags from a string.\n",
    "\"\"\"\n",
    "import re\n",
    "\n",
    "html = \"<p>This is a <b>bold</b> paragraph.</p>\"\n",
    "\n",
    "# Define the pattern to match HTML tags\n",
    "pattern = r\"<.*?>\"\n",
    "\n",
    "# Remove HTML tags\n",
    "clean_text = re.sub(pattern, \"\", html)\n",
    "\n",
    "print(\"Cleaned text:\", clean_text)\n",
    "\n",
    "# TODO: Modify the pattern to handle nested tags correctly.\n",
    "print('----------------------')\n",
    "pattern = r\"<[^>]*>|<\\/[^>]*>\"\n",
    "\n",
    "# Remove HTML tags\n",
    "clean_text = re.sub(pattern, \"\", html)\n",
    "\n",
    "print(\"Cleaned text:\", clean_text)\n"
   ]
  },
  {
   "cell_type": "markdown",
   "metadata": {},
   "source": [
    "### **Reflection**\n",
    "Reflect on how regular expressions can simplify complex string processing tasks. Consider these questions:\n",
    "\n",
    "- How do regular expressions improve the efficiency of text searching and manipulation?\n",
    "- What are the potential pitfalls of using overly complex regular expressions?\n",
    "- How can you ensure that your regular expressions are both efficient and maintainable?\n",
    "\n",
    "(answer here)"
   ]
  },
  {
   "cell_type": "markdown",
   "metadata": {},
   "source": [
    "- How do regular expressions improve the efficiency of text searching and manipulation?\n",
    "  Regular expressions significantly improve text processing efficiency by:\n",
    "  - Providing a single, powerful pattern matching operation instead of multiple string operations\n",
    "  - Allowing complex search patterns to be expressed concisely\n",
    "  - Enabling fast matching through optimized pattern compilation\n",
    "  - Reducing the need for multiple passes through text with combined patterns\n",
    "  - Supporting flexible pattern matching with metacharacters and quantifiers\n",
    "\n",
    "- What are the potential pitfalls of using overly complex regular expressions?\n",
    "  Some common pitfalls include:\n",
    "  - Reduced readability and maintainability of complex patterns\n",
    "  - Catastrophic backtracking leading to performance issues\n",
    "  - Unintended matches due to greedy quantifiers\n",
    "  - Difficulty in debugging complex patterns\n",
    "  - Increased likelihood of errors in pattern syntax\n",
    "  \n",
    "- How can you ensure that your regular expressions are both efficient and maintainable?\n",
    "  Best practices for efficient and maintainable regex:\n",
    "  - Break complex patterns into smaller, well-documented components\n",
    "  - Use named groups for better readability\n",
    "  - Test patterns with diverse input cases\n",
    "  - Comment complex patterns to explain their purpose\n",
    "  - Use non-greedy quantifiers when appropriate\n",
    "  - Compile frequently used patterns for better performance\n",
    "  - Validate patterns against edge cases"
   ]
  },
  {
   "cell_type": "markdown",
   "metadata": {},
   "source": [
    "### **Exploration**\n",
    "For further exploration, research advanced regular expression features such as named groups, non-capturing groups, and recursive patterns. Additionally, explore regex performance optimization techniques"
   ]
  },
  {
   "cell_type": "markdown",
   "metadata": {},
   "source": [
    "Here's an example demonstrating advanced regex features and optimization techniques:\n"
   ]
  },
  {
   "cell_type": "code",
   "execution_count": null,
   "metadata": {},
   "outputs": [],
   "source": [
    "\"\"\"\n",
    "Advanced Regular Expression Examples\n",
    "\"\"\"\n",
    "import re\n",
    "\n",
    "# Example 1: Named Groups\n",
    "log_entry = \"2024-03-15 14:30:45 - User 'john_doe' logged in from 192.168.1.100\"\n",
    "pattern = r\"(?P<date>\\d{4}-\\d{2}-\\d{2}) (?P<time>\\d{2}:\\d{2}:\\d{2}) - User '(?P<username>\\w+)' logged in from (?P<ip>\\d{1,3}\\.\\d{1,3}\\.\\d{1,3}\\.\\d{1,3})\"\n",
    "\n",
    "match = re.search(pattern, log_entry)\n",
    "if match:\n",
    "    print(f\"Date: {match.group('date')}\")\n",
    "    print(f\"Time: {match.group('time')}\")\n",
    "    print(f\"Username: {match.group('username')}\")\n",
    "    print(f\"IP: {match.group('ip')}\")\n",
    "\n",
    "# Example 2: Non-capturing Groups\n",
    "text = \"rgb(255, 128, 0) and rgba(255, 128, 0, 0.5)\"\n",
    "pattern = r\"rgb(?:a)?\\((\\d+),\\s*(\\d+),\\s*(\\d+)(?:,\\s*[\\d.]+)?\\)\"\n",
    "\n",
    "for match in re.finditer(pattern, text):\n",
    "    print(f\"Color values: R={match.group(1)}, G={match.group(2)}, B={match.group(3)}\")\n",
    "\n",
    "# Example 3: Performance Optimization - Compiled Pattern\n",
    "phone_pattern = re.compile(r\"\\b\\d{3}[-.]?\\d{3}[-.]?\\d{4}\\b\")\n",
    "\n",
    "phone_numbers = [\n",
    "    \"123-456-7890\",\n",
    "    \"123.456.7890\",\n",
    "    \"1234567890\"\n",
    "]\n",
    "\n",
    "for number in phone_numbers:\n",
    "    if phone_pattern.match(number):\n",
    "        print(f\"Valid phone number: {number}\")\n",
    "\n",
    "# Example 4: Atomic Groups (Python 3.11+)\n",
    "text = \"The quick brown fox jumps over the lazy dog\"\n",
    "pattern = re.compile(r\"\\b\\w+(?=\\s|$)\")  # Efficiently match whole words\n",
    "\n",
    "for word in pattern.finditer(text):\n",
    "    print(f\"Found word: {word.group()}\")"
   ]
  },
  {
   "cell_type": "markdown",
   "metadata": {},
   "source": [
    "This code demonstrates:\n",
    "\n",
    "1. Named groups ( ?P<name> ) for readable group references\n",
    "2. Non-capturing groups ( (?:...) ) for better performance\n",
    "3. Pattern compilation for repeated use\n",
    "4. Efficient word boundary matching\n",
    "5. Atomic grouping for performance optimization\n",
    "Each example includes comments explaining the pattern and its purpose. These techniques help write more maintainable and efficient regex patterns."
   ]
  },
  {
   "cell_type": "markdown",
   "metadata": {},
   "source": []
  }
 ],
 "metadata": {
  "kernelspec": {
   "display_name": "base",
   "language": "python",
   "name": "python3"
  },
  "language_info": {
   "codemirror_mode": {
    "name": "ipython",
    "version": 3
   },
   "file_extension": ".py",
   "mimetype": "text/x-python",
   "name": "python",
   "nbconvert_exporter": "python",
   "pygments_lexer": "ipython3",
   "version": "3.12.7"
  }
 },
 "nbformat": 4,
 "nbformat_minor": 2
}
