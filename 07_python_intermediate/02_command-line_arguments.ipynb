{
 "cells": [
  {
   "cell_type": "markdown",
   "metadata": {},
   "source": [
    "### **Introduction to `argparse`:**\n",
    "`argparse` is a built-in Python module for parsing command-line arguments. It makes it easy to write user-friendly command-line interfaces for your Python programs. By using `argparse`, you can create scripts that accept input from the command line, making your programs more flexible and interactive.\n",
    "\n",
    "The **`argparse`** module helps you:\n",
    "\n",
    "- Define what arguments your program expects.\n",
    "- Specify whether arguments are optional or required.\n",
    "- Handle different types of arguments (e.g., integers, strings, booleans).\n",
    "- Provide helpful error messages and usage instructions if the user inputs incorrect or missing arguments.\n",
    "\n",
    "### **Key Features of `argparse`:**\n",
    "1. **Argument Parsing:** Automatically parses command-line arguments and passes them to your script.\n",
    "2. **Argument Validation:** You can define which arguments are required and what type of values they should accept.\n",
    "3. **Help and Documentation:** `argparse` provides built-in help messages when the user runs your script with the `--help` flag.\n",
    "4. **Default Values:** You can set default values for optional arguments, making your script more flexible.\n",
    "\n",
    "---\n",
    "\n",
    "### **Basic Example:**\n",
    "Let's look at a basic example where we use `argparse` to handle a simple command-line argument (`--url`) for a web scraping program.\n",
    "\n",
    "```python\n",
    "import argparse\n",
    "\n",
    "def main():\n",
    "    # Create an ArgumentParser object\n",
    "    parser = argparse.ArgumentParser(description=\"A simple web scraper.\")\n",
    "\n",
    "    # Add an argument for the target URL\n",
    "    parser.add_argument(\"--url\", required=True, help=\"The URL to scrape\")\n",
    "\n",
    "    # Parse the arguments\n",
    "    args = parser.parse_args()\n",
    "\n",
    "    # Access the URL argument\n",
    "    print(f\"Scraping URL: {args.url}\")\n",
    "\n",
    "if __name__ == \"__main__\":\n",
    "    main()\n",
    "```\n",
    "\n",
    "### **How to Use the Script:**\n",
    "Once you've saved this script (let's call it `scraper.py`), you can run it from the command line like this:\n",
    "```bash\n",
    "python scraper.py --url https://example.com\n",
    "```"
   ]
  },
  {
   "cell_type": "code",
   "execution_count": 1,
   "metadata": {},
   "outputs": [],
   "source": [
    "import argparse\n",
    "import sys"
   ]
  },
  {
   "cell_type": "code",
   "execution_count": 4,
   "metadata": {},
   "outputs": [],
   "source": [
    "def greetings(name):\n",
    "    print(\"hello how are you?\", name)"
   ]
  },
  {
   "cell_type": "code",
   "execution_count": 7,
   "metadata": {},
   "outputs": [
    {
     "name": "stderr",
     "output_type": "stream",
     "text": [
      "usage: ipykernel_launcher.py [-h] --name NAME\n",
      "ipykernel_launcher.py: error: the following arguments are required: --name\n"
     ]
    },
    {
     "ename": "SystemExit",
     "evalue": "2",
     "output_type": "error",
     "traceback": [
      "An exception has occurred, use %tb to see the full traceback.\n",
      "\u001b[1;31mSystemExit\u001b[0m\u001b[1;31m:\u001b[0m 2\n"
     ]
    }
   ],
   "source": [
    "\"\"\" \n",
    "Objective: Create a very basic of running python code with arguments\n",
    "\"\"\"\n",
    "# TODO: Modify greetings to print name instead of 'worlds'\n",
    "\n",
    "# Your argparse-based script\n",
    "def main():\n",
    "    # TODO: Create Argument Parser object\n",
    "\n",
    "    # TODO: Add argument to accept name input\n",
    "    # TODO: Parse argument input using Argument Parser object, \n",
    "    # store it in a variable\n",
    "    # TODO: Called name input from parser as greetings parameter\n",
    "\n",
    "    parser = argparse.ArgumentParser(description=\"A simple web scraper.\")\n",
    "    parser.add_argument(\"--name\", required=True, help=\"The name to greet\")\n",
    "    args = parser.parse_args()\n",
    "    name = args.name\n",
    "    greetings(name)\n",
    "\n",
    "# Simulate command-line arguments\n",
    "# This equals to \"python script.py --name 'Udin Salahudin'\"\n",
    "    sys.argv = ['main.py', '--name', 'Udin Salahudin']\n",
    "# Or if you run through a different file\n",
    "# you can just copy and paste here and ignore the sys code line\n",
    "\n",
    "# Execute the script\n",
    "if __name__ == \"__main__\":\n",
    "    main()"
   ]
  },
  {
   "cell_type": "code",
   "execution_count": null,
   "metadata": {},
   "outputs": [],
   "source": [
    "\"\"\" \n",
    "Objective: Understanding options parameter on an argument \n",
    "such as default, required, type, and help\n",
    "\"\"\"\n",
    "# TODO: You can use your previous code\n",
    "# TODO: Add default parameter in your argument\n",
    "# TODO: Add required parameter\n",
    "# TODO: Explore any other parameters such as type and help"
   ]
  },
  {
   "cell_type": "code",
   "execution_count": null,
   "metadata": {},
   "outputs": [],
   "source": [
    "\"\"\" \n",
    "Objective: Understanding argument as choices\n",
    "\"\"\"\n",
    "# TODO: Add new argument in choices mode\n",
    "# TODO: Add default value for the choices"
   ]
  },
  {
   "cell_type": "code",
   "execution_count": null,
   "metadata": {},
   "outputs": [],
   "source": [
    "\"\"\" \n",
    "Objective: Understanding argument as action variable\n",
    "\"\"\"\n",
    "# TODO: Add new argument that act as action\n",
    "# TODO: Compare on how program executed\n"
   ]
  },
  {
   "cell_type": "code",
   "execution_count": null,
   "metadata": {},
   "outputs": [],
   "source": [
    "\"\"\" \n",
    "Objective: Implement in Web Scraping\n",
    "\"\"\"\n",
    "# TODO: Create a function to make your scraping run dynamically as user input\n",
    "# TODO: Add argument for output format, filename, and page limit"
   ]
  },
  {
   "cell_type": "markdown",
   "metadata": {},
   "source": [
    "### **Reflection**\n",
    "Argparse offers flexibility to your code. Do you think its better to create a separate code with similiar functionality or a code should be flexible?\n",
    "\n",
    "(answer here)"
   ]
  },
  {
   "cell_type": "markdown",
   "metadata": {},
   "source": [
    "### **Exploration**\n",
    "Typer builds on top of argparse and offers a more modern, Pythonic, and user-friendly approach. "
   ]
  },
  {
   "cell_type": "markdown",
   "metadata": {},
   "source": []
  }
 ],
 "metadata": {
  "kernelspec": {
   "display_name": ".venv",
   "language": "python",
   "name": "python3"
  },
  "language_info": {
   "codemirror_mode": {
    "name": "ipython",
    "version": 3
   },
   "file_extension": ".py",
   "mimetype": "text/x-python",
   "name": "python",
   "nbconvert_exporter": "python",
   "pygments_lexer": "ipython3",
   "version": "3.12.0"
  }
 },
 "nbformat": 4,
 "nbformat_minor": 2
}
