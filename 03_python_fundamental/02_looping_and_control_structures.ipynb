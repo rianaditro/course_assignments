{
 "cells": [
  {
   "cell_type": "markdown",
   "metadata": {},
   "source": [
    "### **Looping and Control Structures**\n",
    "Looping and control structures are essential constructs in Python that enable you to execute blocks of code repeatedly and make decisions based on conditions. Using loops, you can iterate over sequences (like lists, tuples, or dictionaries) or execute code until a condition is met (using while loops). Control structures such as if, else, break, and continue allow you to direct the flow of your program, making it dynamic and responsive to different conditions. Mastering these fundamentals will help you write efficient, scalable, and readable code."
   ]
  },
  {
   "cell_type": "code",
   "execution_count": 3,
   "metadata": {},
   "outputs": [
    {
     "name": "stdout",
     "output_type": "stream",
     "text": [
      "Color: red\n",
      "Color: green\n",
      "Color: blue\n",
      "Color: yellow\n",
      "\n",
      "\n",
      "------------------------ divider ------------------------\n",
      "\n",
      "\n",
      "Color: red\n",
      "Color: green\n",
      "Color: blue\n",
      "Color: yellow\n",
      "Loop has finished.\n"
     ]
    }
   ],
   "source": [
    "\"\"\"\n",
    "Objective: Iterate over a list of items using a for loop and print each item.\n",
    "\"\"\"\n",
    "# Create a list of colors\n",
    "colors = [\"red\", \"green\", \"blue\", \"yellow\"]\n",
    "\n",
    "# Loop over the list and print each color\n",
    "for color in colors:\n",
    "    print(\"Color:\", color)\n",
    "\n",
    "print(\"\\n\")\n",
    "print(\"------------------------ divider ------------------------\")\n",
    "print(\"\\n\")\n",
    "\n",
    "# TODO: After the loop, print a message indicating the loop has finished.\n",
    "for c in colors:\n",
    "    print(\"Color:\", c)\n",
    "print(\"Loop has finished.\")\n"
   ]
  },
  {
   "cell_type": "code",
   "execution_count": 11,
   "metadata": {},
   "outputs": [
    {
     "name": "stdout",
     "output_type": "stream",
     "text": [
      "Number: 0\n",
      "Number: 1\n",
      "Number: 2\n",
      "Number: 3\n",
      "Number: 4\n",
      "Number: 5\n",
      "Number: 6\n",
      "Number: 7\n",
      "Number: 8\n",
      "Number: 9\n",
      "\n",
      "\n",
      "------------------------ divider ------------------------\n",
      "\n",
      "\n",
      "num loop: 5\n",
      "num loop: 6\n",
      "num loop: 7\n",
      "num loop: 8\n",
      "num loop: 9\n",
      "num loop: 10\n",
      "num loop: 11\n",
      "num loop: 12\n",
      "num loop: 13\n",
      "num loop: 14\n",
      "num loop: 15\n",
      "num rev: 15\n",
      "num rev: 14\n",
      "num rev: 13\n",
      "num rev: 12\n",
      "num rev: 11\n",
      "num rev: 10\n",
      "num rev: 9\n",
      "num rev: 8\n",
      "num rev: 7\n",
      "num rev: 6\n",
      "num rev: 5\n"
     ]
    }
   ],
   "source": [
    "\"\"\"\n",
    "Objective: Use the range() function to iterate over a sequence of numbers and print each number.\n",
    "\"\"\"\n",
    "# Loop from 0 to 9 using range()\n",
    "for num in range(10):\n",
    "    print(\"Number:\", num)\n",
    "\n",
    "print(\"\\n\")\n",
    "print(\"------------------------ divider ------------------------\")\n",
    "print(\"\\n\")\n",
    "\n",
    "# TODO: Modify the loop to print numbers from 5 to 15.\n",
    "for n in range(5, 16):\n",
    "    print(\"num loop:\", n)\n",
    "\n",
    "# TODO: Add new loops to print numbers in reverse order.\n",
    "for n in range(15, 4, -1):\n",
    "    print(\"num rev:\", n)\n"
   ]
  },
  {
   "cell_type": "code",
   "execution_count": 1,
   "metadata": {},
   "outputs": [
    {
     "name": "stdout",
     "output_type": "stream",
     "text": [
      "Counter: 1\n",
      "Counter: 2\n",
      "Counter: 3\n",
      "Counter: 4\n",
      "Counter: 5\n",
      "\n",
      "\n",
      "------------------------ divider ------------------------\n",
      "\n",
      "\n",
      "counter : 2\n",
      "counter : 4\n",
      "counter : 6\n",
      "counter : 8\n",
      "counter : 10\n",
      "Counter: 1\n",
      "Counter: 2\n",
      "Counter: 3\n",
      "Counter: 4\n",
      "Counter: 5\n"
     ]
    }
   ],
   "source": [
    "\"\"\"\n",
    "Objective: Use a while loop to print numbers from 1 to 5.\n",
    "\"\"\"\n",
    "# Initialize a counter variable\n",
    "counter = 1\n",
    "\n",
    "# Loop until the counter exceeds 5\n",
    "while counter <= 5:\n",
    "    print(\"Counter:\", counter)\n",
    "    counter += 1  # Increment the counter\n",
    "\n",
    "print(\"\\n\")\n",
    "print(\"------------------------ divider ------------------------\")\n",
    "print(\"\\n\")\n",
    "\n",
    "# TODO: Write a while loop that prints even numbers from 2 to 10.\n",
    "counter = 2\n",
    "while counter <= 10:\n",
    "    if counter % 2 == 0:\n",
    "        print(\"counter :\", counter)\n",
    "    counter+=1\n",
    "\n",
    "# TODO: Write a while loop using True condition and Break statement.\n",
    "counter = 1\n",
    "while True:\n",
    "    print(\"Counter:\", counter)\n",
    "    counter += 1\n",
    "    if counter > 5:\n",
    "        break"
   ]
  },
  {
   "cell_type": "code",
   "execution_count": 7,
   "metadata": {},
   "outputs": [
    {
     "name": "stdout",
     "output_type": "stream",
     "text": [
      "1x1=1\t1x2=2\t1x3=3\t\n",
      "2x1=2\t2x2=4\t2x3=6\t\n",
      "3x1=3\t3x2=6\t3x3=9\t\n",
      "\n",
      "1x1=1\t1x2=2\t1x3=3\t1x4=4\t1x5=5\t\n",
      "2x1=2\t2x2=4\t2x3=6\t2x4=8\t2x5=10\t\n",
      "3x1=3\t3x2=6\t3x3=9\t3x4=12\t3x5=15\t\n",
      "4x1=4\t4x2=8\t4x3=12\t4x4=16\t4x5=20\t\n",
      "5x1=5\t5x2=10\t5x3=15\t5x4=20\t5x5=25\t\n"
     ]
    }
   ],
   "source": [
    "\"\"\"\n",
    "Objective: Demonstrate nested loops by printing a multiplication table for numbers 1 to 3.\n",
    "\"\"\"\n",
    "# Outer loop for rows\n",
    "for i in range(1, 4):\n",
    "    # Inner loop for columns\n",
    "    for j in range(1, 4):\n",
    "        print(f\"{i}x{j}={i*j}\", end=\"\\t\")\n",
    "    print()  # New line after each row\n",
    "\n",
    "print()\n",
    "# TODO: Modify the nested loop to generate a 5x5 multiplication table.\n",
    "for i in range(1, 6):\n",
    "    for j in range(1, 6):\n",
    "        print(f\"{i}x{j}={i*j}\", end=\"\\t\")\n",
    "    print()\n"
   ]
  },
  {
   "cell_type": "code",
   "execution_count": 10,
   "metadata": {},
   "outputs": [
    {
     "name": "stdout",
     "output_type": "stream",
     "text": [
      "Number: 1\n",
      "Number: 2\n",
      "Number: 3\n",
      "Number: 4\n",
      "Skipping number 5\n",
      "Number: 6\n",
      "Number: 7\n",
      "Breaking loop at number 8\n",
      "\n",
      "Number: 1\n",
      "Number: 7\n",
      "Number: 3\n",
      "ketemu negative, exit\n"
     ]
    }
   ],
   "source": [
    "\"\"\"\n",
    "Objective: Use break and continue in a loop to control the flow of execution.\n",
    "\"\"\"\n",
    "# Loop over numbers 1 to 10\n",
    "for num in range(1, 11):\n",
    "    if num == 5:\n",
    "        print(\"Skipping number 5\")\n",
    "        continue  # Skip the rest of the loop when num is 5\n",
    "    if num == 8:\n",
    "        print(\"Breaking loop at number 8\")\n",
    "        break    # Exit the loop when num is 8\n",
    "    print(\"Number:\", num)\n",
    "\n",
    "print()\n",
    "# TODO: Write a loop that iterates over a list of numbers and uses break to exit the loop when it encounters a negative number.\n",
    "numbers = [1, 7, 3, -1, 4, 5]\n",
    "for num in numbers:\n",
    "    if num < 0:\n",
    "        print(\"ketemu negative, exit\")\n",
    "        break\n",
    "    print(\"Number:\", num)\n"
   ]
  },
  {
   "cell_type": "code",
   "execution_count": 13,
   "metadata": {},
   "outputs": [
    {
     "name": "stdout",
     "output_type": "stream",
     "text": [
      "0 is zero.\n",
      "1 is odd.\n",
      "2 is even.\n",
      "3 is odd.\n",
      "4 is even.\n",
      "5 is odd.\n",
      "\n",
      "0 is zero.\n",
      "1 is odd.\n",
      "2 is even.\n",
      "3 is odd.\n",
      "4 is even.\n",
      "5 is odd.\n",
      "Total even: 6\n",
      "Total odd: 9\n"
     ]
    }
   ],
   "source": [
    "\"\"\"\n",
    "Objective: Use if-elif-else statements inside a loop to categorize numbers as even, odd, or zero.\n",
    "\"\"\"\n",
    "numbers = [0, 1, 2, 3, 4, 5]\n",
    "\n",
    "for num in numbers:\n",
    "    if num == 0:\n",
    "        print(f\"{num} is zero.\")\n",
    "    elif num % 2 == 0:\n",
    "        print(f\"{num} is even.\")\n",
    "    else:\n",
    "        print(f\"{num} is odd.\")\n",
    "\n",
    "print()\n",
    "# TODO: Extend the loop to count and print the total number of even and odd numbers.\n",
    "numbers = [0, 1, 2, 3, 4, 5]\n",
    "\n",
    "totev = 0\n",
    "totod = 0\n",
    "for num in numbers:\n",
    "    if num == 0:\n",
    "        print(f\"{num} is zero.\")\n",
    "    elif num % 2 == 0:\n",
    "        totev+=num\n",
    "        print(f\"{num} is even.\")\n",
    "    else:\n",
    "        totod+=num\n",
    "        print(f\"{num} is odd.\")\n",
    "print(f\"Total even: {totev}\")\n",
    "print(f\"Total odd: {totod}\")"
   ]
  },
  {
   "cell_type": "code",
   "execution_count": 18,
   "metadata": {},
   "outputs": [
    {
     "name": "stdout",
     "output_type": "stream",
     "text": [
      "name: Alice\n",
      "age: 21\n",
      "major: Physics\n",
      "\n",
      "key: name\n",
      "key: age\n",
      "key: major\n"
     ]
    }
   ],
   "source": [
    "\"\"\"\n",
    "Objective: Iterate over a dictionary to print its keys and corresponding values.\n",
    "\"\"\"\n",
    "# Create a dictionary of student information\n",
    "student = {\"name\": \"Alice\", \"age\": 21, \"major\": \"Physics\"}\n",
    "\n",
    "# Loop over the dictionary items\n",
    "for key, value in student.items():\n",
    "    print(f\"{key}: {value}\")\n",
    "\n",
    "print()\n",
    "# TODO: Write code to print only the keys of the dictionary.\n",
    "for val in student.keys():\n",
    "    print(\"key:\", val)\n"
   ]
  },
  {
   "cell_type": "code",
   "execution_count": null,
   "metadata": {},
   "outputs": [
    {
     "name": "stdout",
     "output_type": "stream",
     "text": [
      "Banana found!\n",
      "\n",
      "grape not found!\n"
     ]
    }
   ],
   "source": [
    "\"\"\"\n",
    "Objective: Demonstrate the use of the for/else construct by searching for an element in a list.\n",
    "\"\"\"\n",
    "fruits = [\"apple\", \"banana\", \"cherry\"]\n",
    "\n",
    "# Search for a fruit in the list\n",
    "for fruit in fruits:\n",
    "    if fruit == \"banana\":\n",
    "        print(\"Banana found!\")\n",
    "        break\n",
    "else:\n",
    "    print(\"Banana not found!\")\n",
    "\n",
    "print()\n",
    "# TODO: Modify the loop to search for \"grape\" and print an appropriate message using the else clause.\n",
    "search = \"grape\"\n",
    "for fruit in fruits:\n",
    "    if fruit == search:\n",
    "        print(f\"{search} found!\")\n",
    "        break\n",
    "else:\n",
    "    print(f\"{search} not found!\")\n"
   ]
  },
  {
   "cell_type": "code",
   "execution_count": 27,
   "metadata": {},
   "outputs": [
    {
     "name": "stdout",
     "output_type": "stream",
     "text": [
      "Squares: [1, 4, 9, 16, 25, 36, 49, 64, 81, 100]\n",
      "\n",
      "Odd numbers: [1, 3, 5, 7, 9, 11, 13, 15, 17, 19]\n"
     ]
    }
   ],
   "source": [
    "\"\"\"\n",
    "Objective: Use a list comprehension to generate a list of squares for numbers 1 to 10.\n",
    "\"\"\"\n",
    "# Generate the list of squares using list comprehension\n",
    "squares = [x ** 2 for x in range(1, 11)]\n",
    "print(\"Squares:\", squares)\n",
    "\n",
    "print()\n",
    "# TODO: Create a list comprehension that filters out even numbers from a list of numbers 1 to 20.\n",
    "numbers = [x for x in range(1, 21) if x % 2 != 0]\n",
    "print(\"Odd numbers:\", numbers)\n"
   ]
  },
  {
   "cell_type": "code",
   "execution_count": null,
   "metadata": {},
   "outputs": [],
   "source": [
    "\"\"\"\n",
    "Objective: Create a simple menu-driven program that repeatedly asks the user for an option and performs an action until the user chooses to exit.\n",
    "\"\"\"\n",
    "while True:\n",
    "    print(\"\\nMenu:\")\n",
    "    print(\"1. Say Hello\")\n",
    "    print(\"2. Show Current Time\")\n",
    "    print(\"3. Exit\")\n",
    "    \n",
    "    # Get user input\n",
    "    choice = input(\"Enter your choice (1-3): \")\n",
    "    \n",
    "    # Check the user's choice\n",
    "    if choice == \"1\":\n",
    "        print(\"Hello there!\")\n",
    "    elif choice == \"2\":\n",
    "        import datetime\n",
    "        print(\"Current Time:\", datetime.datetime.now())\n",
    "    elif choice == \"3\":\n",
    "        print(\"Exiting program. Goodbye!\")\n",
    "        break  # Exit the loop\n",
    "    else:\n",
    "        print(\"Invalid choice, please try again.\")\n",
    "\n",
    "# TODO: Extend the menu to include an option that asks the user for a number and prints whether it's even or odd.\n"
   ]
  },
  {
   "cell_type": "markdown",
   "metadata": {},
   "source": [
    "### **Reflection**\n",
    "Consider how loops and control structures allow you to manage repetitive tasks and control the flow of your program. Reflect on the following questions:\n",
    "- How do different loop constructs (for vs. while) impact the way you solve a problem?\n",
    "- In what scenarios would you prefer using break or continue?\n",
    "- How do nested loops and conditional statements together help in processing multi-dimensional data?\n",
    "\n",
    "(answer here)"
   ]
  },
  {
   "cell_type": "markdown",
   "metadata": {},
   "source": [
    "### ANSWER\n",
    "\n",
    "- for vs while\n",
    "`for` digunakan utk iterasi data yang sudah diketahui seperti list, atau range yang sudah tahu\n",
    "sedangkan `while` digunakan utk yang range nya belum diketahui mungkin seperti pengambil iterate data dari database.\n",
    "\n",
    "- break & continue\n",
    "`break`digunakan utk kondisi yang sudah di temukan pada loop dan tidak akan ada lagi pencarian atau pengecekan data lain karna sudah sesuai dengan kebutuhan.\n",
    "sedangkan `contiue` ketika loop sedang pengecekan/pencarian dan ada satu data belum sesuai namun masih perlu pengecekan utk data berikutnya maka dibutuhkan continue utk skip data yang diganti.\n",
    "\n",
    "- nested loops dan kondisional stataement dapat membantu mengiterasi multi dimensi, menerapkan spesifik kondisi yang terjadi pada loop atau nested loop, dan melakukan operasi tergantung pada relasi antar element di loop yang berbeda level."
   ]
  },
  {
   "cell_type": "markdown",
   "metadata": {},
   "source": []
  },
  {
   "cell_type": "markdown",
   "metadata": {},
   "source": [
    "### **Exploration**\n",
    "For further exploration, research Generators and Iterators. Investigate how Python's advanced looping constructs, such as generator functions and iterator protocols, can help you handle large data streams efficiently while keeping your code clean and performant."
   ]
  },
  {
   "cell_type": "markdown",
   "metadata": {},
   "source": []
  }
 ],
 "metadata": {
  "kernelspec": {
   "display_name": "Python 3",
   "language": "python",
   "name": "python3"
  },
  "language_info": {
   "codemirror_mode": {
    "name": "ipython",
    "version": 3
   },
   "file_extension": ".py",
   "mimetype": "text/x-python",
   "name": "python",
   "nbconvert_exporter": "python",
   "pygments_lexer": "ipython3",
   "version": "3.12.8"
  }
 },
 "nbformat": 4,
 "nbformat_minor": 2
}
