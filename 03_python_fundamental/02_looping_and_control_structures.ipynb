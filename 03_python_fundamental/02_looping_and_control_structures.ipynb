{
 "cells": [
  {
   "cell_type": "markdown",
   "metadata": {},
   "source": [
    "### **Looping and Control Structures**\n",
    "Looping and control structures are essential constructs in Python that enable you to execute blocks of code repeatedly and make decisions based on conditions. Using loops, you can iterate over sequences (like lists, tuples, or dictionaries) or execute code until a condition is met (using while loops). Control structures such as if, else, break, and continue allow you to direct the flow of your program, making it dynamic and responsive to different conditions. Mastering these fundamentals will help you write efficient, scalable, and readable code."
   ]
  },
  {
   "cell_type": "code",
   "execution_count": null,
   "metadata": {},
   "outputs": [],
   "source": [
    "\"\"\"\n",
    "Objective: Iterate over a list of items using a for loop and print each item.\n",
    "\"\"\"\n",
    "# Create a list of colors\n",
    "colors = [\"red\", \"green\", \"blue\", \"yellow\"]\n",
    "\n",
    "# Loop over the list and print each color\n",
    "for color in colors:\n",
    "    print(\"Color:\", color)\n",
    "\n",
    "# TODO: After the loop, print a message indicating the loop has finished.\n"
   ]
  },
  {
   "cell_type": "code",
   "execution_count": null,
   "metadata": {},
   "outputs": [],
   "source": [
    "\"\"\"\n",
    "Objective: Use the range() function to iterate over a sequence of numbers and print each number.\n",
    "\"\"\"\n",
    "# Loop from 0 to 9 using range()\n",
    "for num in range(10):\n",
    "    print(\"Number:\", num)\n",
    "\n",
    "# TODO: Modify the loop to print numbers from 5 to 15.\n",
    "# TODO: Add new loops to print numbers in reverse order."
   ]
  },
  {
   "cell_type": "code",
   "execution_count": null,
   "metadata": {},
   "outputs": [],
   "source": [
    "\"\"\"\n",
    "Objective: Use a while loop to print numbers from 1 to 5.\n",
    "\"\"\"\n",
    "# Initialize a counter variable\n",
    "counter = 1\n",
    "\n",
    "# Loop until the counter exceeds 5\n",
    "while counter <= 5:\n",
    "    print(\"Counter:\", counter)\n",
    "    counter += 1  # Increment the counter\n",
    "\n",
    "# TODO: Write a while loop that prints even numbers from 2 to 10.\n",
    "# TODO: Write a while loop using True condition and Break statement."
   ]
  },
  {
   "cell_type": "code",
   "execution_count": null,
   "metadata": {},
   "outputs": [],
   "source": [
    "\"\"\"\n",
    "Objective: Demonstrate nested loops by printing a multiplication table for numbers 1 to 3.\n",
    "\"\"\"\n",
    "# Outer loop for rows\n",
    "for i in range(1, 4):\n",
    "    # Inner loop for columns\n",
    "    for j in range(1, 4):\n",
    "        print(f\"{i}x{j}={i*j}\", end=\"\\t\")\n",
    "    print()  # New line after each row\n",
    "\n",
    "# TODO: Modify the nested loop to generate a 5x5 multiplication table.\n"
   ]
  },
  {
   "cell_type": "code",
   "execution_count": null,
   "metadata": {},
   "outputs": [],
   "source": [
    "\"\"\"\n",
    "Objective: Use break and continue in a loop to control the flow of execution.\n",
    "\"\"\"\n",
    "# Loop over numbers 1 to 10\n",
    "for num in range(1, 11):\n",
    "    if num == 5:\n",
    "        print(\"Skipping number 5\")\n",
    "        continue  # Skip the rest of the loop when num is 5\n",
    "    if num == 8:\n",
    "        print(\"Breaking loop at number 8\")\n",
    "        break    # Exit the loop when num is 8\n",
    "    print(\"Number:\", num)\n",
    "\n",
    "# TODO: Write a loop that iterates over a list of numbers and uses break to exit the loop when it encounters a negative number.\n"
   ]
  },
  {
   "cell_type": "code",
   "execution_count": null,
   "metadata": {},
   "outputs": [],
   "source": [
    "\"\"\"\n",
    "Objective: Use if-elif-else statements inside a loop to categorize numbers as even, odd, or zero.\n",
    "\"\"\"\n",
    "numbers = [0, 1, 2, 3, 4, 5]\n",
    "\n",
    "for num in numbers:\n",
    "    if num == 0:\n",
    "        print(f\"{num} is zero.\")\n",
    "    elif num % 2 == 0:\n",
    "        print(f\"{num} is even.\")\n",
    "    else:\n",
    "        print(f\"{num} is odd.\")\n",
    "\n",
    "# TODO: Extend the loop to count and print the total number of even and odd numbers.\n"
   ]
  },
  {
   "cell_type": "code",
   "execution_count": null,
   "metadata": {},
   "outputs": [],
   "source": [
    "\"\"\"\n",
    "Objective: Iterate over a dictionary to print its keys and corresponding values.\n",
    "\"\"\"\n",
    "# Create a dictionary of student information\n",
    "student = {\"name\": \"Alice\", \"age\": 21, \"major\": \"Physics\"}\n",
    "\n",
    "# Loop over the dictionary items\n",
    "for key, value in student.items():\n",
    "    print(f\"{key}: {value}\")\n",
    "\n",
    "# TODO: Write code to print only the keys of the dictionary.\n"
   ]
  },
  {
   "cell_type": "code",
   "execution_count": null,
   "metadata": {},
   "outputs": [],
   "source": [
    "\"\"\"\n",
    "Objective: Demonstrate the use of the for/else construct by searching for an element in a list.\n",
    "\"\"\"\n",
    "fruits = [\"apple\", \"banana\", \"cherry\"]\n",
    "\n",
    "# Search for a fruit in the list\n",
    "for fruit in fruits:\n",
    "    if fruit == \"banana\":\n",
    "        print(\"Banana found!\")\n",
    "        break\n",
    "else:\n",
    "    print(\"Banana not found!\")\n",
    "\n",
    "# TODO: Modify the loop to search for \"grape\" and print an appropriate message using the else clause.\n"
   ]
  },
  {
   "cell_type": "code",
   "execution_count": null,
   "metadata": {},
   "outputs": [],
   "source": [
    "\"\"\"\n",
    "Objective: Use a list comprehension to generate a list of squares for numbers 1 to 10.\n",
    "\"\"\"\n",
    "# Generate the list of squares using list comprehension\n",
    "squares = [x ** 2 for x in range(1, 11)]\n",
    "print(\"Squares:\", squares)\n",
    "\n",
    "# TODO: Create a list comprehension that filters out even numbers from a list of numbers 1 to 20.\n"
   ]
  },
  {
   "cell_type": "code",
   "execution_count": null,
   "metadata": {},
   "outputs": [],
   "source": [
    "\"\"\"\n",
    "Objective: Create a simple menu-driven program that repeatedly asks the user for an option and performs an action until the user chooses to exit.\n",
    "\"\"\"\n",
    "while True:\n",
    "    print(\"\\nMenu:\")\n",
    "    print(\"1. Say Hello\")\n",
    "    print(\"2. Show Current Time\")\n",
    "    print(\"3. Exit\")\n",
    "    \n",
    "    # Get user input\n",
    "    choice = input(\"Enter your choice (1-3): \")\n",
    "    \n",
    "    # Check the user's choice\n",
    "    if choice == \"1\":\n",
    "        print(\"Hello there!\")\n",
    "    elif choice == \"2\":\n",
    "        import datetime\n",
    "        print(\"Current Time:\", datetime.datetime.now())\n",
    "    elif choice == \"3\":\n",
    "        print(\"Exiting program. Goodbye!\")\n",
    "        break  # Exit the loop\n",
    "    else:\n",
    "        print(\"Invalid choice, please try again.\")\n",
    "\n",
    "# TODO: Extend the menu to include an option that asks the user for a number and prints whether it's even or odd.\n"
   ]
  },
  {
   "cell_type": "markdown",
   "metadata": {},
   "source": [
    "### **Reflection**\n",
    "Consider how loops and control structures allow you to manage repetitive tasks and control the flow of your program. Reflect on the following questions:\n",
    "- How do different loop constructs (for vs. while) impact the way you solve a problem?\n",
    "- In what scenarios would you prefer using break or continue?\n",
    "- How do nested loops and conditional statements together help in processing multi-dimensional data?\n",
    "\n",
    "(answer here)"
   ]
  },
  {
   "cell_type": "markdown",
   "metadata": {},
   "source": [
    "### **Exploration**\n",
    "For further exploration, research Generators and Iterators. Investigate how Python's advanced looping constructs, such as generator functions and iterator protocols, can help you handle large data streams efficiently while keeping your code clean and performant."
   ]
  },
  {
   "cell_type": "markdown",
   "metadata": {},
   "source": []
  }
 ],
 "metadata": {
  "kernelspec": {
   "display_name": "course_assignments-W1NPJChe",
   "language": "python",
   "name": "python3"
  },
  "language_info": {
   "codemirror_mode": {
    "name": "ipython",
    "version": 3
   },
   "file_extension": ".py",
   "mimetype": "text/x-python",
   "name": "python",
   "nbconvert_exporter": "python",
   "pygments_lexer": "ipython3",
   "version": "3.10.12"
  }
 },
 "nbformat": 4,
 "nbformat_minor": 2
}
