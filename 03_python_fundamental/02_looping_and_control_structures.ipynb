{
 "cells": [
  {
   "cell_type": "markdown",
   "metadata": {},
   "source": [
    "### **Looping and Control Structures**\n",
    "Looping and control structures are essential constructs in Python that enable you to execute blocks of code repeatedly and make decisions based on conditions. Using loops, you can iterate over sequences (like lists, tuples, or dictionaries) or execute code until a condition is met (using while loops). Control structures such as if, else, break, and continue allow you to direct the flow of your program, making it dynamic and responsive to different conditions. Mastering these fundamentals will help you write efficient, scalable, and readable code."
   ]
  },
  {
   "cell_type": "code",
   "execution_count": 2,
   "metadata": {},
   "outputs": [
    {
     "name": "stdout",
     "output_type": "stream",
     "text": [
      "Color: red\n",
      "Color: green\n",
      "Color: blue\n",
      "Color: yellow\n",
      "Loop has finished.\n"
     ]
    }
   ],
   "source": [
    "\"\"\"\n",
    "Objective: Iterate over a list of items using a for loop and print each item.\n",
    "\"\"\"\n",
    "# Create a list of colors\n",
    "colors = [\"red\", \"green\", \"blue\", \"yellow\"]\n",
    "\n",
    "# Loop over the list and print each color\n",
    "for color in colors:\n",
    "    print(\"Color:\", color)\n",
    "\n",
    "# TODO: After the loop, print a message indicating the loop has finished.\n",
    "#After the loop, print a message indicating the loop has finished\n",
    "print(\"Loop has finished.\")\n"
   ]
  },
  {
   "cell_type": "code",
   "execution_count": 9,
   "metadata": {},
   "outputs": [
    {
     "name": "stdout",
     "output_type": "stream",
     "text": [
      "Number: 0\n",
      "Number: 1\n",
      "Number: 2\n",
      "Number: 3\n",
      "Number: 4\n",
      "Number: 5\n",
      "Number: 6\n",
      "Number: 7\n",
      "Number: 8\n",
      "Number: 9\n",
      "Numbers from 5 to 15:\n",
      "Number: 5\n",
      "Number: 6\n",
      "Number: 7\n",
      "Number: 8\n",
      "Number: 9\n",
      "Number: 10\n",
      "Number: 11\n",
      "Number: 12\n",
      "Number: 13\n",
      "Number: 14\n",
      "Number: 15\n",
      "Numbers in reverse order:\n",
      "Number: 5\n",
      "Number: 4\n",
      "Number: 3\n",
      "Number: 2\n",
      "Number: 1\n",
      "Number: 0\n"
     ]
    }
   ],
   "source": [
    "\"\"\"\n",
    "Objective: Use the range() function to iterate over a sequence of numbers and print each number.\n",
    "\"\"\"\n",
    "# Loop from 0 to 9 using range()\n",
    "for num in range(10):\n",
    "    print(\"Number:\", num)\n",
    "\n",
    "# TODO: Modify the loop to print numbers from 5 to 15.\n",
    "print('Numbers from 5 to 15:')\n",
    "for num in range(5, 16):\n",
    "    print(\"Number:\", num)\n",
    "# TODO: Add new loops to print numbers in reverse order.\n",
    "print('Numbers in reverse order:')\n",
    "for num in range(5,-1,-1):\n",
    "    print(\"Number:\", num)"
   ]
  },
  {
   "cell_type": "code",
   "execution_count": 1,
   "metadata": {},
   "outputs": [
    {
     "name": "stdout",
     "output_type": "stream",
     "text": [
      "Counter: 1\n",
      "Counter: 2\n",
      "Counter: 3\n",
      "Counter: 4\n",
      "Counter: 5\n",
      "------while loop that prints even numbers from 2 to 10--------\n",
      "Counter: 2\n",
      "Counter: 4\n",
      "Counter: 6\n",
      "Counter: 8\n",
      "Counter: 10\n",
      "-----while loop using True condition and Break statement---------\n",
      "Counter: 1\n",
      "Counter: 2\n",
      "Counter: 3\n",
      "Counter: 4\n",
      "Counter: 5\n"
     ]
    }
   ],
   "source": [
    "\"\"\"\n",
    "Objective: Use a while loop to print numbers from 1 to 5.\n",
    "\"\"\"\n",
    "# Initialize a counter variable\n",
    "counter = 1\n",
    "\n",
    "# Loop until the counter exceeds 5\n",
    "while counter <= 5:\n",
    "    print(\"Counter:\", counter)\n",
    "    counter += 1 \n",
    "\n",
    "# TODO: Write a while loop that prints even numbers from 2 to 10.\n",
    "print('------while loop that prints even numbers from 2 to 10--------')\n",
    "counter2 = 1\n",
    "while counter2 <= 10:\n",
    "    if counter2 % 2 == 0:        \n",
    "        print(\"Counter:\", counter2)\n",
    "    counter2 += 1    \n",
    "        \n",
    "# TODO: Write a while loop using True condition and Break statement.\n",
    "print('-----while loop using True condition and Break statement---------')\n",
    "counter3 = 1\n",
    "while True:\n",
    "    if counter3 > 5:\n",
    "        break\n",
    "    print(\"Counter:\", counter3)\n",
    "    counter3 += 1"
   ]
  },
  {
   "cell_type": "code",
   "execution_count": 4,
   "metadata": {},
   "outputs": [
    {
     "name": "stdout",
     "output_type": "stream",
     "text": [
      "1x1=1\t1x2=2\t1x3=3\t\n",
      "2x1=2\t2x2=4\t2x3=6\t\n",
      "3x1=3\t3x2=6\t3x3=9\t\n",
      "------nested loop to generate a 5x5 multiplication table--------\n",
      "1x1=1\t1x2=2\t1x3=3\t1x4=4\t1x5=5\t\n",
      "2x1=2\t2x2=4\t2x3=6\t2x4=8\t2x5=10\t\n",
      "3x1=3\t3x2=6\t3x3=9\t3x4=12\t3x5=15\t\n",
      "4x1=4\t4x2=8\t4x3=12\t4x4=16\t4x5=20\t\n",
      "5x1=5\t5x2=10\t5x3=15\t5x4=20\t5x5=25\t\n"
     ]
    }
   ],
   "source": [
    "\"\"\"\n",
    "Objective: Demonstrate nested loops by printing a multiplication table for numbers 1 to 3.\n",
    "\"\"\"\n",
    "# Outer loop for rows\n",
    "for i in range(1, 4):\n",
    "    # Inner loop for columns\n",
    "    for j in range(1, 4):\n",
    "        print(f\"{i}x{j}={i*j}\", end=\"\\t\")\n",
    "    print()  # New line after each row\n",
    "\n",
    "# TODO: Modify the nested loop to generate a 5x5 multiplication table.\n",
    "print('------nested loop to generate a 5x5 multiplication table--------')\n",
    "for i in range(1, 6):\n",
    "    for j in range(1, 6):\n",
    "        print(f\"{i}x{j}={i*j}\", end=\"\\t\")\n",
    "    print()\n",
    "    \n"
   ]
  },
  {
   "cell_type": "code",
   "execution_count": 6,
   "metadata": {},
   "outputs": [
    {
     "name": "stdout",
     "output_type": "stream",
     "text": [
      "Number: 1\n",
      "Number: 2\n",
      "Number: 3\n",
      "Number: 4\n",
      "Skipping number 5\n",
      "Number: 6\n",
      "Number: 7\n",
      "Breaking loop at number 8\n",
      "\n",
      "------loop that iterates over a list of numbers and uses break to exit the loop when it encounters a negative number--------\n",
      "Number: 1\n",
      "Number: 2\n",
      "Number: 3\n"
     ]
    }
   ],
   "source": [
    "\"\"\"\n",
    "Objective: Use break and continue in a loop to control the flow of execution.\n",
    "\"\"\"\n",
    "# Loop over numbers 1 to 10\n",
    "for num in range(1, 11):\n",
    "    if num == 5:\n",
    "        print(\"Skipping number 5\")\n",
    "        continue  # Skip the rest of the loop when num is 5\n",
    "    if num == 8:\n",
    "        print(\"Breaking loop at number 8\")\n",
    "        break    # Exit the loop when num is 8\n",
    "    print(\"Number:\", num)\n",
    "\n",
    "# TODO: Write a loop that iterates over a list of numbers and uses break to exit the loop when it encounters a negative number.\n",
    "# Write a loop that iterates over a list of numbers and uses break to exit the loop when it encounters a negative number.\n",
    "   \n",
    "print('\\n------loop that iterates over a list of numbers and uses break to exit the loop when it encounters a negative number--------')\n",
    "numbers = [1, 2, 3, -4, 5, 6, -7, 8, 9, -10]\n",
    "\n",
    "for my_number in numbers:\n",
    "    if my_number < 0:\n",
    "        break\n",
    "    print('Number:', my_number)\n"
   ]
  },
  {
   "cell_type": "code",
   "execution_count": 10,
   "metadata": {},
   "outputs": [
    {
     "name": "stdout",
     "output_type": "stream",
     "text": [
      "0 is zero.\n",
      "1 is odd.\n",
      "2 is even.\n",
      "3 is odd.\n",
      "4 is even.\n",
      "5 is odd.\n",
      "\n",
      "loop to count and print the total number of even and odd numbers.\n",
      "List of number : [0, 1, 2, 3, 4, 5]\n",
      "0 is zero.\n",
      "1 is odd.\n",
      "2 is even.\n",
      "3 is odd.\n",
      "4 is even.\n",
      "5 is odd.\n",
      "Total even numbers: 2\n",
      "Total odd numbers: 3\n"
     ]
    }
   ],
   "source": [
    "\"\"\"\n",
    "Objective: Use if-elif-else statements inside a loop to categorize numbers as even, odd, or zero.\n",
    "\"\"\"\n",
    "numbers = [0, 1, 2, 3, 4, 5]\n",
    "\n",
    "for num in numbers:\n",
    "    if num == 0:\n",
    "        print(f\"{num} is zero.\")\n",
    "    elif num % 2 == 0:\n",
    "        print(f\"{num} is even.\")\n",
    "    else:\n",
    "        print(f\"{num} is odd.\")\n",
    "\n",
    "# TODO: Extend the loop to count and print the total number of even and odd numbers.\n",
    "print(\"\\nloop to count and print the total number of even and odd numbers.\")\n",
    "print(f\"List of number : {numbers}\")\n",
    "even_count = 0\n",
    "odd_count = 0\n",
    "for my_number in numbers:\n",
    "    if my_number == 0:        \n",
    "        print(f\"{my_number} is zero.\")\n",
    "    elif my_number % 2 == 0:\n",
    "        print(f\"{my_number} is even.\")\n",
    "        even_count += 1\n",
    "    else:\n",
    "        print(f\"{my_number} is odd.\")\n",
    "        odd_count += 1\n",
    "\n",
    "print(f\"Total even numbers: {even_count}\")\n",
    "print(f\"Total odd numbers: {odd_count}\")\n",
    "\n"
   ]
  },
  {
   "cell_type": "code",
   "execution_count": 12,
   "metadata": {},
   "outputs": [
    {
     "name": "stdout",
     "output_type": "stream",
     "text": [
      "name: Alice\n",
      "age: 21\n",
      "major: Physics\n",
      "\n",
      "loop to print only the keys of the dictionary.\n",
      "Key: name\n",
      "Key: age\n",
      "Key: major\n"
     ]
    }
   ],
   "source": [
    "\"\"\"\n",
    "Objective: Iterate over a dictionary to print its keys and corresponding values.\n",
    "\"\"\"\n",
    "# Create a dictionary of student information\n",
    "student = {\"name\": \"Alice\", \"age\": 21, \"major\": \"Physics\"}\n",
    "\n",
    "# Loop over the dictionary items\n",
    "for key, value in student.items():\n",
    "    print(f\"{key}: {value}\")\n",
    "\n",
    "# TODO: Write code to print only the keys of the dictionary.\n",
    "print(\"\\nloop to print only the keys of the dictionary.\")\n",
    "for key in student:\n",
    "    print(f\"Key: {key}\")\n",
    "    \n"
   ]
  },
  {
   "cell_type": "code",
   "execution_count": 15,
   "metadata": {},
   "outputs": [
    {
     "name": "stdout",
     "output_type": "stream",
     "text": [
      "Banana found!\n",
      "\n",
      "loop to search for 'grape' and print an appropriate message using the else clause.\n",
      "Grape not found!\n"
     ]
    }
   ],
   "source": [
    "\"\"\"\n",
    "Objective: Demonstrate the use of the for/else construct by searching for an element in a list.\n",
    "\"\"\"\n",
    "fruits = [\"apple\", \"banana\", \"cherry\"]\n",
    "\n",
    "# Search for a fruit in the list\n",
    "for fruit in fruits:\n",
    "    if fruit == \"banana\":\n",
    "        print(\"Banana found!\")\n",
    "        break\n",
    "else:\n",
    "    print(\"Banana not found!\")\n",
    "\n",
    "# TODO: Modify the loop to search for \"grape\" and print an appropriate message using the else clause.\n",
    "print(\"\\nloop to search for 'grape' and print an appropriate message using the else clause.\")\n",
    "for my_fruit in fruits:\n",
    "    if my_fruit == \"grape\":\n",
    "        print(\"Grape found!\")\n",
    "        break\n",
    "else:\n",
    "    print(\"Grape not found!\")\n",
    "    \n",
    "\n"
   ]
  },
  {
   "cell_type": "code",
   "execution_count": 17,
   "metadata": {},
   "outputs": [
    {
     "name": "stdout",
     "output_type": "stream",
     "text": [
      "Squares: [1, 4, 9, 16, 25, 36, 49, 64, 81, 100]\n",
      "\n",
      "list comprehension that filters out even numbers from a list of numbers 1 to 20.\n",
      "Even numbers: [2, 4, 6, 8, 10, 12, 14, 16, 18, 20]\n"
     ]
    }
   ],
   "source": [
    "\"\"\"\n",
    "Objective: Use a list comprehension to generate a list of squares for numbers 1 to 10.\n",
    "\"\"\"\n",
    "# Generate the list of squares using list comprehension\n",
    "squares = [x ** 2 for x in range(1, 11)]\n",
    "print(\"Squares:\", squares)\n",
    "\n",
    "# TODO: Create a list comprehension that filters out even numbers from a list of numbers 1 to 20.\n",
    "print(\"\\nlist comprehension that filters out even numbers from a list of numbers 1 to 20.\")\n",
    "numbers = [1, 2, 3, 4, 5, 6, 7, 8, 9, 10, 11, 12, 13, 14, 15, 16, 17, 18, 19, 20]\n",
    "even_numbers = [x for x in numbers if x % 2 == 0]\n",
    "print(\"Even numbers:\", even_numbers)\n"
   ]
  },
  {
   "cell_type": "code",
   "execution_count": null,
   "metadata": {},
   "outputs": [
    {
     "name": "stdout",
     "output_type": "stream",
     "text": [
      "\n",
      "Menu:\n",
      "1. Say Hello\n",
      "2. Show Current Time\n",
      "3. Exit\n",
      "Hello there!\n",
      "\n",
      "Menu:\n",
      "1. Say Hello\n",
      "2. Show Current Time\n",
      "3. Exit\n",
      "Current Time: 2025-02-25 07:32:53.004842\n",
      "\n",
      "Menu:\n",
      "1. Say Hello\n",
      "2. Show Current Time\n",
      "3. Exit\n",
      "Exiting program. Goodbye!\n",
      "\n",
      "menu to include an option that asks the user for a number and prints whether it's even or odd.\n",
      "\n",
      "Menu:\n",
      "1. Say Hello\n",
      "2. Show Current Time\n",
      "3. Check Number\n",
      "4. Exit\n",
      "Hello there!\n",
      "\n",
      "Menu:\n",
      "1. Say Hello\n",
      "2. Show Current Time\n",
      "3. Check Number\n",
      "4. Exit\n",
      "Current Time: 2025-02-25 07:33:14.917705\n",
      "\n",
      "Menu:\n",
      "1. Say Hello\n",
      "2. Show Current Time\n",
      "3. Check Number\n",
      "4. Exit\n",
      "4 is even.\n",
      "\n",
      "Menu:\n",
      "1. Say Hello\n",
      "2. Show Current Time\n",
      "3. Check Number\n",
      "4. Exit\n",
      "\n",
      "Menu:\n",
      "1. Say Hello\n",
      "2. Show Current Time\n",
      "3. Check Number\n",
      "4. Exit\n",
      "\n",
      "Menu:\n",
      "1. Say Hello\n",
      "2. Show Current Time\n",
      "3. Check Number\n",
      "4. Exit\n",
      "\n",
      "Menu:\n",
      "1. Say Hello\n",
      "2. Show Current Time\n",
      "3. Check Number\n",
      "4. Exit\n",
      "\n",
      "Menu:\n",
      "1. Say Hello\n",
      "2. Show Current Time\n",
      "3. Check Number\n",
      "4. Exit\n",
      "\n",
      "Menu:\n",
      "1. Say Hello\n",
      "2. Show Current Time\n",
      "3. Check Number\n",
      "4. Exit\n",
      "\n",
      "Menu:\n",
      "1. Say Hello\n",
      "2. Show Current Time\n",
      "3. Check Number\n",
      "4. Exit\n",
      "\n",
      "Menu:\n",
      "1. Say Hello\n",
      "2. Show Current Time\n",
      "3. Check Number\n",
      "4. Exit\n",
      "\n",
      "Menu:\n",
      "1. Say Hello\n",
      "2. Show Current Time\n",
      "3. Check Number\n",
      "4. Exit\n",
      "\n",
      "Menu:\n",
      "1. Say Hello\n",
      "2. Show Current Time\n",
      "3. Check Number\n",
      "4. Exit\n",
      "\n",
      "Menu:\n",
      "1. Say Hello\n",
      "2. Show Current Time\n",
      "3. Check Number\n",
      "4. Exit\n",
      "\n",
      "Menu:\n",
      "1. Say Hello\n",
      "2. Show Current Time\n",
      "3. Check Number\n",
      "4. Exit\n",
      "\n",
      "Menu:\n",
      "1. Say Hello\n",
      "2. Show Current Time\n",
      "3. Check Number\n",
      "4. Exit\n",
      "\n",
      "Menu:\n",
      "1. Say Hello\n",
      "2. Show Current Time\n",
      "3. Check Number\n",
      "4. Exit\n"
     ]
    }
   ],
   "source": [
    "\"\"\"\n",
    "Objective: Create a simple menu-driven program that repeatedly asks the user for an option and performs an action until the user chooses to exit.\n",
    "\"\"\"\n",
    "while True:\n",
    "    print(\"\\nMenu:\")\n",
    "    print(\"1. Say Hello\")\n",
    "    print(\"2. Show Current Time\")\n",
    "    print(\"3. Exit\")\n",
    "    \n",
    "    # Get user input\n",
    "    choice = input(\"Enter your choice (1-3): \")\n",
    "    \n",
    "    # Check the user's choice\n",
    "    if choice == \"1\":\n",
    "        print(\"Hello there!\")\n",
    "    elif choice == \"2\":\n",
    "        import datetime\n",
    "        print(\"Current Time:\", datetime.datetime.now())\n",
    "    elif choice == \"3\":\n",
    "        print(\"Exiting program. Goodbye!\")\n",
    "        break  # Exit the loop\n",
    "    else:\n",
    "        print(\"Invalid choice, please try again.\")\n",
    "\n",
    "# TODO: Extend the menu to include an option that asks the user for a number and prints whether it's even or odd.\n",
    "print(\"\\nmenu to include an option that asks the user for a number and prints whether it's even or odd.\")\n",
    "while True:\n",
    "    print(\"\\nMenu:\")\n",
    "    print(\"1. Say Hello\")\n",
    "    print(\"2. Show Current Time\")\n",
    "    print(\"3. Check Number\")\n",
    "    print(\"4. Exit\")\n",
    "    \n",
    "    # Get user input\n",
    "    choice2 = input(\"Enter your choice (1-4): \")\n",
    "    \n",
    "    # Check the user's choice\n",
    "    if choice2 == \"1\":\n",
    "        print(\"Hello there!\")\n",
    "    elif choice2 == \"2\":\n",
    "        import datetime\n",
    "        print(\"Current Time:\", datetime.datetime.now())\n",
    "    elif choice2 == \"3\":\n",
    "        number = int(input(\"Enter a number: \"))\n",
    "        if number % 2 == 0:\n",
    "            print(f\"{number} is even.\")\n",
    "            \n"
   ]
  },
  {
   "cell_type": "markdown",
   "metadata": {},
   "source": [
    "### **Reflection**\n",
    "Consider how loops and control structures allow you to manage repetitive tasks and control the flow of your program. Reflect on the following questions:\n",
    "- How do different loop constructs (for vs. while) impact the way you solve a problem?\n",
    "- In what scenarios would you prefer using break or continue?\n",
    "- How do nested loops and conditional statements together help in processing multi-dimensional data?\n",
    "\n",
    "**for**\n",
    "\n",
    "- Safer than infinite loop because the boundary is clear. Suitable for structured tasks such as processing table data.\n",
    "In terms of flexibility Less flexible if the stopping condition is complex or not sequential.\n",
    "**while**\n",
    "\n",
    "Risks infinite loop, but powerful for dynamic logic.\n",
    "In terms of flexibility can handle more complicated cases, such as stopping the loop based on a combination of many variables.\n",
    "\n",
    "I prefer 'while', because it is more flexible in complex cases.\n",
    "\n",
    "Nested loops and conditional statements are a powerful combination for processing multi-dimensional data in Python, such as lists of lists (matrices), 2D arrays, or data structures that have deep layers. Nested loops allow us to systematically move through each dimension of the data. For example, in a 2D matrix (rows and columns), the outer loop typically handles the rows, while the inner loop handles the columns."
   ]
  },
  {
   "cell_type": "markdown",
   "metadata": {},
   "source": [
    "### **Exploration**\n",
    "For further exploration, research Generators and Iterators. Investigate how Python's advanced looping constructs, such as generator functions and iterator protocols, can help you handle large data streams efficiently while keeping your code clean and performant."
   ]
  },
  {
   "cell_type": "markdown",
   "metadata": {},
   "source": []
  },
  {
   "cell_type": "markdown",
   "metadata": {},
   "source": [
    "Python’s built-in iter() and next() functions let you create and use iterators manually.\n"
   ]
  },
  {
   "cell_type": "code",
   "execution_count": 1,
   "metadata": {},
   "outputs": [
    {
     "name": "stdout",
     "output_type": "stream",
     "text": [
      "1\n",
      "2\n",
      "3\n"
     ]
    }
   ],
   "source": [
    "my_list = [1, 2, 3]\n",
    "iterator = iter(my_list)\n",
    "print(next(iterator))  # 1\n",
    "print(next(iterator))  # 2\n",
    "print(next(iterator))  # 3"
   ]
  },
  {
   "cell_type": "markdown",
   "metadata": {},
   "source": [
    "**Generator Functions (with yield)**\n",
    "\n",
    "A function with yield doesn’t return all values at once—it “yields” them one by one, pausing execution between calls"
   ]
  },
  {
   "cell_type": "code",
   "execution_count": 3,
   "metadata": {},
   "outputs": [
    {
     "name": "stdout",
     "output_type": "stream",
     "text": [
      "0\n",
      "1\n",
      "1\n",
      "2\n",
      "3\n",
      "5\n",
      "8\n"
     ]
    }
   ],
   "source": [
    "def fibonacci(limit):\n",
    "    a, b = 0, 1\n",
    "    while a < limit:\n",
    "        yield a\n",
    "        a, b = b, a + b\n",
    "\n",
    "# Using the generator\n",
    "for num in fibonacci(10):\n",
    "    print(num)"
   ]
  },
  {
   "cell_type": "code",
   "execution_count": null,
   "metadata": {},
   "outputs": [],
   "source": []
  },
  {
   "cell_type": "code",
   "execution_count": null,
   "metadata": {},
   "outputs": [],
   "source": []
  }
 ],
 "metadata": {
  "kernelspec": {
   "display_name": "base",
   "language": "python",
   "name": "python3"
  },
  "language_info": {
   "codemirror_mode": {
    "name": "ipython",
    "version": 3
   },
   "file_extension": ".py",
   "mimetype": "text/x-python",
   "name": "python",
   "nbconvert_exporter": "python",
   "pygments_lexer": "ipython3",
   "version": "3.12.7"
  }
 },
 "nbformat": 4,
 "nbformat_minor": 2
}
