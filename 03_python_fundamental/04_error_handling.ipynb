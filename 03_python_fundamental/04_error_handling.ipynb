{
 "cells": [
  {
   "cell_type": "markdown",
   "metadata": {},
   "source": [
    "### **Error Handling**\n",
    "Error handling, exception management, and debugging are crucial components of robust Python programming. They enable you to gracefully manage unexpected situations and ensure your programs continue running or fail safely. In Python, errors are managed using exceptions through try/except blocks, custom exception classes, and debugging tools such as logging and the built-in debugger (pdb). Mastering these techniques not only helps in developing resilient code but also aids in maintaining, testing, and improving code quality."
   ]
  },
  {
   "cell_type": "code",
   "execution_count": null,
   "metadata": {},
   "outputs": [],
   "source": [
    "\"\"\"\n",
    "Objective: Demonstrate a basic try/except block to catch and handle an error.\n",
    "\"\"\"\n",
    "try:\n",
    "    # Attempt to convert a non-numeric string to an integer\n",
    "    num = int(\"hello\")\n",
    "except ValueError:\n",
    "    print(\"Caught a ValueError: Cannot convert 'hello' to an integer.\")\n",
    "\n",
    "# TODO: Modify the code to catch a TypeError by intentionally passing a wrong type.\n"
   ]
  },
  {
   "cell_type": "code",
   "execution_count": null,
   "metadata": {},
   "outputs": [],
   "source": [
    "\"\"\"\n",
    "Objective: Use multiple except blocks to handle different types of exceptions.\n",
    "\"\"\"\n",
    "try:\n",
    "    # This code might raise either ZeroDivisionError or ValueError\n",
    "    a = 10\n",
    "    b = 0\n",
    "    result = a / b\n",
    "    number = int(\"abc\")\n",
    "except ZeroDivisionError:\n",
    "    print(\"Caught a ZeroDivisionError: Division by zero.\")\n",
    "except ValueError:\n",
    "    print(\"Caught a ValueError: Invalid conversion from string to int.\")\n",
    "\n",
    "# TODO: Add an additional except block for a generic exception and print a custom message.\n"
   ]
  },
  {
   "cell_type": "code",
   "execution_count": null,
   "metadata": {},
   "outputs": [],
   "source": [
    "\"\"\"\n",
    "Objective: Demonstrate the use of else and finally clauses with try/except.\n",
    "\"\"\"\n",
    "try:\n",
    "    result = 10 / 2\n",
    "except ZeroDivisionError:\n",
    "    print(\"Caught a ZeroDivisionError!\")\n",
    "else:\n",
    "    print(\"No error occurred. Result is:\", result)\n",
    "finally:\n",
    "    print(\"Execution of try/except block completed.\")\n",
    "\n",
    "# TODO: Change the divisor to trigger an exception and observe the behavior of the else clause.\n"
   ]
  },
  {
   "cell_type": "code",
   "execution_count": null,
   "metadata": {},
   "outputs": [],
   "source": [
    "\"\"\"\n",
    "Objective: Learn how to raise exceptions manually using the raise keyword.\n",
    "\"\"\"\n",
    "def check_positive(number):\n",
    "    if number < 0:\n",
    "        raise ValueError(\"Number must be positive!\")\n",
    "    return number\n",
    "\n",
    "# Testing the function\n",
    "try:\n",
    "    print(\"Result:\", check_positive(5))\n",
    "    print(\"Result:\", check_positive(-3))\n",
    "except ValueError as e:\n",
    "    print(\"Error:\", e)\n",
    "\n",
    "# TODO: Modify the function to raise a custom exception for zero as well.\n"
   ]
  },
  {
   "cell_type": "code",
   "execution_count": null,
   "metadata": {},
   "outputs": [],
   "source": [
    "\"\"\"\n",
    "Objective: Create and use a custom exception class.\n",
    "\"\"\"\n",
    "# Define a custom exception\n",
    "class NegativeValueError(Exception):\n",
    "    \"\"\"Exception raised for errors in the input if the value is negative.\"\"\"\n",
    "    pass\n",
    "\n",
    "def process_value(value):\n",
    "    if value < 0:\n",
    "        raise NegativeValueError(\"Negative values are not allowed.\")\n",
    "    return value * 2\n",
    "\n",
    "try:\n",
    "    print(\"Processed value:\", process_value(10))\n",
    "    print(\"Processed value:\", process_value(-5))\n",
    "except NegativeValueError as e:\n",
    "    print(\"Caught custom exception:\", e)\n",
    "\n",
    "# TODO: Enhance the custom exception to include the invalid value in its error message.\n"
   ]
  },
  {
   "cell_type": "code",
   "execution_count": null,
   "metadata": {},
   "outputs": [],
   "source": [
    "\"\"\"\n",
    "Objective: Understand exception chaining by using 'raise from' to preserve original exceptions.\n",
    "\"\"\"\n",
    "def divide(a, b):\n",
    "    try:\n",
    "        return a / b\n",
    "    except ZeroDivisionError as original_error:\n",
    "        raise ValueError(\"Invalid division operation.\") from original_error\n",
    "\n",
    "try:\n",
    "    print(\"Division result:\", divide(10, 0))\n",
    "except ValueError as e:\n",
    "    print(\"Caught exception:\", e)\n",
    "    print(\"Original exception:\", e.__cause__)\n",
    "\n",
    "# TODO: Modify the function to chain a different type of exception.\n"
   ]
  },
  {
   "cell_type": "code",
   "execution_count": null,
   "metadata": {},
   "outputs": [],
   "source": [
    "\"\"\"\n",
    "Objective: Implement error handling within a function to manage exceptions and return a safe value.\n",
    "\"\"\"\n",
    "def safe_convert_to_int(s):\n",
    "    try:\n",
    "        return int(s)\n",
    "    except ValueError:\n",
    "        return None\n",
    "\n",
    "# Test the function with valid and invalid inputs\n",
    "print(\"Conversion result for '123':\", safe_convert_to_int(\"123\"))\n",
    "print(\"Conversion result for 'abc':\", safe_convert_to_int(\"abc\"))\n",
    "\n",
    "# TODO: Enhance the function to log an error message when conversion fails.\n"
   ]
  },
  {
   "cell_type": "code",
   "execution_count": null,
   "metadata": {},
   "outputs": [],
   "source": [
    "\"\"\"\n",
    "Objective: Use the pdb module to step through code for debugging purposes.\n",
    "\"\"\"\n",
    "def buggy_function(x):\n",
    "    result = x * 10\n",
    "    # TODO: Set a breakpoint here using pdb.set_trace() and inspect the value of 'result'\n",
    "    import pdb; pdb.set_trace()  # Debugger breakpoint\n",
    "    result += 5\n",
    "    return result\n",
    "\n",
    "# Call the function to start debugging\n",
    "print(\"Buggy function result:\", buggy_function(3))\n",
    "\n",
    "# TODO: After stepping through, remove the pdb breakpoint and ensure the function runs correctly.\n"
   ]
  },
  {
   "cell_type": "markdown",
   "metadata": {},
   "source": [
    "### **Reflection**\n",
    "Reflect on how error and exception handling improve the robustness of your programs. Consider these questions:\n",
    "\n",
    "- How does the use of try/except blocks change the behavior of your program when an error occurs?\n",
    "- In what ways do custom exceptions and exception chaining help in providing more context for debugging?\n",
    "- How does logging facilitate troubleshooting in larger applications?\n",
    "\n",
    "(answer here)"
   ]
  },
  {
   "cell_type": "markdown",
   "metadata": {},
   "source": [
    "### **Exploration**\n",
    "For further exploration, research Advanced Debugging Techniques with Python's pdb and third-party tools like PyCharm Debugger. Delve into techniques for setting conditional breakpoints, analyzing stack traces, and using remote debugging to improve your overall debugging workflow."
   ]
  },
  {
   "cell_type": "markdown",
   "metadata": {},
   "source": []
  }
 ],
 "metadata": {
  "kernelspec": {
   "display_name": "course_assignments-W1NPJChe",
   "language": "python",
   "name": "python3"
  },
  "language_info": {
   "codemirror_mode": {
    "name": "ipython",
    "version": 3
   },
   "file_extension": ".py",
   "mimetype": "text/x-python",
   "name": "python",
   "nbconvert_exporter": "python",
   "pygments_lexer": "ipython3",
   "version": "3.10.12"
  }
 },
 "nbformat": 4,
 "nbformat_minor": 2
}
