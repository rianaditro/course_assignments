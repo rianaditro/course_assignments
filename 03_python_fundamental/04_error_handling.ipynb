{
 "cells": [
  {
   "cell_type": "markdown",
   "metadata": {},
   "source": [
    "### **Error Handling**\n",
    "Error handling, exception management, and debugging are crucial components of robust Python programming. They enable you to gracefully manage unexpected situations and ensure your programs continue running or fail safely. In Python, errors are managed using exceptions through try/except blocks, custom exception classes, and debugging tools such as logging and the built-in debugger (pdb). Mastering these techniques not only helps in developing resilient code but also aids in maintaining, testing, and improving code quality."
   ]
  },
  {
   "cell_type": "code",
   "execution_count": 2,
   "metadata": {},
   "outputs": [
    {
     "name": "stdout",
     "output_type": "stream",
     "text": [
      "Caught a ValueError: Cannot convert 'hello' to an integer.\n",
      "\n",
      "Caught a TypeError: Cannot add an integer and a string.\n"
     ]
    }
   ],
   "source": [
    "\"\"\"\n",
    "Objective: Demonstrate a basic try/except block to catch and handle an error.\n",
    "\"\"\"\n",
    "try:\n",
    "    # Attempt to convert a non-numeric string to an integer\n",
    "    num = int(\"hello\")\n",
    "except ValueError:\n",
    "    print(\"Caught a ValueError: Cannot convert 'hello' to an integer.\")\n",
    "\n",
    "print()\n",
    "# TODO: Modify the code to catch a TypeError by intentionally passing a wrong type.\n",
    "try:\n",
    "    result = 5 + \"hello\"\n",
    "except TypeError:\n",
    "    print(\"Caught a TypeError: Cannot add an integer and a string.\")\n"
   ]
  },
  {
   "cell_type": "code",
   "execution_count": null,
   "metadata": {},
   "outputs": [
    {
     "name": "stdout",
     "output_type": "stream",
     "text": [
      "Caught a ZeroDivisionError: Division by zero.\n",
      "\n",
      "Caught a generic exception: unsupported operand type(s) for /: 'int' and 'str'\n"
     ]
    }
   ],
   "source": [
    "\"\"\"\n",
    "Objective: Use multiple except blocks to handle different types of exceptions.\n",
    "\"\"\"\n",
    "try:\n",
    "    # This code might raise either ZeroDivisionError or ValueError\n",
    "    a = 10\n",
    "    b = 0\n",
    "    result = a / b\n",
    "    number = int(\"abc\")\n",
    "except ZeroDivisionError:\n",
    "    print(\"Caught a ZeroDivisionError: Division by zero.\")\n",
    "except ValueError:\n",
    "    print(\"Caught a ValueError: Invalid conversion from string to int.\")\n",
    "\n",
    "print()\n",
    "# TODO: Add an additional except block for a generic exception and print a custom message.\n",
    "try:\n",
    "    result = 10 / \"hello\"\n",
    "except ZeroDivisionError:\n",
    "    print(\"Caught a ZeroDivisionError: Division by zero.\")\n",
    "except ValueError:\n",
    "    print(\"Caught a ValueError: Invalid conversion from string to int.\")\n",
    "except Exception as e:\n",
    "    print(f\"Caught a generic exception: {e}\")\n"
   ]
  },
  {
   "cell_type": "code",
   "execution_count": 9,
   "metadata": {},
   "outputs": [
    {
     "name": "stdout",
     "output_type": "stream",
     "text": [
      "No error occurred. Result is: 5.0\n",
      "Execution of try/except block completed.\n",
      "\n",
      "Caught a ZeroDivisionError!\n",
      "Execution of try/except block completed.\n"
     ]
    }
   ],
   "source": [
    "\"\"\"\n",
    "Objective: Demonstrate the use of else and finally clauses with try/except.\n",
    "\"\"\"\n",
    "try:\n",
    "    result = 10 / 2\n",
    "except ZeroDivisionError:\n",
    "    print(\"Caught a ZeroDivisionError!\")\n",
    "else:\n",
    "    print(\"No error occurred. Result is:\", result)\n",
    "finally:\n",
    "    print(\"Execution of try/except block completed.\")\n",
    "\n",
    "print()\n",
    "# TODO: Change the divisor to trigger an exception and observe the behavior of the else clause.\n",
    "try:\n",
    "    result = 10 / 0\n",
    "except ZeroDivisionError:\n",
    "    print(\"Caught a ZeroDivisionError!\")\n",
    "else:\n",
    "    print(\"No error occurred. Result is:\", result)\n",
    "finally:\n",
    "    print(\"Execution of try/except block completed.\")\n",
    "    "
   ]
  },
  {
   "cell_type": "code",
   "execution_count": null,
   "metadata": {},
   "outputs": [],
   "source": [
    "\"\"\"\n",
    "Objective: Learn how to raise exceptions manually using the raise keyword.\n",
    "\"\"\"\n",
    "def check_positive(number):\n",
    "    if number < 0:\n",
    "        raise ValueError(\"Number must be positive!\")\n",
    "    return number\n",
    "\n",
    "# Testing the function\n",
    "try:\n",
    "    print(\"Result:\", check_positive(5))\n",
    "    print(\"Result:\", check_positive(-3))\n",
    "except ValueError as e:\n",
    "    print(\"Error:\", e)\n",
    "\n",
    "# TODO: Modify the function to raise a custom exception for zero as well.\n"
   ]
  },
  {
   "cell_type": "code",
   "execution_count": 13,
   "metadata": {},
   "outputs": [
    {
     "name": "stdout",
     "output_type": "stream",
     "text": [
      "Processed value: 20\n",
      "Caught custom exception: Negative values are not allowed.\n"
     ]
    }
   ],
   "source": [
    "\"\"\"\n",
    "Objective: Create and use a custom exception class.\n",
    "\"\"\"\n",
    "# Define a custom exception\n",
    "class NegativeValueError(Exception):\n",
    "    \"\"\"Exception raised for errors in the input if the value is negative.\"\"\"\n",
    "    pass\n",
    "\n",
    "def process_value(value):\n",
    "    if value < 0:\n",
    "        raise NegativeValueError(\"Negative values are not allowed.\")\n",
    "    return value * 2\n",
    "\n",
    "try:\n",
    "    print(\"Processed value:\", process_value(10))\n",
    "    print(\"Processed value:\", process_value(-5))\n",
    "except NegativeValueError as e:\n",
    "    print(\"Caught custom exception:\", e)\n",
    "\n",
    "# TODO: Enhance the custom exception to include the invalid value in its error message.\n"
   ]
  },
  {
   "cell_type": "code",
   "execution_count": 15,
   "metadata": {},
   "outputs": [
    {
     "name": "stdout",
     "output_type": "stream",
     "text": [
      "Caught exception: Invalid division operation.\n",
      "Original exception: division by zero\n",
      "\n",
      "Caught exception: Invalid type for division.\n",
      "Original exception: division by zero\n"
     ]
    }
   ],
   "source": [
    "\"\"\"\n",
    "Objective: Understand exception chaining by using 'raise from' to preserve original exceptions.\n",
    "\"\"\"\n",
    "def divide(a, b):\n",
    "    try:\n",
    "        return a / b\n",
    "    except ZeroDivisionError as original_error:\n",
    "        raise ValueError(\"Invalid division operation.\") from original_error\n",
    "\n",
    "try:\n",
    "    print(\"Division result:\", divide(10, 0))\n",
    "except ValueError as e:\n",
    "    print(\"Caught exception:\", e)\n",
    "    print(\"Original exception:\", e.__cause__)\n",
    "\n",
    "print()\n",
    "# TODO: Modify the function to chain a different type of exception.\n",
    "def divide(a, b):\n",
    "    try:\n",
    "        return a / b\n",
    "    except ZeroDivisionError as original_error:\n",
    "        raise TypeError(\"Invalid type for division.\") from original_error\n",
    "\n",
    "try:\n",
    "    print(\"Division result:\", divide(10, 0))\n",
    "except TypeError as e:\n",
    "    print(\"Caught exception:\", e)\n",
    "    print(\"Original exception:\", e.__cause__)\n",
    "    "
   ]
  },
  {
   "cell_type": "code",
   "execution_count": null,
   "metadata": {},
   "outputs": [
    {
     "name": "stdout",
     "output_type": "stream",
     "text": [
      "Conversion result for '123': 123\n",
      "Conversion result for 'abc': None\n",
      "\n",
      "Conversion result for '123': 123\n",
      "Error: Cannot convert 'abc' to an integer.\n",
      "Conversion result for 'abc': None\n"
     ]
    }
   ],
   "source": [
    "\"\"\"\n",
    "Objective: Implement error handling within a function to manage exceptions and return a safe value.\n",
    "\"\"\"\n",
    "def safe_convert_to_int(s):\n",
    "    try:\n",
    "        return int(s)\n",
    "    except ValueError:\n",
    "        return None\n",
    "\n",
    "# Test the function with valid and invalid inputs\n",
    "print(\"Conversion result for '123':\", safe_convert_to_int(\"123\"))\n",
    "print(\"Conversion result for 'abc':\", safe_convert_to_int(\"abc\"))\n",
    "\n",
    "print()\n",
    "# TODO: Enhance the function to log an error message when conversion fails.\n",
    "def safe_convert_to_int(s):\n",
    "    try:\n",
    "        return int(s)\n",
    "    except ValueError:\n",
    "        print(f\"Error: Cannot convert '{s}' to an integer.\")\n",
    "        return None\n",
    "    \n",
    "print(\"Conversion result for '123':\", safe_convert_to_int(\"123\"))\n",
    "print(\"Conversion result for 'abc':\", safe_convert_to_int(\"abc\"))\n"
   ]
  },
  {
   "cell_type": "code",
   "execution_count": null,
   "metadata": {},
   "outputs": [
    {
     "name": "stdout",
     "output_type": "stream",
     "text": [
      "> \u001b[32mc:\\users\\denni\\appdata\\local\\temp\\ipykernel_5568\\3715959912.py\u001b[39m(\u001b[92m8\u001b[39m)\u001b[36mbuggy_function\u001b[39m\u001b[34m()\u001b[39m\n",
      "\n"
     ]
    }
   ],
   "source": [
    "\"\"\"\n",
    "Objective: Use the pdb module to step through code for debugging purposes.\n",
    "\"\"\"\n",
    "def buggy_function(x):\n",
    "    result = x * 10\n",
    "    # TODO: Set a breakpoint here using pdb.set_trace() and inspect the value of 'result'\n",
    "    import pdb; pdb.set_trace()  # Debugger breakpoint\n",
    "    result += 5\n",
    "    return result\n",
    "\n",
    "# Call the function to start debugging\n",
    "print(\"Buggy function result:\", buggy_function(3))\n",
    "\n",
    "print()\n",
    "# TODO: After stepping through, remove the pdb breakpoint and ensure the function runs correctly.\n",
    "def buggy_function(x):\n",
    "    result = x * 10\n",
    "    result += 5\n",
    "    return result\n",
    "\n",
    "# Call the function to see the result\n",
    "print(\"Buggy function result:\", buggy_function(3))\n",
    "\n",
    "\"\"\"\n",
    "saya pindahkan di 04_buggyfunction.py, karna ada kendala jika menggunakan jupiter notebook\n",
    "\"\"\""
   ]
  },
  {
   "cell_type": "markdown",
   "metadata": {},
   "source": [
    "### **Reflection**\n",
    "Reflect on how error and exception handling improve the robustness of your programs. Consider these questions:\n",
    "\n",
    "- How does the use of try/except blocks change the behavior of your program when an error occurs?\n",
    "- In what ways do custom exceptions and exception chaining help in providing more context for debugging?\n",
    "- How does logging facilitate troubleshooting in larger applications?\n",
    "\n",
    "(answer here)"
   ]
  },
  {
   "cell_type": "markdown",
   "metadata": {},
   "source": [
    "ANSWER HERE\n",
    "\n",
    "- penggunaan try dan excep blok pada behavior pengembangan program akan sangat membantu karena kita tidak tahu ketika program berjalan akan menhasilkan seperti apa, sehingga try catch perlu digunakan jika ada error diluar dari apa yang kita definisikan diawal bisa di cek terlebih dahulu.\n",
    "- ketika costum exception memberikan definisi error pada aplikasi yang anda kerjakan utk membuat lebih mudah mengidentifikasi sumber masalah, sedang kan exception chaining menggunakan original exception sembari menambahkan kontex tambahan dimana dan alasan error terjadi sehingga pointnnya akan lebih mudah ketika terjadi masalah.\n",
    "- mencari informasi penting utk mendapatkan pesan, jam kejadian kondisi awal dan sebelum dan apapun itu yang di logging. melacak secara realtime karena terus di logging jika di sediakan setiap kali ada aksi yang dibuat, riwayat aktivitas terus ada utk memahami behavior user sebelum terjadinya error, membantu debugging apkakah sebagai debug;info;warning;error;critical, mendukung dalam pemeliharaan dalam aplikasi besar tanpa perlu akses kode atau menjaalnkan ulang aplikasi."
   ]
  },
  {
   "cell_type": "markdown",
   "metadata": {},
   "source": [
    "### **Exploration**\n",
    "For further exploration, research Advanced Debugging Techniques with Python's pdb and third-party tools like PyCharm Debugger. Delve into techniques for setting conditional breakpoints, analyzing stack traces, and using remote debugging to improve your overall debugging workflow."
   ]
  },
  {
   "cell_type": "markdown",
   "metadata": {},
   "source": []
  }
 ],
 "metadata": {
  "kernelspec": {
   "display_name": "Python 3",
   "language": "python",
   "name": "python3"
  },
  "language_info": {
   "codemirror_mode": {
    "name": "ipython",
    "version": 3
   },
   "file_extension": ".py",
   "mimetype": "text/x-python",
   "name": "python",
   "nbconvert_exporter": "python",
   "pygments_lexer": "ipython3",
   "version": "3.12.8"
  }
 },
 "nbformat": 4,
 "nbformat_minor": 2
}
