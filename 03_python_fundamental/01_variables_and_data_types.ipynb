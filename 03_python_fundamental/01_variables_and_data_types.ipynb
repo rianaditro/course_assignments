{
 "cells": [
  {
   "cell_type": "markdown",
   "metadata": {},
   "source": [
    "### **Variables and Data Types**\n",
    "Python variables are symbolic names that refer to objects in memory. They serve as containers for storing data values and can dynamically hold different types of data, such as numbers, text, and more complex structures. At its core, Python’s design philosophy emphasizes simplicity and readability, which is reflected in its treatment of data types.\n",
    "\n",
    "The fundamental data types include:\n",
    "- Integers and Floats: Represent whole numbers and real numbers, respectively, and are used in arithmetic operations.\n",
    "- Strings: Sequences of characters used for textual data, supporting concatenation, slicing, and formatting.\n",
    "- Booleans: Represent truth values (True or False) that are essential in decision-making constructs.\n",
    "- Lists, Tuples, Dictionaries, and Sets: Serve as collection data types, each with unique properties—such as mutability and order—that dictate how data can be stored, accessed, and manipulated.\n",
    "\n",
    "Understanding these basic concepts is crucial because they form the building blocks of Python programming. Mastery of these elements enables you to write more efficient, clear, and robust code."
   ]
  },
  {
   "cell_type": "code",
   "execution_count": 20,
   "metadata": {},
   "outputs": [
    {
     "name": "stdout",
     "output_type": "stream",
     "text": [
      "Integer: 42\n",
      "Float: 3.14\n",
      "String: Hello, Python!\n",
      "Boolean: True\n",
      "List: [1, 2, 3]\n",
      "Dictionary: {'a': 1, 'b': 2}\n",
      "My name is  Rudi\n",
      "My Age is  49\n",
      "My  gender is  Man\n",
      "My fiends are :  ['Nana', 'Nani', 'Nono']\n",
      "My friends age :  {'Nana': 22, 'Nani': 27, 'Nono': 17}\n"
     ]
    }
   ],
   "source": [
    "\"\"\"\n",
    "Objective: Declare variables of various basic data types (integer, float, string, boolean) and print their values.\n",
    "\"\"\"\n",
    "# Declare variables\n",
    "my_int = 42              # Integer\n",
    "my_float = 3.14          # Float\n",
    "my_string = \"Hello, Python!\"  # String\n",
    "my_bool = True           # Boolean\n",
    "my_list = [1, 2, 3]      # List\n",
    "my_dict = {\"a\": 1, \"b\": 2}  # Dictionary\n",
    "\n",
    "# Print the variables\n",
    "print(\"Integer:\", my_int)\n",
    "print(\"Float:\", my_float)\n",
    "print(\"String:\", my_string)\n",
    "print(\"Boolean:\", my_bool)\n",
    "print(\"List:\", my_list)\n",
    "print(\"Dictionary:\", my_dict)\n",
    "\n",
    "# TODO: Declare a variable to store your name and print it\n",
    "my_name = 'Rudi'\n",
    "print(\"My name is \",my_name )\n",
    "# TODO: Declare a variable to store your age and print it\n",
    "my_age = 49\n",
    "print(\"My Age is \",my_age)\n",
    "# TODO: Declare a variable to store your gender and print it\n",
    "my_gender = 'Man'\n",
    "print('My  gender is ',my_gender)\n",
    "# TODO: Declare a variable to store 3 or 4 of your friend names and print them\n",
    "my_fried = ['Nana', 'Nani', 'Nono']\n",
    "print('My fiends are : ', my_fried)\n",
    "# TODO: Declare a variable to store your friends name and their age and print them\n",
    "my_friend_age ={'Nana':22, 'Nani':27, 'Nono': 17} \n",
    "print(\"My friends age : \",my_friend_age)\n"
   ]
  },
  {
   "cell_type": "code",
   "execution_count": 24,
   "metadata": {},
   "outputs": [
    {
     "name": "stdout",
     "output_type": "stream",
     "text": [
      "Sum: 19\n",
      "Difference: 11\n",
      "Product: 60\n",
      "Division: 3.75\n",
      "Floor Division: 3\n",
      "Modulus: 3\n",
      "Exponentiation: 50625\n",
      "Average of 15 and 4 is 9.5\n",
      "The square root of 15 is: 3.872983346207417\n",
      "15 is odd number\n"
     ]
    }
   ],
   "source": [
    "\"\"\"\n",
    "Objective: Perform basic arithmetic operations (addition, subtraction, multiplication, division, floor division, modulus, exponentiation) and print the results.\n",
    "\"\"\"\n",
    "# Define two numbers\n",
    "a = 15\n",
    "b = 4\n",
    "\n",
    "# Perform arithmetic operations\n",
    "sum_result = a + b\n",
    "diff_result = a - b\n",
    "prod_result = a * b\n",
    "div_result = a / b       # Float division\n",
    "floor_div = a // b       # Integer (floor) division\n",
    "mod_result = a % b       # Modulus\n",
    "exp_result = a ** b      # Exponentiation\n",
    "\n",
    "# Print all results\n",
    "print(\"Sum:\", sum_result)\n",
    "print(\"Difference:\", diff_result)\n",
    "print(\"Product:\", prod_result)\n",
    "print(\"Division:\", div_result)\n",
    "print(\"Floor Division:\", floor_div)\n",
    "print(\"Modulus:\", mod_result)\n",
    "print(\"Exponentiation:\", exp_result)\n",
    "\n",
    "# TODO: Calculate and print the average of a and b\n",
    "average = (a + b) / 2\n",
    "print(f\"Average of {a} and {b} is {average}\")\n",
    "# TODO: Calculate and print the square root of a\n",
    "square_root = a ** 0.5\n",
    "print(f\"The square root of {a} is: {square_root}\")\n",
    "# TODO: Check if a is even or odd\n",
    "if a % 2 == 0 :\n",
    "    print(f\"{a} is even number\")\n",
    "else:\n",
    "    print(f\"{a} is odd number\")"
   ]
  },
  {
   "cell_type": "code",
   "execution_count": 27,
   "metadata": {},
   "outputs": [
    {
     "name": "stdout",
     "output_type": "stream",
     "text": [
      "Concatenated Message: Hello, Alice!\n",
      "First 5 characters: Hello\n",
      "Last 6 characters: Alice!\n",
      "Formatted Message: Alice is 30 years old.\n",
      "The greeting in uppercase is : HELLO, ALICE!\n",
      "The message with Bob instead of Alice is : Hello, Bob!\n",
      "The length of the message is : 13\n"
     ]
    }
   ],
   "source": [
    "\"\"\"\n",
    "Objective: Practice string concatenation, slicing, and formatting using f-strings.\n",
    "\"\"\"\n",
    "# Define string variables\n",
    "greeting = \"Hello\"\n",
    "name = \"Alice\"\n",
    "\n",
    "# Concatenate strings\n",
    "message = greeting + \", \" + name + \"!\"\n",
    "print(\"Concatenated Message:\", message)\n",
    "\n",
    "# String slicing\n",
    "print(\"First 5 characters:\", message[:5])\n",
    "print(\"Last 6 characters:\", message[-6:])\n",
    "\n",
    "# Using f-string for formatting\n",
    "age = 30\n",
    "formatted_message = f\"{name} is {age} years old.\"\n",
    "print(\"Formatted Message:\", formatted_message)\n",
    "\n",
    "# TODO: Convert the entire greeting to uppercase and print the result.\n",
    "print(f\"The greeting in uppercase is : {message.upper()}\")\n",
    "# TODO: Replace \"Alice\" with \"Bob\" in the message and print the result.\n",
    "print(f\"The message with Bob instead of Alice is : {message.replace('Alice', 'Bob')}\")\n",
    "# TODO: Calculate the length of the message and print the result.\n",
    "print(f\"The length of the message is : {len(message)}\")"
   ]
  },
  {
   "cell_type": "code",
   "execution_count": 6,
   "metadata": {},
   "outputs": [
    {
     "name": "stdout",
     "output_type": "stream",
     "text": [
      "First fruit: apple\n",
      "Last fruit: date\n",
      "After appending: ['apple', 'banana', 'cherry', 'date', 'elderberry']\n",
      "After removing 'banana': ['apple', 'cherry', 'date', 'elderberry']\n",
      "Slice (2nd to 4th fruits): ['cherry', 'date', 'elderberry']\n",
      "['apple', 'fig', 'cherry', 'date', 'elderberry']\n",
      "The length of the list is : 5\n",
      "['apple', 'fig', 'cherry', 'date']\n",
      "The length of the updated list is : 4\n",
      "['apple', 'cherry', 'date', 'fig']\n",
      "['fig', 'date', 'cherry', 'apple']\n"
     ]
    }
   ],
   "source": [
    "\"\"\"\n",
    "Objective: Create and modify a list by performing operations such as accessing elements, appending, removing, and slicing.\n",
    "\"\"\"\n",
    "# Create a list of fruits\n",
    "fruits = [\"apple\", \"banana\", \"cherry\", \"date\"]\n",
    "\n",
    "# Access elements by index\n",
    "print(\"First fruit:\", fruits[0])\n",
    "print(\"Last fruit:\", fruits[-1])\n",
    "\n",
    "# Append a new fruit\n",
    "fruits.append(\"elderberry\")\n",
    "print(\"After appending:\", fruits)\n",
    "\n",
    "# Remove a fruit\n",
    "fruits.remove(\"banana\")\n",
    "print(\"After removing 'banana':\", fruits)\n",
    "\n",
    "# Slicing the list\n",
    "print(\"Slice (2nd to 4th fruits):\", fruits[1:4])\n",
    "\n",
    "# TODO: Insert \"fig\" at the second position and print the updated list.\n",
    "fruits.insert(1, \"fig\")\n",
    "# fruits.append(1,\"fig2\")   //append only accept one argument\n",
    "print(fruits)\n",
    "# TODO: Count the length of the list and print the result.\n",
    "print(f\"The length of the list is : {len(fruits)}\")\n",
    "# TODO: Remove the last fruit and print the updated list.\n",
    "fruits.pop()\n",
    "print(fruits)\n",
    "# TODO: Count the length of the updated list and print the result.\n",
    "print(f\"The length of the updated list is : {len(fruits)}\")\n",
    "# TODO: Sort the list in alphabetical order and print the updated list.\n",
    "fruits.sort()\n",
    "print(fruits)\n",
    "# TODO: Reverse the list and print the updated list.\n",
    "fruits.reverse()\n",
    "print(fruits)"
   ]
  },
  {
   "cell_type": "code",
   "execution_count": 8,
   "metadata": {},
   "outputs": [
    {
     "name": "stdout",
     "output_type": "stream",
     "text": [
      "Tuple: ('red', 'green', 'blue')\n",
      "First color: red\n",
      "Combined tuple: ('red', 'green', 'blue', 'purple', 'orange')\n"
     ]
    }
   ],
   "source": [
    "\"\"\"\n",
    "Objective: Create a tuple, access its elements, and demonstrate its immutability.\n",
    "\"\"\"\n",
    "# Create a tuple of colors\n",
    "colors = (\"red\", \"green\", \"blue\")\n",
    "print(\"Tuple:\", colors)\n",
    "\n",
    "# Access tuple elements\n",
    "print(\"First color:\", colors[0])\n",
    "\n",
    "# TODO: Combine the tuple with another tuple (\"purple\", \"orange\") to form a new tuple and print it.\n",
    "colors = colors + (\"purple\", \"orange\")\n",
    "print(\"Combined tuple:\", colors)\n",
    "# Note: Uncomment the following line to see the immutability error.\n",
    "# colors[1] = \"yellow\"  # This should raise an error as tuples are immutable.\n",
    "# colors[1] = \"yellow\"\n"
   ]
  },
  {
   "cell_type": "code",
   "execution_count": 11,
   "metadata": {},
   "outputs": [
    {
     "name": "stdout",
     "output_type": "stream",
     "text": [
      "Student Name: Bob\n",
      "After adding GPA: {'name': 'Bob', 'age': 22, 'major': 'Computer Science', 'GPA': 3.8}\n",
      "After updating age: {'name': 'Bob', 'age': 23, 'major': 'Computer Science', 'GPA': 3.8}\n",
      "After deleting 'major': {'name': 'Bob', 'age': 23, 'GPA': 3.8}\n",
      "name: Bob\n",
      "age: 23\n",
      "GPA: 3.8\n",
      "{'name': 'Bob', 'age': 23, 'GPA': 3.8, 'minor': 'Mathematics'}\n",
      "The length of the dictionary is : 4\n",
      "The keys of the dictionary are : dict_keys(['name', 'age', 'GPA', 'minor'])\n",
      "The values of the dictionary are : dict_values(['Bob', 23, 3.8, 'Mathematics'])\n",
      "The items of the dictionary are : dict_items([('name', 'Bob'), ('age', 23), ('GPA', 3.8), ('minor', 'Mathematics')])\n",
      "The value for the key 'age' is : 23\n"
     ]
    }
   ],
   "source": [
    "\"\"\"\n",
    "Objective: Create a dictionary to store key-value pairs and perform operations such as adding, updating, and deleting entries.\n",
    "\"\"\"\n",
    "# Create a dictionary for a student\n",
    "student = {\"name\": \"Bob\", \"age\": 22, \"major\": \"Computer Science\"}\n",
    "\n",
    "# Access a value by key\n",
    "print(\"Student Name:\", student[\"name\"])\n",
    "\n",
    "# Add a new key-value pair\n",
    "student[\"GPA\"] = 3.8\n",
    "print(\"After adding GPA:\", student)\n",
    "\n",
    "# Update an existing key\n",
    "student[\"age\"] = 23\n",
    "print(\"After updating age:\", student)\n",
    "\n",
    "# Remove a key-value pair\n",
    "del student[\"major\"]\n",
    "print(\"After deleting 'major':\", student)\n",
    "\n",
    "# Iterate over dictionary items\n",
    "for key, value in student.items():\n",
    "    print(f\"{key}: {value}\")\n",
    "\n",
    "# TODO: Check if the key \"minor\" exists; if not, add it with the value \"Mathematics\", then print the dictionary.\n",
    "if 'minor' not in student:\n",
    "    student['minor'] = 'Mathematics'\n",
    "print(student)\n",
    "\n",
    "# TODO: Get the length of the dictionary and print the result.\n",
    "print(f\"The length of the dictionary is : {len(student)}\")\n",
    "# TODO: Get the keys of the dictionary and print the result.\n",
    "print(f\"The keys of the dictionary are : {student.keys()}\")\n",
    "# TODO: Get the values of the dictionary and print the result.\n",
    "print(f\"The values of the dictionary are : {student.values()}\")\n",
    "# TODO: Get the items of the dictionary and print the result.\n",
    "print(f\"The items of the dictionary are : {student.items()}\")\n",
    "# TODO: Get the value for the key \"age\" and print the result.\n",
    "print(f\"The value for the key 'age' is : {student['age']}\")"
   ]
  },
  {
   "cell_type": "code",
   "execution_count": 14,
   "metadata": {},
   "outputs": [
    {
     "name": "stdout",
     "output_type": "stream",
     "text": [
      "Union: {1, 2, 3, 4, 5, 6, 7, 8}\n",
      "Intersection: {4, 5}\n",
      "Difference (A - B): {1, 2, 3}\n",
      "Symmetric Difference: {1, 2, 3, 6, 7, 8}\n",
      "After adding 6 to set_a and removing 6 from set_b: {1, 2, 3, 4, 5, 6} {4, 5, 7, 8}\n",
      "set_a is not a subset of set_b\n",
      "set_b is not a superset of set_a\n"
     ]
    }
   ],
   "source": [
    "\"\"\"\n",
    "Objective: Create sets and perform operations such as union, intersection, difference, and symmetric difference.\n",
    "\"\"\"\n",
    "# Create two sets\n",
    "set_a = {1, 2, 3, 4, 5}\n",
    "set_b = {4, 5, 6, 7, 8}\n",
    "\n",
    "# Union of sets\n",
    "union_set = set_a | set_b\n",
    "print(\"Union:\", union_set)\n",
    "\n",
    "# Intersection of sets\n",
    "intersection_set = set_a & set_b\n",
    "print(\"Intersection:\", intersection_set)\n",
    "\n",
    "# Difference between sets (elements in set_a but not in set_b)\n",
    "difference_set = set_a - set_b\n",
    "print(\"Difference (A - B):\", difference_set)\n",
    "\n",
    "# Symmetric difference (elements in either set, but not both)\n",
    "sym_diff_set = set_a ^ set_b\n",
    "print(\"Symmetric Difference:\", sym_diff_set)\n",
    "\n",
    "# TODO: Add a new element to set_a and remove an element from set_b, then print both sets.\n",
    "set_a.add(6)\n",
    "set_b.remove(6)\n",
    "print(\"After adding 6 to set_a and removing 6 from set_b:\", set_a, set_b)\n",
    "# TODO: Check if set_a is a subset of set_b and print the result.\n",
    "if set_a.issubset(set_b):\n",
    "    print(\"set_a is a subset of set_b\")\n",
    "else:\n",
    "    print(\"set_a is not a subset of set_b\") \n",
    "# TODO: Check if set_b is a superset of set_a and print the result.\n",
    "if set_b.issuperset(set_a):\n",
    "    print(\"set_b is a superset of set_a\")\n",
    "else:\n",
    "    print(\"set_b is not a superset of set_a\")"
   ]
  },
  {
   "cell_type": "code",
   "execution_count": 16,
   "metadata": {},
   "outputs": [
    {
     "name": "stdout",
     "output_type": "stream",
     "text": [
      "Converted to integer: 100\n",
      "Converted to float: 100.0\n",
      "Converted to tuple: ('apple', 'banana', 'cherry')\n",
      "Converted to set: {'cherry', 'banana', 'apple'}\n",
      "Converted to string: 100\n",
      "Jhon, Doe, Smith\n",
      "['class I', 'class II', 'class III']\n",
      "['a', 'b', 'c']\n"
     ]
    }
   ],
   "source": [
    "\"\"\"\n",
    "Objective: Perform type conversion between various data types (e.g., string to integer, list to tuple) and print the results.\n",
    "\"\"\"\n",
    "# Convert a string to an integer\n",
    "num_str = \"100\"\n",
    "num_int = int(num_str)\n",
    "print(\"Converted to integer:\", num_int)\n",
    "\n",
    "# Convert an integer to a float\n",
    "num_float = float(num_int)\n",
    "print(\"Converted to float:\", num_float)\n",
    "\n",
    "# Convert a list to a tuple\n",
    "fruits_list = [\"apple\", \"banana\", \"cherry\"]\n",
    "fruits_tuple = tuple(fruits_list)\n",
    "print(\"Converted to tuple:\", fruits_tuple)\n",
    "\n",
    "# Convert a tuple to a set\n",
    "fruits_set = set(fruits_tuple)\n",
    "print(\"Converted to set:\", fruits_set)\n",
    "\n",
    "# Convert a number to a string\n",
    "num_to_str = str(num_int)\n",
    "print(\"Converted to string:\", num_to_str)\n",
    "\n",
    "# TODO: Convert [\"Jhon\", \"Doe\", \"Smith\"] to a string and print the result.\n",
    "names = [\"Jhon\", \"Doe\", \"Smith\"]\n",
    "names_str = \", \".join(names)\n",
    "print(names_str)\n",
    "# TODO: Convert string \"class I, class II, class III\" to a list and print the list.\n",
    "#Convert string \"class I, class II, class III\" to a list and print the list.\n",
    "classes = \"class I, class II, class III\"\n",
    "classes_list = classes.split(\", \")  \n",
    "print(classes_list)\n",
    "# TODO: Convert the keys of a dictionary into a list and print the list.\n",
    "sample_dict = {\"a\": 1, \"b\": 2, \"c\": 3}\n",
    "keys_list = list(sample_dict.keys())\n",
    "print(keys_list)\n"
   ]
  },
  {
   "cell_type": "code",
   "execution_count": 20,
   "metadata": {},
   "outputs": [
    {
     "name": "stdout",
     "output_type": "stream",
     "text": [
      "Inside function, local_var: I am local\n",
      "Outside function, global_var: I have been modified globally\n"
     ]
    }
   ],
   "source": [
    "\"\"\"\n",
    "Objective: Demonstrate the difference between global and local variables within functions.\n",
    "\"\"\"\n",
    "# Global variable\n",
    "global_var = \"I am global\"\n",
    "\n",
    "def my_function():\n",
    "    # Local variable\n",
    "    local_var = \"I am local\"\n",
    "    #print(\"Inside function, global_var:\", global_var)\n",
    "    print(\"Inside function, local_var:\", local_var)\n",
    "    \n",
    "    # TODO: Modify the global variable inside this function using the 'global' keyword.\n",
    "    global global_var\n",
    "    global_var = \"I have been modified globally\"\n",
    "\n",
    "# Call the function\n",
    "my_function()\n",
    "\n",
    "# Print the updated global variable outside the function\n",
    "print(\"Outside function, global_var:\", global_var)\n",
    "\n",
    "# TODO: Uncomment the following line to observe the error when trying to access a local variable outside its scope.\n",
    "# print(local_var)  # This should raise an error."
   ]
  },
  {
   "cell_type": "code",
   "execution_count": 1,
   "metadata": {},
   "outputs": [
    {
     "name": "stdout",
     "output_type": "stream",
     "text": [
      "Formatted Message: Charlie is 28 years old and has a balance of $1543.68.\n",
      "Embedded Expression Message: Next year, Charlie will be 29 years old.\n",
      "Today's date is: February 24, 2025\n",
      "The result of 10 * 5 is: 50\n",
      "The result of 10 > 5 is: True\n",
      "Name: Charlie, Age: 28\n"
     ]
    }
   ],
   "source": [
    "\"\"\"\n",
    "Objective: Use f-strings to format strings that include variables and expressions, and demonstrate advanced formatting techniques.\n",
    "\"\"\"\n",
    "name = \"Charlie\"\n",
    "age = 28\n",
    "balance = 1543.6789\n",
    "\n",
    "# Basic f-string formatting\n",
    "message = f\"{name} is {age} years old and has a balance of ${balance:.2f}.\"\n",
    "print(\"Formatted Message:\", message)\n",
    "\n",
    "# Embedding expressions within f-strings\n",
    "next_year_age = age + 1\n",
    "message2 = f\"Next year, {name} will be {next_year_age} years old.\"\n",
    "print(\"Embedded Expression Message:\", message2)\n",
    "\n",
    "# Formatting a date using f-strings and the datetime module\n",
    "import datetime\n",
    "today = datetime.date.today()\n",
    "formatted_date = f\"Today's date is: {today:%B %d, %Y}\"\n",
    "print(formatted_date)\n",
    "\n",
    "# TODO: Create an f-string that shows the result of a mathematical expression (e.g., 10 * 5) in a sentence.\n",
    "#Create an f-string that shows the result of a mathematical expression (e.g., 10 * 5) in a sentence\n",
    "my_result = 10 * 5\n",
    "my_message3 = f\"The result of 10 * 5 is: {my_result}\"\n",
    "print(my_message3) \n",
    "\n",
    "    \n",
    "# TODO: Create an f-string that shows the result of a logical expression (e.g., 10 > 5) in a sentence.\n",
    "#Create an f-string that shows the result of a logical expression (e.g., 10 > 5) in a sentence\n",
    "my_result = 10 > 5\n",
    "my_message4 = f\"The result of 10 > 5 is: {my_result}\"\n",
    "print(my_message4)\n",
    "# TODO: Create an f-string that shows a formatted string with multiple placeholders (e.g., \"Name: {name}, Age: {age}\")\n",
    "# Create an f-string that shows a formatted string with multiple placeholders (e.g., \"Name: {name}, Age: {age}\")\n",
    "formatted_string = f\"Name: {name}, Age: {age}\"\n",
    "print(formatted_string)\n"
   ]
  },
  {
   "cell_type": "markdown",
   "metadata": {},
   "source": [
    "### **Reflection**\n",
    "Reflect on how understanding the various Python data types and their operations enhances your ability to write efficient and error-free code. Consider the differences between mutable and immutable data types, and how converting data types can influence the logic and performance of your program. How can these fundamentals help you design more robust applications?\n",
    "\n",
    "Understanding the different data types in Python and their operations is essential for writing efficient and error-free code. The key differences between mutable data types (such as lists and dictionaries) and immutable data types (such as tuples) can affect the way we store and manipulate data.\n",
    "\n",
    "Data type conversions, if not done carefully, can lead to bugs or performance degradation.\n",
    "\n",
    "With an understanding of these basics, you can design more robust applications by:\n",
    "\n",
    "1. Avoiding bugs caused by unexpected data changes.\n",
    "\n",
    "2. Optimizing performance by choosing the right data types.\n",
    "\n",
    "3. Ensuring data integrity by using immutable types when data should not change.\n",
    "\n",
    "These basics will help you create more robust and efficient applications."
   ]
  },
  {
   "cell_type": "markdown",
   "metadata": {},
   "source": [
    "### **Exploration**\n",
    "For further exploration, research Type Hints & Annotations in Python. This advanced feature can improve code clarity, enable static type checking, and support the development of larger, more maintainable codebases."
   ]
  },
  {
   "cell_type": "markdown",
   "metadata": {},
   "source": []
  },
  {
   "cell_type": "markdown",
   "metadata": {},
   "source": [
    "### **Declare Variable Annotation**"
   ]
  },
  {
   "cell_type": "code",
   "execution_count": null,
   "metadata": {},
   "outputs": [],
   "source": [
    "def add_numbers(a: int, b: int) -> int:\n",
    "    return a + b\n",
    "\n",
    "age: int = 25\n",
    "name: str = \"Alice\"\n",
    "is_active: bool = True\n",
    "\n",
    "from typing import List, Dict, Tuple\n",
    "\n",
    "# List of integers\n",
    "numbers: List[int] = [1, 2, 3, 4]\n",
    "\n",
    "# Dictionary with string keys and integer values\n",
    "scores: Dict[str, int] = {\"Alice\": 90, \"Bob\": 85}\n",
    "\n",
    "# Tuple with specific types\n",
    "point: Tuple[int, int] = (10, 20)"
   ]
  }
 ],
 "metadata": {
  "kernelspec": {
   "display_name": "base",
   "language": "python",
   "name": "python3"
  },
  "language_info": {
   "codemirror_mode": {
    "name": "ipython",
    "version": 3
   },
   "file_extension": ".py",
   "mimetype": "text/x-python",
   "name": "python",
   "nbconvert_exporter": "python",
   "pygments_lexer": "ipython3",
   "version": "3.12.7"
  }
 },
 "nbformat": 4,
 "nbformat_minor": 2
}
