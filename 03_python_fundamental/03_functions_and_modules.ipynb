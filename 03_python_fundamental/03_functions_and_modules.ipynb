{
 "cells": [
  {
   "cell_type": "markdown",
   "metadata": {},
   "source": [
    "### **Functions and Modules**\n",
    "Functions are reusable blocks of code that perform a specific task. They allow you to organize your program into smaller, modular, and manageable pieces, making your code easier to read, maintain, and debug. Modules are files containing Python definitions and statements (including functions, classes, and variables) that can be imported and reused across multiple programs. By leveraging functions and modules, you can build scalable applications with a clear separation of concerns."
   ]
  },
  {
   "cell_type": "code",
   "execution_count": 2,
   "metadata": {},
   "outputs": [
    {
     "name": "stdout",
     "output_type": "stream",
     "text": [
      "Hello, welcome to Python Functions!\n",
      "\n",
      "Hello, SDenni!\n"
     ]
    }
   ],
   "source": [
    "\"\"\"\n",
    "Objective: Define a simple function that prints a greeting message.\n",
    "\"\"\"\n",
    "def greet():\n",
    "    print(\"Hello, welcome to Python Functions!\")\n",
    "\n",
    "# Call the function\n",
    "greet()\n",
    "\n",
    "print()\n",
    "# TODO: Modify the function to print a personalized greeting (e.g., \"Hello, John!\").\n",
    "def greetMine():\n",
    "    print(\"Hello, SDenni!\")\n",
    "\n",
    "# Call the function\n",
    "greetMine()"
   ]
  },
  {
   "cell_type": "code",
   "execution_count": 3,
   "metadata": {},
   "outputs": [
    {
     "name": "stdout",
     "output_type": "stream",
     "text": [
      "Sum: 15\n",
      "\n",
      "Multiply: 50\n"
     ]
    }
   ],
   "source": [
    "\"\"\"\n",
    "Objective: Create a function that takes two numbers as parameters, adds them, and returns the result.\n",
    "\"\"\"\n",
    "def add_numbers(a, b):\n",
    "    result = a + b\n",
    "    return result\n",
    "\n",
    "# Call the function and print the result\n",
    "sum_result = add_numbers(10, 5)\n",
    "print(\"Sum:\", sum_result)\n",
    "\n",
    "print()\n",
    "# TODO: Create another function that multiplies two numbers and returns the product.\n",
    "# TODO: Call the function and print the result.\n",
    "def multiply_numbers(a, b):\n",
    "    result = a * b\n",
    "    return result\n",
    "\n",
    "multiply_result = multiply_numbers(10, 5)\n",
    "print(\"Multiply:\", multiply_result)"
   ]
  },
  {
   "cell_type": "code",
   "execution_count": 6,
   "metadata": {},
   "outputs": [
    {
     "name": "stdout",
     "output_type": "stream",
     "text": [
      "3 to the power of 3: 27\n",
      "4 squared: 16\n",
      "\n",
      "Hello, SDenni!\n"
     ]
    }
   ],
   "source": [
    "\"\"\"\n",
    "Objective: Define a function with a default argument and observe how it behaves when arguments are omitted.\n",
    "\"\"\"\n",
    "def power(base, exponent=2):\n",
    "    return base ** exponent\n",
    "\n",
    "# Call the function with both arguments\n",
    "print(\"3 to the power of 3:\", power(3, 3))\n",
    "# Call the function with only one argument (uses default exponent)\n",
    "print(\"4 squared:\", power(4))\n",
    "\n",
    "print()\n",
    "# TODO: Add a default parameter to a new function that greets a user, defaulting to \"Guest\" if no name is provided.\n",
    "def greet_user(name=\"Guest\"):\n",
    "    print(f\"Hello, {name}!\")\n",
    "\n",
    "myname = \"SDenni\"\n",
    "greet_user(myname)"
   ]
  },
  {
   "cell_type": "code",
   "execution_count": 9,
   "metadata": {},
   "outputs": [
    {
     "name": "stdout",
     "output_type": "stream",
     "text": [
      "Number: 1\n",
      "Number: 2\n",
      "Number: 3\n",
      "Number: 4\n",
      "Number: 5\n",
      "name: Alice\n",
      "age: 30\n",
      "country: USA\n",
      "\n",
      "Positional arguments:\n",
      "1\n",
      "2\n",
      "3\n",
      "Keyword arguments:\n",
      "name: Bob\n",
      "age: 25\n",
      "city: New York\n"
     ]
    }
   ],
   "source": [
    "\"\"\"\n",
    "Objective: Write functions that can accept a variable number of positional (*args) and keyword (**kwargs) arguments.\n",
    "\"\"\"\n",
    "def print_numbers(*args):\n",
    "    for number in args:\n",
    "        print(\"Number:\", number)\n",
    "\n",
    "def print_person_info(**kwargs):\n",
    "    for key, value in kwargs.items():\n",
    "        print(f\"{key}: {value}\")\n",
    "\n",
    "# Test the functions\n",
    "print_numbers(1, 2, 3, 4, 5)\n",
    "print_person_info(name=\"Alice\", age=30, country=\"USA\")\n",
    "\n",
    "print()\n",
    "# TODO: Write a function that accepts both *args and **kwargs and prints them in a formatted manner.\n",
    "def print_all_info(*args, **kwargs):\n",
    "    print(\"Positional arguments:\")\n",
    "    for arg in args:\n",
    "        print(arg)\n",
    "    \n",
    "    print(\"Keyword arguments:\")\n",
    "    for key, value in kwargs.items():\n",
    "        print(f\"{key}: {value}\")\n",
    "\n",
    "# Test the function\n",
    "print_all_info(1, 2, 3, name=\"Bob\", age=25, city=\"New York\")"
   ]
  },
  {
   "cell_type": "code",
   "execution_count": 13,
   "metadata": {},
   "outputs": [
    {
     "name": "stdout",
     "output_type": "stream",
     "text": [
      "Squares: [1, 4, 9, 16, 25]\n",
      "\n",
      "Add Tens: [11, 12, 13, 14, 15]\n"
     ]
    }
   ],
   "source": [
    "\"\"\"\n",
    "Objective: Create a lambda function that calculates the square of a number and use it within a map function.\n",
    "\"\"\"\n",
    "# Define a lambda function\n",
    "square = lambda x: x ** 2\n",
    "\n",
    "# Apply the lambda function to a list of numbers using map\n",
    "numbers = [1, 2, 3, 4, 5]\n",
    "squares = list(map(square, numbers))\n",
    "print(\"Squares:\", squares)\n",
    "\n",
    "print()\n",
    "# TODO: Write a lambda function that adds 10 to a number and apply it to a list of numbers.\n",
    "add_ten = lambda x: x + 10\n",
    "\n",
    "# Apply the lambda function to a list of numbers using map\n",
    "numbers = [1, 2, 3, 4, 5]\n",
    "add_tens = list(map(add_ten, numbers))\n",
    "print(\"Add Tens:\", add_tens)\n",
    "\n"
   ]
  },
  {
   "cell_type": "code",
   "execution_count": 17,
   "metadata": {},
   "outputs": [
    {
     "name": "stdout",
     "output_type": "stream",
     "text": [
      "Inside function: I am global!\n",
      "Inside function: I am local!\n",
      "Outside function: Global variable has been modified inside the function.\n",
      "\n"
     ]
    },
    {
     "ename": "NameError",
     "evalue": "name 'local_message' is not defined",
     "output_type": "error",
     "traceback": [
      "\u001b[31m---------------------------------------------------------------------------\u001b[39m",
      "\u001b[31mNameError\u001b[39m                                 Traceback (most recent call last)",
      "\u001b[36mCell\u001b[39m\u001b[36m \u001b[39m\u001b[32mIn[17]\u001b[39m\u001b[32m, line 22\u001b[39m\n\u001b[32m     20\u001b[39m \u001b[38;5;28mprint\u001b[39m()\n\u001b[32m     21\u001b[39m \u001b[38;5;66;03m# TODO: Try accessing the local variable outside the function (this should cause an error) and explain why.\u001b[39;00m\n\u001b[32m---> \u001b[39m\u001b[32m22\u001b[39m \u001b[38;5;28mprint\u001b[39m(\u001b[43mlocal_message\u001b[49m)  \u001b[38;5;66;03m# akan error karena local_message tidak didefinisikan di luar fungsi\u001b[39;00m\n",
      "\u001b[31mNameError\u001b[39m: name 'local_message' is not defined"
     ]
    }
   ],
   "source": [
    "\"\"\"\n",
    "Objective: Demonstrate the concept of local and global scope within functions.\n",
    "\"\"\"\n",
    "# Global variable\n",
    "global_message = \"I am global!\"\n",
    "\n",
    "def scope_test():\n",
    "    # Modify the global variable using 'global'\n",
    "    global global_message\n",
    "    \n",
    "    local_message = \"I am local!\"\n",
    "    print(\"Inside function:\", global_message)\n",
    "    print(\"Inside function:\", local_message)\n",
    "    \n",
    "    global_message = \"Global variable has been modified inside the function.\"\n",
    "\n",
    "scope_test()\n",
    "print(\"Outside function:\", global_message)\n",
    "\n",
    "print()\n",
    "# TODO: Try accessing the local variable outside the function (this should cause an error) and explain why.\n",
    "print(local_message)  # akan error karena local_message tidak didefinisikan di luar fungsi\n",
    "\n",
    "\n"
   ]
  },
  {
   "cell_type": "code",
   "execution_count": 22,
   "metadata": {},
   "outputs": [
    {
     "name": "stdout",
     "output_type": "stream",
     "text": [
      "Square root of 16 is 4.0\n",
      "Current date and time: 2025-05-14 03:18:59.958096\n",
      "\n",
      "Factorial of 5 is: 120\n"
     ]
    }
   ],
   "source": [
    "\"\"\"\n",
    "Objective: Import the math and datetime modules, then use their functions to perform calculations and display the current time.\n",
    "\"\"\"\n",
    "import math\n",
    "import datetime\n",
    "\n",
    "# Use math module to calculate square root\n",
    "num = 16\n",
    "sqrt_value = math.sqrt(num)\n",
    "print(f\"Square root of {num} is {sqrt_value}\")\n",
    "\n",
    "# Use datetime module to get current date and time\n",
    "current_datetime = datetime.datetime.now()\n",
    "print(\"Current date and time:\", current_datetime)\n",
    "\n",
    "print()\n",
    "# TODO: Use the math module to compute the factorial of 5 and print the result.\n",
    "valfactorial = 5\n",
    "factorial_value = math.factorial(valfactorial)\n",
    "print(f\"Factorial of {valfactorial} is:\", factorial_value)\n"
   ]
  },
  {
   "cell_type": "code",
   "execution_count": null,
   "metadata": {},
   "outputs": [
    {
     "name": "stdout",
     "output_type": "stream",
     "text": [
      "Product: 42\n",
      "\n",
      "Quotient: 5.0\n",
      "Error: Denominator cannot be zero.\n"
     ]
    }
   ],
   "source": [
    "\"\"\"\n",
    "Objective: Write a function with a comprehensive docstring that describes its purpose, parameters, and return value.\n",
    "\"\"\"\n",
    "def multiply(a, b):\n",
    "    \"\"\"\n",
    "    Multiply two numbers and return the product.\n",
    "    \n",
    "    Parameters:\n",
    "    a (int or float): The first number.\n",
    "    b (int or float): The second number.\n",
    "    \n",
    "    Returns:\n",
    "    int or float: The product of a and b.\n",
    "    \"\"\"\n",
    "    return a * b\n",
    "\n",
    "# Call the function and print the result\n",
    "print(\"Product:\", multiply(6, 7))\n",
    "\n",
    "print()\n",
    "# TODO: Write another function with a docstring that divides two numbers and handles division by zero.\n",
    "def divide(a, b):\n",
    "    \"\"\"\n",
    "    Membagi dua angka dan mengembalikan hasil bagi.\n",
    "    \n",
    "    Parameter:\n",
    "    a (int atau float): Pembilang.\n",
    "    b (int atau float): Penyebut.\n",
    "    \n",
    "    Mengembalikan:\n",
    "    float: Hasil bagi dari a dan b.\n",
    "    \n",
    "    Menghasilkan:\n",
    "    ValueError: Jika b adalah nol.\n",
    "    \"\"\"\n",
    "    if b == 0:\n",
    "        raise ValueError(\"Denominator cannot be zero.\")\n",
    "    return a / b\n",
    "\n",
    "try:\n",
    "    print(\"Quotient:\", divide(10, 2))\n",
    "    print(\"Quotient:\", divide(10, 0))  # akan error karena pembagi nol\n",
    "except ValueError as e:\n",
    "    print(\"Error:\", e)"
   ]
  },
  {
   "cell_type": "code",
   "execution_count": 27,
   "metadata": {},
   "outputs": [
    {
     "name": "stdout",
     "output_type": "stream",
     "text": [
      "Hello, Alice! Welcome to my custom module.\n",
      "\n",
      "50\n"
     ]
    }
   ],
   "source": [
    "\"\"\"\n",
    "Objective: Create a custom module that contains a function, then import and use that function in your script.\n",
    "\"\"\"\n",
    "# --- In a separate file named mymodule.py, write the following:\n",
    "# def greet_user(name):\n",
    "#     return f\"Hello, {name}! Welcome to my custom module.\"\n",
    "\n",
    "# --- Back in your main script, import the module and call the function:\n",
    "# from mymodule import greet_user\n",
    "# print(greet_user(\"Alice\"))\n",
    "\n",
    "from mymodule import greet_user\n",
    "print(greet_user(\"Alice\"))\n",
    "\n",
    "print()\n",
    "# TODO: Create a custom module with another function (e.g., a function to calculate the area of a rectangle) and import it.\n",
    "from calculate import calculate_area\n",
    "print (calculate_area(5, 10))"
   ]
  },
  {
   "cell_type": "markdown",
   "metadata": {},
   "source": [
    "### **Reflection**\n",
    "Reflect on how functions and modules contribute to code reusability and organization. Consider the benefits of breaking a program into smaller functions versus having one large block of code. How does modular programming improve maintainability, testing, and collaboration in larger projects?\n",
    "\n",
    "(answer here)"
   ]
  },
  {
   "cell_type": "markdown",
   "metadata": {},
   "source": [
    "ANSWER HERE\n",
    "\n",
    "function dan module dari yang saya tangkap bisa dimanfaatkan seperti yang ada singgung pada pertanyaan yaitu memecah setiap bagian atau componen yang diperlukan utk di panggil kembali pada proses bisnis utama sehingga tidak ada duplikat fungsi atau proses namun cukup 1 fungsi / modul yang nanti bisa di reusable ulang. sehingga tidak ada perbedaan di setiap fungsi selama input dan output yang diharapkan sama.\n"
   ]
  },
  {
   "cell_type": "markdown",
   "metadata": {},
   "source": [
    "### **Exploration**\n",
    "For further exploration, research **Decorators** and **Higher-Order Functions**. These advanced concepts allow you to modify or enhance functions without changing their code, and they are essential for writing more expressive and flexible Python programs."
   ]
  },
  {
   "cell_type": "markdown",
   "metadata": {},
   "source": []
  }
 ],
 "metadata": {
  "kernelspec": {
   "display_name": "Python 3",
   "language": "python",
   "name": "python3"
  },
  "language_info": {
   "codemirror_mode": {
    "name": "ipython",
    "version": 3
   },
   "file_extension": ".py",
   "mimetype": "text/x-python",
   "name": "python",
   "nbconvert_exporter": "python",
   "pygments_lexer": "ipython3",
   "version": "3.12.8"
  }
 },
 "nbformat": 4,
 "nbformat_minor": 2
}
