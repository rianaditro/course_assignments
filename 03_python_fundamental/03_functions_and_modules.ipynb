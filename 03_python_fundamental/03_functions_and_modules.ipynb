{
 "cells": [
  {
   "cell_type": "markdown",
   "metadata": {},
   "source": [
    "### **Functions and Modules**\n",
    "Functions are reusable blocks of code that perform a specific task. They allow you to organize your program into smaller, modular, and manageable pieces, making your code easier to read, maintain, and debug. Modules are files containing Python definitions and statements (including functions, classes, and variables) that can be imported and reused across multiple programs. By leveraging functions and modules, you can build scalable applications with a clear separation of concerns."
   ]
  },
  {
   "cell_type": "code",
   "execution_count": 2,
   "metadata": {},
   "outputs": [
    {
     "name": "stdout",
     "output_type": "stream",
     "text": [
      "Hello, My nme is Robi Darwis Mauludin\n"
     ]
    }
   ],
   "source": [
    "\"\"\"\n",
    "Objective: Define a simple function that prints a greeting message.\n",
    "\"\"\"\n",
    "def greet():\n",
    "    print(\"Hello, My nme is Robi Darwis Mauludin\")\n",
    "\n",
    "# Call the function\n",
    "greet()\n",
    "\n",
    "# TODO: Modify the function to print a personalized greeting (e.g., \"Hello, John!\").\n"
   ]
  },
  {
   "cell_type": "code",
   "execution_count": 5,
   "metadata": {},
   "outputs": [
    {
     "name": "stdout",
     "output_type": "stream",
     "text": [
      "Sum: 15\n",
      "Product: 650\n"
     ]
    }
   ],
   "source": [
    "\"\"\"\n",
    "Objective: Create a function that takes two numbers as parameters, adds them, and returns the result.\n",
    "\"\"\"\n",
    "def add_numbers(a, b):\n",
    "    result = a + b\n",
    "    return result\n",
    "\n",
    "# Call the function and print the result\n",
    "sum_result = add_numbers(10, 5)\n",
    "print(\"Sum:\", sum_result)\n",
    "\n",
    "# TODO: Create another function that multiplies two numbers and returns the product.\n",
    "def multiply_numbers(a, b):\n",
    "    result = a * b\n",
    "    return result\n",
    "\n",
    "\n",
    "# TODO: Call the function and print the result.\n",
    "mult_result = multiply_numbers(130, 5)\n",
    "print(\"Product:\", mult_result)"
   ]
  },
  {
   "cell_type": "code",
   "execution_count": null,
   "metadata": {},
   "outputs": [],
   "source": [
    "\"\"\"\n",
    "Objective: Define a function with a default argument and observe how it behaves when arguments are omitted.\n",
    "\"\"\"\n",
    "def power(base, exponent=2):\n",
    "    return base ** exponent\n",
    "\n",
    "# Call the function with both arguments\n",
    "print(\"3 to the power of 3:\", power(3, 3))\n",
    "# Call the function with only one argument (uses default exponent)\n",
    "print(\"4 squared:\", power(4))\n",
    "\n",
    "# TODO: Add a default parameter to a new function that greets a user, defaulting to \"Guest\" if no name is provided.\n"
   ]
  },
  {
   "cell_type": "code",
   "execution_count": 7,
   "metadata": {},
   "outputs": [
    {
     "name": "stdout",
     "output_type": "stream",
     "text": [
      "Number: 1\n",
      "Number: 2\n",
      "Number: 3\n",
      "Number: 4\n",
      "Number: 5\n",
      "name: Alice\n",
      "age: 30\n",
      "country: USA\n",
      "Argument: 1\n",
      "Argument: 2\n",
      "Argument: 3\n",
      "name: Robi Darwis\n",
      "age: 38\n",
      "country: Indonesia\n"
     ]
    }
   ],
   "source": [
    "\"\"\"\n",
    "Objective: Write functions that can accept a variable number of positional (*args) and keyword (**kwargs) arguments.\n",
    "\"\"\"\n",
    "def print_numbers(*args):\n",
    "    for number in args:\n",
    "        print(\"Number:\", number)\n",
    "\n",
    "def print_person_info(**kwargs):\n",
    "    for key, value in kwargs.items():\n",
    "        print(f\"{key}: {value}\")\n",
    "\n",
    "# Test the functions\n",
    "print_numbers(1, 2, 3, 4, 5)\n",
    "print_person_info(name=\"Alice\", age=30, country=\"USA\")\n",
    "\n",
    "# TODO: Write a function that accepts both *args and **kwargs and prints them in a formatted manner.\n",
    "def print_all(*args, **kwargs):\n",
    "    for arg in args:\n",
    "        print(\"Argument:\", arg)\n",
    "    for key, value in kwargs.items():\n",
    "        print(f\"{key}: {value}\")\n",
    "\n",
    "# Test the function\n",
    "print_all(1, 2, 3, name=\"Robi Darwis\", age=38, country=\"Indonesia\")\n"
   ]
  },
  {
   "cell_type": "code",
   "execution_count": 9,
   "metadata": {},
   "outputs": [
    {
     "name": "stdout",
     "output_type": "stream",
     "text": [
      "Squares: [1, 4, 9, 16, 25]\n",
      "Added 10: [11, 12, 13, 14, 15]\n"
     ]
    }
   ],
   "source": [
    "\"\"\"\n",
    "Objective: Create a lambda function that calculates the square of a number and use it within a map function.\n",
    "\"\"\"\n",
    "# Define a lambda function\n",
    "square = lambda x: x ** 2\n",
    "\n",
    "# Apply the lambda function to a list of numbers using map\n",
    "numbers = [1, 2, 3, 4, 5]\n",
    "squares = list(map(square, numbers))\n",
    "print(\"Squares:\", squares)\n",
    "\n",
    "# TODO: Write a lambda function that adds 10 to a number and apply it to a list of numbers.\n",
    "add_ten = lambda x: x + 10\n",
    "numbers = [1, 2, 3, 4, 5]\n",
    "added = list(map(add_ten, numbers))\n",
    "print(\"Added 10:\", added)\n"
   ]
  },
  {
   "cell_type": "code",
   "execution_count": 11,
   "metadata": {},
   "outputs": [
    {
     "name": "stdout",
     "output_type": "stream",
     "text": [
      "Inside function: I am global!\n",
      "Inside function: I am local!\n",
      "Outside function: Global variable has been modified inside the function.\n"
     ]
    },
    {
     "ename": "NameError",
     "evalue": "name 'local_message' is not defined",
     "output_type": "error",
     "traceback": [
      "\u001b[0;31m---------------------------------------------------------------------------\u001b[0m",
      "\u001b[0;31mNameError\u001b[0m                                 Traceback (most recent call last)",
      "Cell \u001b[0;32mIn[11], line 18\u001b[0m\n\u001b[1;32m     16\u001b[0m scope_test()\n\u001b[1;32m     17\u001b[0m \u001b[38;5;28mprint\u001b[39m(\u001b[38;5;124m\"\u001b[39m\u001b[38;5;124mOutside function:\u001b[39m\u001b[38;5;124m\"\u001b[39m, global_message)\n\u001b[0;32m---> 18\u001b[0m \u001b[38;5;28mprint\u001b[39m(\u001b[38;5;124m\"\u001b[39m\u001b[38;5;124mOutside function:\u001b[39m\u001b[38;5;124m\"\u001b[39m, \u001b[43mlocal_message\u001b[49m)\n\u001b[1;32m     20\u001b[0m \u001b[38;5;66;03m# TODO: Try accessing the local variable outside the function (this should cause an error) and explain why.\u001b[39;00m\n",
      "\u001b[0;31mNameError\u001b[0m: name 'local_message' is not defined"
     ]
    }
   ],
   "source": [
    "\"\"\"\n",
    "Objective: Demonstrate the concept of local and global scope within functions.\n",
    "\"\"\"\n",
    "# Global variable\n",
    "global_message = \"I am global!\"\n",
    "\n",
    "def scope_test():\n",
    "    global global_message\n",
    "    local_message = \"I am local!\"\n",
    "    print(\"Inside function:\", global_message)\n",
    "    print(\"Inside function:\", local_message)\n",
    "    \n",
    "    # Modify the global variable using 'global'\n",
    "    global_message = \"Global variable has been modified inside the function.\"\n",
    "\n",
    "scope_test()\n",
    "print(\"Outside function:\", global_message)\n",
    "print(\"Outside function:\", local_message)\n",
    "\n",
    "# TODO: Try accessing the local variable outside the function (this should cause an error) and explain why.\n"
   ]
  },
  {
   "cell_type": "code",
   "execution_count": 13,
   "metadata": {},
   "outputs": [
    {
     "name": "stdout",
     "output_type": "stream",
     "text": [
      "Square root of 16 is 4.0\n",
      "Current date and time: 2025-05-25 19:58:20.307114\n",
      "Factorial of 5: 120\n"
     ]
    }
   ],
   "source": [
    "\"\"\"\n",
    "Objective: Import the math and datetime modules, then use their functions to perform calculations and display the current time.\n",
    "\"\"\"\n",
    "import math\n",
    "import datetime\n",
    "\n",
    "# Use math module to calculate square root\n",
    "num = 16\n",
    "sqrt_value = math.sqrt(num)\n",
    "print(f\"Square root of {num} is {sqrt_value}\")\n",
    "\n",
    "# Use datetime module to get current date and time\n",
    "current_datetime = datetime.datetime.now()\n",
    "print(\"Current date and time:\", current_datetime)\n",
    "\n",
    "# TODO: Use the math module to compute the factorial of 5 and print the result.\n",
    "result = math.factorial(5)\n",
    "print(\"Factorial of 5:\", result)\n"
   ]
  },
  {
   "cell_type": "code",
   "execution_count": 16,
   "metadata": {},
   "outputs": [
    {
     "name": "stdout",
     "output_type": "stream",
     "text": [
      "Product: 42\n",
      "Result 2.0\n",
      "Division by zero is not allowed.\n",
      "Result None\n"
     ]
    }
   ],
   "source": [
    "\"\"\"\n",
    "Objective: Write a function with a comprehensive docstring that describes its purpose, parameters, and return value.\n",
    "\"\"\"\n",
    "def multiply(a, b):\n",
    "    \"\"\"\n",
    "    Multiply two numbers and return the product.\n",
    "    \n",
    "    Parameters:\n",
    "    a (int or float): The first number.\n",
    "    b (int or float): The second number.\n",
    "    \n",
    "    Returns:\n",
    "    int or float: The product of a and b.\n",
    "    \"\"\"\n",
    "    return a * b\n",
    "\n",
    "# Call the function and print the result\n",
    "print(\"Product:\", multiply(6, 7))\n",
    "\n",
    "# TODO: Write another function with a docstring that divides two numbers and handles division by zero.\n",
    "def divide(a, b):\n",
    "    \"\"\"\n",
    "    Divide two numbers and return the quotient.\n",
    "    \n",
    "    Parameters:\n",
    "    a (int or float): The numerator.\n",
    "    b (int or float): The denominator.\n",
    "    \n",
    "    Returns:\n",
    "    int or float: The quotient of a divided by b.\n",
    "    \n",
    "    Raises:\n",
    "    ZeroDivisionError: If b is zero.\n",
    "    \"\"\"\n",
    "    if b == 0:\n",
    "        return print(\"Division by zero is not allowed.\")\n",
    "    return a / b\n",
    "print(\"Result\", divide(10, 5))\n",
    "print(\"Result\", divide(10, 0))\n"
   ]
  },
  {
   "cell_type": "code",
   "execution_count": null,
   "metadata": {},
   "outputs": [],
   "source": [
    "\"\"\"\n",
    "Objective: Create a custom module that contains a function, then import and use that function in your script.\n",
    "\"\"\"\n",
    "# --- In a separate file named mymodule.py, write the following:\n",
    "# def greet_user(name):\n",
    "#     return f\"Hello, {name}! Welcome to my custom module.\"\n",
    "\n",
    "# --- Back in your main script, import the module and call the function:\n",
    "# from mymodule import greet_user\n",
    "# print(greet_user(\"Alice\"))\n",
    "\n",
    "# TODO: Create a custom module with another function (e.g., a function to calculate the area of a rectangle) and import it.\n"
   ]
  },
  {
   "cell_type": "markdown",
   "metadata": {},
   "source": [
    "### **Reflection**\n",
    "Reflect on how functions and modules contribute to code reusability and organization. Consider the benefits of breaking a program into smaller functions versus having one large block of code. How does modular programming improve maintainability, testing, and collaboration in larger projects?\n",
    "\n",
    "(answer here)"
   ]
  },
  {
   "cell_type": "markdown",
   "metadata": {},
   "source": [
    "### **Exploration**\n",
    "For further exploration, research **Decorators** and **Higher-Order Functions**. These advanced concepts allow you to modify or enhance functions without changing their code, and they are essential for writing more expressive and flexible Python programs."
   ]
  },
  {
   "cell_type": "markdown",
   "metadata": {},
   "source": []
  }
 ],
 "metadata": {
  "kernelspec": {
   "display_name": ".venv",
   "language": "python",
   "name": "python3"
  },
  "language_info": {
   "codemirror_mode": {
    "name": "ipython",
    "version": 3
   },
   "file_extension": ".py",
   "mimetype": "text/x-python",
   "name": "python",
   "nbconvert_exporter": "python",
   "pygments_lexer": "ipython3",
   "version": "3.10.17"
  }
 },
 "nbformat": 4,
 "nbformat_minor": 2
}
