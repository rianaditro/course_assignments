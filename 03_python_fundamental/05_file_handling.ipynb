{
 "cells": [
  {
   "cell_type": "markdown",
   "metadata": {},
   "source": [
    "### **File Handling**\n",
    "File handling in Python allows you to read, write, and manipulate files on disk. Using built-in functions like open(), along with context managers (i.e., the with-statement), you can ensure that files are properly managed and closed after operations, reducing the risk of resource leaks. The os module provides a portable way of using operating system-dependent functionality such as interacting with the file system. With os, you can navigate directories, create or delete files and directories, and perform path manipulations. Mastering these concepts is essential for automating file-based tasks and managing system resources effectively."
   ]
  },
  {
   "cell_type": "code",
   "execution_count": 10,
   "metadata": {},
   "outputs": [
    {
     "name": "stdout",
     "output_type": "stream",
     "text": [
      "File content:\n",
      "Lorem ipsum dolor sit amet, consectetur adipiscing elit. Pellentesque euismod, urna eu tincidunt consectetur, nisi nisl aliquam enim, nec dictum mi enim nec erat. Vestibulum ante ipsum primis in faucibus orci luctus et ultrices posuere cubilia curae; Etiam euismod, urna eu tincidunt consectetur, nisi nisl aliquam enim, nec dictum mi enim nec erat. Pellentesque euismod, urna eu tincidunt consectetur, nisi nisl aliquam enim, nec dictum mi enim nec erat. Vestibulum ante ipsum primis in faucibus orci luctus et ultrices posuere cubilia curae; Etiam euismod, urna eu tincidunt consectetur, nisi nisl aliquam enim, nec dictum mi enim nec erat. Pellentesque euismod, urna eu tincidunt consectetur, nisi nisl aliquam enim, nec dictum mi enim nec erat. Vestibulum ante ipsum primis in faucibus orci luctus et ultrices posuere cubilia curae; Etiam euismod, urna eu tincidunt consectetur, nisi nisl aliquam enim, nec dictum mi enim nec erat. Pellentesque euismod, urna eu tincidunt consectetur, nisi nisl aliquam enim, nec dictum mi enim nec erat. Vestibulum ante ipsum primis in faucibus orci luctus et ultrices posuere cubilia curae; Etiam euismod, urna eu tincidunt consectetur, nisi nisl aliquam enim, nec dictum mi enim nec erat. Pellentesque euismod, urna eu tincidunt consectetur, nisi nisl aliquam enim, nec dictum mi enim nec erat. Vestibulum ante ipsum primis in faucibus orci luctus et ultrices posuere cubilia curae; Etiam euismod, urna eu tincidunt consectetur, nisi nisl aliquam enim, nec dictum mi enim nec erat.\n",
      "\n",
      "Suspendisse potenti. Nullam ac urna eu felis dapibus condimentum sit amet a augue. Sed non neque elit. Sed ut imperdiet nisi. Proin condimentum fermentum nunc. Etiam pharetra, erat sed fermentum feugiat, velit mauris egestas quam, ut aliquam massa nisl quis neque. Suspendisse in orci enim. Pellentesque habitant morbi tristique senectus et netus et malesuada fames ac turpis egestas. Proin pharetra nonummy pede. Mauris et orci. Aenean nec lorem. In porttitor. Donec laoreet nonummy augue. Suspendisse dui purus, scelerisque at, vulputate vitae, pretium mattis, nunc. Mauris eget neque at sem venenatis eleifend. Ut nonummy. Fusce aliquet pede non pede. Suspendisse dapibus lorem pellentesque magna. Integer nulla. Donec blandit feugiat ligula. Donec hendrerit, felis et imperdiet euismod, purus ipsum pretium metus, in lacinia nulla nisl eget sapien. Donec ut est in lectus consequat consequat.\n",
      "\n",
      "Vivamus fermentum semper porta. Nunc diam velit, adipiscing ut tristique vitae, sagittis vel odio. Maecenas convallis ullamcorper ultricies. Curabitur ornare, ligula semper consectetur sagittis, nisi diam iaculis velit, id fringilla sem nunc vel mi. Nam dictum, odio nec pretium volutpat, arcu ante placerat erat, non tristique elit urna et turpis. Quisque mi metus, ornare sit amet fermentum et, tincidunt et orci. Fusce eget orci a orci congue vestibulum. Ut dolor diam, elementum et vestibulum eu, porttitor vel elit. Curabitur venenatis pulvinar tellus gravida ornare. Sed et erat faucibus nunc euismod ultricies ut id justo. Nullam cursus suscipit nisi, et ultrices justo sodales nec. Fusce venenatis facilisis lectus ac semper. Aliquam at massa ipsum. Quisque bibendum purus convallis nulla ultrices ultricies.\n",
      "\n",
      "Integer nec odio. Praesent libero. Sed cursus ante dapibus diam. Sed nisi. Nulla quis sem at nibh elementum imperdiet. Duis sagittis ipsum. Praesent mauris. Fusce nec tellus sed augue semper porta. Mauris massa. Vestibulum lacinia arcu eget nulla. Class aptent taciti sociosqu ad litora torquent per conubia nostra, per inceptos himenaeos. Curabitur sodales ligula in libero. Sed dignissim lacinia nunc. Curabitur tortor. Pellentesque nibh. Aenean quam. In scelerisque sem at dolor. Maecenas mattis. Sed convallis tristique sem. Proin ut ligula vel nunc egestas porttitor. Morbi lectus risus, iaculis vel, suscipit quis, luctus non, massa.\n",
      "\n",
      "Morbi in sem quis dui placerat ornare. Pellentesque odio nisi, euismod in, pharetra a, ultricies in, diam. Sed arcu. Cras consequat. Praesent dapibus, neque id cursus faucibus, tortor neque egestas augue, eu vulputate magna eros eu erat. Aliquam erat volutpat. Nam dui mi, tincidunt quis, accumsan porttitor, facilisis luctus, metus. Phasellus ultrices nulla quis nibh. Quisque a lectus. Donec consectetuer ligula vulputate sem tristique cursus. Nam nulla quam, gravida non, commodo a, sodales sit amet, nisi. Pellentesque fermentum dolor. Aliquam quam lectus, facilisis auctor, ultrices ut, elementum vulputate, nunc.\n",
      "File closed successfully.\n",
      "\n",
      "File line : 1\n",
      "Lorem ipsum dolor sit amet, consectetur adipiscing elit. Pellentesque euismod, urna eu tincidunt consectetur, nisi nisl aliquam enim, nec dictum mi enim nec erat. Vestibulum ante ipsum primis in faucibus orci luctus et ultrices posuere cubilia curae; Etiam euismod, urna eu tincidunt consectetur, nisi nisl aliquam enim, nec dictum mi enim nec erat. Pellentesque euismod, urna eu tincidunt consectetur, nisi nisl aliquam enim, nec dictum mi enim nec erat. Vestibulum ante ipsum primis in faucibus orci luctus et ultrices posuere cubilia curae; Etiam euismod, urna eu tincidunt consectetur, nisi nisl aliquam enim, nec dictum mi enim nec erat. Pellentesque euismod, urna eu tincidunt consectetur, nisi nisl aliquam enim, nec dictum mi enim nec erat. Vestibulum ante ipsum primis in faucibus orci luctus et ultrices posuere cubilia curae; Etiam euismod, urna eu tincidunt consectetur, nisi nisl aliquam enim, nec dictum mi enim nec erat. Pellentesque euismod, urna eu tincidunt consectetur, nisi nisl aliquam enim, nec dictum mi enim nec erat. Vestibulum ante ipsum primis in faucibus orci luctus et ultrices posuere cubilia curae; Etiam euismod, urna eu tincidunt consectetur, nisi nisl aliquam enim, nec dictum mi enim nec erat. Pellentesque euismod, urna eu tincidunt consectetur, nisi nisl aliquam enim, nec dictum mi enim nec erat. Vestibulum ante ipsum primis in faucibus orci luctus et ultrices posuere cubilia curae; Etiam euismod, urna eu tincidunt consectetur, nisi nisl aliquam enim, nec dictum mi enim nec erat.\n",
      "File line : 2\n",
      "Empty line\n",
      "File line : 3\n",
      "Suspendisse potenti. Nullam ac urna eu felis dapibus condimentum sit amet a augue. Sed non neque elit. Sed ut imperdiet nisi. Proin condimentum fermentum nunc. Etiam pharetra, erat sed fermentum feugiat, velit mauris egestas quam, ut aliquam massa nisl quis neque. Suspendisse in orci enim. Pellentesque habitant morbi tristique senectus et netus et malesuada fames ac turpis egestas. Proin pharetra nonummy pede. Mauris et orci. Aenean nec lorem. In porttitor. Donec laoreet nonummy augue. Suspendisse dui purus, scelerisque at, vulputate vitae, pretium mattis, nunc. Mauris eget neque at sem venenatis eleifend. Ut nonummy. Fusce aliquet pede non pede. Suspendisse dapibus lorem pellentesque magna. Integer nulla. Donec blandit feugiat ligula. Donec hendrerit, felis et imperdiet euismod, purus ipsum pretium metus, in lacinia nulla nisl eget sapien. Donec ut est in lectus consequat consequat.\n",
      "File line : 4\n",
      "Empty line\n",
      "File line : 5\n",
      "Vivamus fermentum semper porta. Nunc diam velit, adipiscing ut tristique vitae, sagittis vel odio. Maecenas convallis ullamcorper ultricies. Curabitur ornare, ligula semper consectetur sagittis, nisi diam iaculis velit, id fringilla sem nunc vel mi. Nam dictum, odio nec pretium volutpat, arcu ante placerat erat, non tristique elit urna et turpis. Quisque mi metus, ornare sit amet fermentum et, tincidunt et orci. Fusce eget orci a orci congue vestibulum. Ut dolor diam, elementum et vestibulum eu, porttitor vel elit. Curabitur venenatis pulvinar tellus gravida ornare. Sed et erat faucibus nunc euismod ultricies ut id justo. Nullam cursus suscipit nisi, et ultrices justo sodales nec. Fusce venenatis facilisis lectus ac semper. Aliquam at massa ipsum. Quisque bibendum purus convallis nulla ultrices ultricies.\n",
      "File line : 6\n",
      "Empty line\n",
      "File line : 7\n",
      "Integer nec odio. Praesent libero. Sed cursus ante dapibus diam. Sed nisi. Nulla quis sem at nibh elementum imperdiet. Duis sagittis ipsum. Praesent mauris. Fusce nec tellus sed augue semper porta. Mauris massa. Vestibulum lacinia arcu eget nulla. Class aptent taciti sociosqu ad litora torquent per conubia nostra, per inceptos himenaeos. Curabitur sodales ligula in libero. Sed dignissim lacinia nunc. Curabitur tortor. Pellentesque nibh. Aenean quam. In scelerisque sem at dolor. Maecenas mattis. Sed convallis tristique sem. Proin ut ligula vel nunc egestas porttitor. Morbi lectus risus, iaculis vel, suscipit quis, luctus non, massa.\n",
      "File line : 8\n",
      "Empty line\n",
      "File line : 9\n",
      "Morbi in sem quis dui placerat ornare. Pellentesque odio nisi, euismod in, pharetra a, ultricies in, diam. Sed arcu. Cras consequat. Praesent dapibus, neque id cursus faucibus, tortor neque egestas augue, eu vulputate magna eros eu erat. Aliquam erat volutpat. Nam dui mi, tincidunt quis, accumsan porttitor, facilisis luctus, metus. Phasellus ultrices nulla quis nibh. Quisque a lectus. Donec consectetuer ligula vulputate sem tristique cursus. Nam nulla quam, gravida non, commodo a, sodales sit amet, nisi. Pellentesque fermentum dolor. Aliquam quam lectus, facilisis auctor, ultrices ut, elementum vulputate, nunc.\n",
      "File closed successfully.\n"
     ]
    }
   ],
   "source": [
    "\"\"\"\n",
    "Objective: Open a file for reading and handle the error if the file does not exist.\n",
    "\"\"\"\n",
    "filename = \"sample.txt\"\n",
    "\n",
    "try:\n",
    "    file = open(filename, \"r\")\n",
    "    content = file.read()\n",
    "    print(\"File content:\")\n",
    "    print(content)\n",
    "except FileNotFoundError:\n",
    "    print(f\"Error: The file '{filename}' was not found.\")\n",
    "finally:\n",
    "    try:\n",
    "        file.close()\n",
    "        print(\"File closed successfully.\")\n",
    "    except NameError:\n",
    "        print(\"File was never opened.\")\n",
    "\n",
    "print()\n",
    "# TODO: Modify the code to read the file line by line and print each line.\n",
    "try:\n",
    "    file = open(filename, \"r\")\n",
    "    content = file.readlines()\n",
    "    i=0\n",
    "    for line in content:\n",
    "        i+=1\n",
    "        print(\"File line :\", i)\n",
    "        if(line.strip() == \"\"):\n",
    "            print(\"Empty line\")\n",
    "        else:\n",
    "            print(line.strip())\n",
    "except FileNotFoundError:\n",
    "    print(f\"Error: The file '{filename}' was not found.\")\n",
    "finally:\n",
    "    try:\n",
    "        file.close()\n",
    "        print(\"File closed successfully.\")\n",
    "    except NameError:\n",
    "        print(\"File was never opened.\")\n"
   ]
  },
  {
   "cell_type": "code",
   "execution_count": 15,
   "metadata": {},
   "outputs": [
    {
     "name": "stdout",
     "output_type": "stream",
     "text": [
      "Text successfully written to 'output.txt'.\n",
      "File closed successfully.\n",
      "\n",
      "Text successfully appended to 'output.txt'.\n",
      "File closed successfully.\n"
     ]
    }
   ],
   "source": [
    "\"\"\"\n",
    "Objective: Open a file for writing, write some sample text, and handle any potential errors.\n",
    "\"\"\"\n",
    "filename = \"output.txt\"\n",
    "text = \"This is a sample text written to the file.\\nIt has multiple lines.\"\n",
    "\n",
    "try:\n",
    "    file = open(filename, \"w\")\n",
    "    file.write(text)\n",
    "    print(f\"Text successfully written to '{filename}'.\")\n",
    "except Exception as e:\n",
    "    print(\"An error occurred while writing to the file:\", e)\n",
    "finally:\n",
    "    try:\n",
    "        file.close()\n",
    "        print(\"File closed successfully.\")\n",
    "    except NameError:\n",
    "        print(\"File was never opened.\")\n",
    "\n",
    "print()\n",
    "# TODO: Append a new line to the file instead of overwriting it.\n",
    "newtext = \"\\nline baru yang saya inputkan sendiri tanpa menghapus file lama.\"\n",
    "try:\n",
    "    with open(filename, \"a\") as file:\n",
    "        file.write(newtext)\n",
    "        print(f\"Text successfully appended to '{filename}'.\")\n",
    "except Exception as e:\n",
    "    print(\"An error occurred while appending to the file:\", e)\n",
    "finally:\n",
    "    try:\n",
    "        file.close()\n",
    "        print(\"File closed successfully.\")\n",
    "    except NameError:\n",
    "        print(\"File was never opened.\")"
   ]
  },
  {
   "cell_type": "code",
   "execution_count": 19,
   "metadata": {},
   "outputs": [
    {
     "name": "stdout",
     "output_type": "stream",
     "text": [
      "File content using with-statement:\n",
      "Lorem ipsum dolor sit amet, consectetur adipiscing elit. Pellentesque euismod, urna eu tincidunt consectetur, nisi nisl aliquam enim, nec dictum mi enim nec erat. Vestibulum ante ipsum primis in faucibus orci luctus et ultrices posuere cubilia curae; Etiam euismod, urna eu tincidunt consectetur, nisi nisl aliquam enim, nec dictum mi enim nec erat. Pellentesque euismod, urna eu tincidunt consectetur, nisi nisl aliquam enim, nec dictum mi enim nec erat. Vestibulum ante ipsum primis in faucibus orci luctus et ultrices posuere cubilia curae; Etiam euismod, urna eu tincidunt consectetur, nisi nisl aliquam enim, nec dictum mi enim nec erat. Pellentesque euismod, urna eu tincidunt consectetur, nisi nisl aliquam enim, nec dictum mi enim nec erat. Vestibulum ante ipsum primis in faucibus orci luctus et ultrices posuere cubilia curae; Etiam euismod, urna eu tincidunt consectetur, nisi nisl aliquam enim, nec dictum mi enim nec erat. Pellentesque euismod, urna eu tincidunt consectetur, nisi nisl aliquam enim, nec dictum mi enim nec erat. Vestibulum ante ipsum primis in faucibus orci luctus et ultrices posuere cubilia curae; Etiam euismod, urna eu tincidunt consectetur, nisi nisl aliquam enim, nec dictum mi enim nec erat. Pellentesque euismod, urna eu tincidunt consectetur, nisi nisl aliquam enim, nec dictum mi enim nec erat. Vestibulum ante ipsum primis in faucibus orci luctus et ultrices posuere cubilia curae; Etiam euismod, urna eu tincidunt consectetur, nisi nisl aliquam enim, nec dictum mi enim nec erat.\n",
      "\n",
      "Suspendisse potenti. Nullam ac urna eu felis dapibus condimentum sit amet a augue. Sed non neque elit. Sed ut imperdiet nisi. Proin condimentum fermentum nunc. Etiam pharetra, erat sed fermentum feugiat, velit mauris egestas quam, ut aliquam massa nisl quis neque. Suspendisse in orci enim. Pellentesque habitant morbi tristique senectus et netus et malesuada fames ac turpis egestas. Proin pharetra nonummy pede. Mauris et orci. Aenean nec lorem. In porttitor. Donec laoreet nonummy augue. Suspendisse dui purus, scelerisque at, vulputate vitae, pretium mattis, nunc. Mauris eget neque at sem venenatis eleifend. Ut nonummy. Fusce aliquet pede non pede. Suspendisse dapibus lorem pellentesque magna. Integer nulla. Donec blandit feugiat ligula. Donec hendrerit, felis et imperdiet euismod, purus ipsum pretium metus, in lacinia nulla nisl eget sapien. Donec ut est in lectus consequat consequat.\n",
      "\n",
      "Vivamus fermentum semper porta. Nunc diam velit, adipiscing ut tristique vitae, sagittis vel odio. Maecenas convallis ullamcorper ultricies. Curabitur ornare, ligula semper consectetur sagittis, nisi diam iaculis velit, id fringilla sem nunc vel mi. Nam dictum, odio nec pretium volutpat, arcu ante placerat erat, non tristique elit urna et turpis. Quisque mi metus, ornare sit amet fermentum et, tincidunt et orci. Fusce eget orci a orci congue vestibulum. Ut dolor diam, elementum et vestibulum eu, porttitor vel elit. Curabitur venenatis pulvinar tellus gravida ornare. Sed et erat faucibus nunc euismod ultricies ut id justo. Nullam cursus suscipit nisi, et ultrices justo sodales nec. Fusce venenatis facilisis lectus ac semper. Aliquam at massa ipsum. Quisque bibendum purus convallis nulla ultrices ultricies.\n",
      "\n",
      "Integer nec odio. Praesent libero. Sed cursus ante dapibus diam. Sed nisi. Nulla quis sem at nibh elementum imperdiet. Duis sagittis ipsum. Praesent mauris. Fusce nec tellus sed augue semper porta. Mauris massa. Vestibulum lacinia arcu eget nulla. Class aptent taciti sociosqu ad litora torquent per conubia nostra, per inceptos himenaeos. Curabitur sodales ligula in libero. Sed dignissim lacinia nunc. Curabitur tortor. Pellentesque nibh. Aenean quam. In scelerisque sem at dolor. Maecenas mattis. Sed convallis tristique sem. Proin ut ligula vel nunc egestas porttitor. Morbi lectus risus, iaculis vel, suscipit quis, luctus non, massa.\n",
      "\n",
      "Morbi in sem quis dui placerat ornare. Pellentesque odio nisi, euismod in, pharetra a, ultricies in, diam. Sed arcu. Cras consequat. Praesent dapibus, neque id cursus faucibus, tortor neque egestas augue, eu vulputate magna eros eu erat. Aliquam erat volutpat. Nam dui mi, tincidunt quis, accumsan porttitor, facilisis luctus, metus. Phasellus ultrices nulla quis nibh. Quisque a lectus. Donec consectetuer ligula vulputate sem tristique cursus. Nam nulla quam, gravida non, commodo a, sodales sit amet, nisi. Pellentesque fermentum dolor. Aliquam quam lectus, facilisis auctor, ultrices ut, elementum vulputate, nunc.\n",
      "\n",
      "Text successfully written to 'new_sample.txt'.\n",
      "File closed successfully.\n"
     ]
    }
   ],
   "source": [
    "\"\"\"\n",
    "Objective: Use the with-statement to handle file reading, ensuring the file is automatically closed.\n",
    "\"\"\"\n",
    "filename = \"sample.txt\"\n",
    "\n",
    "try:\n",
    "    with open(filename, \"r\") as file:\n",
    "        content = file.read()\n",
    "        print(\"File content using with-statement:\")\n",
    "        print(content)\n",
    "except FileNotFoundError:\n",
    "    print(f\"Error: The file '{filename}' does not exist.\")\n",
    "\n",
    "print()\n",
    "# TODO: Write a block using the with-statement to write data to a new file.\n",
    "newfilename = \"new_sample.txt\"\n",
    "text = \"Ini baris pertama untuk file baru.\\nDan Ini baris kedua untuk file baru.\\n\"\n",
    "\n",
    "try:\n",
    "    with open(newfilename, \"w\") as file:\n",
    "        file.write(text)\n",
    "        print(f\"Text successfully written to '{newfilename}'.\")\n",
    "except Exception as e:\n",
    "    print(\"An error occurred while writing to the file:\", e)\n",
    "finally:\n",
    "    try:\n",
    "        file.close()\n",
    "        print(\"File closed successfully.\")\n",
    "    except NameError:\n",
    "        print(\"File was never opened.\")"
   ]
  },
  {
   "cell_type": "code",
   "execution_count": 22,
   "metadata": {},
   "outputs": [
    {
     "name": "stdout",
     "output_type": "stream",
     "text": [
      "Line: Lorem ipsum dolor sit amet, consectetur adipiscing elit. Pellentesque euismod, urna eu tincidunt consectetur, nisi nisl aliquam enim, nec dictum mi enim nec erat. Vestibulum ante ipsum primis in faucibus orci luctus et ultrices posuere cubilia curae; Etiam euismod, urna eu tincidunt consectetur, nisi nisl aliquam enim, nec dictum mi enim nec erat. Pellentesque euismod, urna eu tincidunt consectetur, nisi nisl aliquam enim, nec dictum mi enim nec erat. Vestibulum ante ipsum primis in faucibus orci luctus et ultrices posuere cubilia curae; Etiam euismod, urna eu tincidunt consectetur, nisi nisl aliquam enim, nec dictum mi enim nec erat. Pellentesque euismod, urna eu tincidunt consectetur, nisi nisl aliquam enim, nec dictum mi enim nec erat. Vestibulum ante ipsum primis in faucibus orci luctus et ultrices posuere cubilia curae; Etiam euismod, urna eu tincidunt consectetur, nisi nisl aliquam enim, nec dictum mi enim nec erat. Pellentesque euismod, urna eu tincidunt consectetur, nisi nisl aliquam enim, nec dictum mi enim nec erat. Vestibulum ante ipsum primis in faucibus orci luctus et ultrices posuere cubilia curae; Etiam euismod, urna eu tincidunt consectetur, nisi nisl aliquam enim, nec dictum mi enim nec erat. Pellentesque euismod, urna eu tincidunt consectetur, nisi nisl aliquam enim, nec dictum mi enim nec erat. Vestibulum ante ipsum primis in faucibus orci luctus et ultrices posuere cubilia curae; Etiam euismod, urna eu tincidunt consectetur, nisi nisl aliquam enim, nec dictum mi enim nec erat.\n",
      "Line: \n",
      "Line: Suspendisse potenti. Nullam ac urna eu felis dapibus condimentum sit amet a augue. Sed non neque elit. Sed ut imperdiet nisi. Proin condimentum fermentum nunc. Etiam pharetra, erat sed fermentum feugiat, velit mauris egestas quam, ut aliquam massa nisl quis neque. Suspendisse in orci enim. Pellentesque habitant morbi tristique senectus et netus et malesuada fames ac turpis egestas. Proin pharetra nonummy pede. Mauris et orci. Aenean nec lorem. In porttitor. Donec laoreet nonummy augue. Suspendisse dui purus, scelerisque at, vulputate vitae, pretium mattis, nunc. Mauris eget neque at sem venenatis eleifend. Ut nonummy. Fusce aliquet pede non pede. Suspendisse dapibus lorem pellentesque magna. Integer nulla. Donec blandit feugiat ligula. Donec hendrerit, felis et imperdiet euismod, purus ipsum pretium metus, in lacinia nulla nisl eget sapien. Donec ut est in lectus consequat consequat.\n",
      "Line: \n",
      "Line: Vivamus fermentum semper porta. Nunc diam velit, adipiscing ut tristique vitae, sagittis vel odio. Maecenas convallis ullamcorper ultricies. Curabitur ornare, ligula semper consectetur sagittis, nisi diam iaculis velit, id fringilla sem nunc vel mi. Nam dictum, odio nec pretium volutpat, arcu ante placerat erat, non tristique elit urna et turpis. Quisque mi metus, ornare sit amet fermentum et, tincidunt et orci. Fusce eget orci a orci congue vestibulum. Ut dolor diam, elementum et vestibulum eu, porttitor vel elit. Curabitur venenatis pulvinar tellus gravida ornare. Sed et erat faucibus nunc euismod ultricies ut id justo. Nullam cursus suscipit nisi, et ultrices justo sodales nec. Fusce venenatis facilisis lectus ac semper. Aliquam at massa ipsum. Quisque bibendum purus convallis nulla ultrices ultricies.\n",
      "Line: \n",
      "Line: Integer nec odio. Praesent libero. Sed cursus ante dapibus diam. Sed nisi. Nulla quis sem at nibh elementum imperdiet. Duis sagittis ipsum. Praesent mauris. Fusce nec tellus sed augue semper porta. Mauris massa. Vestibulum lacinia arcu eget nulla. Class aptent taciti sociosqu ad litora torquent per conubia nostra, per inceptos himenaeos. Curabitur sodales ligula in libero. Sed dignissim lacinia nunc. Curabitur tortor. Pellentesque nibh. Aenean quam. In scelerisque sem at dolor. Maecenas mattis. Sed convallis tristique sem. Proin ut ligula vel nunc egestas porttitor. Morbi lectus risus, iaculis vel, suscipit quis, luctus non, massa.\n",
      "Line: \n",
      "Line: Morbi in sem quis dui placerat ornare. Pellentesque odio nisi, euismod in, pharetra a, ultricies in, diam. Sed arcu. Cras consequat. Praesent dapibus, neque id cursus faucibus, tortor neque egestas augue, eu vulputate magna eros eu erat. Aliquam erat volutpat. Nam dui mi, tincidunt quis, accumsan porttitor, facilisis luctus, metus. Phasellus ultrices nulla quis nibh. Quisque a lectus. Donec consectetuer ligula vulputate sem tristique cursus. Nam nulla quam, gravida non, commodo a, sodales sit amet, nisi. Pellentesque fermentum dolor. Aliquam quam lectus, facilisis auctor, ultrices ut, elementum vulputate, nunc.\n",
      "\n",
      "Total Baris di 'sample.txt': 9\n"
     ]
    }
   ],
   "source": [
    "\"\"\"\n",
    "Objective: Read a file line by line using a for-loop and print each line.\n",
    "\"\"\"\n",
    "filename = \"sample.txt\"\n",
    "\n",
    "try:\n",
    "    with open(filename, \"r\") as file:\n",
    "        for line in file:\n",
    "            print(\"Line:\", line.strip())\n",
    "except FileNotFoundError:\n",
    "    print(f\"Error: The file '{filename}' was not found.\")\n",
    "\n",
    "print()\n",
    "# TODO: Count the number of lines in the file and print the count.\n",
    "try:\n",
    "    with open(filename, \"r\") as file:\n",
    "        line_count = sum(1 for line in file)\n",
    "        print(f\"Total Baris di '{filename}': {line_count}\")\n",
    "except FileNotFoundError:\n",
    "    print(f\"Error: The file '{filename}' was not found.\")\n"
   ]
  },
  {
   "cell_type": "code",
   "execution_count": 26,
   "metadata": {},
   "outputs": [
    {
     "name": "stdout",
     "output_type": "stream",
     "text": [
      "Additional text appended to 'output.txt'.\n",
      "\n",
      "Updated file content:\n",
      "This is a sample text written to the file.\n",
      "It has multiple lines.\n",
      "line baru yang saya inputkan sendiri tanpa menghapus file lama.\n",
      "This is an additional line appended to the file.\n",
      "This is an additional line appended to the file.\n",
      "This is an additional line appended to the file.\n",
      "This is an additional line appended to the file.\n",
      "File closed successfully.\n"
     ]
    }
   ],
   "source": [
    "\"\"\"\n",
    "Objective: Open a file in append mode to add new content without overwriting existing data.\n",
    "\"\"\"\n",
    "filename = \"output.txt\"\n",
    "additional_text = \"\\nThis is an additional line appended to the file.\"\n",
    "\n",
    "try:\n",
    "    with open(filename, \"a\") as file:\n",
    "        file.write(additional_text)\n",
    "        print(f\"Additional text appended to '{filename}'.\")\n",
    "except Exception as e:\n",
    "    print(\"An error occurred while appending to the file:\", e)\n",
    "\n",
    "print()\n",
    "# TODO: After appending, read the file back and print its entire content.\n",
    "try:\n",
    "    with open(filename, \"r\") as file:\n",
    "        content = file.read()\n",
    "        print(\"Updated file content:\")\n",
    "        print(content)\n",
    "\n",
    "except FileNotFoundError:\n",
    "    print(f\"Error: The file '{filename}' was not found.\")\n",
    "finally:\n",
    "    try:\n",
    "        file.close()\n",
    "        print(\"File closed successfully.\")\n",
    "    except NameError:\n",
    "        print(\"File was never opened.\")"
   ]
  },
  {
   "cell_type": "code",
   "execution_count": 29,
   "metadata": {},
   "outputs": [
    {
     "name": "stdout",
     "output_type": "stream",
     "text": [
      "Current Working Directory: d:\\SDenni_FOLDER\\projects\\RWID\\python_scrapping\\course_assignments\\03_python_fundamental\n",
      "Contents of the directory:\n",
      "01_variables_and_data_types.ipynb\n",
      "02_looping_and_control_structures.ipynb\n",
      "03_functions_and_modules.ipynb\n",
      "04_buggyfunction.py\n",
      "04_error_handling.ipynb\n",
      "05_file_handling.ipynb\n",
      "06_string_manipulation.ipynb\n",
      "07_list_vs_dictionary.ipynb\n",
      "calculate.py\n",
      "mymodule.py\n",
      "new_sample.txt\n",
      "output.txt\n",
      "readme.md\n",
      "sample.txt\n",
      "__pycache__\n",
      "\n",
      "Full path to 'example.txt': d:\\SDenni_FOLDER\\projects\\RWID\\python_scrapping\\course_assignments\\03_python_fundamental\\example.txt\n",
      "File closed successfully.\n"
     ]
    }
   ],
   "source": [
    "\"\"\"\n",
    "Objective: Use the os module to get the current working directory and list the contents of that directory.\n",
    "\"\"\"\n",
    "import os\n",
    "\n",
    "try:\n",
    "    current_dir = os.getcwd()\n",
    "    print(\"Current Working Directory:\", current_dir)\n",
    "    directory_contents = os.listdir(current_dir)\n",
    "    print(\"Contents of the directory:\")\n",
    "    for item in directory_contents:\n",
    "        print(item)\n",
    "except Exception as e:\n",
    "    print(\"An error occurred while accessing directory information:\", e)\n",
    "\n",
    "print()\n",
    "# TODO: Use os.path.join to create a full path for a file named 'example.txt' in the current directory and print it.\n",
    "try:\n",
    "    file_name = \"example.txt\"\n",
    "    full_path = os.path.join(os.getcwd(), file_name)\n",
    "    print(\"Full path to 'example.txt':\", full_path)\n",
    "except Exception as e:\n",
    "    print(\"An error occurred while creating the file path:\", e)\n",
    "finally:\n",
    "    try:\n",
    "        file.close()\n",
    "        print(\"File closed successfully.\")\n",
    "    except NameError:\n",
    "        print(\"File was never opened.\")"
   ]
  },
  {
   "cell_type": "code",
   "execution_count": 34,
   "metadata": {},
   "outputs": [
    {
     "name": "stdout",
     "output_type": "stream",
     "text": [
      "Directory 'test_dir' created.\n",
      "Directory renamed to 'renamed_dir'.\n",
      "Directory 'renamed_dir' deleted.\n",
      "\n",
      "Directory 'test_dir' created.\n",
      "Directory 'test_dir' deleted.\n"
     ]
    }
   ],
   "source": [
    "\"\"\"\n",
    "Objective: Create a new directory, rename it, and then delete it, using the os module and handling exceptions.\n",
    "\"\"\"\n",
    "import os\n",
    "\n",
    "dir_name = \"test_dir\"\n",
    "new_dir_name = \"renamed_dir\"\n",
    "\n",
    "try:\n",
    "    # Create a new directory\n",
    "    os.mkdir(dir_name)\n",
    "    print(f\"Directory '{dir_name}' created.\")\n",
    "    \n",
    "    # Rename the directory\n",
    "    os.rename(dir_name, new_dir_name)\n",
    "    print(f\"Directory renamed to '{new_dir_name}'.\")\n",
    "    \n",
    "    # Delete the renamed directory\n",
    "    os.rmdir(new_dir_name)\n",
    "    print(f\"Directory '{new_dir_name}' deleted.\")\n",
    "except Exception as e:\n",
    "    print(\"An error occurred during directory operations:\", e)\n",
    "\n",
    "print()\n",
    "# TODO: Check if a directory exists before creating it, using os.path.exists.\n",
    "try:\n",
    "    if not os.path.exists(dir_name):\n",
    "        os.mkdir(dir_name)\n",
    "        print(f\"Directory '{dir_name}' created.\")\n",
    "    else:\n",
    "        print(f\"Directory '{dir_name}' already exists.\")\n",
    "\n",
    "    # Clean up by removing the directory if it exists\n",
    "    if os.path.exists(dir_name):\n",
    "        os.rmdir(dir_name)\n",
    "        print(f\"Directory '{dir_name}' deleted.\")\n",
    "except Exception as e:\n",
    "    print(\"An error occurred during directory operations:\", e)"
   ]
  },
  {
   "cell_type": "code",
   "execution_count": 40,
   "metadata": {},
   "outputs": [
    {
     "name": "stdout",
     "output_type": "stream",
     "text": [
      "Full path to the file: d:\\SDenni_FOLDER\\projects\\RWID\\python_scrapping\\course_assignments\\03_python_fundamental\\output.txt\n",
      "The file 'output.txt' exists.\n",
      "\n",
      "Filename: output\n",
      "File extension: .txt\n"
     ]
    }
   ],
   "source": [
    "\"\"\"\n",
    "Objective: Use os.path to perform common file path operations such as joining paths and checking file existence.\n",
    "\"\"\"\n",
    "import os\n",
    "\n",
    "# Join directory and filename to create a full file path\n",
    "directory = os.getcwd()\n",
    "file_name = \"output.txt\"\n",
    "full_path = os.path.join(directory, file_name)\n",
    "print(\"Full path to the file:\", full_path)\n",
    "\n",
    "# Check if the file exists\n",
    "if os.path.exists(full_path):\n",
    "    print(f\"The file '{file_name}' exists.\")\n",
    "else:\n",
    "    print(f\"The file '{file_name}' does not exist.\")\n",
    "\n",
    "print()\n",
    "# TODO: Use os.path.splitext to split the file name and its extension, then print both.\n",
    "try:\n",
    "    filename = os.path.basename(file_name)\n",
    "    file_name, file_extension = os.path.splitext(filename)\n",
    "    print(\"Filename:\", file_name)\n",
    "    print(\"File extension:\", file_extension)\n",
    "except Exception as e:\n",
    "    print(\"An error occurred while splitting the file name:\", e)\n"
   ]
  },
  {
   "cell_type": "code",
   "execution_count": 2,
   "metadata": {},
   "outputs": [
    {
     "name": "stdout",
     "output_type": "stream",
     "text": [
      "File renamed from 'output.txt' to 'renamed_output.txt'.\n",
      "\n",
      "File renamed back to 'output.txt'.\n"
     ]
    }
   ],
   "source": [
    "\"\"\"\n",
    "Objective: Rename a file using the os module and handle any potential errors.\n",
    "\"\"\"\n",
    "import os\n",
    "\n",
    "old_filename = \"output.txt\"\n",
    "new_filename = \"renamed_output.txt\"\n",
    "\n",
    "try:\n",
    "    # Ensure the file exists before attempting to rename\n",
    "    if os.path.exists(old_filename):\n",
    "        os.rename(old_filename, new_filename)\n",
    "        print(f\"File renamed from '{old_filename}' to '{new_filename}'.\")\n",
    "    else:\n",
    "        print(f\"Error: The file '{old_filename}' does not exist.\")\n",
    "except Exception as e:\n",
    "    print(\"An error occurred while renaming the file:\", e)\n",
    "\n",
    "print()\n",
    "# TODO: Rename the file back to its original name.\n",
    "try:\n",
    "    if os.path.exists(new_filename):\n",
    "        os.rename(new_filename, old_filename)\n",
    "        print(f\"File renamed back to '{old_filename}'.\")\n",
    "    else:\n",
    "        print(f\"Error: The file '{new_filename}' does not exist.\")\n",
    "except Exception as e:\n",
    "    print(\"An error occurred while renaming the file:\", e)"
   ]
  },
  {
   "cell_type": "code",
   "execution_count": null,
   "metadata": {},
   "outputs": [
    {
     "name": "stdout",
     "output_type": "stream",
     "text": [
      "Current Directory: d:\\SDenni_FOLDER\\projects\\RWID\\python_scrapping\\course_assignments\\03_python_fundamental\n",
      "Subdirectories: ['__pycache__']\n",
      "Files: ['01_variables_and_data_types.ipynb', '02_looping_and_control_structures.ipynb', '03_functions_and_modules.ipynb', '04_buggyfunction.py', '04_error_handling.ipynb', '05_file_handling.ipynb', '06_string_manipulation.ipynb', '07_list_vs_dictionary.ipynb', 'calculate.py', 'mymodule.py', 'new_sample.txt', 'output.txt', 'readme.md', 'sample.txt']\n",
      "----------------------------------------\n",
      "Current Directory: d:\\SDenni_FOLDER\\projects\\RWID\\python_scrapping\\course_assignments\\03_python_fundamental\\__pycache__\n",
      "Files: ['calculate.cpython-312.pyc', 'mymodule.cpython-312.pyc']\n",
      "----------------------------------------\n",
      "Total number of files in 'd:\\SDenni_FOLDER\\projects\\RWID\\python_scrapping\\course_assignments\\03_python_fundamental': 16\n"
     ]
    }
   ],
   "source": [
    "\"\"\"\n",
    "Objective: Use os.walk to recursively list all files and directories within a specified directory.\n",
    "\"\"\"\n",
    "import os\n",
    "\n",
    "directory_to_walk = os.getcwd()  # Use current directory for demonstration\n",
    "\n",
    "for root, dirs, files in os.walk(directory_to_walk):\n",
    "    print(\"Current Directory:\", root)\n",
    "    if dirs:\n",
    "        print(\"Subdirectories:\", dirs)\n",
    "    if files:\n",
    "        print(\"Files:\", files)\n",
    "    print(\"-\" * 40)\n",
    "\n",
    "print()\n",
    "# TODO: Modify the code to count and print the total number of files found in the directory tree.\n",
    "total_files = 0\n",
    "for root, dirs, files in os.walk(directory_to_walk):\n",
    "    total_files += len(files)\n",
    "\n",
    "print(f\"Total file di : '{directory_to_walk}': {total_files}\")\n"
   ]
  },
  {
   "cell_type": "markdown",
   "metadata": {},
   "source": [
    "### **Reflection**\n",
    "Reflect on how file handling and the os module allow you to interact with the underlying operating system. Consider these questions:\n",
    "\n",
    "- How does using the with-statement improve file handling compared to the traditional open/close methods?\n",
    "- What are the advantages of using the os module for directory and file path operations?\n",
    "- How can robust error handling in file and OS operations prevent common pitfalls in automation scripts?\n",
    "\n",
    "(answer here)"
   ]
  },
  {
   "cell_type": "markdown",
   "metadata": {},
   "source": [
    "ANSWER HERE\n",
    "\n",
    "- dengan withstatement sepertinya akan lebih safe dalam management file dimana ketika file dibuka dan terjadi error file akan kembali ditutup yang mana jika menggunakan open dan close manual jika mengalami error file akan masih terbuka.\n",
    "\n",
    "- modul os dari yang saya kerjakan diatas memiliki aksi yang sama dengan kita menggunakan operating system diantaranya management folder, file dll yang disana ada membuat, rename sampai iterasi file ataupun folder dari path yang dibutuhkan.\n",
    "\n",
    "- mungkin menggunakan try catch seperti yang dijelaskan diatas, dan dibuat finnaly jika memang sudah selesai dimana disana sudah handle pula dari open sampai close file termasuk management folder terutama jika tidak punya akses utk membuat file/merubah file sehingga perlu pesan yang jelas ketika terjadi error"
   ]
  },
  {
   "cell_type": "markdown",
   "metadata": {},
   "source": [
    "### **Exploration**\n",
    "For further exploration, research Pathlib, a modern alternative to the os module for handling file system paths, and explore Advanced File I/O techniques such as asynchronous file operations and context manager customization."
   ]
  },
  {
   "cell_type": "markdown",
   "metadata": {},
   "source": []
  }
 ],
 "metadata": {
  "kernelspec": {
   "display_name": "Python 3",
   "language": "python",
   "name": "python3"
  },
  "language_info": {
   "codemirror_mode": {
    "name": "ipython",
    "version": 3
   },
   "file_extension": ".py",
   "mimetype": "text/x-python",
   "name": "python",
   "nbconvert_exporter": "python",
   "pygments_lexer": "ipython3",
   "version": "3.12.8"
  }
 },
 "nbformat": 4,
 "nbformat_minor": 2
}
