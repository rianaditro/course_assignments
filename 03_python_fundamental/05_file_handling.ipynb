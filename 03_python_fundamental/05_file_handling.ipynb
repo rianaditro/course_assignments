{
 "cells": [
  {
   "cell_type": "markdown",
   "metadata": {},
   "source": [
    "### **File Handling**\n",
    "File handling in Python allows you to read, write, and manipulate files on disk. Using built-in functions like open(), along with context managers (i.e., the with-statement), you can ensure that files are properly managed and closed after operations, reducing the risk of resource leaks. The os module provides a portable way of using operating system-dependent functionality such as interacting with the file system. With os, you can navigate directories, create or delete files and directories, and perform path manipulations. Mastering these concepts is essential for automating file-based tasks and managing system resources effectively."
   ]
  },
  {
   "cell_type": "code",
   "execution_count": 3,
   "metadata": {},
   "outputs": [
    {
     "name": "stdout",
     "output_type": "stream",
     "text": [
      "File content:\n",
      "hello world\n",
      "Hi brother\n",
      "hi there\n",
      "came on\n",
      "File closed successfully.\n",
      "hello world\n",
      "Hi brother\n",
      "hi there\n",
      "came on\n"
     ]
    }
   ],
   "source": [
    "\"\"\"\n",
    "Objective: Open a file for reading and handle the error if the file does not exist.\n",
    "\"\"\"\n",
    "filename = \"sample.txt\"\n",
    "\n",
    "try:\n",
    "    file = open(filename, \"r\")\n",
    "    content = file.read()\n",
    "    print(\"File content:\")\n",
    "    print(content)\n",
    "except FileNotFoundError:\n",
    "    print(f\"Error: The file '{filename}' was not found.\")\n",
    "finally:\n",
    "    try:\n",
    "        file.close()\n",
    "        print(\"File closed successfully.\")\n",
    "    except NameError:\n",
    "        print(\"File was never opened.\")\n",
    "\n",
    "# TODO: Modify the code to read the file line by line and print each line.\n",
    "filename = \"sample.txt\"\n",
    "\n",
    "try:\n",
    "    file = open(filename, \"r\")\n",
    "    for line in file:\n",
    "        print(line.strip())\n",
    "except FileNotFoundError:\n",
    "    print(f\"Error: The file '{filename}' was not found.\")\n"
   ]
  },
  {
   "cell_type": "code",
   "execution_count": 5,
   "metadata": {},
   "outputs": [
    {
     "name": "stdout",
     "output_type": "stream",
     "text": [
      "Text successfully written to 'output.txt'.\n",
      "File closed successfully.\n",
      "Text successfully appended to 'output.txt'.\n",
      "File closed successfully.\n"
     ]
    }
   ],
   "source": [
    "\"\"\"\n",
    "Objective: Open a file for writing, write some sample text, and handle any potential errors.\n",
    "\"\"\"\n",
    "filename = \"output.txt\"\n",
    "text = \"This is a sample text written to the file.\\nIt has multiple lines.\"\n",
    "\n",
    "try:\n",
    "    file = open(filename, \"w\")\n",
    "    file.write(text)\n",
    "    print(f\"Text successfully written to '{filename}'.\")\n",
    "except Exception as e:\n",
    "    print(\"An error occurred while writing to the file:\", e)\n",
    "finally:\n",
    "    try:\n",
    "        file.close()\n",
    "        print(\"File closed successfully.\")\n",
    "    except NameError:\n",
    "        print(\"File was never opened.\")\n",
    "\n",
    "# TODO: Append a new line to the file instead of overwriting it.\n",
    "filename = \"output.txt\"\n",
    "text = \"This is a new line appended to the file.\\n\"\n",
    "\n",
    "try:\n",
    "    file = open(filename, \"a\")\n",
    "    file.write(text)\n",
    "    print(f\"Text successfully appended to '{filename}'.\")\n",
    "except Exception as e:\n",
    "    print(\"An error occurred while writing to the file:\", e)\n",
    "finally:\n",
    "    try:\n",
    "        file.close()\n",
    "        print(\"File closed successfully.\")\n",
    "    except NameError:\n",
    "        print(\"File was never opened.\")\n",
    "            \n",
    "            \n"
   ]
  },
  {
   "cell_type": "code",
   "execution_count": 7,
   "metadata": {},
   "outputs": [
    {
     "name": "stdout",
     "output_type": "stream",
     "text": [
      "File content using with-statement:\n",
      "hello world\n",
      "Hi brother\n",
      "hi there\n",
      "came on\n"
     ]
    }
   ],
   "source": [
    "\"\"\"\n",
    "Objective: Use the with-statement to handle file reading, ensuring the file is automatically closed.\n",
    "\"\"\"\n",
    "filename = \"sample.txt\"\n",
    "\n",
    "try:\n",
    "    with open(filename, \"r\") as file:\n",
    "        content = file.read()\n",
    "        print(\"File content using with-statement:\")\n",
    "        print(content)\n",
    "except FileNotFoundError:\n",
    "    print(f\"Error: The file '{filename}' does not exist.\")\n",
    "\n",
    "# TODO: Write a block using the with-statement to write data to a new file.\n",
    "filename = \"new_file.txt\"\n",
    "\n",
    "with open(filename, \"w\") as file:\n",
    "    file.write(\"This is a new file.\")\n",
    "\n"
   ]
  },
  {
   "cell_type": "code",
   "execution_count": 11,
   "metadata": {},
   "outputs": [
    {
     "name": "stdout",
     "output_type": "stream",
     "text": [
      "Line: hello world\n",
      "Line: Hi brother\n",
      "Line: hi there\n",
      "Line: came on\n",
      "Number of lines: 4\n"
     ]
    }
   ],
   "source": [
    "\"\"\"\n",
    "Objective: Read a file line by line using a for-loop and print each line.\n",
    "\"\"\"\n",
    "filename = \"sample.txt\"\n",
    "\n",
    "try:\n",
    "    with open(filename, \"r\") as file:\n",
    "        for line in file:\n",
    "            print(\"Line:\", line.strip())\n",
    "except FileNotFoundError:\n",
    "    print(f\"Error: The file '{filename}' was not found.\")\n",
    "\n",
    "# TODO: Count the number of lines in the file and print the count.\n",
    "try:\n",
    "        with open(filename, \"r\") as file:\n",
    "            line_count = sum(1 for line in file)\n",
    "            print(\"Number of lines:\", line_count)\n",
    "except FileNotFoundError:\n",
    "        print(f\"Error: The file '{filename}' was not found.\")\n"
   ]
  },
  {
   "cell_type": "code",
   "execution_count": 14,
   "metadata": {},
   "outputs": [
    {
     "name": "stdout",
     "output_type": "stream",
     "text": [
      "Additional text appended to 'output.txt'.\n",
      "File content after appending again:\n",
      "This is a sample text written to the file.\n",
      "It has multiple lines.This is a new line appended to the file.\n",
      "\n",
      "This is an additional line appended to the file.\n",
      "This is an additional line appended to the file.\n",
      "This is an additional line appended to the file.\n"
     ]
    }
   ],
   "source": [
    "\"\"\"\n",
    "Objective: Open a file in append mode to add new content without overwriting existing data.\n",
    "\"\"\"\n",
    "filename = \"output.txt\"\n",
    "additional_text = \"\\nThis is an additional line appended to the file.\"\n",
    "\n",
    "try:\n",
    "    with open(filename, \"a\") as file:\n",
    "        file.write(additional_text)\n",
    "        print(f\"Additional text appended to '{filename}'.\")\n",
    "except Exception as e:\n",
    "    print(\"An error occurred while appending to the file:\", e)\n",
    "\n",
    "# TODO: After appending, read the file back and print its entire content.\n",
    "try:\n",
    "    with open(filename, \"r\") as file:\n",
    "        content = file.read()\n",
    "        print(\"File content after appending again:\")\n",
    "        print(content)\n",
    "except Exception as e:\n",
    "    print(\"An error occurred while reading the file:\", e)\n",
    "    \n"
   ]
  },
  {
   "cell_type": "code",
   "execution_count": 16,
   "metadata": {},
   "outputs": [
    {
     "name": "stdout",
     "output_type": "stream",
     "text": [
      "Current Working Directory: d:\\Softwares\\course\\python\\course_assignments\\03_python_fundamental\n",
      "Contents of the directory:\n",
      "01_variables_and_data_types.ipynb\n",
      "02_looping_and_control_structures.ipynb\n",
      "03_functions_and_modules.ipynb\n",
      "04_error_handling.ipynb\n",
      "05_file_handling.ipynb\n",
      "06_string_manipulation.ipynb\n",
      "07_list_vs_dictionary.ipynb\n",
      "new_file.txt\n",
      "output.txt\n",
      "readme.md\n",
      "sample.txt\n",
      "Full path of the file: d:\\Softwares\\course\\python\\course_assignments\\03_python_fundamental\\example.txt\n"
     ]
    }
   ],
   "source": [
    "\"\"\"\n",
    "Objective: Use the os module to get the current working directory and list the contents of that directory.\n",
    "\"\"\"\n",
    "import os\n",
    "\n",
    "try:\n",
    "    current_dir = os.getcwd()\n",
    "    print(\"Current Working Directory:\", current_dir)\n",
    "    directory_contents = os.listdir(current_dir)\n",
    "    print(\"Contents of the directory:\")\n",
    "    for item in directory_contents:\n",
    "        print(item)\n",
    "except Exception as e:\n",
    "    print(\"An error occurred while accessing directory information:\", e)\n",
    "\n",
    "# TODO: Use os.path.join to create a full path for a file named 'example.txt' in the current directory and print it.\n",
    "try:\n",
    "    file_name = \"example.txt\"\n",
    "    full_path = os.path.join(current_dir, file_name)\n",
    "    print(\"Full path of the file:\", full_path)\n",
    "except Exception as e:\n",
    "    print(\"An error occurred while creating the full path:\", e)\n"
   ]
  },
  {
   "cell_type": "code",
   "execution_count": 18,
   "metadata": {},
   "outputs": [
    {
     "name": "stdout",
     "output_type": "stream",
     "text": [
      "Directory 'test_dir' created.\n",
      "Directory renamed to 'renamed_dir'.\n",
      "Directory 'renamed_dir' deleted.\n",
      "Directory 'test_dir' created.\n"
     ]
    }
   ],
   "source": [
    "\"\"\"\n",
    "Objective: Create a new directory, rename it, and then delete it, using the os module and handling exceptions.\n",
    "\"\"\"\n",
    "import os\n",
    "\n",
    "dir_name = \"test_dir\"\n",
    "new_dir_name = \"renamed_dir\"\n",
    "\n",
    "try:\n",
    "    # Create a new directory\n",
    "    os.mkdir(dir_name)\n",
    "    print(f\"Directory '{dir_name}' created.\")\n",
    "    \n",
    "    # Rename the directory\n",
    "    os.rename(dir_name, new_dir_name)\n",
    "    print(f\"Directory renamed to '{new_dir_name}'.\")\n",
    "    \n",
    "    # Delete the renamed directory\n",
    "    os.rmdir(new_dir_name)\n",
    "    print(f\"Directory '{new_dir_name}' deleted.\")\n",
    "except Exception as e:\n",
    "    print(\"An error occurred during directory operations:\", e)\n",
    "\n",
    "# TODO: Check if a directory exists before creating it, using os.path.exists.\n",
    "try:\n",
    "    if not os.path.exists(dir_name):\n",
    "        os.mkdir(dir_name)\n",
    "        print(f\"Directory '{dir_name}' created.\")\n",
    "    else:\n",
    "        print(f\"Directory '{dir_name}' already exists.\")    \n",
    "except Exception as e:\n",
    "    print(\"An error occurred during directory operations:\", e)\n",
    "    \n",
    "\n"
   ]
  },
  {
   "cell_type": "code",
   "execution_count": 20,
   "metadata": {},
   "outputs": [
    {
     "name": "stdout",
     "output_type": "stream",
     "text": [
      "Full path to the file: d:\\Softwares\\course\\python\\course_assignments\\03_python_fundamental\\output.txt\n",
      "The file 'output.txt' exists.\n",
      "File name: output\n",
      "File extension: .txt\n"
     ]
    }
   ],
   "source": [
    "\"\"\"\n",
    "Objective: Use os.path to perform common file path operations such as joining paths and checking file existence.\n",
    "\"\"\"\n",
    "import os\n",
    "\n",
    "# Join directory and filename to create a full file path\n",
    "directory = os.getcwd()\n",
    "file_name = \"output.txt\"\n",
    "full_path = os.path.join(directory, file_name)\n",
    "print(\"Full path to the file:\", full_path)\n",
    "\n",
    "# Check if the file exists\n",
    "if os.path.exists(full_path):\n",
    "    print(f\"The file '{file_name}' exists.\")\n",
    "else:\n",
    "    print(f\"The file '{file_name}' does not exist.\")\n",
    "\n",
    "# TODO: Use os.path.splitext to split the file name and its extension, then print both.\n",
    "try:\n",
    "    file_name = \"output.txt\"\n",
    "    file_name, extension = os.path.splitext(file_name)\n",
    "    print(\"File name:\", file_name)\n",
    "    print(\"File extension:\", extension)\n",
    "except Exception as e:\n",
    "    print(\"An error occurred:\", str(e))\n"
   ]
  },
  {
   "cell_type": "code",
   "execution_count": 21,
   "metadata": {},
   "outputs": [
    {
     "name": "stdout",
     "output_type": "stream",
     "text": [
      "File renamed from 'output.txt' to 'renamed_output.txt'.\n",
      "File renamed from 'renamed_output.txt' to 'output.txt'.\n"
     ]
    }
   ],
   "source": [
    "\"\"\"\n",
    "Objective: Rename a file using the os module and handle any potential errors.\n",
    "\"\"\"\n",
    "import os\n",
    "\n",
    "old_filename = \"output.txt\"\n",
    "new_filename = \"renamed_output.txt\"\n",
    "\n",
    "try:\n",
    "    # Ensure the file exists before attempting to rename\n",
    "    if os.path.exists(old_filename):\n",
    "        os.rename(old_filename, new_filename)\n",
    "        print(f\"File renamed from '{old_filename}' to '{new_filename}'.\")\n",
    "    else:\n",
    "        print(f\"Error: The file '{old_filename}' does not exist.\")\n",
    "except Exception as e:\n",
    "    print(\"An error occurred while renaming the file:\", e)\n",
    "\n",
    "# TODO: Rename the file back to its original name.\n",
    "try:\n",
    "    os.rename(new_filename, old_filename)\n",
    "    print(f\"File renamed from '{new_filename}' to '{old_filename}'.\")\n",
    "except Exception as e:\n",
    "    print(\"An error occurred while renaming the file:\", e)  \n"
   ]
  },
  {
   "cell_type": "code",
   "execution_count": 23,
   "metadata": {},
   "outputs": [
    {
     "name": "stdout",
     "output_type": "stream",
     "text": [
      "Current Directory: d:\\Softwares\\course\\python\\course_assignments\\03_python_fundamental\n",
      "Subdirectories: ['test_dir']\n",
      "Files: ['01_variables_and_data_types.ipynb', '02_looping_and_control_structures.ipynb', '03_functions_and_modules.ipynb', '04_error_handling.ipynb', '05_file_handling.ipynb', '06_string_manipulation.ipynb', '07_list_vs_dictionary.ipynb', 'new_file.txt', 'output.txt', 'readme.md', 'sample.txt']\n",
      "----------------------------------------\n",
      "Current Directory: d:\\Softwares\\course\\python\\course_assignments\\03_python_fundamental\\test_dir\n",
      "----------------------------------------\n",
      "Total number of files: 11\n"
     ]
    }
   ],
   "source": [
    "\"\"\"\n",
    "Objective: Use os.walk to recursively list all files and directories within a specified directory.\n",
    "\"\"\"\n",
    "import os\n",
    "\n",
    "directory_to_walk = os.getcwd()  # Use current directory for demonstration\n",
    "\n",
    "for root, dirs, files in os.walk(directory_to_walk):\n",
    "    print(\"Current Directory:\", root)\n",
    "    if dirs:\n",
    "        print(\"Subdirectories:\", dirs)\n",
    "    if files:\n",
    "        print(\"Files:\", files)\n",
    "    print(\"-\" * 40)\n",
    "\n",
    "# TODO: Modify the code to count and print the total number of files found in the directory tree.\n",
    "try:\n",
    "    directory_to_walk = os.getcwd()  # Use current directory for demonstration\n",
    "    file_count = 0\n",
    "    for root, dirs, files in os.walk(directory_to_walk):\n",
    "        file_count += len(files)\n",
    "    print(\"Total number of files:\", file_count)\n",
    "except Exception as e:\n",
    "    print(\"Error:\", e)  \n",
    "    \n"
   ]
  },
  {
   "cell_type": "markdown",
   "metadata": {},
   "source": [
    "### **Reflection**\n",
    "Reflect on how file handling and the os module allow you to interact with the underlying operating system. Consider these questions:\n",
    "\n",
    "- How does using the with-statement improve file handling compared to the traditional open/close methods?\n",
    "- What are the advantages of using the os module for directory and file path operations?\n",
    "- How can robust error handling in file and OS operations prevent common pitfalls in automation scripts?\n",
    "\n",
    "1. The Answers are:\n",
    "- Ensures proper file closure even during exceptions\n",
    "- More concise and readable code\n",
    "\n",
    "2. The Answers are:\n",
    "- Cross-Platform Compatibility\n",
    "- Directory creation/deletion\n",
    "- Path existence checking\n",
    "- Working directory management\n",
    "\n",
    "3. The Answers are:\n",
    "- Prevents crashes from missing files/directories\n",
    "- Handles permission issues gracefully\n",
    "- Manages concurrent access problems\n"
   ]
  },
  {
   "cell_type": "markdown",
   "metadata": {},
   "source": [
    "### **Exploration**\n",
    "For further exploration, research Pathlib, a modern alternative to the os module for handling file system paths, and explore Advanced File I/O techniques such as asynchronous file operations and context manager customization."
   ]
  },
  {
   "cell_type": "markdown",
   "metadata": {},
   "source": [
    "1. Pathlib Usage :\n"
   ]
  },
  {
   "cell_type": "code",
   "execution_count": null,
   "metadata": {},
   "outputs": [],
   "source": [
    "from pathlib import Path\n",
    "\n",
    "# Modern path handling\n",
    "path = Path(\"d:/Softwares/course/python/data\")\n",
    "file_path = path / \"example.txt\"  # Path joining\n",
    "\n",
    "# Common operations\n",
    "if file_path.exists():\n",
    "    print(f\"File size: {file_path.stat().st_size}\")\n",
    "    print(f\"Suffix: {file_path.suffix}\")\n",
    "    print(f\"Parent: {file_path.parent}\")"
   ]
  },
  {
   "cell_type": "markdown",
   "metadata": {},
   "source": [
    "2. Asynchronous File Operations :\n"
   ]
  },
  {
   "cell_type": "code",
   "execution_count": null,
   "metadata": {},
   "outputs": [],
   "source": [
    "import asyncio\n",
    "import aiofiles\n",
    "\n",
    "async def read_file_async():\n",
    "    async with aiofiles.open('large_file.txt', 'r') as file:\n",
    "        content = await file.read()\n",
    "    return content\n",
    "\n",
    "# Usage in async context\n",
    "async def main():\n",
    "    content = await read_file_async()\n",
    "    print(\"File read complete\")"
   ]
  },
  {
   "cell_type": "code",
   "execution_count": null,
   "metadata": {},
   "outputs": [],
   "source": []
  }
 ],
 "metadata": {
  "kernelspec": {
   "display_name": "base",
   "language": "python",
   "name": "python3"
  },
  "language_info": {
   "codemirror_mode": {
    "name": "ipython",
    "version": 3
   },
   "file_extension": ".py",
   "mimetype": "text/x-python",
   "name": "python",
   "nbconvert_exporter": "python",
   "pygments_lexer": "ipython3",
   "version": "3.12.7"
  }
 },
 "nbformat": 4,
 "nbformat_minor": 2
}
