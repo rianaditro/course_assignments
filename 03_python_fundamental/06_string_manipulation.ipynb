{
 "cells": [
  {
   "cell_type": "markdown",
   "metadata": {},
   "source": [
    "### **Dealing with String**\n",
    "When working on data scraping tasks, string manipulation is crucial for cleaning and processing the extracted data."
   ]
  },
  {
   "cell_type": "code",
   "execution_count": null,
   "metadata": {},
   "outputs": [],
   "source": [
    "\"\"\"\n",
    "Objective: f-string printing\n",
    "\"\"\"\n",
    "current_page = \"https://www.python.org/page-3\"\n",
    "page_status_code = 200\n",
    "\n",
    "# TODO: Use f-string to print the current page and page status code\n",
    "# Expected output:\n",
    "# Current page: https://www.python.org/page-3\n",
    "# Page status code: 200"
   ]
  },
  {
   "cell_type": "code",
   "execution_count": null,
   "metadata": {},
   "outputs": [],
   "source": [
    "\"\"\"\n",
    "Objective: Extract text from URL using .split()\n",
    "\"\"\"\n",
    "current_page = \"https://www.python.org/page-30\"\n",
    "\n",
    "# TODO: Extract the page number from the current_page\n",
    "# Expected output: \"30\""
   ]
  },
  {
   "cell_type": "code",
   "execution_count": null,
   "metadata": {},
   "outputs": [],
   "source": [
    "\"\"\"\n",
    "Objective: Extract number from URL using isdigit()\n",
    "\"\"\"\n",
    "texts = \"This page has 30 results\"\n",
    "\n",
    "# TODO: Split the texts into list of words\n",
    "# TODO: Check if word is a number\n",
    "# TODO: Print the word\n",
    "# Expected output: \"30\""
   ]
  },
  {
   "cell_type": "code",
   "execution_count": null,
   "metadata": {},
   "outputs": [],
   "source": [
    "\"\"\"\n",
    "Objective: Clean Unwanted Characters using .strip()\n",
    "\"\"\"\n",
    "raw_data = \"  \\n\\t###Welcome to Python!###\\t\\n  \"\n",
    "\n",
    "# TODO: Remove the unwanted characters from raw_data\n",
    "# Expected output: \"Welcome to Python!\""
   ]
  },
  {
   "cell_type": "code",
   "execution_count": null,
   "metadata": {},
   "outputs": [],
   "source": [
    "\"\"\"\n",
    "Objective: Check if Content is Exist\n",
    "\"\"\"\n",
    "button_text = \"Load More\"\n",
    "\n",
    "# TODO: Check if \"Load More\" is in button_text\n",
    "# TODO: Print \"More content is available\" if true\n",
    "# TODO: Print \"No more content\" if false\n",
    "# Expected output: \"More content is available\""
   ]
  },
  {
   "cell_type": "code",
   "execution_count": null,
   "metadata": {},
   "outputs": [],
   "source": [
    "\"\"\"\n",
    "Objective: Check if Content is Exist using .find()\n",
    "\"\"\"\n",
    "button_text = \"Load More\"\n",
    "\n",
    "# TODO: Check if \"Load More\" is in button_text\n",
    "# TODO: Print \"More content is available\" if true\n",
    "# TODO: Print \"No more content\" if false\n",
    "# Expected output: \"More content is available\""
   ]
  },
  {
   "cell_type": "code",
   "execution_count": null,
   "metadata": {},
   "outputs": [],
   "source": [
    "\"\"\"\n",
    "Objective: Split Data into a List\n",
    "\"\"\"\n",
    "keywords = \"Python, BeautifulSoup, Scrapy, Selenium, Web Scraping\"\n",
    "\n",
    "# TODO: Split keywords into a list\n",
    "# Expected output: [\"Python\", \"BeautifulSoup\", \"Scrapy\", \"Selenium\", \"Web Scraping\"]"
   ]
  },
  {
   "cell_type": "code",
   "execution_count": null,
   "metadata": {},
   "outputs": [],
   "source": [
    "\"\"\"\n",
    "Objective: Joining list to string\n",
    "\"\"\"\n",
    "keywords = [\"Python\", \"BeautifulSoup\", \"Scrapy\", \"Selenium\", \"Web Scraping\"]\n",
    "\n",
    "# TODO: Join keywords into a string with \", \"\n",
    "# Expected output: \"Python, BeautifulSoup, Scrapy, Selenium, Web Scraping\""
   ]
  },
  {
   "cell_type": "code",
   "execution_count": null,
   "metadata": {},
   "outputs": [],
   "source": [
    "\"\"\"\n",
    "Objective: Extract URL from text\n",
    "\"\"\"\n",
    "text = \"For more information visit https://www.example.com\"\n",
    "\n",
    "# TODO: Split the text into list of words\n",
    "# TODO: Check if word starts with \"https://\"\n",
    "# TODO: Print the word\n",
    "# Expected output: \"https://www.example.com\""
   ]
  },
  {
   "cell_type": "code",
   "execution_count": null,
   "metadata": {},
   "outputs": [],
   "source": [
    "\"\"\"\n",
    "Objective: Extract email from text\n",
    "\"\"\"\n",
    "text = \"For more info, contact us at support@example.com or visit our website.\"\n",
    "\n",
    "# TODO: Split the text into list of words\n",
    "# TODO: Find the word that ends with \".com\"\n",
    "# Expected output: \"support@example.com\""
   ]
  },
  {
   "cell_type": "code",
   "execution_count": null,
   "metadata": {},
   "outputs": [],
   "source": [
    "\"\"\"\n",
    "Objective: Generate Slug for URLs using .replace()\n",
    "\"\"\"\n",
    "base_url = \"https://www.example.com\"\n",
    "section = \"News and Articles\"\n",
    "\n",
    "# TODO: Format section from \"News and Articles\" to \"news-and-articles\"\n",
    "# TODO: Combine base_url and section\n",
    "# TODO: Print the complete URL\n",
    "# Expected output: \"https://www.example.com/news-and-articles\""
   ]
  },
  {
   "cell_type": "code",
   "execution_count": null,
   "metadata": {},
   "outputs": [],
   "source": [
    "\"\"\" \n",
    "Objective: String manipulation\n",
    "\"\"\"\n",
    "message = \"   Hello, world! How, are you today? \"\n",
    "\n",
    "# TODO: Remove the leading and trailing spaces\n",
    "# TODO: Replace the spaces with \"-\"\n",
    "# Expected output: \"hello-world!-how;-are-you-today?\""
   ]
  },
  {
   "cell_type": "markdown",
   "metadata": {},
   "source": [
    "### **Reflection**\n",
    "What is the difference between using .find() and \"in\" to check if an element is exist in the text?\n",
    "\n",
    "(answer here)"
   ]
  },
  {
   "cell_type": "markdown",
   "metadata": {},
   "source": [
    "### **Exploration**\n",
    "Regular expressions are an advanced way to extract data using specific patterns and rules. While we will discuss regex in the intermediate level, it’s worth starting to learn it now."
   ]
  },
  {
   "cell_type": "markdown",
   "metadata": {},
   "source": []
  }
 ],
 "metadata": {
  "kernelspec": {
   "display_name": ".venv",
   "language": "python",
   "name": "python3"
  },
  "language_info": {
   "codemirror_mode": {
    "name": "ipython",
    "version": 3
   },
   "file_extension": ".py",
   "mimetype": "text/x-python",
   "name": "python",
   "nbconvert_exporter": "python",
   "pygments_lexer": "ipython3",
   "version": "3.10.12"
  }
 },
 "nbformat": 4,
 "nbformat_minor": 2
}
