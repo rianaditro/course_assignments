{
 "cells": [
  {
   "cell_type": "markdown",
   "metadata": {},
   "source": [
    "### **Dealing with String**\n",
    "When working on data scraping tasks, string manipulation is crucial for cleaning and processing the extracted data."
   ]
  },
  {
   "cell_type": "code",
   "execution_count": 2,
   "metadata": {},
   "outputs": [
    {
     "name": "stdout",
     "output_type": "stream",
     "text": [
      "Current page: https://www.python.org/page-3\n",
      "Page status code: 200\n"
     ]
    }
   ],
   "source": [
    "\"\"\"\n",
    "Objective: f-string printing\n",
    "\"\"\"\n",
    "current_page = \"https://www.python.org/page-3\"\n",
    "page_status_code = 200\n",
    "\n",
    "# TODO: Use f-string to print the current page and page status code\n",
    "# Expected output:\n",
    "# Current page: https://www.python.org/page-3\n",
    "# Page status code: 200\n",
    "print(f\"Current page: {current_page}\")\n",
    "print(f\"Page status code: {page_status_code}\")"
   ]
  },
  {
   "cell_type": "code",
   "execution_count": 3,
   "metadata": {},
   "outputs": [
    {
     "name": "stdout",
     "output_type": "stream",
     "text": [
      "30\n"
     ]
    }
   ],
   "source": [
    "\"\"\"\n",
    "Objective: Extract text from URL using .split()\n",
    "\"\"\"\n",
    "current_page = \"https://www.python.org/page-30\"\n",
    "\n",
    "# TODO: Extract the page number from the current_page\n",
    "# Expected output: \"30\"\n",
    "print(current_page.split(\"-\")[1])"
   ]
  },
  {
   "cell_type": "code",
   "execution_count": 4,
   "metadata": {},
   "outputs": [
    {
     "name": "stdout",
     "output_type": "stream",
     "text": [
      "['This', 'page', 'has', '30', 'results']\n",
      "30\n"
     ]
    }
   ],
   "source": [
    "\"\"\"\n",
    "Objective: Extract number from URL using isdigit()\n",
    "\"\"\"\n",
    "texts = \"This page has 30 results\"\n",
    "\n",
    "# TODO: Split the texts into list of words\n",
    "# TODO: Check if word is a number\n",
    "# TODO: Print the word\n",
    "# Expected output: \"30\"\n",
    "print(texts.split())\n",
    "for i in texts.split():\n",
    "    if i.isdigit():\n",
    "        print(i)\n",
    "        "
   ]
  },
  {
   "cell_type": "code",
   "execution_count": 5,
   "metadata": {},
   "outputs": [
    {
     "name": "stdout",
     "output_type": "stream",
     "text": [
      "Welcome to Python!\n"
     ]
    }
   ],
   "source": [
    "\"\"\"\n",
    "Objective: Clean Unwanted Characters using .strip()\n",
    "\"\"\"\n",
    "raw_data = \"  \\n\\t###Welcome to Python!###\\t\\n  \"\n",
    "\n",
    "# TODO: Remove the unwanted characters from raw_data\n",
    "# Expected output: \"Welcome to Python!\"\n",
    "print(raw_data.strip(' #\\n\\t'))\n"
   ]
  },
  {
   "cell_type": "code",
   "execution_count": 10,
   "metadata": {},
   "outputs": [
    {
     "name": "stdout",
     "output_type": "stream",
     "text": [
      "Load More is in button_text\n",
      "More content is available\n"
     ]
    }
   ],
   "source": [
    "\"\"\"\n",
    "Objective: Check if Content is Exist\n",
    "\"\"\"\n",
    "button_text = \"Load More\"\n",
    "\n",
    "# TODO: Check if \"Load More\" is in button_text\n",
    "if(\"Load More\" in button_text):\n",
    "    print(\"Load More is in button_text\")\n",
    "# TODO: Print \"More content is available\" if true\n",
    "# TODO: Print \"No more content\" if false\n",
    "# Expected output: \"More content is available\"\n",
    "if(\"Load More\" in button_text):\n",
    "    print(\"More content is available\")\n",
    "else:\n",
    "    print(\"No more content\")\n",
    "    \n"
   ]
  },
  {
   "cell_type": "code",
   "execution_count": 12,
   "metadata": {},
   "outputs": [
    {
     "name": "stdout",
     "output_type": "stream",
     "text": [
      "More content is available\n",
      "More content is available\n"
     ]
    }
   ],
   "source": [
    "\"\"\"\n",
    "Objective: Check if Content is Exist using .find()\n",
    "\"\"\"\n",
    "button_text = \"Load More\"\n",
    "\n",
    "# TODO: Check if \"Load More\" is in button_text\n",
    "if button_text.find(\"Load More\") != -1:\n",
    "    print(\"More content is available\")\n",
    "# TODO: Print \"More content is available\" if true\n",
    "# TODO: Print \"No more content\" if false\n",
    "if button_text.find(\"Load More\")!= -1:\n",
    "    print(\"More content is available\")\n",
    "else:\n",
    "    print(\"No more content\")\n",
    "# Expected output: \"More content is available\""
   ]
  },
  {
   "cell_type": "code",
   "execution_count": 13,
   "metadata": {},
   "outputs": [
    {
     "name": "stdout",
     "output_type": "stream",
     "text": [
      "['Python', ' BeautifulSoup', ' Scrapy', ' Selenium', ' Web Scraping']\n"
     ]
    }
   ],
   "source": [
    "\"\"\"\n",
    "Objective: Split Data into a List\n",
    "\"\"\"\n",
    "keywords = \"Python, BeautifulSoup, Scrapy, Selenium, Web Scraping\"\n",
    "\n",
    "# TODO: Split keywords into a list\n",
    "# Expected output: [\"Python\", \"BeautifulSoup\", \"Scrapy\", \"Selenium\", \"Web Scraping\"]\n",
    "print(keywords.split(\",\"))"
   ]
  },
  {
   "cell_type": "code",
   "execution_count": 14,
   "metadata": {},
   "outputs": [
    {
     "name": "stdout",
     "output_type": "stream",
     "text": [
      "Python, BeautifulSoup, Scrapy, Selenium, Web Scraping\n"
     ]
    }
   ],
   "source": [
    "\"\"\"\n",
    "Objective: Joining list to string\n",
    "\"\"\"\n",
    "keywords = [\"Python\", \"BeautifulSoup\", \"Scrapy\", \"Selenium\", \"Web Scraping\"]\n",
    "\n",
    "# TODO: Join keywords into a string with \", \"\n",
    "# Expected output: \"Python, BeautifulSoup, Scrapy, Selenium, Web Scraping\"\n",
    "print(\", \".join(keywords))"
   ]
  },
  {
   "cell_type": "code",
   "execution_count": 21,
   "metadata": {},
   "outputs": [
    {
     "name": "stdout",
     "output_type": "stream",
     "text": [
      "['For', 'more', 'information', 'visit', 'https://www.example.com']\n",
      "https://www.example.com\n"
     ]
    }
   ],
   "source": [
    "\"\"\"\n",
    "Objective: Extract URL from text\n",
    "\"\"\"\n",
    "text = \"For more information visit https://www.example.com\"\n",
    "\n",
    "# TODO: Split the text into list of words\n",
    "# TODO: Check if word starts with \"https://\"\n",
    "# TODO: Print the word\n",
    "# Expected output: \"https://www.example.com\"\n",
    "print(text.split())\n",
    "if text.startswith(\"https://\"):\n",
    "  print(text) \n",
    "words = text.split()\n",
    "for word in words:\n",
    "    if word.startswith(\"https://\"):\n",
    "        print(word)\n"
   ]
  },
  {
   "cell_type": "code",
   "execution_count": 24,
   "metadata": {},
   "outputs": [
    {
     "name": "stdout",
     "output_type": "stream",
     "text": [
      "['For', 'more', 'info,', 'contact', 'us', 'at', 'support@example.com', 'or', 'visit', 'our', 'website.']\n",
      "['support@example.com']\n"
     ]
    }
   ],
   "source": [
    "\"\"\"\n",
    "Objective: Extract email from text\n",
    "\"\"\"\n",
    "text = \"For more info, contact us at support@example.com or visit our website.\"\n",
    "\n",
    "# TODO: Split the text into list of words\n",
    "print(text.split())\n",
    "# TODO: Find the word that ends with \".com\"\n",
    "word = [x for x in text.split() if x.endswith(\".com\")]\n",
    "print(word)\n",
    "# Expected output: \"support@example.com\""
   ]
  },
  {
   "cell_type": "code",
   "execution_count": 27,
   "metadata": {},
   "outputs": [
    {
     "name": "stdout",
     "output_type": "stream",
     "text": [
      "news-and-articles\n",
      "https://www.example.com/news-and-articles\n"
     ]
    }
   ],
   "source": [
    "\"\"\"\n",
    "Objective: Generate Slug for URLs using .replace()\n",
    "\"\"\"\n",
    "base_url = \"https://www.example.com\"\n",
    "section = \"News and Articles\"\n",
    "\n",
    "# TODO: Format section from \"News and Articles\" to \"news-and-articles\"\n",
    "print(section.replace(\" \", \"-\").lower())\n",
    "# TODO: Combine base_url and section\n",
    "# TODO: Print the complete URL\n",
    "# Expected output: \"https://www.example.com/news-and-articles\"\n",
    "print(base_url + \"/\" + section.replace(\" \", \"-\").lower())\n"
   ]
  },
  {
   "cell_type": "code",
   "execution_count": 29,
   "metadata": {},
   "outputs": [
    {
     "name": "stdout",
     "output_type": "stream",
     "text": [
      "Hello, world! How, are you today?\n",
      "---Hello,-world!-How,-are-you-today?-\n"
     ]
    }
   ],
   "source": [
    "\"\"\" \n",
    "Objective: String manipulation\n",
    "\"\"\"\n",
    "message = \"   Hello, world! How, are you today? \"\n",
    "\n",
    "# TODO: Remove the leading and trailing spaces\n",
    "print(message.strip())\n",
    "# TODO: Replace the spaces with \"-\"\n",
    "print(message.replace(\" \", \"-\"))\n",
    "# Expected output: \"hello-world!-how;-are-you-today?\""
   ]
  },
  {
   "cell_type": "markdown",
   "metadata": {},
   "source": [
    "### **Reflection**\n",
    "What is the difference between using .find() and \"in\" to check if an element is exist in the text?\n",
    "\n",
    "(answer here)"
   ]
  },
  {
   "cell_type": "markdown",
   "metadata": {},
   "source": [
    "Here are the key differences between .find() and in for checking text existence:"
   ]
  },
  {
   "cell_type": "markdown",
   "metadata": {},
   "source": [
    "Return Value :\n",
    "\n",
    "- in : Returns a boolean (True/False)"
   ]
  },
  {
   "cell_type": "code",
   "execution_count": null,
   "metadata": {},
   "outputs": [],
   "source": [
    "text = \"Hello World\"\n",
    "print(\"Hello\" in text)  # True\n",
    "print(\"Python\" in text) # False"
   ]
  },
  {
   "cell_type": "markdown",
   "metadata": {},
   "source": [
    "- .find() : Returns an integer (index position or -1)"
   ]
  },
  {
   "cell_type": "code",
   "execution_count": null,
   "metadata": {},
   "outputs": [],
   "source": [
    "text = \"Hello World\"\n",
    "print(text.find(\"Hello\"))  # 0 (found at start)\n",
    "print(text.find(\"Python\")) # -1 (not found)"
   ]
  },
  {
   "cell_type": "markdown",
   "metadata": {},
   "source": [
    "Use Cases :"
   ]
  },
  {
   "cell_type": "code",
   "execution_count": null,
   "metadata": {},
   "outputs": [],
   "source": [
    "if \"Hello\" in text:\n",
    "    print(\"Text found!\")\n",
    "    \n",
    "position = text.find(\"Hello\")\n",
    "if position != -1:\n",
    "    print(f\"Found at position: {position}\")\n",
    "    \n",
    "text = \"Hello World Hello\"\n",
    "print(text.find(\"Hello\", 5))  # Finds second \"Hello\""
   ]
  },
  {
   "cell_type": "markdown",
   "metadata": {},
   "source": [
    "Performance :\n",
    "\n",
    "- in : Generally faster for simple existence checks\n",
    "- .find() : Slightly slower but provides more information"
   ]
  },
  {
   "cell_type": "markdown",
   "metadata": {},
   "source": [
    "### **Exploration**\n",
    "Regular expressions are an advanced way to extract data using specific patterns and rules. While we will discuss regex in the intermediate level, it’s worth starting to learn it now."
   ]
  },
  {
   "cell_type": "markdown",
   "metadata": {},
   "source": []
  },
  {
   "cell_type": "markdown",
   "metadata": {},
   "source": [
    "Let me introduce you to basic regular expressions (regex) in Python with some practical examples:"
   ]
  },
  {
   "cell_type": "code",
   "execution_count": null,
   "metadata": {},
   "outputs": [],
   "source": [
    "import re\n",
    "\n",
    "# Basic pattern matching\n",
    "text = \"Contact us: support@myweb.com or sales@mycompany.com\"\n",
    "emails = re.findall(r'[\\w\\.-]+@[\\w\\.-]+', text)\n",
    "print(\"Emails found:\", emails)  # ['support@myweb.com', 'sales@mycompany.com']\n",
    "\n",
    "# Phone number pattern\n",
    "text = \"Call us at 0812345678 or (021) 123-4567\"\n",
    "phones = re.findall(r'\\(?\\d{3}\\)?[-.\\s]?\\d{3}[-.\\s]?\\d{4}', text)\n",
    "print(\"Phone numbers found:\", phones)  # ['0812345678', '(021) 123-4567']\n",
    "\n",
    "# URL pattern\n",
    "text = \"Visit https://www.myweb.com or http://test.com\"\n",
    "urls = re.findall(r'https?://[\\w\\.-]+\\.\\w+', text)\n",
    "print(\"URLs found:\", urls)  # ['https://www.myweb.com', 'http://test.com']"
   ]
  },
  {
   "cell_type": "markdown",
   "metadata": {},
   "source": [
    "Common regex patterns:\n",
    "\n",
    "- \\w : Any word character (letter, number, underscore)\n",
    "- \\d : Any digit\n",
    "- + : One or more occurrences\n",
    "- * : Zero or more occurrences\n",
    "- ? : Zero or one occurrence\n",
    "- [] : Character set\n",
    "- () : Grouping\n",
    "- \\. : Literal dot (escaped)\n",
    "- ^ : Start of string\n",
    "- $ : End of string\n",
    "These patterns help you extract structured data like:\n",
    "\n",
    "- Email addresses\n",
    "- Phone numbers\n",
    "- URLs\n",
    "- Dates\n",
    "- Custom formats\n",
    "Regular expressions are powerful for data extraction and validation tasks"
   ]
  }
 ],
 "metadata": {
  "kernelspec": {
   "display_name": "base",
   "language": "python",
   "name": "python3"
  },
  "language_info": {
   "codemirror_mode": {
    "name": "ipython",
    "version": 3
   },
   "file_extension": ".py",
   "mimetype": "text/x-python",
   "name": "python",
   "nbconvert_exporter": "python",
   "pygments_lexer": "ipython3",
   "version": "3.12.7"
  }
 },
 "nbformat": 4,
 "nbformat_minor": 2
}
