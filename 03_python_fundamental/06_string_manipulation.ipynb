{
 "cells": [
  {
   "cell_type": "markdown",
   "metadata": {},
   "source": [
    "### **Dealing with String**\n",
    "When working on data scraping tasks, string manipulation is crucial for cleaning and processing the extracted data."
   ]
  },
  {
   "cell_type": "code",
   "execution_count": 5,
   "metadata": {},
   "outputs": [
    {
     "name": "stdout",
     "output_type": "stream",
     "text": [
      "Current page: https://www.python.org/page-3\n",
      "Page status code: 200\n"
     ]
    }
   ],
   "source": [
    "\"\"\"\n",
    "Objective: f-string printing\n",
    "\"\"\"\n",
    "current_page = \"https://www.python.org/page-3\"\n",
    "page_status_code = 200\n",
    "\n",
    "# TODO: Use f-string to print the current page and page status code\n",
    "# Expected output:\n",
    "# Current page: https://www.python.org/page-3\n",
    "# Page status code: 200\n",
    "print(f\"Current page: {current_page}\")\n",
    "print(f\"Page status code: {page_status_code}\")"
   ]
  },
  {
   "cell_type": "code",
   "execution_count": 7,
   "metadata": {},
   "outputs": [
    {
     "name": "stdout",
     "output_type": "stream",
     "text": [
      "30\n"
     ]
    }
   ],
   "source": [
    "\"\"\"\n",
    "Objective: Extract text from URL using .split()\n",
    "\"\"\"\n",
    "current_page = \"https://www.python.org/page-30\"\n",
    "\n",
    "# TODO: Extract the page number from the current_page\n",
    "# Expected output: \"30\"\n",
    "page_number = current_page.split(\"-\")[-1]\n",
    "print(page_number)\n",
    "\n"
   ]
  },
  {
   "cell_type": "code",
   "execution_count": 8,
   "metadata": {},
   "outputs": [
    {
     "name": "stdout",
     "output_type": "stream",
     "text": [
      "30\n"
     ]
    }
   ],
   "source": [
    "\"\"\"\n",
    "Objective: Extract number from URL using isdigit()\n",
    "\"\"\"\n",
    "texts = \"This page has 30 results\"\n",
    "\n",
    "# TODO: Split the texts into list of words\n",
    "# TODO: Check if word is a number\n",
    "# TODO: Print the word\n",
    "# Expected output: \"30\"\n",
    "words = texts.split()\n",
    "for word in words:\n",
    "    if word.isdigit():\n",
    "        print(word)\n",
    "        break"
   ]
  },
  {
   "cell_type": "code",
   "execution_count": 10,
   "metadata": {},
   "outputs": [
    {
     "name": "stdout",
     "output_type": "stream",
     "text": [
      "Welcome to Python!\n"
     ]
    }
   ],
   "source": [
    "\"\"\"\n",
    "Objective: Clean Unwanted Characters using .strip()\n",
    "\"\"\"\n",
    "raw_data = \"  \\n\\t###Welcome to Python!###\\t\\n  \"\n",
    "\n",
    "# TODO: Remove the unwanted characters from raw_data\n",
    "# Expected output: \"Welcome to Python!\"\n",
    "cleaned_data = raw_data.strip(\" \\n\\t#\")\n",
    "print(cleaned_data)\n",
    "\n"
   ]
  },
  {
   "cell_type": "code",
   "execution_count": 14,
   "metadata": {},
   "outputs": [
    {
     "name": "stdout",
     "output_type": "stream",
     "text": [
      "More content is available\n"
     ]
    }
   ],
   "source": [
    "\"\"\"\n",
    "Objective: Check if Content is Exist\n",
    "\"\"\"\n",
    "button_text = \"Load More\"\n",
    "\n",
    "# TODO: Check if \"Load More\" is in button_text\n",
    "# TODO: Print \"More content is available\" if true\n",
    "# TODO: Print \"No more content\" if false\n",
    "# Expected output: \"More content is available\"\n",
    "if \"Load More\" in button_text:\n",
    "    print(\"More content is available\")\n",
    "else:\n",
    "    print(\"No more content\")\n",
    "    "
   ]
  },
  {
   "cell_type": "code",
   "execution_count": 16,
   "metadata": {},
   "outputs": [
    {
     "name": "stdout",
     "output_type": "stream",
     "text": [
      "More content is available\n"
     ]
    }
   ],
   "source": [
    "\"\"\"\n",
    "Objective: Check if Content is Exist using .find()\n",
    "\"\"\"\n",
    "button_text = \"Load More\"\n",
    "\n",
    "# TODO: Check if \"Load More\" is in button_text\n",
    "# TODO: Print \"More content is available\" if true\n",
    "# TODO: Print \"No more content\" if false\n",
    "# Expected output: \"More content is available\"\n",
    "\n",
    "if button_text.find(\"Load More\") != -1:\n",
    "    print(\"More content is available\")\n",
    "else:\n",
    "    print(\"No more content\")\n",
    "    "
   ]
  },
  {
   "cell_type": "code",
   "execution_count": 17,
   "metadata": {},
   "outputs": [
    {
     "name": "stdout",
     "output_type": "stream",
     "text": [
      "['Python', 'BeautifulSoup', 'Scrapy', 'Selenium', 'Web Scraping']\n"
     ]
    }
   ],
   "source": [
    "\"\"\"\n",
    "Objective: Split Data into a List\n",
    "\"\"\"\n",
    "keywords = \"Python, BeautifulSoup, Scrapy, Selenium, Web Scraping\"\n",
    "\n",
    "# TODO: Split keywords into a list\n",
    "# Expected output: [\"Python\", \"BeautifulSoup\", \"Scrapy\", \"Selenium\", \"Web Scraping\"]\n",
    "keywords_list = keywords.split(\", \")\n",
    "print(keywords_list)\n",
    "\n"
   ]
  },
  {
   "cell_type": "code",
   "execution_count": 18,
   "metadata": {},
   "outputs": [
    {
     "name": "stdout",
     "output_type": "stream",
     "text": [
      "Python, BeautifulSoup, Scrapy, Selenium, Web Scraping\n"
     ]
    }
   ],
   "source": [
    "\"\"\"\n",
    "Objective: Joining list to string\n",
    "\"\"\"\n",
    "keywords = [\"Python\", \"BeautifulSoup\", \"Scrapy\", \"Selenium\", \"Web Scraping\"]\n",
    "\n",
    "# TODO: Join keywords into a string with \", \"\n",
    "# Expected output: \"Python, BeautifulSoup, Scrapy, Selenium, Web Scraping\"\n",
    "joined_keywords = \", \".join(keywords)\n",
    "print(joined_keywords)"
   ]
  },
  {
   "cell_type": "code",
   "execution_count": 19,
   "metadata": {},
   "outputs": [
    {
     "name": "stdout",
     "output_type": "stream",
     "text": [
      "https://www.example.com\n"
     ]
    }
   ],
   "source": [
    "\"\"\"\n",
    "Objective: Extract URL from text\n",
    "\"\"\"\n",
    "text = \"For more information visit https://www.example.com\"\n",
    "\n",
    "# TODO: Split the text into list of words\n",
    "# TODO: Check if word starts with \"https://\"\n",
    "# TODO: Print the word\n",
    "# Expected output: \"https://www.example.com\"\n",
    "words = text.split()\n",
    "for word in words:\n",
    "    if word.startswith(\"https://\"):\n",
    "        print(word)\n",
    "        break"
   ]
  },
  {
   "cell_type": "code",
   "execution_count": 20,
   "metadata": {},
   "outputs": [
    {
     "name": "stdout",
     "output_type": "stream",
     "text": [
      "support@example.com\n"
     ]
    }
   ],
   "source": [
    "\"\"\"\n",
    "Objective: Extract email from text\n",
    "\"\"\"\n",
    "text = \"For more info, contact us at support@example.com or visit our website.\"\n",
    "\n",
    "# TODO: Split the text into list of words\n",
    "# TODO: Find the word that ends with \".com\"\n",
    "# Expected output: \"support@example.com\"\n",
    "words = text.split()\n",
    "for word in words:\n",
    "    if word.endswith(\".com\"):\n",
    "        print(word)\n",
    "        break"
   ]
  },
  {
   "cell_type": "code",
   "execution_count": 21,
   "metadata": {},
   "outputs": [
    {
     "name": "stdout",
     "output_type": "stream",
     "text": [
      "https://www.example.com/news-and-articles\n"
     ]
    }
   ],
   "source": [
    "\"\"\"\n",
    "Objective: Generate Slug for URLs using .replace()\n",
    "\"\"\"\n",
    "base_url = \"https://www.example.com\"\n",
    "section = \"News and Articles\"\n",
    "\n",
    "# TODO: Format section from \"News and Articles\" to \"news-and-articles\"\n",
    "# TODO: Combine base_url and section\n",
    "# TODO: Print the complete URL\n",
    "# Expected output: \"https://www.example.com/news-and-articles\"\n",
    "section_slug = section.lower().replace(\" \", \"-\")\n",
    "complete_url = f\"{base_url}/{section_slug}\"\n",
    "print(complete_url)\n",
    "\n"
   ]
  },
  {
   "cell_type": "code",
   "execution_count": 27,
   "metadata": {},
   "outputs": [
    {
     "name": "stdout",
     "output_type": "stream",
     "text": [
      "Hello,-world!-How,-are-you-today?\n"
     ]
    }
   ],
   "source": [
    "\"\"\" \n",
    "Objective: String manipulation\n",
    "\"\"\"\n",
    "message = \"   Hello, world! How, are you today? \"\n",
    "\n",
    "# TODO: Remove the leading and trailing spaces\n",
    "# TODO: Replace the spaces with \"-\"\n",
    "# Expected output: \"hello-world!-how;-are-you-today?\"\n",
    "message = message.strip().replace(\" \", \"-\")\n",
    "print(message)"
   ]
  },
  {
   "cell_type": "markdown",
   "metadata": {},
   "source": [
    "### **Reflection**\n",
    "What is the difference between using .find() and \"in\" to check if an element is exist in the text?\n",
    "\n",
    "(answer here)"
   ]
  },
  {
   "cell_type": "markdown",
   "metadata": {},
   "source": [
    "ANSWER HERE\n",
    "\n",
    "menggunakan in hanya bisa return true atau false pada target string. sedangkan find akan memberikan nilai index terendah pada substring dan akan memberikan nilai -1 jika tidak ditemukan.\n",
    "sehingga penggunaan in biasnya digunakan utk memastikan apakah string ada pada text sedangkan .find biasanya digunakan untuk mendapatkan posisi substring pada text."
   ]
  },
  {
   "cell_type": "markdown",
   "metadata": {},
   "source": [
    "### **Exploration**\n",
    "Regular expressions are an advanced way to extract data using specific patterns and rules. While we will discuss regex in the intermediate level, it’s worth starting to learn it now."
   ]
  },
  {
   "cell_type": "markdown",
   "metadata": {},
   "source": []
  }
 ],
 "metadata": {
  "kernelspec": {
   "display_name": "Python 3",
   "language": "python",
   "name": "python3"
  },
  "language_info": {
   "codemirror_mode": {
    "name": "ipython",
    "version": 3
   },
   "file_extension": ".py",
   "mimetype": "text/x-python",
   "name": "python",
   "nbconvert_exporter": "python",
   "pygments_lexer": "ipython3",
   "version": "3.12.8"
  }
 },
 "nbformat": 4,
 "nbformat_minor": 2
}
