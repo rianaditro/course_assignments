{
 "cells": [
  {
   "cell_type": "markdown",
   "metadata": {},
   "source": [
    "### 🔐 **TLS/JA3 Fingerprinting: How It Works?**\n",
    "**JA3 Fingerprinting** is a technique used to identify clients based on how they establish a **TLS (Transport Layer Security)** handshake."
   ]
  },
  {
   "cell_type": "markdown",
   "metadata": {},
   "source": [
    "### What is TLS?\n",
    "TLS is the encryption protocol used for securing data transfer between a client (like a web browser) and a server (like a website).\n",
    "\n",
    "### How JA3 Works:\n",
    "1. **Client Hello Message:** When a browser connects to a website using HTTPS, it sends a \"Client Hello\" message.\n",
    "2. **TLS Fingerprint:** This message includes:\n",
    "   - Supported TLS versions\n",
    "   - Cipher suites (encryption algorithms)\n",
    "   - Compression methods\n",
    "   - Elliptic curves and extensions\n",
    "3. **JA3 Hash Generation:** These parameters are hashed into a unique string called a **JA3 fingerprint**.\n",
    "4. **Recognition:** Servers can compare the JA3 hash against known fingerprints to identify the client type (like Chrome, Firefox, Python scripts, etc.)."
   ]
  },
  {
   "cell_type": "markdown",
   "metadata": {},
   "source": [
    "### 🌐 **HTTP/2 Fingerprinting:**\n",
    "HTTP/2 is the modern version of the HTTP protocol used for faster web page loading. HTTP/2 fingerprinting works by identifying how clients implement HTTP/2 features."
   ]
  },
  {
   "cell_type": "code",
   "execution_count": null,
   "metadata": {},
   "outputs": [],
   "source": [
    "\"\"\" \n",
    "Objective: Checking JA3 fingerprint\n",
    "\"\"\"\n",
    "# TODO: Import requests\n",
    "# TODO: Import requests from curl_cffi and give it alias to differentiate from requests\n",
    "# TODO: Try to send request to https://tls.browserleaks.com/json using both library\n",
    "# TODO: Print the responses and compare them"
   ]
  },
  {
   "cell_type": "code",
   "execution_count": null,
   "metadata": {},
   "outputs": [],
   "source": [
    "\"\"\" \n",
    "Objective: Impersonating real browser\n",
    "\"\"\"\n",
    "# TODO: Use curl_cffi to send request to https://tls.browserleaks.com/json with and without impersonation\n",
    "# TODO: Compare the responses and share your thoughts"
   ]
  },
  {
   "cell_type": "code",
   "execution_count": null,
   "metadata": {},
   "outputs": [],
   "source": [
    "\"\"\" \n",
    "Objective: Web scraping Adidas\n",
    "\"\"\"\n",
    "# TODO: Scrape https://www.adidas.de/api/product-list/IE4042 and analyze the API result\n",
    "# TODO: Try using requests library, if you failed, try bypass it by using custom headers\n",
    "# TODO: If you succeeded, print the response and share your methods"
   ]
  },
  {
   "cell_type": "code",
   "execution_count": null,
   "metadata": {},
   "outputs": [],
   "source": [
    "\"\"\" \n",
    "Objective: Web scraping Adidas\n",
    "\"\"\"\n",
    "# TODO: Visit https://www.adidas.com/us/\n",
    "# TODO: Try to scrape one product\n",
    "# TODO: Share your web scraping methods\n",
    "# TODO: Push the github link here for grading"
   ]
  },
  {
   "cell_type": "code",
   "execution_count": null,
   "metadata": {},
   "outputs": [],
   "source": [
    "\"\"\" \n",
    "Objective: Understanding JavaScript Challenge vs JavaScript Rendering\n",
    "\"\"\"\n",
    "# TODO: Send a request to https://bookoutlet.com\n",
    "# TODO: Try to use default requests to send the request using custom headers\n",
    "# TODO: Try to use curl_cffi by using impersonation\n",
    "# TODO: Which one works? If not, try to use requests-html\n",
    "# TODO: Whether its works or not, try to analyze the request method and share your thoughts"
   ]
  },
  {
   "cell_type": "code",
   "execution_count": null,
   "metadata": {},
   "outputs": [],
   "source": [
    "\"\"\" \n",
    "Objective: Bypass JavaScript Challenge\n",
    "\"\"\"\n",
    "# TODO: Send a request to https://bookoutlet.com\n",
    "# TODO: Use selenium to bypass the challenge\n",
    "# TODO: Use hrequests to bypass the challenge or others library\n",
    "# TODO: Compare those methods and share your thoughts\n",
    "# TODO: Explore hrequests by yourself!"
   ]
  },
  {
   "cell_type": "markdown",
   "metadata": {},
   "source": [
    "### **Reflection**\n",
    "What do you know about TLS fingerprints? Write on your own words.\n",
    "\n",
    "(answer here)"
   ]
  },
  {
   "cell_type": "markdown",
   "metadata": {},
   "source": [
    "### **Exploration**\n",
    "Explore another python library design for web scraping anti-bot like Botasaurus and Camoufox"
   ]
  },
  {
   "cell_type": "markdown",
   "metadata": {},
   "source": []
  }
 ],
 "metadata": {
  "kernelspec": {
   "display_name": ".venv",
   "language": "python",
   "name": "python3"
  },
  "language_info": {
   "codemirror_mode": {
    "name": "ipython",
    "version": 3
   },
   "file_extension": ".py",
   "mimetype": "text/x-python",
   "name": "python",
   "nbconvert_exporter": "python",
   "pygments_lexer": "ipython3",
   "version": "3.10.12"
  }
 },
 "nbformat": 4,
 "nbformat_minor": 2
}
