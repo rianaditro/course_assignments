{
 "cells": [
  {
   "cell_type": "markdown",
   "metadata": {},
   "source": [
    "### **Hidden API**\n",
    "While some websites provide public APIs for easy data access, others may not. However, many web applications still rely on APIs behind the scenes to fetch data dynamically.\n",
    "\n",
    "Identify hidden APIs\n",
    "1. Inspect the network tab\n",
    "2. Perform an action on the page (reload, click item, submit search)\n",
    "3. Identify the API endpoint\n",
    "4. Reconstruct the API Call"
   ]
  },
  {
   "cell_type": "code",
   "execution_count": 1,
   "metadata": {},
   "outputs": [
    {
     "name": "stdout",
     "output_type": "stream",
     "text": [
      "{'navigations': [{'navItems': [{'title': '2025 Tickets', 'url': 'https://tickets.dtm.com', 'external': True, 'button': None, 'switch': None, 'headerSubNavItems': [{'title': 'Ticket FAQ', 'url': 'ticket-faq', 'external': False}, {'title': 'Track Safari', 'url': 'track-safari', 'external': False}, {'title': 'Camping', 'url': 'camping-at-the-dtm', 'external': None}, {'title': 'DTM Fan Zone', 'url': 'dtm-fan-zone', 'external': False}, {'title': 'DTM VIP Hospitality', 'url': 'the-dtm-vip-hospitality', 'external': False}]}, {'title': 'News', 'url': 'news', 'external': False, 'button': None, 'switch': None, 'headerSubNavItems': [{'title': 'DTM', 'url': 'news/dtm', 'external': None}, {'title': 'DTM Classic', 'url': 'news/dtmclassic', 'external': False}, {'title': 'DTM Esports', 'url': 'news/dtmesports', 'external': False}]}, {'title': 'Calendar', 'url': 'events', 'external': None, 'button': None, 'switch': None, 'headerSubNavItems': []}, {'title': 'Streaming & TV', 'url': 'where-to-watch', 'external': False, 'button': None, 'switch': None, 'headerSubNavItems': []}, {'title': 'Drivers', 'url': 'driver', 'external': None, 'button': None, 'switch': None, 'headerSubNavItems': []}, {'title': 'Results', 'url': 'results', 'external': None, 'button': None, 'switch': None, 'headerSubNavItems': [{'title': 'Standings', 'url': 'standings?season=2024', 'external': False}]}, {'title': 'Sustainability', 'url': 'innovative-and-sustainable', 'external': False, 'button': None, 'switch': None, 'headerSubNavItems': [{'title': 'Schaeffler Innovation Taxi', 'url': 'the-schaeffler-innovation-taxi', 'external': False}]}, {'title': 'Esports', 'url': 'dtm-esports-championship', 'external': None, 'button': None, 'switch': None, 'headerSubNavItems': []}, {'title': 'DTM Shop', 'url': 'https://www.dtm-shop.com/en/', 'external': True, 'button': None, 'switch': None, 'headerSubNavItems': []}]}]}\n",
      "{'partners': [{'name': 'AK Europe 2023', 'link': {'title': 'AK Europe', 'url': 'https://www.ak-europe.de/en/', 'external': True}, 'logo': {'handle': 'wzf9P4fiTZuwD364Q1Xg', 'height': 645, 'width': 1000, 'url': 'https://media.graphassets.com/resize=fit:max,width:1920/wzf9P4fiTZuwD364Q1Xg', 'alt': None, 'title': None, 'usage': None}, 'premiumPartner': False}, {'name': 'BWT 2023', 'link': {'title': 'BWT', 'url': 'https://www.bwt.com/', 'external': True}, 'logo': {'handle': 'QkfipYLtQ1OOjHJLywWn', 'height': 645, 'width': 1000, 'url': 'https://media.graphassets.com/resize=fit:max,width:1920/QkfipYLtQ1OOjHJLywWn', 'alt': None, 'title': None, 'usage': None}, 'premiumPartner': True}, {'name': 'Cupra 2023', 'link': {'title': 'Cupra', 'url': 'https://www.cupraofficial.com', 'external': True}, 'logo': {'handle': 'XPYpFlGMTiCRcof9Uet9', 'height': 645, 'width': 1000, 'url': 'https://media.graphassets.com/resize=fit:max,width:1920/XPYpFlGMTiCRcof9Uet9', 'alt': None, 'title': None, 'usage': None}, 'premiumPartner': False}, {'name': 'Dekra 2023_alternative', 'link': {'title': 'Dekra', 'url': 'https://www.dekra.com/', 'external': True}, 'logo': {'handle': 'Zh4C8iWTE28Yw3RPp1Fg', 'height': 645, 'width': 1000, 'url': 'https://media.graphassets.com/resize=fit:max,width:1920/Zh4C8iWTE28Yw3RPp1Fg', 'alt': None, 'title': None, 'usage': None}, 'premiumPartner': True}, {'name': 'IG 2023', 'link': {'title': 'IG', 'url': 'https://www.ig.com/', 'external': True}, 'logo': {'handle': 'x0keCKwPSaalBjnJ2qXH', 'height': 645, 'width': 1000, 'url': 'https://media.graphassets.com/resize=fit:max,width:1920/x0keCKwPSaalBjnJ2qXH', 'alt': None, 'title': None, 'usage': None}, 'premiumPartner': True}, {'name': 'Kuehne + Nagel 2023', 'link': {'title': 'Kuehne + Nagel', 'url': 'https://www.kuehne-nagel.com/', 'external': True}, 'logo': {'handle': 'eU9jKyqR3qLwJC9sLuZB', 'height': 645, 'width': 1000, 'url': 'https://media.graphassets.com/resize=fit:max,width:1920/eU9jKyqR3qLwJC9sLuZB', 'alt': None, 'title': None, 'usage': None}, 'premiumPartner': False}, {'name': 'Mascot', 'link': {'title': 'Mascot', 'url': 'https://www.mascot.de/', 'external': True}, 'logo': {'handle': 'Ol4zeU40SE2PJA8FnmbQ', 'height': 645, 'width': 1000, 'url': 'https://media.graphassets.com/resize=fit:max,width:1920/Ol4zeU40SE2PJA8FnmbQ', 'alt': None, 'title': None, 'usage': None}, 'premiumPartner': False}, {'name': 'Pirelli 2023', 'link': {'title': 'Pirelli', 'url': 'https://www.pirelli.com', 'external': True}, 'logo': {'handle': 'zcyCMOYTYSDx1SqfQtQf', 'height': 645, 'width': 1000, 'url': 'https://media.graphassets.com/resize=fit:max,width:1920/zcyCMOYTYSDx1SqfQtQf', 'alt': None, 'title': None, 'usage': None}, 'premiumPartner': True}, {'name': 'Ravenol 2023', 'link': {'title': 'Ravenol', 'url': 'https://www.ravenol.de/en/', 'external': True}, 'logo': {'handle': 'mHiecHHzTgG8qSUyr2v1', 'height': 645, 'width': 1000, 'url': 'https://media.graphassets.com/resize=fit:max,width:1920/mHiecHHzTgG8qSUyr2v1', 'alt': None, 'title': None, 'usage': None}, 'premiumPartner': False}, {'name': 'Schaeffler 2023', 'link': {'title': 'Schaeffler', 'url': 'https://www.schaeffler.com', 'external': True}, 'logo': {'handle': 'A5NG892TSmAH5ycoxre5', 'height': 645, 'width': 1000, 'url': 'https://media.graphassets.com/resize=fit:max,width:1920/A5NG892TSmAH5ycoxre5', 'alt': None, 'title': None, 'usage': None}, 'premiumPartner': True}, {'name': 'Schumacher Selection 2023', 'link': {'title': 'Schumacher Selection', 'url': 'https://www.schumacher-wines.com/shop', 'external': None}, 'logo': {'handle': 'L2YNnVTjRyONywd4Ex3v', 'height': 645, 'width': 1000, 'url': 'https://media.graphassets.com/resize=fit:max,width:1920/L2YNnVTjRyONywd4Ex3v', 'alt': None, 'title': None, 'usage': None}, 'premiumPartner': False}, {'name': 'Sunshine Live', 'link': {'title': 'Sunshine Live', 'url': 'https://www.sunshine-live.de/', 'external': True}, 'logo': {'handle': 'XVC7M9EoQDmzCHRh0Cyf', 'height': 645, 'width': 1000, 'url': 'https://media.graphassets.com/resize=fit:max,width:1920/XVC7M9EoQDmzCHRh0Cyf', 'alt': None, 'title': None, 'usage': None}, 'premiumPartner': False}, {'name': 'Vierol 2024', 'link': {'title': 'Vierol', 'url': 'https://www.vierol.de/', 'external': True}, 'logo': {'handle': 'kSw2MOcrSsOQCwj9XnT1', 'height': 645, 'width': 1000, 'url': 'https://media.graphassets.com/resize=fit:max,width:1920/kSw2MOcrSsOQCwj9XnT1', 'alt': None, 'title': None, 'usage': None}, 'premiumPartner': False}, {'name': 'xADAC 2023', 'link': {'title': 'ADAC', 'url': 'https://www.adac.de', 'external': True}, 'logo': {'handle': 'vSADZG2EQtS2gR4CxitF', 'height': 645, 'width': 1000, 'url': 'https://media.graphassets.com/resize=fit:max,width:1920/vSADZG2EQtS2gR4CxitF', 'alt': None, 'title': None, 'usage': None}, 'premiumPartner': True}]}\n"
     ]
    }
   ],
   "source": [
    "\"\"\"\n",
    "Objective: Identify the hidden API\n",
    "\"\"\"\n",
    "# TODO: Visit https://dtm.com/en/standings\n",
    "# TODO: Inspect the page and identify the API\n",
    "# TODO: Send a GET request to the API\n",
    "# TODO: Parse the JSON response\n",
    "\n",
    "import requests\n",
    "\n",
    "base_utl = \"https://api.dtm.com/data\"\n",
    "\n",
    "partner_by_race_query = {\n",
    "    'query' : 'partnersByRaceSeries',\n",
    "    'raceSeries' : 'DTM',\n",
    "    'supplier' : 0,\n",
    "    'lang': 'en'\n",
    "}\n",
    "\n",
    "navigations_query = {\n",
    "    'query' : 'navigationByType',\n",
    "    'type' : 'Header2022',\n",
    "    'lang': 'en'\n",
    "}\n",
    "\n",
    "headers = {\n",
    "    'accept': 'application/json',\n",
    "}\n",
    "\n",
    "# get navigation api\n",
    "try:\n",
    "    response = requests.get(base_utl, headers=headers, params=navigations_query)\n",
    "    response.raise_for_status()\n",
    "    print(response.json())\n",
    "except requests.exceptions.HTTPError as err:\n",
    "    print(err)\n",
    "\n",
    "# get partner by race\n",
    "try:\n",
    "    response = requests.get(base_utl, headers=headers, params=partner_by_race_query)\n",
    "    response.raise_for_status()\n",
    "    print(response.json())\n",
    "except requests.exceptions.HTTPError as err:\n",
    "    print(err)\n"
   ]
  },
  {
   "cell_type": "code",
   "execution_count": null,
   "metadata": {},
   "outputs": [],
   "source": [
    "\"\"\"\n",
    "Objective: Hidden API with parameters\n",
    "\"\"\"\n",
    "# TODO: Visit https://faskes.bpjs-kesehatan.go.id/aplicares/\n",
    "# TODO: Input the form and analyze the parameters\n",
    "# TODO: Find the API and identify the payload\n",
    "# TODO: Extract the data"
   ]
  },
  {
   "cell_type": "code",
   "execution_count": 27,
   "metadata": {},
   "outputs": [
    {
     "name": "stdout",
     "output_type": "stream",
     "text": [
      "[{'name': '10x BeerTender Serving Tubes', 'price': '£14.99'}, {'name': '6x Birra Moretti Beer Glasses', 'price': '£29.99'}, {'name': '6x Heineken Beer Glasses', 'price': '£23.99'}, {'name': '6x Lagunitas Mason Jars', 'price': '£26.99'}, {'name': 'Affligem Blanche - Beer Kegs 5L', 'price': '£28.90'}, {'name': 'Affligem Blond - 8L BLADE Keg', 'price': '£43.90'}, {'name': 'Affligem Blond - Beer Kegs 5L', 'price': '£29.90'}, {'name': 'Alfa - 8L BLADE Keg', 'price': '£42.90'}, {'name': 'Amstel - 8L BLADE Keg', 'price': '£36.90'}, {'name': 'Amstel Bundle - 4x 8L BLADE kegs', 'price': '£147.60'}, {'name': 'Apfel Räuber - 8L BLADE Keg', 'price': '£36.90'}, {'name': 'BeerTender', 'price': '£149.00'}, {'name': 'BeerTender Desperados Starter Pack', 'price': '£206.80'}, {'name': 'BeerTender Heineken Starter Pack', 'price': '£201.80'}, {'name': 'Birra Messina BLADE Tap Handle', 'price': '£29.99'}, {'name': 'Birra Messina Cristalli Di Sale - 8L BLADE Keg', 'price': '£40.90'}, {'name': \"Birra Moretti Baffo d'Oro - 8L BLADE Keg\", 'price': '£39.90'}, {'name': 'Birra Moretti BLADE Accessories Bundle', 'price': '£39.99'}]\n"
     ]
    }
   ],
   "source": [
    "\"\"\"\n",
    "Objective: Deciding when to scraping by using API or by HTML content\n",
    "\"\"\"\n",
    "# TODO: Visit https://beerwulf.com/en-gb/collections/sub-kegs\n",
    "# TODO: Sometimes the API is available and sometimes not, find it first then decide the scraping method\n",
    "# %pip install selenium\n",
    "\n",
    "import json\n",
    "import requests\n",
    "from bs4 import BeautifulSoup\n",
    "import re\n",
    "\n",
    "\n",
    "url = \"https://beerwulf.com/en-gb/collections/sub-kegs\"\n",
    "\n",
    "try:\n",
    "    response = requests.get(url)\n",
    "    response.raise_for_status()\n",
    "except requests.exceptions.HTTPError as err:\n",
    "    print(err)\n",
    "\n",
    "soup = BeautifulSoup(response.content, 'html.parser')\n",
    "\n",
    "elements = soup.find_all(\"a\", class_=re.compile(\"group/product-card\"))\n",
    "\n",
    "products = []\n",
    "\n",
    "for element in elements:\n",
    "    products.append({\n",
    "        'name': element.h2.text,\n",
    "        'price': element.p.text.strip()\n",
    "    })\n",
    "\n",
    "print(products)\n"
   ]
  },
  {
   "cell_type": "markdown",
   "metadata": {},
   "source": [
    "### **Reflection**\n",
    "APIs enable web applications to dynamically render data by making real-time requests to the server, fetching only the necessary information, and displaying it to users without reloading the page.\n",
    "\n",
    "Why don't all web applications provide a public API ?\n",
    "\n",
    "Not all websites provide a public API for several reasons. First, security and privacy are major concerns, as APIs can be a potential vulnerability for data misuse or cyber attacks. Second, many companies prefer to monetize their data rather than provide it for free, so they only offer paid APIs or grant access to specific partners.\n",
    "\n",
    "Additionally, APIs can increase server load, especially if there are many uncontrolled automated requests, which can slow down or even crash the server. Companies also want to control how their data is used, preventing third parties from freely utilizing it without permission. Lastly, business policies play a role, as some companies prefer users to access information directly through their website rather than via an API."
   ]
  },
  {
   "cell_type": "markdown",
   "metadata": {},
   "source": [
    "### **Exploration**\n",
    "[Leveraging GraphQL API Over Web Scraping: A Backend Approach](https://dev.to/ranggakd/leveraging-graphql-api-over-web-scraping-a-backend-approach-14km)"
   ]
  }
 ],
 "metadata": {
  "kernelspec": {
   "display_name": "venv",
   "language": "python",
   "name": "python3"
  },
  "language_info": {
   "codemirror_mode": {
    "name": "ipython",
    "version": 3
   },
   "file_extension": ".py",
   "mimetype": "text/x-python",
   "name": "python",
   "nbconvert_exporter": "python",
   "pygments_lexer": "ipython3",
   "version": "3.12.3"
  }
 },
 "nbformat": 4,
 "nbformat_minor": 2
}
