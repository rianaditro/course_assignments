{
 "cells": [
  {
   "cell_type": "markdown",
   "metadata": {},
   "source": [
    "### **Hidden API**\n",
    "While some websites provide public APIs for easy data access, others may not. However, many web applications still rely on APIs behind the scenes to fetch data dynamically.\n",
    "\n",
    "Identify hidden APIs\n",
    "1. Inspect the network tab\n",
    "2. Perform an action on the page (reload, click item, submit search)\n",
    "3. Identify the API endpoint\n",
    "4. Reconstruct the API Call"
   ]
  },
  {
   "cell_type": "code",
   "execution_count": null,
   "metadata": {},
   "outputs": [],
   "source": [
    "\"\"\"\n",
    "Objective: Identify the hidden API\n",
    "\"\"\"\n",
    "# TODO: Visit https://dtm.com/en/standings\n",
    "# TODO: Inspect the page and identify the API\n",
    "# TODO: Send a GET request to the API\n",
    "# TODO: Parse the JSON response"
   ]
  },
  {
   "cell_type": "code",
   "execution_count": null,
   "metadata": {},
   "outputs": [],
   "source": [
    "\"\"\"\n",
    "Objective: Hidden API with parameters\n",
    "\"\"\"\n",
    "# TODO: Visit https://faskes.bpjs-kesehatan.go.id/aplicares/\n",
    "# TODO: Input the form and analyze the parameters\n",
    "# TODO: Find the API and identify the payload\n",
    "# TODO: Extract the data"
   ]
  },
  {
   "cell_type": "code",
   "execution_count": null,
   "metadata": {},
   "outputs": [],
   "source": [
    "\"\"\"\n",
    "Objective: Deciding when to scraping by using API or by HTML content\n",
    "\"\"\"\n",
    "# TODO: Visit https://beerwulf.com/en-gb/collections/sub-kegs\n",
    "# TODO: Sometimes the API is available and sometimes not, find it first then decide the scraping method"
   ]
  },
  {
   "cell_type": "markdown",
   "metadata": {},
   "source": [
    "### **Reflection**\n",
    "APIs enable web applications to dynamically render data by making real-time requests to the server, fetching only the necessary information, and displaying it to users without reloading the page.\n",
    "\n",
    "Why don't all web applications provide a public API?\n",
    "\n",
    "(answer here)"
   ]
  },
  {
   "cell_type": "markdown",
   "metadata": {},
   "source": [
    "### **Exploration**\n",
    "[Leveraging GraphQL API Over Web Scraping: A Backend Approach](https://dev.to/ranggakd/leveraging-graphql-api-over-web-scraping-a-backend-approach-14km)"
   ]
  }
 ],
 "metadata": {
  "kernelspec": {
   "display_name": ".venv",
   "language": "python",
   "name": "python3"
  },
  "language_info": {
   "codemirror_mode": {
    "name": "ipython",
    "version": 3
   },
   "file_extension": ".py",
   "mimetype": "text/x-python",
   "name": "python",
   "nbconvert_exporter": "python",
   "pygments_lexer": "ipython3",
   "version": "3.10.12"
  }
 },
 "nbformat": 4,
 "nbformat_minor": 2
}
