{
 "cells": [
  {
   "cell_type": "markdown",
   "metadata": {},
   "source": [
    "### **X API**\n",
    "The X API can be used to programmatically retrieve and analyze X data, as well as build for the conversation on X.\n",
    "\n",
    "Over the years, the X API has grown by adding additional levels of access for developers to be able to scale their access to enhance and research the public conversation.\n",
    "\n",
    "Read carefully the documentation here https://docs.x.com/x-api/introduction\n",
    "\n",
    "To fully understand what the API does, you have to answer the following questions:\n",
    "1. What does this API do, and what problems does it solve?\n",
    "2. What authentication methods does the API support (e.g., API keys, OAuth 2.0)?\n",
    "3. What are the parameters we need to pass?\n",
    "4. How do you obtain the necessary credentials?\n",
    "5. What is the pricing model of the API?\n",
    "6. What are the access levels and limitations?\n",
    "7. How many requests can you make in a given time period?\n",
    "8. What are the data formats and response structures?\n",
    "9. What kind of projects can you build with this API?\n",
    "10. Does the API offer official or third-party libraries for your programming language?"
   ]
  },
  {
   "cell_type": "markdown",
   "metadata": {},
   "source": [
    "In this guide we will learn how to get the recent post.\n",
    "If you are using postman, you can follow https://docs.x.com/x-api/posts/search/quickstart/recent-search\n",
    "\n",
    "If you are using python, follow this https://docs.x.com/x-api/posts/recent-search"
   ]
  },
  {
   "cell_type": "code",
   "execution_count": null,
   "metadata": {},
   "outputs": [],
   "source": [
    "\"\"\" \n",
    "Objective: Get the recent post from X\n",
    "\"\"\"\n",
    "\n",
    "import requests\n",
    "\n",
    "# This endpoint returns posts from the last 7 days that match a search query\n",
    "url = \"https://api.x.com/2/tweets/search/recent\"\n",
    "\n",
    "# Authorization by Bearer Token\n",
    "headers = {\"Authorization\": \"Bearer <YOUR_BEARER_TOKEN>\"}\n",
    "\n",
    "# Query parameters\n",
    "querystring = {\"query\":\"<YOUR_QUERY>\",\n",
    "               \"max_results\":\"10\"}\n",
    "\n",
    "# TODO: Go to your dashboard and get your Bearer Token\n",
    "# TODO: Replace YOUR_QUERY with your search query\n",
    "# TODO: Get the response and check the status code\n",
    "# TODO: Analyze the response, what data is returned?"
   ]
  },
  {
   "cell_type": "code",
   "execution_count": null,
   "metadata": {},
   "outputs": [],
   "source": [
    "\"\"\" \n",
    "Objective: Understanding response data\n",
    "\"\"\"\n",
    "# TODO: From the previous request, print the response text\n",
    "# TODO: Parse the data into more readable format and print the data\n",
    "# TODO: Clean the data and print it"
   ]
  },
  {
   "cell_type": "code",
   "execution_count": null,
   "metadata": {},
   "outputs": [],
   "source": [
    "\"\"\" \n",
    "Objective: Build a custom query for more specific data\n",
    "\"\"\"\n",
    "# TODO: Build a custom query and send a new request by using https://developer.x.com/apitools/\n",
    "# TODO: Experiment with different query parameters and see what data is returned"
   ]
  },
  {
   "cell_type": "code",
   "execution_count": null,
   "metadata": {},
   "outputs": [],
   "source": [
    "\"\"\" \n",
    "Objective: Understanding rate limit on API requests\n",
    "\"\"\"\n",
    "# TODO: Send another request and check the status code\n",
    "# TODO: Did you get blocked? if so, why? explain it!\n",
    "\n",
    "\"\"\" \n",
    "Expected Output:\n",
    "{'title': 'Too Many Requests',\n",
    " 'detail': 'Too Many Requests',\n",
    " 'type': 'about:blank',\n",
    " 'status': 429}\n",
    "\"\"\""
   ]
  },
  {
   "cell_type": "code",
   "execution_count": null,
   "metadata": {},
   "outputs": [],
   "source": [
    "\"\"\" \n",
    "Objective: Bypassing unknown rate limit.\n",
    "\"\"\"\n",
    "\n",
    "# TODO: Send another request to https://api.x.com/2/tweets/search/recent make sure its failed\n",
    "# TODO: Once the request is failed, loop it until the status code is 200 and add waiting time between each request\n",
    "# TODO: For every failed request, double the waiting time\n",
    "# TODO: Once the status code is 200, print the response and the waiting time\n",
    "# TODO: What is the rate limit?\n",
    "\n",
    "import requests, time\n",
    "\n",
    "url = \"https://api.x.com/2/tweets/search/recent\""
   ]
  },
  {
   "cell_type": "code",
   "execution_count": null,
   "metadata": {},
   "outputs": [],
   "source": [
    "\"\"\" \n",
    "Objective: Using another endpoint\n",
    "\"\"\"\n",
    "# TODO: Try to use Users endpoint, for example get the list of Users that are being followed by the provided User ID"
   ]
  },
  {
   "cell_type": "markdown",
   "metadata": {},
   "source": [
    "### **Reflection**\n",
    "Why there should be any rate limit?\n",
    "\n",
    "(answer here)"
   ]
  },
  {
   "cell_type": "markdown",
   "metadata": {},
   "source": [
    "### **Exploration**\n",
    "- Expand the current X post scraping to create a sentiment analysis\n",
    "- Explore another tools and libraries to simplify scraping process here https://docs.x.com/x-api/tools-and-libraries/overview#python\n",
    "- Explore about another publicly available API (Facebook, LinkedIn, Zillow, etc)"
   ]
  }
 ],
 "metadata": {
  "kernelspec": {
   "display_name": ".venv",
   "language": "python",
   "name": "python3"
  },
  "language_info": {
   "codemirror_mode": {
    "name": "ipython",
    "version": 3
   },
   "file_extension": ".py",
   "mimetype": "text/x-python",
   "name": "python",
   "nbconvert_exporter": "python",
   "pygments_lexer": "ipython3",
   "version": "3.10.12"
  }
 },
 "nbformat": 4,
 "nbformat_minor": 2
}
