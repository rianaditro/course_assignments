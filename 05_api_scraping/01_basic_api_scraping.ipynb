{
 "cells": [
  {
   "cell_type": "markdown",
   "metadata": {},
   "source": [
    "### **API Scraping**\n",
    "APIs (Application Programming Interfaces) are essential tools for accessing structured data from websites and services. Instead of scraping HTML content directly, APIs provide a cleaner, more efficient way to access data. This is particularly important when dealing with dynamic websites or large datasets. By mastering API scraping, you can:\n",
    "\n",
    "- Access real-time data programmatically.\n",
    "- Avoid complexities associated with HTML parsing.\n",
    "- Work within the terms of service of many websites.\n",
    "- Build scalable and automated data pipelines."
   ]
  },
  {
   "cell_type": "code",
   "execution_count": null,
   "metadata": {},
   "outputs": [],
   "source": [
    "\"\"\"\n",
    "Objective: Learn how to send a simple API request using Python.\n",
    "\"\"\"\n",
    "import requests\n",
    "\n",
    "\n",
    "api_endoints = \"https://catfact.ninja/fact\"\n",
    "# TODO: Send a GET request to https://catfact.ninja/fact\n",
    "# TODO: Compare the result by response.text and response.json()\n",
    "# TODO: Now check the data type and output format\n",
    "# TODO: This response is what we call as an API response. \n",
    "\n",
    "\n",
    "# Send GET request\n",
    "response = requests.get(api_endoints)\n",
    "\n",
    "# Compare text vs json response\n",
    "print(\"Response as text:\")\n",
    "print(response.text)\n",
    "print(\"\\nResponse type (text):\", type(response.text))\n",
    "\n",
    "print(\"\\nResponse as JSON:\")\n",
    "print(response.json())\n",
    "print(\"\\nResponse type (json):\", type(response.json()))\n",
    "\n",
    "# Check data format\n",
    "print(\"\\nJSON data structure:\")\n",
    "for key, value in response.json().items():\n",
    "    print(f\"{key}: {value} (type: {type(value)})\")"
   ]
  },
  {
   "cell_type": "code",
   "execution_count": 1,
   "metadata": {},
   "outputs": [
    {
     "name": "stdout",
     "output_type": "stream",
     "text": [
      "Response for London:\n",
      "{'coord': {'lon': -0.1257, 'lat': 51.5085}, 'weather': [{'id': 800, 'main': 'Clear', 'description': 'clear sky', 'icon': '01n'}], 'base': 'stations', 'main': {'temp': 275.53, 'feels_like': 273.4, 'temp_min': 274.14, 'temp_max': 276.23, 'pressure': 1023, 'humidity': 88, 'sea_level': 1023, 'grnd_level': 1019}, 'visibility': 10000, 'wind': {'speed': 2.06, 'deg': 240}, 'clouds': {'all': 0}, 'dt': 1741144155, 'sys': {'type': 2, 'id': 2091269, 'country': 'GB', 'sunrise': 1741156621, 'sunset': 1741196835}, 'timezone': 0, 'id': 2643743, 'name': 'London', 'cod': 200}\n",
      "\n",
      "Response for invalid city:\n",
      "{'cod': '404', 'message': 'city not found'}\n",
      "\n",
      "Available weather data:\n",
      "- Current temperature\n",
      "- Humidity\n",
      "- Weather description\n",
      "- Wind speed\n",
      "- Cloud coverage\n",
      "- Geographic coordinates\n"
     ]
    }
   ],
   "source": [
    "\"\"\"\n",
    "Objective: Learn to pass parameters in an API request URL.\n",
    "\"\"\"\n",
    "import requests\n",
    "\n",
    "\n",
    "API_KEY = \"2498dbd96f093417f23d84265654517c\"\n",
    "CITY = \"London\"\n",
    "\n",
    "api_endoints = f\"\"\"\n",
    "https://api.openweathermap.org/data/2.5/weather\\\n",
    "?q={CITY}\\\n",
    "&appid={API_KEY}\\\n",
    "&units=metric\n",
    "\"\"\"\n",
    "# TODO: Send a GET request to the current API endpoint and assign the API key and city parameters \n",
    "# TODO: Try to update the CITY variable with a non-valid city name\n",
    "# TODO: What data we can get?\n",
    "\n",
    "# Send GET request for valid city\n",
    "response = requests.get(api_endoints)\n",
    "print(\"Response for London:\")\n",
    "print(response.json())\n",
    "\n",
    "# Try with invalid city\n",
    "CITY = \"NonExistentCity\"\n",
    "api_endoints = f\"https://api.openweathermap.org/data/2.5/weather?q={CITY}&appid={API_KEY}&units=metric\"\n",
    "response = requests.get(api_endoints)\n",
    "print(\"\\nResponse for invalid city:\")\n",
    "print(response.json())\n",
    "\n",
    "# Available data in successful response:\n",
    "print(\"\\nAvailable weather data:\")\n",
    "print(\"- Current temperature\")\n",
    "print(\"- Humidity\")\n",
    "print(\"- Weather description\")\n",
    "print(\"- Wind speed\")\n",
    "print(\"- Cloud coverage\")\n",
    "print(\"- Geographic coordinates\")\n"
   ]
  },
  {
   "cell_type": "code",
   "execution_count": 3,
   "metadata": {},
   "outputs": [
    {
     "name": "stdout",
     "output_type": "stream",
     "text": [
      "Temperature: 275.53°C\n",
      "Humidity: 88%\n",
      "Weather Description: clear sky\n"
     ]
    }
   ],
   "source": [
    "\"\"\"\n",
    "Objective: Extract specific information from the API response.\n",
    "\"\"\"\n",
    "# TODO: Extract the temperature data (temp) and print it\n",
    "# TODO: Extract the humidity data and print it\n",
    "# TODO: Extract the Weather description data and print it\n",
    "\n",
    "API_KEY = \"2498dbd96f093417f23d84265654517c\"\n",
    "CITY = \"London\"\n",
    "\n",
    "api_endoints = f\"\"\"\n",
    "https://api.openweathermap.org/data/2.5/weather\\\n",
    "?q={CITY}\\\n",
    "&appid={API_KEY}\\\n",
    "&units=metric\n",
    "\"\"\"\n",
    "# Get the response data\n",
    "response = requests.get(api_endoints)\n",
    "weather_data = response.json()\n",
    "\n",
    "# Extract and print temperature\n",
    "temperature = weather_data['main']['temp']\n",
    "print(f\"Temperature: {temperature}°C\")\n",
    "\n",
    "# Extract and print humidity\n",
    "humidity = weather_data['main']['humidity']\n",
    "print(f\"Humidity: {humidity}%\")\n",
    "\n",
    "# Extract and print weather description\n",
    "weather_description = weather_data['weather'][0]['description']\n",
    "print(f\"Weather Description: {weather_description}\")"
   ]
  },
  {
   "cell_type": "code",
   "execution_count": 4,
   "metadata": {},
   "outputs": [
    {
     "name": "stdout",
     "output_type": "stream",
     "text": [
      "\n",
      "Weather in London:\n",
      "Temperature: 2.33°C\n",
      "Humidity: 88%\n",
      "Description: clear sky\n",
      "\n",
      "Weather in New York:\n",
      "Temperature: 6.84°C\n",
      "Humidity: 71%\n",
      "Description: clear sky\n",
      "\n",
      "Weather in Tokyo:\n",
      "Temperature: 5.28°C\n",
      "Humidity: 93%\n",
      "Description: mist\n"
     ]
    }
   ],
   "source": [
    "\"\"\"\n",
    "Objective: Automate requests to fetch data for multiple cities.\n",
    "\"\"\"\n",
    "# TODO: Answer this question, can we use the same API key for multiple request?\n",
    "# TODO: Analyze the previous endpoint and separate the base endpoint and the parameter (q, appid, units)\n",
    "# TODO: Send multiple GET request to the base endpoint and use params requests library using loop of cities variable\n",
    "# TODO: Print the temperature, humidity, and weather description for each city\n",
    "\n",
    "\n",
    "cities = [\"London\", \"New York\", \"Tokyo\"]\n",
    "API_KEY = \"2498dbd96f093417f23d84265654517c\"\n",
    "weather_data = []\n",
    "\n",
    "# Yes, we can use the same API key for multiple requests\n",
    "\n",
    "base_url = \"https://api.openweathermap.org/data/2.5/weather\"\n",
    "\n",
    "for city in cities:\n",
    "    # Define parameters\n",
    "    params = {\n",
    "        'q': city,\n",
    "        'appid': API_KEY,\n",
    "        'units': 'metric'\n",
    "    }\n",
    "    \n",
    "    # Make request with parameters\n",
    "    response = requests.get(base_url, params=params)\n",
    "    data = response.json()\n",
    "    \n",
    "    # Extract and print weather data for each city\n",
    "    if response.status_code == 200:\n",
    "        print(f\"\\nWeather in {city}:\")\n",
    "        print(f\"Temperature: {data['main']['temp']}°C\")\n",
    "        print(f\"Humidity: {data['main']['humidity']}%\")\n",
    "        print(f\"Description: {data['weather'][0]['description']}\")\n",
    "        \n",
    "        # Store data for later use\n",
    "        weather_data.append(data)\n",
    "    else:\n",
    "        print(f\"Error getting data for {city}\")\n"
   ]
  },
  {
   "cell_type": "code",
   "execution_count": 7,
   "metadata": {},
   "outputs": [
    {
     "name": "stdout",
     "output_type": "stream",
     "text": [
      "Failed to fetch weather data for London\n",
      "Failed to fetch weather data for New York\n",
      "Failed to fetch weather data for Tokyo\n"
     ]
    }
   ],
   "source": [
    "\"\"\"\n",
    "Objective: Automate requests to fetch data for multiple cities.\n",
    "\"\"\"\n",
    "# TODO: Create your own API key by creating an account on openweathermap.org\n",
    "# TODO: Implement your API key to fetch data for multiple cities same as the previous example\n",
    "# TODO: Read the API documentation at https://openweathermap.org/api\n",
    "# TODO: Find another endpoint that you want to try, explain what it does\n",
    "\n",
    "# Using a new API key after creating account on openweathermap.org\n",
    "MY_API_KEY = \"c99ba5f10f60f8475110eba3e61fa472\"  # Replace with your actual API key\n",
    "cities = [\"London\", \"New York\", \"Tokyo\"]\n",
    "\n",
    "# Base URL and parameters for current weather\n",
    "base_url = \"https://api.openweathermap.org/data/2.5/weather\"\n",
    "params = {\n",
    "    'appid': MY_API_KEY,\n",
    "    'units': 'metric'\n",
    "}\n",
    "\n",
    "# Get weather data for each city\n",
    "for city in cities:\n",
    "    params['q'] = city\n",
    "    response = requests.get(base_url, params=params)\n",
    "    data = response.json()\n",
    "    \n",
    "    if response.status_code == 200:\n",
    "        print(f\"\\nWeather in {city}:\")\n",
    "        print(f\"Temperature: {data['main']['temp']}°C\")\n",
    "        print(f\"Humidity: {data['main']['humidity']}%\")\n",
    "        print(f\"Description: {data['weather'][0]['description']}\")\n",
    "    else:\n",
    "        print(f\"Failed to fetch weather data for {city}\")\n",
    "\n",
    "# Try another endpoint: 5 day forecast\n",
    "# forecast_url = \"https://api.openweathermap.org/data/2.5/forecast\"\n",
    "# params['q'] = \"London\"  # Get forecast for London\n",
    "\n",
    "# response = requests.get(forecast_url, params=params)\n",
    "# forecast = response.json()\n",
    "\n",
    "# print(\"\\n5-Day Forecast for London:\")\n",
    "# for item in forecast['list'][:5]:  # Show first 5 forecasts\n",
    "#     date = item['dt_txt']\n",
    "#     temp = item['main']['temp']\n",
    "#     desc = item['weather'][0]['description']\n",
    "#     print(f\"{date}: {temp}°C, {desc}\")"
   ]
  },
  {
   "cell_type": "markdown",
   "metadata": {},
   "source": [
    "### **Reflection**\n",
    "State your opinion about what is an API?\n",
    "\n",
    "(answer below here)"
   ]
  },
  {
   "cell_type": "markdown",
   "metadata": {},
   "source": [
    "An API (Application Programming Interface) is like a digital waiter in a restaurant that facilitates communication between different software systems. Here's my opinion on what makes APIs important:\n",
    "\n",
    "1. Standardized Communication\n",
    "   \n",
    "   - It provides a structured way for different applications to talk to each other\n",
    "   - Works like a menu in a restaurant - you know exactly what you can request and how\n",
    "2. Efficiency\n",
    "\n",
    "   - Reduces development time by providing ready-to-use services\n",
    "   - Allows applications to share functionality without sharing code\n",
    "   - Enables updates without affecting users' code"
   ]
  },
  {
   "cell_type": "markdown",
   "metadata": {},
   "source": [
    "### **Exploration**\n",
    "Learn about the X API documentations here https://docs.x.com/x-api/introduction"
   ]
  },
  {
   "cell_type": "markdown",
   "metadata": {},
   "source": [
    "Here's an example of using the X (formerly Twitter) API with Python:"
   ]
  },
  {
   "cell_type": "code",
   "execution_count": null,
   "metadata": {},
   "outputs": [],
   "source": [
    "import requests\n",
    "import json\n",
    "\n",
    "# API Configuration\n",
    "BEARER_TOKEN = \"c99ba5f10f60f8475110eba3e61fa472\"\n",
    "API_BASE_URL = \"https://api.twitter.com/2\"\n",
    "\n",
    "# Headers for authentication\n",
    "headers = {\n",
    "    \"Authorization\": f\"Bearer {BEARER_TOKEN}\",\n",
    "    \"Content-Type\": \"application/json\"\n",
    "}\n",
    "\n",
    "# Example 1: Get User Information\n",
    "def get_user_info(username):\n",
    "    endpoint = f\"{API_BASE_URL}/users/by/username/{username}\"\n",
    "    response = requests.get(endpoint, headers=headers)\n",
    "    return response.json()\n",
    "\n",
    "# Example 2: Get User's Tweets\n",
    "def get_user_tweets(user_id):\n",
    "    endpoint = f\"{API_BASE_URL}/users/{user_id}/tweets\"\n",
    "    params = {\n",
    "        \"max_results\": 10,\n",
    "        \"tweet.fields\": \"created_at,public_metrics\"\n",
    "    }\n",
    "    response = requests.get(endpoint, headers=headers, params=params)\n",
    "    return response.json()\n",
    "\n",
    "# Example usage\n",
    "if __name__ == \"__main__\":\n",
    "    # Get user info\n",
    "    username = \"example_user\"\n",
    "    user_data = get_user_info(username)\n",
    "    print(\"User Data:\", json.dumps(user_data, indent=2))\n",
    "    \n",
    "    # Get user's tweets if user found\n",
    "    if \"data\" in user_data:\n",
    "        user_id = user_data[\"data\"][\"id\"]\n",
    "        tweets = get_user_tweets(user_id)\n",
    "        print(\"\\nRecent Tweets:\", json.dumps(tweets, indent=2))"
   ]
  },
  {
   "cell_type": "markdown",
   "metadata": {},
   "source": [
    "This example demonstrates:\n",
    "\n",
    "1. Basic authentication using Bearer Token\n",
    "2. Getting user information\n",
    "3. Retrieving user's tweets with additional fields\n",
    "4. Proper error handling and response parsing"
   ]
  }
 ],
 "metadata": {
  "kernelspec": {
   "display_name": "base",
   "language": "python",
   "name": "python3"
  },
  "language_info": {
   "codemirror_mode": {
    "name": "ipython",
    "version": 3
   },
   "file_extension": ".py",
   "mimetype": "text/x-python",
   "name": "python",
   "nbconvert_exporter": "python",
   "pygments_lexer": "ipython3",
   "version": "3.12.7"
  }
 },
 "nbformat": 4,
 "nbformat_minor": 2
}
