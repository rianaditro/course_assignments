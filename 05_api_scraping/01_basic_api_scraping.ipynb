{
 "cells": [
  {
   "cell_type": "markdown",
   "metadata": {},
   "source": [
    "### **API Scraping**\n",
    "APIs (Application Programming Interfaces) are essential tools for accessing structured data from websites and services. Instead of scraping HTML content directly, APIs provide a cleaner, more efficient way to access data. This is particularly important when dealing with dynamic websites or large datasets. By mastering API scraping, you can:\n",
    "\n",
    "- Access real-time data programmatically.\n",
    "- Avoid complexities associated with HTML parsing.\n",
    "- Work within the terms of service of many websites.\n",
    "- Build scalable and automated data pipelines."
   ]
  },
  {
   "cell_type": "code",
   "execution_count": 7,
   "metadata": {},
   "outputs": [
    {
     "name": "stdout",
     "output_type": "stream",
     "text": [
      "200\n",
      "{\"fact\":\"If your cat snores, or rolls over on his back to expose his belly, it means he trusts you.\",\"length\":90}\n",
      "{'fact': 'If your cat snores, or rolls over on his back to expose his belly, it means he trusts you.', 'length': 90}\n",
      "OK\n"
     ]
    }
   ],
   "source": [
    "# %pip install requests\n",
    "\n",
    "\"\"\"\n",
    "Objective: Learn how to send a simple API request using Python.\n",
    "\"\"\"\n",
    "import requests\n",
    "\n",
    "\n",
    "api_endoints = \"https://catfact.ninja/fact\"\n",
    "# TODO: Send a GET request to https://catfact.ninja/fact\n",
    "try:\n",
    "    response = requests.get(api_endoints, timeout=5)\n",
    "except requests.exceptions.Timeout:\n",
    "    print(\"Request timed out\")\n",
    "except requests.exceptions.RequestException as e:\n",
    "    print(f\"An error occurred: {e}\")\n",
    "\n",
    "print(response.status_code)\n",
    "\n",
    "# TODO: Compare the result by response.text and response.json()\n",
    "print(response.text)\n",
    "print(response.json())\n",
    "# TODO: Now check the data type and output format\n",
    "print(response.reason)\n",
    "\n",
    "# TODO: This response is what we call as an API response. "
   ]
  },
  {
   "cell_type": "code",
   "execution_count": 9,
   "metadata": {},
   "outputs": [
    {
     "name": "stdout",
     "output_type": "stream",
     "text": [
      "200\n",
      "{'coord': {'lon': 106.8451, 'lat': -6.2146}, 'weather': [{'id': 721, 'main': 'Haze', 'description': 'haze', 'icon': '50d'}], 'base': 'stations', 'main': {'temp': 303.42, 'feels_like': 308.35, 'temp_min': 301.98, 'temp_max': 303.88, 'pressure': 1009, 'humidity': 68, 'sea_level': 1009, 'grnd_level': 1006}, 'visibility': 4000, 'wind': {'speed': 2.06, 'deg': 80}, 'clouds': {'all': 40}, 'dt': 1741064354, 'sys': {'type': 1, 'id': 9383, 'country': 'ID', 'sunrise': 1741042701, 'sunset': 1741086645}, 'timezone': 25200, 'id': 1642911, 'name': 'Jakarta', 'cod': 200}\n"
     ]
    }
   ],
   "source": [
    "\"\"\"\n",
    "Objective: Learn to pass parameters in an API request URL.\n",
    "\"\"\"\n",
    "import requests\n",
    "\n",
    "\n",
    "API_KEY = \"2498dbd96f093417f23d84265654517c\"\n",
    "CITY = \"London\"\n",
    "\n",
    "api_endoints = f\"\"\"\n",
    "https://api.openweathermap.org/data/2.5/weather\\\n",
    "?q={CITY}\\\n",
    "&appid={API_KEY}\\\n",
    "&units=metric\n",
    "\"\"\"\n",
    "# TODO: Send a GET request to the current API endpoint and assign the API key and city parameters \n",
    "\n",
    "# try:\n",
    "#     response = requests.get(api_endoints, timeout=5)\n",
    "# except requests.exceptions.Timeout:\n",
    "#     print(\"Request timed out\")\n",
    "# except requests.exceptions.RequestException as e:\n",
    "#     print(f\"An error occurred: {e}\")\n",
    "\n",
    "# print(response.status_code)\n",
    "# # print(response.text)\n",
    "# print(response.json())\n",
    "\n",
    "# TODO: Try to update the CITY variable with a non-valid city name\n",
    "\n",
    "API_KEY = \"7192ebd1062bc789e288f1850de92b6f\"\n",
    "CITY = \"Jakarta\"\n",
    "\n",
    "api_endoints = f\"\"\"\n",
    "https://api.openweathermap.org/data/2.5/weather\\\n",
    "?q={CITY}\\\n",
    "&appid={API_KEY}\\\n",
    "&units=metric\n",
    "\"\"\"\n",
    "\n",
    "try:\n",
    "    response = requests.get(api_endoints, timeout=5)\n",
    "except requests.exceptions.Timeout:\n",
    "    print(\"Request timed out\")\n",
    "except requests.exceptions.RequestException as e:\n",
    "    print(f\"An error occurred: {e}\")\n",
    "    \n",
    "# TODO: What data we can get?\n",
    "print(response.status_code)\n",
    "# print(response.text)\n",
    "print(response.json())\n"
   ]
  },
  {
   "cell_type": "code",
   "execution_count": 3,
   "metadata": {},
   "outputs": [
    {
     "name": "stdout",
     "output_type": "stream",
     "text": [
      "{'coord': {'lon': 106.8451, 'lat': -6.2146}, 'weather': [{'id': 721, 'main': 'Haze', 'description': 'haze', 'icon': '50d'}], 'base': 'stations', 'main': {'temp': 303.42, 'feels_like': 308.35, 'temp_min': 301.98, 'temp_max': 303.88, 'pressure': 1009, 'humidity': 68, 'sea_level': 1009, 'grnd_level': 1006}, 'visibility': 4000, 'wind': {'speed': 2.06, 'deg': 80}, 'clouds': {'all': 40}, 'dt': 1741064354, 'sys': {'type': 1, 'id': 9383, 'country': 'ID', 'sunrise': 1741042701, 'sunset': 1741086645}, 'timezone': 25200, 'id': 1642911, 'name': 'Jakarta', 'cod': 200}\n",
      "303.42\n",
      "68\n",
      "haze\n"
     ]
    }
   ],
   "source": [
    "import json\n",
    "\"\"\"\n",
    "Objective: Extract specific information from the API response.\n",
    "\"\"\"\n",
    "data_json = response.json()\n",
    "print(data_json)\n",
    "data_main = data_json.get('main')\n",
    "# TODO: Extract the temperature data (temp) and print it\n",
    "print(data_main.get('temp'))\n",
    "\n",
    "# TODO: Extract the humidity data and print it\n",
    "print(data_main.get('humidity'))\n",
    "# TODO: Extract the Weather description data and print it\n",
    "print(data_json.get('weather')[0].get('description'))"
   ]
  },
  {
   "cell_type": "code",
   "execution_count": 23,
   "metadata": {},
   "outputs": [
    {
     "name": "stdout",
     "output_type": "stream",
     "text": [
      "[{'coord': {'lon': -0.0266, 'lat': 52.9763}, 'weather': [{'id': 701, 'main': 'Mist', 'description': 'mist', 'icon': '50n'}, {'id': 741, 'main': 'Fog', 'description': 'fog', 'icon': '50n'}], 'base': 'stations', 'main': {'temp': 275.16, 'feels_like': 271.99, 'temp_min': 274.12, 'temp_max': 275.16, 'pressure': 1026, 'humidity': 93, 'sea_level': 1026, 'grnd_level': 1025}, 'visibility': 6000, 'wind': {'speed': 3.09, 'deg': 200}, 'clouds': {'all': 0}, 'dt': 1741065889, 'sys': {'type': 1, 'id': 1503, 'country': 'GB', 'sunrise': 1741070424, 'sunset': 1741110212}, 'timezone': 0, 'id': 2655138, 'name': 'Boston', 'cod': 200}, {'coord': {'lon': -0.1257, 'lat': 51.5085}, 'weather': [{'id': 802, 'main': 'Clouds', 'description': 'scattered clouds', 'icon': '03n'}], 'base': 'stations', 'main': {'temp': 273.84, 'feels_like': 273.84, 'temp_min': 271.21, 'temp_max': 274.01, 'pressure': 1027, 'humidity': 93, 'sea_level': 1027, 'grnd_level': 1022}, 'visibility': 10000, 'wind': {'speed': 0, 'deg': 0}, 'clouds': {'all': 35}, 'dt': 1741065721, 'sys': {'type': 1, 'id': 1414, 'country': 'GB', 'sunrise': 1741070353, 'sunset': 1741110331}, 'timezone': 0, 'id': 2643743, 'name': 'London', 'cod': 200}, {'coord': {'lon': -2.2374, 'lat': 53.4809}, 'weather': [{'id': 800, 'main': 'Clear', 'description': 'clear sky', 'icon': '01n'}], 'base': 'stations', 'main': {'temp': 276.04, 'feels_like': 273.99, 'temp_min': 274.9, 'temp_max': 277.28, 'pressure': 1025, 'humidity': 85, 'sea_level': 1025, 'grnd_level': 1015}, 'visibility': 10000, 'wind': {'speed': 2.06, 'deg': 170}, 'clouds': {'all': 8}, 'dt': 1741065846, 'sys': {'type': 2, 'id': 2013239, 'country': 'GB', 'sunrise': 1741070988, 'sunset': 1741110709}, 'timezone': 0, 'id': 2643123, 'name': 'Manchester', 'cod': 200}]\n",
      "{'temperature': 275.16, 'humidity': 93, 'weather': 'mist'}\n",
      "{'temperature': 273.84, 'humidity': 93, 'weather': 'scattered clouds'}\n",
      "{'temperature': 276.04, 'humidity': 85, 'weather': 'clear sky'}\n"
     ]
    }
   ],
   "source": [
    "\"\"\"\n",
    "Objective: Automate requests to fetch data for multiple cities.\n",
    "\"\"\"\n",
    "# TODO: Answer this question, can we use the same API key for multiple request? \n",
    "# Answer : (Yes, it is possible but it depends on the application poliscy)\n",
    "\n",
    "# TODO: Analyze the previous endpoint and separate the base endpoint and the parameter (q, appid, units)\n",
    "# Answer : \n",
    "    # original endpoint :    https://api.openweathermap.org/data/2.5/weather\\\n",
    "    #                        ?q={CITY}\\\n",
    "    #                        &appid={API_KEY}\\\n",
    "    #                        &units=metric\n",
    "    # Base Endpoint     :   https://api.openweathermap.org/data/2.5/weather\n",
    "    # Endpoint Parameters : 1. q={CITY}\n",
    "    #                       2. appid={API_KEY\n",
    "    #                       3. units=metric\n",
    "\n",
    "# TODO: Send multiple GET request to the base endpoint and use params requests library using loop of cities variable\n",
    "# TODO: Print the temperature, humidity, and weather description for each city\n",
    "\n",
    "import requests\n",
    "\n",
    "cities = [\"Boston\", \"London\", \"Manchester\"]\n",
    "API_KEY = \"7192ebd1062bc789e288f1850de92b6f\"\n",
    "weather_data = []\n",
    "\n",
    "for city in cities:\n",
    "    api_endoints = f\"\"\"\n",
    "    https://api.openweathermap.org/data/2.5/weather?q={city},uk&APPID={API_KEY}&units=metric\n",
    "    \"\"\"\n",
    "\n",
    "    try:\n",
    "        response = requests.get(api_endoints, timeout=5)\n",
    "        weather_data.append(response.json())\n",
    "    except requests.exceptions.Timeout:\n",
    "        print(\"Request timed out\")\n",
    "    except requests.exceptions.RequestException as e:\n",
    "        print(f\"An error occurred: {e}\")    \n",
    "\n",
    "print(weather_data)\n",
    "filtered_weather_data = []\n",
    "for data in weather_data:\n",
    "    filtered_weather_data.append({\n",
    "        \"temperature\": data.get('main').get('temp'),\n",
    "        \"humidity\": data.get('main').get('humidity'),\n",
    "        \"weather\": data.get('weather')[0].get('description')\n",
    "    })\n",
    "\n",
    "for data in filtered_weather_data:\n",
    "    print(data)"
   ]
  },
  {
   "cell_type": "code",
   "execution_count": 29,
   "metadata": {},
   "outputs": [
    {
     "name": "stdout",
     "output_type": "stream",
     "text": [
      "{'lon': -0.0266, 'lat': 52.9763, 'temperature': 275.16, 'humidity': 93, 'weather': 'fog'}\n",
      "{'lon': -0.1257, 'lat': 51.5085, 'temperature': 273.84, 'humidity': 93, 'weather': 'scattered clouds'}\n",
      "{'lon': -2.2374, 'lat': 53.4809, 'temperature': 275.43, 'humidity': 85, 'weather': 'clear sky'}\n",
      "{'cod': 401, 'message': 'Please note that using One Call 3.0 requires a separate subscription to the One Call by Call plan. Learn more here https://openweathermap.org/price. If you have a valid subscription to the One Call by Call plan, but still receive this error, then please see https://openweathermap.org/faq#error401 for more info.'}\n",
      "{'cod': 401, 'message': 'Please note that using One Call 3.0 requires a separate subscription to the One Call by Call plan. Learn more here https://openweathermap.org/price. If you have a valid subscription to the One Call by Call plan, but still receive this error, then please see https://openweathermap.org/faq#error401 for more info.'}\n",
      "{'cod': 401, 'message': 'Please note that using One Call 3.0 requires a separate subscription to the One Call by Call plan. Learn more here https://openweathermap.org/price. If you have a valid subscription to the One Call by Call plan, but still receive this error, then please see https://openweathermap.org/faq#error401 for more info.'}\n"
     ]
    }
   ],
   "source": [
    "\"\"\"\n",
    "Objective: Automate requests to fetch data for multiple cities.\n",
    "\"\"\"\n",
    "# TODO: Create your own API key by creating an account on openweathermap.org\n",
    "# TODO: Implement your API key to fetch data for multiple cities same as the previous example\n",
    "import requests\n",
    "\n",
    "cities = [\"Boston\", \"London\", \"Manchester\"]\n",
    "API_KEY = \"7192ebd1062bc789e288f1850de92b6f\"\n",
    "weather_data = []\n",
    "\n",
    "for city in cities:\n",
    "    api_endoints = f\"\"\"\n",
    "    https://api.openweathermap.org/data/2.5/weather?q={city},uk&APPID={API_KEY}&units=metric\n",
    "    \"\"\"\n",
    "\n",
    "    try:\n",
    "        response = requests.get(api_endoints, timeout=5)\n",
    "        weather_data.append(response.json())\n",
    "    except requests.exceptions.Timeout:\n",
    "        print(\"Request timed out\")\n",
    "    except requests.exceptions.RequestException as e:\n",
    "        print(f\"An error occurred: {e}\")    \n",
    "\n",
    "filtered_weather_data = []\n",
    "for data in weather_data:\n",
    "    filtered_weather_data.append({\n",
    "        \"lon\": data.get('coord').get('lon'),\n",
    "        \"lat\": data.get('coord').get('lat'),\n",
    "        \"temperature\": data.get('main').get('temp'),\n",
    "        \"humidity\": data.get('main').get('humidity'),\n",
    "        \"weather\": data.get('weather')[0].get('description')\n",
    "    })\n",
    "\n",
    "for data in filtered_weather_data:\n",
    "    print(data)\n",
    "\n",
    "# TODO: Read the API documentation at https://openweathermap.org/api\n",
    "# TODO: Find another endpoint that you want to try, explain what it does\n",
    "part=\"hourly.daily\"\n",
    "\n",
    "\n",
    "for data in filtered_weather_data:\n",
    "    one_call_api_endoints = f\"\"\"\n",
    "        https://api.openweathermap.org/data/3.0/onecall?lat={data.get('lat')}&lon={data.get('lon')}&exclude={part}&appid={API_KEY}\n",
    "    \"\"\"\n",
    "\n",
    "    try:\n",
    "        response = requests.get(one_call_api_endoints, timeout=5)\n",
    "    except requests.exceptions.Timeout:\n",
    "        print(\"Request timed out\")\n",
    "    except requests.exceptions.RequestException as e:\n",
    "        print(f\"An error occurred: {e}\")\n",
    "    \n",
    "    print(response.json())"
   ]
  },
  {
   "cell_type": "markdown",
   "metadata": {},
   "source": [
    "### **Reflection**\n",
    "State your opinion about what is an API?\n",
    "\n",
    "API is an url to get information from a service directly from an API tools with"
   ]
  },
  {
   "cell_type": "markdown",
   "metadata": {},
   "source": [
    "### **Exploration**\n",
    "Learn about the X API documentations here https://docs.x.com/x-api/introduction"
   ]
  }
 ],
 "metadata": {
  "kernelspec": {
   "display_name": "venv",
   "language": "python",
   "name": "python3"
  },
  "language_info": {
   "codemirror_mode": {
    "name": "ipython",
    "version": 3
   },
   "file_extension": ".py",
   "mimetype": "text/x-python",
   "name": "python",
   "nbconvert_exporter": "python",
   "pygments_lexer": "ipython3",
   "version": "3.12.3"
  }
 },
 "nbformat": 4,
 "nbformat_minor": 2
}
