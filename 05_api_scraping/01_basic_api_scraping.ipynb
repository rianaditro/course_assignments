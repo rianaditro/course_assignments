{
 "cells": [
  {
   "cell_type": "markdown",
   "metadata": {},
   "source": [
    "### **API Scraping**\n",
    "APIs (Application Programming Interfaces) are essential tools for accessing structured data from websites and services. Instead of scraping HTML content directly, APIs provide a cleaner, more efficient way to access data. This is particularly important when dealing with dynamic websites or large datasets. By mastering API scraping, you can:\n",
    "\n",
    "- Access real-time data programmatically.\n",
    "- Avoid complexities associated with HTML parsing.\n",
    "- Work within the terms of service of many websites.\n",
    "- Build scalable and automated data pipelines."
   ]
  },
  {
   "cell_type": "code",
   "execution_count": null,
   "metadata": {},
   "outputs": [],
   "source": [
    "\"\"\"\n",
    "Objective: Learn how to send a simple API request using Python.\n",
    "\"\"\"\n",
    "import requests\n",
    "\n",
    "\n",
    "api_endoints = \"https://catfact.ninja/fact\"\n",
    "# TODO: Send a GET request to https://catfact.ninja/fact\n",
    "# TODO: Compare the result by response.text and response.json()\n",
    "# TODO: Now check the data type and output format\n",
    "# TODO: This response is what we call as an API response. "
   ]
  },
  {
   "cell_type": "code",
   "execution_count": null,
   "metadata": {},
   "outputs": [],
   "source": [
    "\"\"\"\n",
    "Objective: Learn to pass parameters in an API request URL.\n",
    "\"\"\"\n",
    "import requests\n",
    "\n",
    "\n",
    "API_KEY = \"2498dbd96f093417f23d84265654517c\"\n",
    "CITY = \"London\"\n",
    "\n",
    "api_endoints = f\"\"\"\n",
    "https://api.openweathermap.org/data/2.5/weather\\\n",
    "?q={CITY}\\\n",
    "&appid={API_KEY}\\\n",
    "&units=metric\n",
    "\"\"\"\n",
    "# TODO: Send a GET request to the current API endpoint and assign the API key and city parameters \n",
    "# TODO: Try to update the CITY variable with a non-valid city name\n",
    "# TODO: What data we can get?"
   ]
  },
  {
   "cell_type": "code",
   "execution_count": null,
   "metadata": {},
   "outputs": [],
   "source": [
    "\"\"\"\n",
    "Objective: Extract specific information from the API response.\n",
    "\"\"\"\n",
    "# TODO: Extract the temperature data (temp) and print it\n",
    "# TODO: Extract the humidity data and print it\n",
    "# TODO: Extract the Weather description data and print it"
   ]
  },
  {
   "cell_type": "code",
   "execution_count": null,
   "metadata": {},
   "outputs": [],
   "source": [
    "\"\"\"\n",
    "Objective: Automate requests to fetch data for multiple cities.\n",
    "\"\"\"\n",
    "# TODO: Answer this question, can we use the same API key for multiple request?\n",
    "# TODO: Analyze the previous endpoint and separate the base endpoint and the parameter (q, appid, units)\n",
    "# TODO: Send multiple GET request to the base endpoint and use params requests library using loop of cities variable\n",
    "# TODO: Print the temperature, humidity, and weather description for each city\n",
    "\n",
    "\n",
    "cities = [\"London\", \"New York\", \"Tokyo\"]\n",
    "API_KEY = \"2498dbd96f093417f23d84265654517c\"\n",
    "weather_data = []"
   ]
  },
  {
   "cell_type": "code",
   "execution_count": null,
   "metadata": {},
   "outputs": [],
   "source": [
    "\"\"\"\n",
    "Objective: Automate requests to fetch data for multiple cities.\n",
    "\"\"\"\n",
    "# TODO: Create your own API key by creating an account on openweathermap.org\n",
    "# TODO: Implement your API key to fetch data for multiple cities same as the previous example\n",
    "# TODO: Read the API documentation at https://openweathermap.org/api\n",
    "# TODO: Find another endpoint that you want to try, explain what it does"
   ]
  },
  {
   "cell_type": "markdown",
   "metadata": {},
   "source": [
    "### **Reflection**\n",
    "State your opinion about what is an API?\n",
    "\n",
    "(answer below here)"
   ]
  },
  {
   "cell_type": "markdown",
   "metadata": {},
   "source": [
    "### **Exploration**\n",
    "Learn about the X API documentations here https://docs.x.com/x-api/introduction"
   ]
  }
 ],
 "metadata": {
  "kernelspec": {
   "display_name": ".venv",
   "language": "python",
   "name": "python3"
  },
  "language_info": {
   "codemirror_mode": {
    "name": "ipython",
    "version": 3
   },
   "file_extension": ".py",
   "mimetype": "text/x-python",
   "name": "python",
   "nbconvert_exporter": "python",
   "pygments_lexer": "ipython3",
   "version": "3.10.12"
  }
 },
 "nbformat": 4,
 "nbformat_minor": 2
}
